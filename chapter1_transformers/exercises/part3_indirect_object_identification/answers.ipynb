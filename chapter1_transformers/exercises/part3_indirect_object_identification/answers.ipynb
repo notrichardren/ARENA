{
 "cells": [
  {
   "attachments": {},
   "cell_type": "markdown",
   "metadata": {},
   "source": [
    "## Model & Task Setup"
   ]
  },
  {
   "attachments": {},
   "cell_type": "markdown",
   "metadata": {},
   "source": [
    "Import"
   ]
  },
  {
   "cell_type": "code",
   "execution_count": 105,
   "metadata": {},
   "outputs": [],
   "source": [
    "import os; os.environ[\"ACCELERATE_DISABLE_RICH\"] = \"1\"\n",
    "import sys\n",
    "from pathlib import Path\n",
    "import torch as t\n",
    "from torch import Tensor\n",
    "import numpy as np\n",
    "import einops\n",
    "from tqdm.notebook import tqdm\n",
    "import plotly.express as px\n",
    "import webbrowser\n",
    "import re\n",
    "import itertools\n",
    "from jaxtyping import Float, Int, Bool\n",
    "from typing import List, Optional, Callable, Tuple, Dict, Literal, Set\n",
    "from functools import partial\n",
    "from IPython.display import display, HTML\n",
    "from rich.table import Table, Column\n",
    "from rich import print as rprint\n",
    "import circuitsvis as cv\n",
    "from pathlib import Path\n",
    "from transformer_lens.hook_points import HookPoint\n",
    "from transformer_lens import utils, HookedTransformer, ActivationCache\n",
    "from transformer_lens.components import Embed, Unembed, LayerNorm, MLP\n",
    "import functools\n",
    "\n",
    "t.set_grad_enabled(False)\n",
    "\n",
    "# Make sure exercises are in the path\n",
    "chapter = r\"chapter1_transformers\"\n",
    "exercises_dir = Path(f\"{os.getcwd().split(chapter)[0]}/{chapter}/exercises\").resolve()\n",
    "section_dir = (exercises_dir / \"part3_indirect_object_identification\").resolve()\n",
    "if str(exercises_dir) not in sys.path: sys.path.append(str(exercises_dir))\n",
    "\n",
    "from plotly_utils import imshow, line, scatter, bar\n",
    "import part3_indirect_object_identification.tests as tests\n",
    "\n",
    "device = t.device(\"cuda\") if t.cuda.is_available() else t.device(\"cpu\")\n",
    "\n",
    "MAIN = __name__ == \"__main__\""
   ]
  },
  {
   "attachments": {},
   "cell_type": "markdown",
   "metadata": {},
   "source": [
    "Load model"
   ]
  },
  {
   "cell_type": "code",
   "execution_count": 106,
   "metadata": {},
   "outputs": [
    {
     "name": "stderr",
     "output_type": "stream",
     "text": [
      "Using pad_token, but it is not set yet.\n"
     ]
    },
    {
     "name": "stdout",
     "output_type": "stream",
     "text": [
      "Loaded pretrained model gpt2-small into HookedTransformer\n"
     ]
    }
   ],
   "source": [
    "model = HookedTransformer.from_pretrained(\n",
    "    \"gpt2-small\",\n",
    "    center_unembed=True,\n",
    "    center_writing_weights=True,\n",
    "    fold_ln=True,\n",
    "    refactor_factored_attn_matrices=True,\n",
    ")"
   ]
  },
  {
   "cell_type": "code",
   "execution_count": 107,
   "metadata": {},
   "outputs": [
    {
     "name": "stdout",
     "output_type": "stream",
     "text": [
      "Tokenized prompt: ['<|endoftext|>', 'After', ' John', ' and', ' Mary', ' went', ' to', ' the', ' store', ',', ' John', ' gave', ' a', ' bottle', ' of', ' milk', ' to']\n",
      "Tokenized answer: [' Mary']\n"
     ]
    },
    {
     "data": {
      "text/html": [
       "<pre style=\"white-space:pre;overflow-x:auto;line-height:normal;font-family:Menlo,'DejaVu Sans Mono',consolas,'Courier New',monospace\">Performance on answer token:\n",
       "<span style=\"font-weight: bold\">Rank: </span><span style=\"color: #008080; text-decoration-color: #008080; font-weight: bold\">0</span><span style=\"font-weight: bold\">        Logit: </span><span style=\"color: #008080; text-decoration-color: #008080; font-weight: bold\">18.09</span><span style=\"font-weight: bold\"> Prob: </span><span style=\"color: #008080; text-decoration-color: #008080; font-weight: bold\">70.07</span><span style=\"font-weight: bold\">% Token: | Mary|</span>\n",
       "</pre>\n"
      ],
      "text/plain": [
       "Performance on answer token:\n",
       "\u001b[1mRank: \u001b[0m\u001b[1;36m0\u001b[0m\u001b[1m        Logit: \u001b[0m\u001b[1;36m18.09\u001b[0m\u001b[1m Prob: \u001b[0m\u001b[1;36m70.07\u001b[0m\u001b[1m% Token: | Mary|\u001b[0m\n"
      ]
     },
     "metadata": {},
     "output_type": "display_data"
    },
    {
     "name": "stdout",
     "output_type": "stream",
     "text": [
      "Top 0th token. Logit: 18.09 Prob: 70.07% Token: | Mary|\n",
      "Top 1th token. Logit: 15.38 Prob:  4.67% Token: | the|\n",
      "Top 2th token. Logit: 15.35 Prob:  4.54% Token: | John|\n",
      "Top 3th token. Logit: 15.25 Prob:  4.11% Token: | them|\n",
      "Top 4th token. Logit: 14.84 Prob:  2.73% Token: | his|\n",
      "Top 5th token. Logit: 14.06 Prob:  1.24% Token: | her|\n",
      "Top 6th token. Logit: 13.54 Prob:  0.74% Token: | a|\n",
      "Top 7th token. Logit: 13.52 Prob:  0.73% Token: | their|\n",
      "Top 8th token. Logit: 13.13 Prob:  0.49% Token: | Jesus|\n",
      "Top 9th token. Logit: 12.97 Prob:  0.42% Token: | him|\n"
     ]
    },
    {
     "data": {
      "text/html": [
       "<pre style=\"white-space:pre;overflow-x:auto;line-height:normal;font-family:Menlo,'DejaVu Sans Mono',consolas,'Courier New',monospace\"><span style=\"font-weight: bold\">Ranks of the answer tokens:</span> <span style=\"font-weight: bold\">[(</span><span style=\"color: #008000; text-decoration-color: #008000\">' Mary'</span>, <span style=\"color: #008080; text-decoration-color: #008080; font-weight: bold\">0</span><span style=\"font-weight: bold\">)]</span>\n",
       "</pre>\n"
      ],
      "text/plain": [
       "\u001b[1mRanks of the answer tokens:\u001b[0m \u001b[1m[\u001b[0m\u001b[1m(\u001b[0m\u001b[32m' Mary'\u001b[0m, \u001b[1;36m0\u001b[0m\u001b[1m)\u001b[0m\u001b[1m]\u001b[0m\n"
      ]
     },
     "metadata": {},
     "output_type": "display_data"
    }
   ],
   "source": [
    "# Here is where we test on a single prompt\n",
    "# Result: 70% probability on Mary, as we expect\n",
    "\n",
    "example_prompt = \"After John and Mary went to the store, John gave a bottle of milk to\"\n",
    "example_answer = \" Mary\"\n",
    "utils.test_prompt(example_prompt, example_answer, model, prepend_bos=True)"
   ]
  },
  {
   "cell_type": "code",
   "execution_count": 108,
   "metadata": {},
   "outputs": [
    {
     "data": {
      "text/html": [
       "<pre style=\"white-space:pre;overflow-x:auto;line-height:normal;font-family:Menlo,'DejaVu Sans Mono',consolas,'Courier New',monospace\"><span style=\"font-weight: bold\">[</span>\n",
       "    <span style=\"color: #008000; text-decoration-color: #008000\">'When John and Mary went to the shops, John gave the bag to'</span>,\n",
       "    <span style=\"color: #008000; text-decoration-color: #008000\">'When John and Mary went to the shops, Mary gave the bag to'</span>,\n",
       "    <span style=\"color: #008000; text-decoration-color: #008000\">'When Tom and James went to the park, James gave the ball to'</span>,\n",
       "    <span style=\"color: #008000; text-decoration-color: #008000\">'When Tom and James went to the park, Tom gave the ball to'</span>,\n",
       "    <span style=\"color: #008000; text-decoration-color: #008000\">'When Dan and Sid went to the shops, Sid gave an apple to'</span>,\n",
       "    <span style=\"color: #008000; text-decoration-color: #008000\">'When Dan and Sid went to the shops, Dan gave an apple to'</span>,\n",
       "    <span style=\"color: #008000; text-decoration-color: #008000\">'After Martin and Amy went to the park, Amy gave a drink to'</span>,\n",
       "    <span style=\"color: #008000; text-decoration-color: #008000\">'After Martin and Amy went to the park, Martin gave a drink to'</span>\n",
       "<span style=\"font-weight: bold\">]</span>\n",
       "</pre>\n"
      ],
      "text/plain": [
       "\u001b[1m[\u001b[0m\n",
       "    \u001b[32m'When John and Mary went to the shops, John gave the bag to'\u001b[0m,\n",
       "    \u001b[32m'When John and Mary went to the shops, Mary gave the bag to'\u001b[0m,\n",
       "    \u001b[32m'When Tom and James went to the park, James gave the ball to'\u001b[0m,\n",
       "    \u001b[32m'When Tom and James went to the park, Tom gave the ball to'\u001b[0m,\n",
       "    \u001b[32m'When Dan and Sid went to the shops, Sid gave an apple to'\u001b[0m,\n",
       "    \u001b[32m'When Dan and Sid went to the shops, Dan gave an apple to'\u001b[0m,\n",
       "    \u001b[32m'After Martin and Amy went to the park, Amy gave a drink to'\u001b[0m,\n",
       "    \u001b[32m'After Martin and Amy went to the park, Martin gave a drink to'\u001b[0m\n",
       "\u001b[1m]\u001b[0m\n"
      ]
     },
     "metadata": {},
     "output_type": "display_data"
    },
    {
     "data": {
      "text/html": [
       "<pre style=\"white-space:pre;overflow-x:auto;line-height:normal;font-family:Menlo,'DejaVu Sans Mono',consolas,'Courier New',monospace\"><span style=\"font-weight: bold\">[</span>\n",
       "    <span style=\"font-weight: bold\">(</span><span style=\"color: #008000; text-decoration-color: #008000\">' Mary'</span>, <span style=\"color: #008000; text-decoration-color: #008000\">' John'</span><span style=\"font-weight: bold\">)</span>,\n",
       "    <span style=\"font-weight: bold\">(</span><span style=\"color: #008000; text-decoration-color: #008000\">' John'</span>, <span style=\"color: #008000; text-decoration-color: #008000\">' Mary'</span><span style=\"font-weight: bold\">)</span>,\n",
       "    <span style=\"font-weight: bold\">(</span><span style=\"color: #008000; text-decoration-color: #008000\">' Tom'</span>, <span style=\"color: #008000; text-decoration-color: #008000\">' James'</span><span style=\"font-weight: bold\">)</span>,\n",
       "    <span style=\"font-weight: bold\">(</span><span style=\"color: #008000; text-decoration-color: #008000\">' James'</span>, <span style=\"color: #008000; text-decoration-color: #008000\">' Tom'</span><span style=\"font-weight: bold\">)</span>,\n",
       "    <span style=\"font-weight: bold\">(</span><span style=\"color: #008000; text-decoration-color: #008000\">' Dan'</span>, <span style=\"color: #008000; text-decoration-color: #008000\">' Sid'</span><span style=\"font-weight: bold\">)</span>,\n",
       "    <span style=\"font-weight: bold\">(</span><span style=\"color: #008000; text-decoration-color: #008000\">' Sid'</span>, <span style=\"color: #008000; text-decoration-color: #008000\">' Dan'</span><span style=\"font-weight: bold\">)</span>,\n",
       "    <span style=\"font-weight: bold\">(</span><span style=\"color: #008000; text-decoration-color: #008000\">' Martin'</span>, <span style=\"color: #008000; text-decoration-color: #008000\">' Amy'</span><span style=\"font-weight: bold\">)</span>,\n",
       "    <span style=\"font-weight: bold\">(</span><span style=\"color: #008000; text-decoration-color: #008000\">' Amy'</span>, <span style=\"color: #008000; text-decoration-color: #008000\">' Martin'</span><span style=\"font-weight: bold\">)</span>\n",
       "<span style=\"font-weight: bold\">]</span>\n",
       "</pre>\n"
      ],
      "text/plain": [
       "\u001b[1m[\u001b[0m\n",
       "    \u001b[1m(\u001b[0m\u001b[32m' Mary'\u001b[0m, \u001b[32m' John'\u001b[0m\u001b[1m)\u001b[0m,\n",
       "    \u001b[1m(\u001b[0m\u001b[32m' John'\u001b[0m, \u001b[32m' Mary'\u001b[0m\u001b[1m)\u001b[0m,\n",
       "    \u001b[1m(\u001b[0m\u001b[32m' Tom'\u001b[0m, \u001b[32m' James'\u001b[0m\u001b[1m)\u001b[0m,\n",
       "    \u001b[1m(\u001b[0m\u001b[32m' James'\u001b[0m, \u001b[32m' Tom'\u001b[0m\u001b[1m)\u001b[0m,\n",
       "    \u001b[1m(\u001b[0m\u001b[32m' Dan'\u001b[0m, \u001b[32m' Sid'\u001b[0m\u001b[1m)\u001b[0m,\n",
       "    \u001b[1m(\u001b[0m\u001b[32m' Sid'\u001b[0m, \u001b[32m' Dan'\u001b[0m\u001b[1m)\u001b[0m,\n",
       "    \u001b[1m(\u001b[0m\u001b[32m' Martin'\u001b[0m, \u001b[32m' Amy'\u001b[0m\u001b[1m)\u001b[0m,\n",
       "    \u001b[1m(\u001b[0m\u001b[32m' Amy'\u001b[0m, \u001b[32m' Martin'\u001b[0m\u001b[1m)\u001b[0m\n",
       "\u001b[1m]\u001b[0m\n"
      ]
     },
     "metadata": {},
     "output_type": "display_data"
    },
    {
     "data": {
      "text/html": [
       "<pre style=\"white-space:pre;overflow-x:auto;line-height:normal;font-family:Menlo,'DejaVu Sans Mono',consolas,'Courier New',monospace\"><span style=\"color: #800080; text-decoration-color: #800080; font-weight: bold\">tensor</span><span style=\"font-weight: bold\">([[</span> <span style=\"color: #008080; text-decoration-color: #008080; font-weight: bold\">5335</span>,  <span style=\"color: #008080; text-decoration-color: #008080; font-weight: bold\">1757</span><span style=\"font-weight: bold\">]</span>,\n",
       "        <span style=\"font-weight: bold\">[</span> <span style=\"color: #008080; text-decoration-color: #008080; font-weight: bold\">1757</span>,  <span style=\"color: #008080; text-decoration-color: #008080; font-weight: bold\">5335</span><span style=\"font-weight: bold\">]</span>,\n",
       "        <span style=\"font-weight: bold\">[</span> <span style=\"color: #008080; text-decoration-color: #008080; font-weight: bold\">4186</span>,  <span style=\"color: #008080; text-decoration-color: #008080; font-weight: bold\">3700</span><span style=\"font-weight: bold\">]</span>,\n",
       "        <span style=\"font-weight: bold\">[</span> <span style=\"color: #008080; text-decoration-color: #008080; font-weight: bold\">3700</span>,  <span style=\"color: #008080; text-decoration-color: #008080; font-weight: bold\">4186</span><span style=\"font-weight: bold\">]</span>,\n",
       "        <span style=\"font-weight: bold\">[</span> <span style=\"color: #008080; text-decoration-color: #008080; font-weight: bold\">6035</span>, <span style=\"color: #008080; text-decoration-color: #008080; font-weight: bold\">15686</span><span style=\"font-weight: bold\">]</span>,\n",
       "        <span style=\"font-weight: bold\">[</span><span style=\"color: #008080; text-decoration-color: #008080; font-weight: bold\">15686</span>,  <span style=\"color: #008080; text-decoration-color: #008080; font-weight: bold\">6035</span><span style=\"font-weight: bold\">]</span>,\n",
       "        <span style=\"font-weight: bold\">[</span> <span style=\"color: #008080; text-decoration-color: #008080; font-weight: bold\">5780</span>, <span style=\"color: #008080; text-decoration-color: #008080; font-weight: bold\">14235</span><span style=\"font-weight: bold\">]</span>,\n",
       "        <span style=\"font-weight: bold\">[</span><span style=\"color: #008080; text-decoration-color: #008080; font-weight: bold\">14235</span>,  <span style=\"color: #008080; text-decoration-color: #008080; font-weight: bold\">5780</span><span style=\"font-weight: bold\">]]</span>, <span style=\"color: #808000; text-decoration-color: #808000\">device</span>=<span style=\"color: #008000; text-decoration-color: #008000\">'cuda:0'</span><span style=\"font-weight: bold\">)</span>\n",
       "</pre>\n"
      ],
      "text/plain": [
       "\u001b[1;35mtensor\u001b[0m\u001b[1m(\u001b[0m\u001b[1m[\u001b[0m\u001b[1m[\u001b[0m \u001b[1;36m5335\u001b[0m,  \u001b[1;36m1757\u001b[0m\u001b[1m]\u001b[0m,\n",
       "        \u001b[1m[\u001b[0m \u001b[1;36m1757\u001b[0m,  \u001b[1;36m5335\u001b[0m\u001b[1m]\u001b[0m,\n",
       "        \u001b[1m[\u001b[0m \u001b[1;36m4186\u001b[0m,  \u001b[1;36m3700\u001b[0m\u001b[1m]\u001b[0m,\n",
       "        \u001b[1m[\u001b[0m \u001b[1;36m3700\u001b[0m,  \u001b[1;36m4186\u001b[0m\u001b[1m]\u001b[0m,\n",
       "        \u001b[1m[\u001b[0m \u001b[1;36m6035\u001b[0m, \u001b[1;36m15686\u001b[0m\u001b[1m]\u001b[0m,\n",
       "        \u001b[1m[\u001b[0m\u001b[1;36m15686\u001b[0m,  \u001b[1;36m6035\u001b[0m\u001b[1m]\u001b[0m,\n",
       "        \u001b[1m[\u001b[0m \u001b[1;36m5780\u001b[0m, \u001b[1;36m14235\u001b[0m\u001b[1m]\u001b[0m,\n",
       "        \u001b[1m[\u001b[0m\u001b[1;36m14235\u001b[0m,  \u001b[1;36m5780\u001b[0m\u001b[1m]\u001b[0m\u001b[1m]\u001b[0m, \u001b[33mdevice\u001b[0m=\u001b[32m'cuda:0'\u001b[0m\u001b[1m)\u001b[0m\n"
      ]
     },
     "metadata": {},
     "output_type": "display_data"
    },
    {
     "data": {
      "text/html": [
       "<pre style=\"white-space:pre;overflow-x:auto;line-height:normal;font-family:Menlo,'DejaVu Sans Mono',consolas,'Courier New',monospace\"><span style=\"font-style: italic\">                                   Prompts &amp; Answers:                                    </span>\n",
       "┏━━━━━━━━━━━━━━━━━━━━━━━━━━━━━━━━━━━━━━━━━━━━━━━━━━━━━━━━━━━━━━━┳━━━━━━━━━━━┳━━━━━━━━━━━┓\n",
       "┃<span style=\"font-weight: bold\"> Prompt                                                        </span>┃<span style=\"font-weight: bold\"> Correct   </span>┃<span style=\"font-weight: bold\"> Incorrect </span>┃\n",
       "┡━━━━━━━━━━━━━━━━━━━━━━━━━━━━━━━━━━━━━━━━━━━━━━━━━━━━━━━━━━━━━━━╇━━━━━━━━━━━╇━━━━━━━━━━━┩\n",
       "│ When John and Mary went to the shops, John gave the bag to    │ ' Mary'   │ ' John'   │\n",
       "│ When John and Mary went to the shops, Mary gave the bag to    │ ' John'   │ ' Mary'   │\n",
       "│ When Tom and James went to the park, James gave the ball to   │ ' Tom'    │ ' James'  │\n",
       "│ When Tom and James went to the park, Tom gave the ball to     │ ' James'  │ ' Tom'    │\n",
       "│ When Dan and Sid went to the shops, Sid gave an apple to      │ ' Dan'    │ ' Sid'    │\n",
       "│ When Dan and Sid went to the shops, Dan gave an apple to      │ ' Sid'    │ ' Dan'    │\n",
       "│ After Martin and Amy went to the park, Amy gave a drink to    │ ' Martin' │ ' Amy'    │\n",
       "│ After Martin and Amy went to the park, Martin gave a drink to │ ' Amy'    │ ' Martin' │\n",
       "└───────────────────────────────────────────────────────────────┴───────────┴───────────┘\n",
       "</pre>\n"
      ],
      "text/plain": [
       "\u001b[3m                                   Prompts & Answers:                                    \u001b[0m\n",
       "┏━━━━━━━━━━━━━━━━━━━━━━━━━━━━━━━━━━━━━━━━━━━━━━━━━━━━━━━━━━━━━━━┳━━━━━━━━━━━┳━━━━━━━━━━━┓\n",
       "┃\u001b[1m \u001b[0m\u001b[1mPrompt                                                       \u001b[0m\u001b[1m \u001b[0m┃\u001b[1m \u001b[0m\u001b[1mCorrect  \u001b[0m\u001b[1m \u001b[0m┃\u001b[1m \u001b[0m\u001b[1mIncorrect\u001b[0m\u001b[1m \u001b[0m┃\n",
       "┡━━━━━━━━━━━━━━━━━━━━━━━━━━━━━━━━━━━━━━━━━━━━━━━━━━━━━━━━━━━━━━━╇━━━━━━━━━━━╇━━━━━━━━━━━┩\n",
       "│ When John and Mary went to the shops, John gave the bag to    │ ' Mary'   │ ' John'   │\n",
       "│ When John and Mary went to the shops, Mary gave the bag to    │ ' John'   │ ' Mary'   │\n",
       "│ When Tom and James went to the park, James gave the ball to   │ ' Tom'    │ ' James'  │\n",
       "│ When Tom and James went to the park, Tom gave the ball to     │ ' James'  │ ' Tom'    │\n",
       "│ When Dan and Sid went to the shops, Sid gave an apple to      │ ' Dan'    │ ' Sid'    │\n",
       "│ When Dan and Sid went to the shops, Dan gave an apple to      │ ' Sid'    │ ' Dan'    │\n",
       "│ After Martin and Amy went to the park, Amy gave a drink to    │ ' Martin' │ ' Amy'    │\n",
       "│ After Martin and Amy went to the park, Martin gave a drink to │ ' Amy'    │ ' Martin' │\n",
       "└───────────────────────────────────────────────────────────────┴───────────┴───────────┘\n"
      ]
     },
     "metadata": {},
     "output_type": "display_data"
    }
   ],
   "source": [
    "prompt_format = [\n",
    "    \"When John and Mary went to the shops,{} gave the bag to\",\n",
    "    \"When Tom and James went to the park,{} gave the ball to\",\n",
    "    \"When Dan and Sid went to the shops,{} gave an apple to\",\n",
    "    \"After Martin and Amy went to the park,{} gave a drink to\",\n",
    "]\n",
    "name_pairs = [\n",
    "    (\" Mary\", \" John\"),\n",
    "    (\" Tom\", \" James\"),\n",
    "    (\" Dan\", \" Sid\"),\n",
    "    (\" Martin\", \" Amy\"),\n",
    "]\n",
    "\n",
    "# Define 8 prompts, in 4 groups of 2 (with adjacent prompts having answers swapped)\n",
    "prompts = [\n",
    "    prompt.format(name) # knows that it's {}, native Pytohon string function\n",
    "    for (prompt, names) in zip(prompt_format, name_pairs) for name in names[::-1] \n",
    "]\n",
    "# Define the answers for each prompt, in the form (correct, incorrect)\n",
    "answers = [names[::i] for names in name_pairs for i in (1, -1)]\n",
    "# Define the answer tokens (same shape as the answers)\n",
    "answer_tokens = t.concat([\n",
    "    model.to_tokens(names, prepend_bos=False).T for names in answers\n",
    "])\n",
    "\n",
    "rprint(prompts)\n",
    "rprint(answers)\n",
    "rprint(answer_tokens)\n",
    "\n",
    "table = Table(\"Prompt\", \"Correct\", \"Incorrect\", title=\"Prompts & Answers:\")\n",
    "\n",
    "for prompt, answer in zip(prompts, answers):\n",
    "    table.add_row(prompt, repr(answer[0]), repr(answer[1]))\n",
    "\n",
    "rprint(table)"
   ]
  },
  {
   "cell_type": "code",
   "execution_count": 109,
   "metadata": {},
   "outputs": [],
   "source": [
    "tokens = model.to_tokens(prompts, prepend_bos=True)\n",
    "# Move the tokens to the GPU\n",
    "tokens = tokens.to(device)\n",
    "# Run the model and cache all activations\n",
    "original_logits, cache = model.run_with_cache(tokens)"
   ]
  },
  {
   "attachments": {},
   "cell_type": "markdown",
   "metadata": {},
   "source": [
    "Key variables at this point: prompts (type LIST), tokens (tokenized prompts; type TENSOR), answers (type LIST), answer_tokens (type TENSOR)\n",
    "\n",
    "Model variables (output of running on tokens): original_logits, cache\n",
    "\n",
    "GPT2-small transformer variable: model"
   ]
  },
  {
   "attachments": {},
   "cell_type": "markdown",
   "metadata": {},
   "source": [
    "## Logit Difference (Performance Evaluation Function)"
   ]
  },
  {
   "cell_type": "code",
   "execution_count": 110,
   "metadata": {},
   "outputs": [
    {
     "name": "stdout",
     "output_type": "stream",
     "text": [
      "All tests in `test_logits_to_ave_logit_diff` passed!\n",
      "Per prompt logit difference: tensor([3.3368, 3.2017, 2.7096, 3.7974, 1.7204, 5.2813, 2.6007, 5.7674],\n",
      "       device='cuda:0')\n",
      "Average logit difference: tensor(3.5519, device='cuda:0')\n"
     ]
    },
    {
     "data": {
      "text/html": [
       "<pre style=\"white-space:pre;overflow-x:auto;line-height:normal;font-family:Menlo,'DejaVu Sans Mono',consolas,'Courier New',monospace\"><span style=\"font-style: italic\">                                             Logit differences                                              </span>\n",
       "┏━━━━━━━━━━━━━━━━━━━━━━━━━━━━━━━━━━━━━━━━━━━━━━━━━━━━━━━━━━━━━━━┳━━━━━━━━━━━┳━━━━━━━━━━━┳━━━━━━━━━━━━━━━━━━┓\n",
       "┃<span style=\"font-weight: bold\"> Prompt                                                        </span>┃<span style=\"font-weight: bold\"> Correct   </span>┃<span style=\"font-weight: bold\"> Incorrect </span>┃<span style=\"font-weight: bold\"> Logit Difference </span>┃\n",
       "┡━━━━━━━━━━━━━━━━━━━━━━━━━━━━━━━━━━━━━━━━━━━━━━━━━━━━━━━━━━━━━━━╇━━━━━━━━━━━╇━━━━━━━━━━━╇━━━━━━━━━━━━━━━━━━┩\n",
       "│ When John and Mary went to the shops, John gave the bag to    │<span style=\"color: #00c800; text-decoration-color: #00c800; font-weight: bold\"> ' Mary'   </span>│<span style=\"color: #ff0000; text-decoration-color: #ff0000; font-weight: bold\"> ' John'   </span>│<span style=\"font-weight: bold\"> 3.337            </span>│\n",
       "│ When John and Mary went to the shops, Mary gave the bag to    │<span style=\"color: #00c800; text-decoration-color: #00c800; font-weight: bold\"> ' John'   </span>│<span style=\"color: #ff0000; text-decoration-color: #ff0000; font-weight: bold\"> ' Mary'   </span>│<span style=\"font-weight: bold\"> 3.202            </span>│\n",
       "│ When Tom and James went to the park, James gave the ball to   │<span style=\"color: #00c800; text-decoration-color: #00c800; font-weight: bold\"> ' Tom'    </span>│<span style=\"color: #ff0000; text-decoration-color: #ff0000; font-weight: bold\"> ' James'  </span>│<span style=\"font-weight: bold\"> 2.710            </span>│\n",
       "│ When Tom and James went to the park, Tom gave the ball to     │<span style=\"color: #00c800; text-decoration-color: #00c800; font-weight: bold\"> ' James'  </span>│<span style=\"color: #ff0000; text-decoration-color: #ff0000; font-weight: bold\"> ' Tom'    </span>│<span style=\"font-weight: bold\"> 3.797            </span>│\n",
       "│ When Dan and Sid went to the shops, Sid gave an apple to      │<span style=\"color: #00c800; text-decoration-color: #00c800; font-weight: bold\"> ' Dan'    </span>│<span style=\"color: #ff0000; text-decoration-color: #ff0000; font-weight: bold\"> ' Sid'    </span>│<span style=\"font-weight: bold\"> 1.720            </span>│\n",
       "│ When Dan and Sid went to the shops, Dan gave an apple to      │<span style=\"color: #00c800; text-decoration-color: #00c800; font-weight: bold\"> ' Sid'    </span>│<span style=\"color: #ff0000; text-decoration-color: #ff0000; font-weight: bold\"> ' Dan'    </span>│<span style=\"font-weight: bold\"> 5.281            </span>│\n",
       "│ After Martin and Amy went to the park, Amy gave a drink to    │<span style=\"color: #00c800; text-decoration-color: #00c800; font-weight: bold\"> ' Martin' </span>│<span style=\"color: #ff0000; text-decoration-color: #ff0000; font-weight: bold\"> ' Amy'    </span>│<span style=\"font-weight: bold\"> 2.601            </span>│\n",
       "│ After Martin and Amy went to the park, Martin gave a drink to │<span style=\"color: #00c800; text-decoration-color: #00c800; font-weight: bold\"> ' Amy'    </span>│<span style=\"color: #ff0000; text-decoration-color: #ff0000; font-weight: bold\"> ' Martin' </span>│<span style=\"font-weight: bold\"> 5.767            </span>│\n",
       "└───────────────────────────────────────────────────────────────┴───────────┴───────────┴──────────────────┘\n",
       "</pre>\n"
      ],
      "text/plain": [
       "\u001b[3m                                             Logit differences                                              \u001b[0m\n",
       "┏━━━━━━━━━━━━━━━━━━━━━━━━━━━━━━━━━━━━━━━━━━━━━━━━━━━━━━━━━━━━━━━┳━━━━━━━━━━━┳━━━━━━━━━━━┳━━━━━━━━━━━━━━━━━━┓\n",
       "┃\u001b[1m \u001b[0m\u001b[1mPrompt                                                       \u001b[0m\u001b[1m \u001b[0m┃\u001b[1m \u001b[0m\u001b[1mCorrect  \u001b[0m\u001b[1m \u001b[0m┃\u001b[1m \u001b[0m\u001b[1mIncorrect\u001b[0m\u001b[1m \u001b[0m┃\u001b[1m \u001b[0m\u001b[1mLogit Difference\u001b[0m\u001b[1m \u001b[0m┃\n",
       "┡━━━━━━━━━━━━━━━━━━━━━━━━━━━━━━━━━━━━━━━━━━━━━━━━━━━━━━━━━━━━━━━╇━━━━━━━━━━━╇━━━━━━━━━━━╇━━━━━━━━━━━━━━━━━━┩\n",
       "│ When John and Mary went to the shops, John gave the bag to    │\u001b[1;38;2;0;200;0m \u001b[0m\u001b[1;38;2;0;200;0m' Mary'  \u001b[0m\u001b[1;38;2;0;200;0m \u001b[0m│\u001b[1;38;2;255;0;0m \u001b[0m\u001b[1;38;2;255;0;0m' John'  \u001b[0m\u001b[1;38;2;255;0;0m \u001b[0m│\u001b[1m \u001b[0m\u001b[1m3.337           \u001b[0m\u001b[1m \u001b[0m│\n",
       "│ When John and Mary went to the shops, Mary gave the bag to    │\u001b[1;38;2;0;200;0m \u001b[0m\u001b[1;38;2;0;200;0m' John'  \u001b[0m\u001b[1;38;2;0;200;0m \u001b[0m│\u001b[1;38;2;255;0;0m \u001b[0m\u001b[1;38;2;255;0;0m' Mary'  \u001b[0m\u001b[1;38;2;255;0;0m \u001b[0m│\u001b[1m \u001b[0m\u001b[1m3.202           \u001b[0m\u001b[1m \u001b[0m│\n",
       "│ When Tom and James went to the park, James gave the ball to   │\u001b[1;38;2;0;200;0m \u001b[0m\u001b[1;38;2;0;200;0m' Tom'   \u001b[0m\u001b[1;38;2;0;200;0m \u001b[0m│\u001b[1;38;2;255;0;0m \u001b[0m\u001b[1;38;2;255;0;0m' James' \u001b[0m\u001b[1;38;2;255;0;0m \u001b[0m│\u001b[1m \u001b[0m\u001b[1m2.710           \u001b[0m\u001b[1m \u001b[0m│\n",
       "│ When Tom and James went to the park, Tom gave the ball to     │\u001b[1;38;2;0;200;0m \u001b[0m\u001b[1;38;2;0;200;0m' James' \u001b[0m\u001b[1;38;2;0;200;0m \u001b[0m│\u001b[1;38;2;255;0;0m \u001b[0m\u001b[1;38;2;255;0;0m' Tom'   \u001b[0m\u001b[1;38;2;255;0;0m \u001b[0m│\u001b[1m \u001b[0m\u001b[1m3.797           \u001b[0m\u001b[1m \u001b[0m│\n",
       "│ When Dan and Sid went to the shops, Sid gave an apple to      │\u001b[1;38;2;0;200;0m \u001b[0m\u001b[1;38;2;0;200;0m' Dan'   \u001b[0m\u001b[1;38;2;0;200;0m \u001b[0m│\u001b[1;38;2;255;0;0m \u001b[0m\u001b[1;38;2;255;0;0m' Sid'   \u001b[0m\u001b[1;38;2;255;0;0m \u001b[0m│\u001b[1m \u001b[0m\u001b[1m1.720           \u001b[0m\u001b[1m \u001b[0m│\n",
       "│ When Dan and Sid went to the shops, Dan gave an apple to      │\u001b[1;38;2;0;200;0m \u001b[0m\u001b[1;38;2;0;200;0m' Sid'   \u001b[0m\u001b[1;38;2;0;200;0m \u001b[0m│\u001b[1;38;2;255;0;0m \u001b[0m\u001b[1;38;2;255;0;0m' Dan'   \u001b[0m\u001b[1;38;2;255;0;0m \u001b[0m│\u001b[1m \u001b[0m\u001b[1m5.281           \u001b[0m\u001b[1m \u001b[0m│\n",
       "│ After Martin and Amy went to the park, Amy gave a drink to    │\u001b[1;38;2;0;200;0m \u001b[0m\u001b[1;38;2;0;200;0m' Martin'\u001b[0m\u001b[1;38;2;0;200;0m \u001b[0m│\u001b[1;38;2;255;0;0m \u001b[0m\u001b[1;38;2;255;0;0m' Amy'   \u001b[0m\u001b[1;38;2;255;0;0m \u001b[0m│\u001b[1m \u001b[0m\u001b[1m2.601           \u001b[0m\u001b[1m \u001b[0m│\n",
       "│ After Martin and Amy went to the park, Martin gave a drink to │\u001b[1;38;2;0;200;0m \u001b[0m\u001b[1;38;2;0;200;0m' Amy'   \u001b[0m\u001b[1;38;2;0;200;0m \u001b[0m│\u001b[1;38;2;255;0;0m \u001b[0m\u001b[1;38;2;255;0;0m' Martin'\u001b[0m\u001b[1;38;2;255;0;0m \u001b[0m│\u001b[1m \u001b[0m\u001b[1m5.767           \u001b[0m\u001b[1m \u001b[0m│\n",
       "└───────────────────────────────────────────────────────────────┴───────────┴───────────┴──────────────────┘\n"
      ]
     },
     "metadata": {},
     "output_type": "display_data"
    }
   ],
   "source": [
    "def logits_to_ave_logit_diff(\n",
    "    logits: Float[Tensor, \"batch seq d_vocab\"],\n",
    "    answer_tokens: Float[Tensor, \"batch 2\"] = answer_tokens,\n",
    "    per_prompt: bool = False\n",
    "):\n",
    "    '''\n",
    "    Returns logit difference between the correct and incorrect answer. The logit difference is defined between the indirect object's name and the subject's name (e.g. logit(Mary) - logit(John))\n",
    "\n",
    "    If per_prompt=True, return the array of differences rather than the average.\n",
    "    '''\n",
    "    batch, seq_len, d_vocab = logits.shape\n",
    "\n",
    "    # Take answer token, find whether it's correct or incorrect\n",
    "    correct = answer_tokens[:,0] # shape (batch) representing token for correct answer (Mary)\n",
    "    incorrect = answer_tokens[:,1] # shape (batch) representing token for incorrect answer (John)\n",
    "\n",
    "    last_logits = einops.rearrange(logits, \"b s d -> s b d\")[-1] # b, d\n",
    "    \n",
    "    # Take the logit associated with the correct and the incorrect\n",
    "    # Could do some sort of t.index_select(last_logits, 2, ) but want to learn how to splice instead.\n",
    "\n",
    "    correct_logits = last_logits[t.arange(batch), correct] # the reason why this isn't (batch, batch) is because you're chosing one sequence position for each element in your batch. It correlates with (b, d)\n",
    "\n",
    "    # correct_logits = last_logits[t.arange(batch)][correct] # NOT THE SAME THING. Because you're indexing from the 0th dimension, and then indexing correct from 0th dimension again\n",
    "    # correct_logits = last_logits[t.arange(batch)][:, correct] # NOT THE SAME THING. Take everything by dimension 0, and then index by correct dimension. returns something 2d, see your drawing notes.\n",
    "\n",
    "    incorrect_logits = last_logits[t.arange(batch), incorrect] # indexed by i = t.arange(batch), j = correct (where j has shape batch, i has shape batch)\n",
    "\n",
    "    # no summary\n",
    "    # assumption that the thing will create a list of (i_1,j_1) coordinates from list i and j when you slice askldjfaksdfj[i,j] = askldjfaksdfj[(i,j)]\n",
    "\n",
    "    logit_diff = correct_logits-incorrect_logits\n",
    "    return logit_diff if per_prompt else logit_diff.mean() # Take a mean over batch dimension if per_prompt is False\n",
    "\n",
    "tests.test_logits_to_ave_logit_diff(logits_to_ave_logit_diff)\n",
    "\n",
    "original_per_prompt_diff = logits_to_ave_logit_diff(original_logits, answer_tokens, per_prompt=True)\n",
    "print(\"Per prompt logit difference:\", original_per_prompt_diff)\n",
    "original_average_logit_diff = logits_to_ave_logit_diff(original_logits, answer_tokens)\n",
    "print(\"Average logit difference:\", original_average_logit_diff)\n",
    "\n",
    "cols = [\n",
    "    \"Prompt\", \n",
    "    Column(\"Correct\", style=\"rgb(0,200,0) bold\"), \n",
    "    Column(\"Incorrect\", style=\"rgb(255,0,0) bold\"), \n",
    "    Column(\"Logit Difference\", style=\"bold\")\n",
    "]\n",
    "table = Table(*cols, title=\"Logit differences\")\n",
    "\n",
    "for prompt, answer, logit_diff in zip(prompts, answers, original_per_prompt_diff):\n",
    "    table.add_row(prompt, repr(answer[0]), repr(answer[1]), f\"{logit_diff.item():.3f}\")\n",
    "\n",
    "rprint(table)"
   ]
  },
  {
   "attachments": {},
   "cell_type": "markdown",
   "metadata": {},
   "source": [
    "## Logit Attribution"
   ]
  },
  {
   "attachments": {},
   "cell_type": "markdown",
   "metadata": {},
   "source": [
    "Logit difference is the same as log probability difference. It also helps is understand which component we care about -- *which* name is the Indirect Object."
   ]
  },
  {
   "attachments": {},
   "cell_type": "markdown",
   "metadata": {},
   "source": [
    "\\begin{aligned}\n",
    "&p_i=\\operatorname{softmax}(\\overrightarrow{\\mathbf{x}})_i=\\frac{e^{x_i}}{\\sum_{i=1}^n e^{x_i}}\\\\\n",
    "&L_i=\\log p_i\\\\\n",
    "&L_i=\\log \\frac{e^{x_i}}{\\sum_{j=1}^n e^{x_k}}=x_i-\\log \\sum_{k=1}^n e^{x_k}\\\\\n",
    "&L_i-L_j=x_i-x_j\n",
    "\\end{aligned}"
   ]
  },
  {
   "cell_type": "code",
   "execution_count": 111,
   "metadata": {},
   "outputs": [
    {
     "name": "stdout",
     "output_type": "stream",
     "text": [
      "Answer residual directions shape: torch.Size([8, 2, 768])\n",
      "Logit difference directions shape: torch.Size([8, 768])\n"
     ]
    }
   ],
   "source": [
    "answer_residual_directions: Float[Tensor, \"batch 2 d_model\"] = model.tokens_to_residual_directions(answer_tokens)\n",
    "print(\"Answer residual directions shape:\", answer_residual_directions.shape) # same as previous shape, but now has directions embedded\n",
    "\n",
    "correct_residual_directions, incorrect_residual_directions = answer_residual_directions.unbind(dim=1)\n",
    "logit_diff_directions: Float[Tensor, \"batch d_model\"] = correct_residual_directions - incorrect_residual_directions\n",
    "print(f\"Logit difference directions shape:\", logit_diff_directions.shape)"
   ]
  },
  {
   "attachments": {},
   "cell_type": "markdown",
   "metadata": {},
   "source": [
    "Get final residual stream values from cache object.\n",
    "\n",
    "Apply layernorm scaling to these values.\n",
    "\n",
    "Project them along the unembedding dimensions we care about (logit_diff_dimensions)"
   ]
  },
  {
   "cell_type": "code",
   "execution_count": 112,
   "metadata": {},
   "outputs": [
    {
     "name": "stdout",
     "output_type": "stream",
     "text": [
      "Final residual stream shape: torch.Size([8, 15, 768])\n",
      "Calculated average logit diff: 3.5519316196\n",
      "Original logit difference:     3.5519280434\n"
     ]
    }
   ],
   "source": [
    "# cache syntax - resid_post is the residual stream at the end of the layer, -1 gets the final layer. The general syntax is [activation_name, layer_index, sub_layer_type]. \n",
    "\n",
    "final_residual_stream: Float[Tensor, \"batch seq d_model\"] = cache[\"resid_post\", -1]\n",
    "print(f\"Final residual stream shape: {final_residual_stream.shape}\")\n",
    "final_token_residual_stream: Float[Tensor, \"batch d_model\"] = final_residual_stream[:, -1, :]\n",
    "\n",
    "# Apply LayerNorm scaling (to just the final sequence position)\n",
    "# pos_slice is the subset of the positions we take - here the final token of each prompt\n",
    "scaled_final_token_residual_stream = cache.apply_ln_to_stack(final_token_residual_stream, layer=-1, pos_slice=-1)\n",
    "\n",
    "average_logit_diff = einops.einsum(\n",
    "    scaled_final_token_residual_stream, logit_diff_directions,\n",
    "    \"batch d_model, batch d_model ->\"\n",
    ") / len(prompts)\n",
    "\n",
    "print(f\"Calculated average logit diff: {average_logit_diff:.10f}\")\n",
    "print(f\"Original logit difference:     {original_average_logit_diff:.10f}\")\n",
    "\n",
    "t.testing.assert_close(average_logit_diff, original_average_logit_diff)"
   ]
  },
  {
   "attachments": {},
   "cell_type": "markdown",
   "metadata": {},
   "source": [
    "Key variables:\n",
    "\n",
    "answer_residual_directions = *model.tokens_to_residual_directions*'d vector where we map answer tokens to that direction\n",
    "\n",
    "incorrect_residual_directions = *answer_residual_directions.unbind(dim=1)*\n",
    "\n",
    "average_logit_diff is calculated via final_residual_stream --> final_token_residual_stream --> scaled_final_token_residual_stream"
   ]
  },
  {
   "attachments": {},
   "cell_type": "markdown",
   "metadata": {},
   "source": [
    "**Logit Lens**"
   ]
  },
  {
   "attachments": {},
   "cell_type": "markdown",
   "metadata": {},
   "source": [
    "Looks at residual stream after each layer, calculates logit difference from that (assuming that is the logit layer). Acts it like the final layer. Simulate what happens if we delete all subsequence layers. A probe, basically."
   ]
  },
  {
   "cell_type": "code",
   "execution_count": 113,
   "metadata": {},
   "outputs": [
    {
     "name": "stdout",
     "output_type": "stream",
     "text": [
      "8\n"
     ]
    }
   ],
   "source": [
    "def residual_stack_to_logit_diff(\n",
    "    residual_stack: Float[Tensor, \"... batch d_model\"], \n",
    "    cache: ActivationCache,\n",
    "    logit_diff_directions: Float[Tensor, \"batch d_model\"] = logit_diff_directions,\n",
    ") -> Float[Tensor, \"...\"]:\n",
    "    '''\n",
    "    Gets the avg logit difference between the correct and incorrect answer for a given \n",
    "    stack of components in the residual stream.\n",
    "    '''\n",
    "    # Apply layernorm\n",
    "    batch_size = residual_stack.size(-2) # retrieves batch size of model\n",
    "    print(batch_size)\n",
    "    scaled_final_token_residual_stream = cache.apply_ln_to_stack(residual_stack, layer=-1, pos_slice=-1)\n",
    "\n",
    "    # Project them in the logit difference directions\n",
    "    average_logit_diff = einops.einsum(\n",
    "        scaled_final_token_residual_stream, logit_diff_directions,\n",
    "        \"... batch d_model, batch d_model -> ...\"\n",
    "    ) / batch_size\n",
    "\n",
    "    return average_logit_diff\n",
    "\n",
    "\n",
    "t.testing.assert_close(\n",
    "    residual_stack_to_logit_diff(final_token_residual_stream, cache),\n",
    "    original_average_logit_diff\n",
    ")"
   ]
  },
  {
   "attachments": {},
   "cell_type": "markdown",
   "metadata": {},
   "source": [
    "* potentially do a tuned lens extension"
   ]
  },
  {
   "attachments": {},
   "cell_type": "markdown",
   "metadata": {},
   "source": [
    "**In residual stream**: n_pre means the residual stream at the start of layer n, n_mid means the residual stream after the attention part of layer n (n_post is the same as n+1_pre so is not included)"
   ]
  },
  {
   "cell_type": "code",
   "execution_count": 114,
   "metadata": {},
   "outputs": [
    {
     "name": "stdout",
     "output_type": "stream",
     "text": [
      "8\n"
     ]
    },
    {
     "data": {
      "application/vnd.plotly.v1+json": {
       "config": {
        "plotlyServerURL": "https://plot.ly"
       },
       "data": [
        {
         "hovertemplate": "Layer=%{x}<br>Logit Diff=%{y}<extra></extra>",
         "legendgroup": "",
         "line": {
          "color": "#636efa",
          "dash": "solid"
         },
         "marker": {
          "symbol": "circle"
         },
         "mode": "lines",
         "name": "",
         "orientation": "v",
         "showlegend": false,
         "type": "scatter",
         "x": [
          0,
          1,
          2,
          3,
          4,
          5,
          6,
          7,
          8,
          9,
          10,
          11,
          12,
          13,
          14,
          15,
          16,
          17,
          18,
          19,
          20,
          21,
          22,
          23,
          24
         ],
         "xaxis": "x",
         "y": [
          0.000012930773664265871,
          -0.006643293425440788,
          -0.007525312714278698,
          -0.009075973182916641,
          -0.008737034164369106,
          -0.008685721084475517,
          -0.006480645388364792,
          -0.007940487004816532,
          -0.009662797674536705,
          -0.015096871182322502,
          -0.014191260561347008,
          -0.01993020437657833,
          -0.009125253185629845,
          -0.0273001529276371,
          -0.029856577515602112,
          0.24972157180309296,
          0.2505558729171753,
          0.45006486773490906,
          0.45998018980026245,
          5.025651931762695,
          5.1430983543396,
          4.730679988861084,
          4.887173652648926,
          3.4454472064971924,
          3.551931381225586
         ],
         "yaxis": "y"
        }
       ],
       "layout": {
        "hovermode": "x unified",
        "legend": {
         "tracegroupgap": 0
        },
        "template": {
         "data": {
          "bar": [
           {
            "error_x": {
             "color": "#2a3f5f"
            },
            "error_y": {
             "color": "#2a3f5f"
            },
            "marker": {
             "line": {
              "color": "#E5ECF6",
              "width": 0.5
             },
             "pattern": {
              "fillmode": "overlay",
              "size": 10,
              "solidity": 0.2
             }
            },
            "type": "bar"
           }
          ],
          "barpolar": [
           {
            "marker": {
             "line": {
              "color": "#E5ECF6",
              "width": 0.5
             },
             "pattern": {
              "fillmode": "overlay",
              "size": 10,
              "solidity": 0.2
             }
            },
            "type": "barpolar"
           }
          ],
          "carpet": [
           {
            "aaxis": {
             "endlinecolor": "#2a3f5f",
             "gridcolor": "white",
             "linecolor": "white",
             "minorgridcolor": "white",
             "startlinecolor": "#2a3f5f"
            },
            "baxis": {
             "endlinecolor": "#2a3f5f",
             "gridcolor": "white",
             "linecolor": "white",
             "minorgridcolor": "white",
             "startlinecolor": "#2a3f5f"
            },
            "type": "carpet"
           }
          ],
          "choropleth": [
           {
            "colorbar": {
             "outlinewidth": 0,
             "ticks": ""
            },
            "type": "choropleth"
           }
          ],
          "contour": [
           {
            "colorbar": {
             "outlinewidth": 0,
             "ticks": ""
            },
            "colorscale": [
             [
              0,
              "#0d0887"
             ],
             [
              0.1111111111111111,
              "#46039f"
             ],
             [
              0.2222222222222222,
              "#7201a8"
             ],
             [
              0.3333333333333333,
              "#9c179e"
             ],
             [
              0.4444444444444444,
              "#bd3786"
             ],
             [
              0.5555555555555556,
              "#d8576b"
             ],
             [
              0.6666666666666666,
              "#ed7953"
             ],
             [
              0.7777777777777778,
              "#fb9f3a"
             ],
             [
              0.8888888888888888,
              "#fdca26"
             ],
             [
              1,
              "#f0f921"
             ]
            ],
            "type": "contour"
           }
          ],
          "contourcarpet": [
           {
            "colorbar": {
             "outlinewidth": 0,
             "ticks": ""
            },
            "type": "contourcarpet"
           }
          ],
          "heatmap": [
           {
            "colorbar": {
             "outlinewidth": 0,
             "ticks": ""
            },
            "colorscale": [
             [
              0,
              "#0d0887"
             ],
             [
              0.1111111111111111,
              "#46039f"
             ],
             [
              0.2222222222222222,
              "#7201a8"
             ],
             [
              0.3333333333333333,
              "#9c179e"
             ],
             [
              0.4444444444444444,
              "#bd3786"
             ],
             [
              0.5555555555555556,
              "#d8576b"
             ],
             [
              0.6666666666666666,
              "#ed7953"
             ],
             [
              0.7777777777777778,
              "#fb9f3a"
             ],
             [
              0.8888888888888888,
              "#fdca26"
             ],
             [
              1,
              "#f0f921"
             ]
            ],
            "type": "heatmap"
           }
          ],
          "heatmapgl": [
           {
            "colorbar": {
             "outlinewidth": 0,
             "ticks": ""
            },
            "colorscale": [
             [
              0,
              "#0d0887"
             ],
             [
              0.1111111111111111,
              "#46039f"
             ],
             [
              0.2222222222222222,
              "#7201a8"
             ],
             [
              0.3333333333333333,
              "#9c179e"
             ],
             [
              0.4444444444444444,
              "#bd3786"
             ],
             [
              0.5555555555555556,
              "#d8576b"
             ],
             [
              0.6666666666666666,
              "#ed7953"
             ],
             [
              0.7777777777777778,
              "#fb9f3a"
             ],
             [
              0.8888888888888888,
              "#fdca26"
             ],
             [
              1,
              "#f0f921"
             ]
            ],
            "type": "heatmapgl"
           }
          ],
          "histogram": [
           {
            "marker": {
             "pattern": {
              "fillmode": "overlay",
              "size": 10,
              "solidity": 0.2
             }
            },
            "type": "histogram"
           }
          ],
          "histogram2d": [
           {
            "colorbar": {
             "outlinewidth": 0,
             "ticks": ""
            },
            "colorscale": [
             [
              0,
              "#0d0887"
             ],
             [
              0.1111111111111111,
              "#46039f"
             ],
             [
              0.2222222222222222,
              "#7201a8"
             ],
             [
              0.3333333333333333,
              "#9c179e"
             ],
             [
              0.4444444444444444,
              "#bd3786"
             ],
             [
              0.5555555555555556,
              "#d8576b"
             ],
             [
              0.6666666666666666,
              "#ed7953"
             ],
             [
              0.7777777777777778,
              "#fb9f3a"
             ],
             [
              0.8888888888888888,
              "#fdca26"
             ],
             [
              1,
              "#f0f921"
             ]
            ],
            "type": "histogram2d"
           }
          ],
          "histogram2dcontour": [
           {
            "colorbar": {
             "outlinewidth": 0,
             "ticks": ""
            },
            "colorscale": [
             [
              0,
              "#0d0887"
             ],
             [
              0.1111111111111111,
              "#46039f"
             ],
             [
              0.2222222222222222,
              "#7201a8"
             ],
             [
              0.3333333333333333,
              "#9c179e"
             ],
             [
              0.4444444444444444,
              "#bd3786"
             ],
             [
              0.5555555555555556,
              "#d8576b"
             ],
             [
              0.6666666666666666,
              "#ed7953"
             ],
             [
              0.7777777777777778,
              "#fb9f3a"
             ],
             [
              0.8888888888888888,
              "#fdca26"
             ],
             [
              1,
              "#f0f921"
             ]
            ],
            "type": "histogram2dcontour"
           }
          ],
          "mesh3d": [
           {
            "colorbar": {
             "outlinewidth": 0,
             "ticks": ""
            },
            "type": "mesh3d"
           }
          ],
          "parcoords": [
           {
            "line": {
             "colorbar": {
              "outlinewidth": 0,
              "ticks": ""
             }
            },
            "type": "parcoords"
           }
          ],
          "pie": [
           {
            "automargin": true,
            "type": "pie"
           }
          ],
          "scatter": [
           {
            "fillpattern": {
             "fillmode": "overlay",
             "size": 10,
             "solidity": 0.2
            },
            "type": "scatter"
           }
          ],
          "scatter3d": [
           {
            "line": {
             "colorbar": {
              "outlinewidth": 0,
              "ticks": ""
             }
            },
            "marker": {
             "colorbar": {
              "outlinewidth": 0,
              "ticks": ""
             }
            },
            "type": "scatter3d"
           }
          ],
          "scattercarpet": [
           {
            "marker": {
             "colorbar": {
              "outlinewidth": 0,
              "ticks": ""
             }
            },
            "type": "scattercarpet"
           }
          ],
          "scattergeo": [
           {
            "marker": {
             "colorbar": {
              "outlinewidth": 0,
              "ticks": ""
             }
            },
            "type": "scattergeo"
           }
          ],
          "scattergl": [
           {
            "marker": {
             "colorbar": {
              "outlinewidth": 0,
              "ticks": ""
             }
            },
            "type": "scattergl"
           }
          ],
          "scattermapbox": [
           {
            "marker": {
             "colorbar": {
              "outlinewidth": 0,
              "ticks": ""
             }
            },
            "type": "scattermapbox"
           }
          ],
          "scatterpolar": [
           {
            "marker": {
             "colorbar": {
              "outlinewidth": 0,
              "ticks": ""
             }
            },
            "type": "scatterpolar"
           }
          ],
          "scatterpolargl": [
           {
            "marker": {
             "colorbar": {
              "outlinewidth": 0,
              "ticks": ""
             }
            },
            "type": "scatterpolargl"
           }
          ],
          "scatterternary": [
           {
            "marker": {
             "colorbar": {
              "outlinewidth": 0,
              "ticks": ""
             }
            },
            "type": "scatterternary"
           }
          ],
          "surface": [
           {
            "colorbar": {
             "outlinewidth": 0,
             "ticks": ""
            },
            "colorscale": [
             [
              0,
              "#0d0887"
             ],
             [
              0.1111111111111111,
              "#46039f"
             ],
             [
              0.2222222222222222,
              "#7201a8"
             ],
             [
              0.3333333333333333,
              "#9c179e"
             ],
             [
              0.4444444444444444,
              "#bd3786"
             ],
             [
              0.5555555555555556,
              "#d8576b"
             ],
             [
              0.6666666666666666,
              "#ed7953"
             ],
             [
              0.7777777777777778,
              "#fb9f3a"
             ],
             [
              0.8888888888888888,
              "#fdca26"
             ],
             [
              1,
              "#f0f921"
             ]
            ],
            "type": "surface"
           }
          ],
          "table": [
           {
            "cells": {
             "fill": {
              "color": "#EBF0F8"
             },
             "line": {
              "color": "white"
             }
            },
            "header": {
             "fill": {
              "color": "#C8D4E3"
             },
             "line": {
              "color": "white"
             }
            },
            "type": "table"
           }
          ]
         },
         "layout": {
          "annotationdefaults": {
           "arrowcolor": "#2a3f5f",
           "arrowhead": 0,
           "arrowwidth": 1
          },
          "autotypenumbers": "strict",
          "coloraxis": {
           "colorbar": {
            "outlinewidth": 0,
            "ticks": ""
           }
          },
          "colorscale": {
           "diverging": [
            [
             0,
             "#8e0152"
            ],
            [
             0.1,
             "#c51b7d"
            ],
            [
             0.2,
             "#de77ae"
            ],
            [
             0.3,
             "#f1b6da"
            ],
            [
             0.4,
             "#fde0ef"
            ],
            [
             0.5,
             "#f7f7f7"
            ],
            [
             0.6,
             "#e6f5d0"
            ],
            [
             0.7,
             "#b8e186"
            ],
            [
             0.8,
             "#7fbc41"
            ],
            [
             0.9,
             "#4d9221"
            ],
            [
             1,
             "#276419"
            ]
           ],
           "sequential": [
            [
             0,
             "#0d0887"
            ],
            [
             0.1111111111111111,
             "#46039f"
            ],
            [
             0.2222222222222222,
             "#7201a8"
            ],
            [
             0.3333333333333333,
             "#9c179e"
            ],
            [
             0.4444444444444444,
             "#bd3786"
            ],
            [
             0.5555555555555556,
             "#d8576b"
            ],
            [
             0.6666666666666666,
             "#ed7953"
            ],
            [
             0.7777777777777778,
             "#fb9f3a"
            ],
            [
             0.8888888888888888,
             "#fdca26"
            ],
            [
             1,
             "#f0f921"
            ]
           ],
           "sequentialminus": [
            [
             0,
             "#0d0887"
            ],
            [
             0.1111111111111111,
             "#46039f"
            ],
            [
             0.2222222222222222,
             "#7201a8"
            ],
            [
             0.3333333333333333,
             "#9c179e"
            ],
            [
             0.4444444444444444,
             "#bd3786"
            ],
            [
             0.5555555555555556,
             "#d8576b"
            ],
            [
             0.6666666666666666,
             "#ed7953"
            ],
            [
             0.7777777777777778,
             "#fb9f3a"
            ],
            [
             0.8888888888888888,
             "#fdca26"
            ],
            [
             1,
             "#f0f921"
            ]
           ]
          },
          "colorway": [
           "#636efa",
           "#EF553B",
           "#00cc96",
           "#ab63fa",
           "#FFA15A",
           "#19d3f3",
           "#FF6692",
           "#B6E880",
           "#FF97FF",
           "#FECB52"
          ],
          "font": {
           "color": "#2a3f5f"
          },
          "geo": {
           "bgcolor": "white",
           "lakecolor": "white",
           "landcolor": "#E5ECF6",
           "showlakes": true,
           "showland": true,
           "subunitcolor": "white"
          },
          "hoverlabel": {
           "align": "left"
          },
          "hovermode": "closest",
          "mapbox": {
           "style": "light"
          },
          "paper_bgcolor": "white",
          "plot_bgcolor": "#E5ECF6",
          "polar": {
           "angularaxis": {
            "gridcolor": "white",
            "linecolor": "white",
            "ticks": ""
           },
           "bgcolor": "#E5ECF6",
           "radialaxis": {
            "gridcolor": "white",
            "linecolor": "white",
            "ticks": ""
           }
          },
          "scene": {
           "xaxis": {
            "backgroundcolor": "#E5ECF6",
            "gridcolor": "white",
            "gridwidth": 2,
            "linecolor": "white",
            "showbackground": true,
            "ticks": "",
            "zerolinecolor": "white"
           },
           "yaxis": {
            "backgroundcolor": "#E5ECF6",
            "gridcolor": "white",
            "gridwidth": 2,
            "linecolor": "white",
            "showbackground": true,
            "ticks": "",
            "zerolinecolor": "white"
           },
           "zaxis": {
            "backgroundcolor": "#E5ECF6",
            "gridcolor": "white",
            "gridwidth": 2,
            "linecolor": "white",
            "showbackground": true,
            "ticks": "",
            "zerolinecolor": "white"
           }
          },
          "shapedefaults": {
           "line": {
            "color": "#2a3f5f"
           }
          },
          "ternary": {
           "aaxis": {
            "gridcolor": "white",
            "linecolor": "white",
            "ticks": ""
           },
           "baxis": {
            "gridcolor": "white",
            "linecolor": "white",
            "ticks": ""
           },
           "bgcolor": "#E5ECF6",
           "caxis": {
            "gridcolor": "white",
            "linecolor": "white",
            "ticks": ""
           }
          },
          "title": {
           "x": 0.05
          },
          "xaxis": {
           "automargin": true,
           "gridcolor": "white",
           "linecolor": "white",
           "ticks": "",
           "title": {
            "standoff": 15
           },
           "zerolinecolor": "white",
           "zerolinewidth": 2
          },
          "yaxis": {
           "automargin": true,
           "gridcolor": "white",
           "linecolor": "white",
           "ticks": "",
           "title": {
            "standoff": 15
           },
           "zerolinecolor": "white",
           "zerolinewidth": 2
          }
         }
        },
        "title": {
         "text": "Logit Difference From Accumulated Residual Stream"
        },
        "width": 800,
        "xaxis": {
         "anchor": "y",
         "domain": [
          0,
          1
         ],
         "tickmode": "array",
         "ticktext": [
          "0_pre",
          "0_mid",
          "1_pre",
          "1_mid",
          "2_pre",
          "2_mid",
          "3_pre",
          "3_mid",
          "4_pre",
          "4_mid",
          "5_pre",
          "5_mid",
          "6_pre",
          "6_mid",
          "7_pre",
          "7_mid",
          "8_pre",
          "8_mid",
          "9_pre",
          "9_mid",
          "10_pre",
          "10_mid",
          "11_pre",
          "11_mid",
          "final_post"
         ],
         "tickvals": [
          0,
          1,
          2,
          3,
          4,
          5,
          6,
          7,
          8,
          9,
          10,
          11,
          12,
          13,
          14,
          15,
          16,
          17,
          18,
          19,
          20,
          21,
          22,
          23,
          24
         ],
         "title": {
          "text": "Layer"
         }
        },
        "yaxis": {
         "anchor": "x",
         "domain": [
          0,
          1
         ],
         "title": {
          "text": "Logit Diff"
         }
        }
       }
      },
      "text/html": [
       "<div>                            <div id=\"fab1639e-7484-480f-95ce-4bd5ddf78c3a\" class=\"plotly-graph-div\" style=\"height:525px; width:800px;\"></div>            <script type=\"text/javascript\">                require([\"plotly\"], function(Plotly) {                    window.PLOTLYENV=window.PLOTLYENV || {};                                    if (document.getElementById(\"fab1639e-7484-480f-95ce-4bd5ddf78c3a\")) {                    Plotly.newPlot(                        \"fab1639e-7484-480f-95ce-4bd5ddf78c3a\",                        [{\"hovertemplate\":\"Layer=%{x}<br>Logit Diff=%{y}<extra></extra>\",\"legendgroup\":\"\",\"line\":{\"color\":\"#636efa\",\"dash\":\"solid\"},\"marker\":{\"symbol\":\"circle\"},\"mode\":\"lines\",\"name\":\"\",\"orientation\":\"v\",\"showlegend\":false,\"x\":[0,1,2,3,4,5,6,7,8,9,10,11,12,13,14,15,16,17,18,19,20,21,22,23,24],\"xaxis\":\"x\",\"y\":[1.2930773664265871e-05,-0.006643293425440788,-0.007525312714278698,-0.009075973182916641,-0.008737034164369106,-0.008685721084475517,-0.006480645388364792,-0.007940487004816532,-0.009662797674536705,-0.015096871182322502,-0.014191260561347008,-0.01993020437657833,-0.009125253185629845,-0.0273001529276371,-0.029856577515602112,0.24972157180309296,0.2505558729171753,0.45006486773490906,0.45998018980026245,5.025651931762695,5.1430983543396,4.730679988861084,4.887173652648926,3.4454472064971924,3.551931381225586],\"yaxis\":\"y\",\"type\":\"scatter\"}],                        {\"template\":{\"data\":{\"histogram2dcontour\":[{\"type\":\"histogram2dcontour\",\"colorbar\":{\"outlinewidth\":0,\"ticks\":\"\"},\"colorscale\":[[0.0,\"#0d0887\"],[0.1111111111111111,\"#46039f\"],[0.2222222222222222,\"#7201a8\"],[0.3333333333333333,\"#9c179e\"],[0.4444444444444444,\"#bd3786\"],[0.5555555555555556,\"#d8576b\"],[0.6666666666666666,\"#ed7953\"],[0.7777777777777778,\"#fb9f3a\"],[0.8888888888888888,\"#fdca26\"],[1.0,\"#f0f921\"]]}],\"choropleth\":[{\"type\":\"choropleth\",\"colorbar\":{\"outlinewidth\":0,\"ticks\":\"\"}}],\"histogram2d\":[{\"type\":\"histogram2d\",\"colorbar\":{\"outlinewidth\":0,\"ticks\":\"\"},\"colorscale\":[[0.0,\"#0d0887\"],[0.1111111111111111,\"#46039f\"],[0.2222222222222222,\"#7201a8\"],[0.3333333333333333,\"#9c179e\"],[0.4444444444444444,\"#bd3786\"],[0.5555555555555556,\"#d8576b\"],[0.6666666666666666,\"#ed7953\"],[0.7777777777777778,\"#fb9f3a\"],[0.8888888888888888,\"#fdca26\"],[1.0,\"#f0f921\"]]}],\"heatmap\":[{\"type\":\"heatmap\",\"colorbar\":{\"outlinewidth\":0,\"ticks\":\"\"},\"colorscale\":[[0.0,\"#0d0887\"],[0.1111111111111111,\"#46039f\"],[0.2222222222222222,\"#7201a8\"],[0.3333333333333333,\"#9c179e\"],[0.4444444444444444,\"#bd3786\"],[0.5555555555555556,\"#d8576b\"],[0.6666666666666666,\"#ed7953\"],[0.7777777777777778,\"#fb9f3a\"],[0.8888888888888888,\"#fdca26\"],[1.0,\"#f0f921\"]]}],\"heatmapgl\":[{\"type\":\"heatmapgl\",\"colorbar\":{\"outlinewidth\":0,\"ticks\":\"\"},\"colorscale\":[[0.0,\"#0d0887\"],[0.1111111111111111,\"#46039f\"],[0.2222222222222222,\"#7201a8\"],[0.3333333333333333,\"#9c179e\"],[0.4444444444444444,\"#bd3786\"],[0.5555555555555556,\"#d8576b\"],[0.6666666666666666,\"#ed7953\"],[0.7777777777777778,\"#fb9f3a\"],[0.8888888888888888,\"#fdca26\"],[1.0,\"#f0f921\"]]}],\"contourcarpet\":[{\"type\":\"contourcarpet\",\"colorbar\":{\"outlinewidth\":0,\"ticks\":\"\"}}],\"contour\":[{\"type\":\"contour\",\"colorbar\":{\"outlinewidth\":0,\"ticks\":\"\"},\"colorscale\":[[0.0,\"#0d0887\"],[0.1111111111111111,\"#46039f\"],[0.2222222222222222,\"#7201a8\"],[0.3333333333333333,\"#9c179e\"],[0.4444444444444444,\"#bd3786\"],[0.5555555555555556,\"#d8576b\"],[0.6666666666666666,\"#ed7953\"],[0.7777777777777778,\"#fb9f3a\"],[0.8888888888888888,\"#fdca26\"],[1.0,\"#f0f921\"]]}],\"surface\":[{\"type\":\"surface\",\"colorbar\":{\"outlinewidth\":0,\"ticks\":\"\"},\"colorscale\":[[0.0,\"#0d0887\"],[0.1111111111111111,\"#46039f\"],[0.2222222222222222,\"#7201a8\"],[0.3333333333333333,\"#9c179e\"],[0.4444444444444444,\"#bd3786\"],[0.5555555555555556,\"#d8576b\"],[0.6666666666666666,\"#ed7953\"],[0.7777777777777778,\"#fb9f3a\"],[0.8888888888888888,\"#fdca26\"],[1.0,\"#f0f921\"]]}],\"mesh3d\":[{\"type\":\"mesh3d\",\"colorbar\":{\"outlinewidth\":0,\"ticks\":\"\"}}],\"scatter\":[{\"fillpattern\":{\"fillmode\":\"overlay\",\"size\":10,\"solidity\":0.2},\"type\":\"scatter\"}],\"parcoords\":[{\"type\":\"parcoords\",\"line\":{\"colorbar\":{\"outlinewidth\":0,\"ticks\":\"\"}}}],\"scatterpolargl\":[{\"type\":\"scatterpolargl\",\"marker\":{\"colorbar\":{\"outlinewidth\":0,\"ticks\":\"\"}}}],\"bar\":[{\"error_x\":{\"color\":\"#2a3f5f\"},\"error_y\":{\"color\":\"#2a3f5f\"},\"marker\":{\"line\":{\"color\":\"#E5ECF6\",\"width\":0.5},\"pattern\":{\"fillmode\":\"overlay\",\"size\":10,\"solidity\":0.2}},\"type\":\"bar\"}],\"scattergeo\":[{\"type\":\"scattergeo\",\"marker\":{\"colorbar\":{\"outlinewidth\":0,\"ticks\":\"\"}}}],\"scatterpolar\":[{\"type\":\"scatterpolar\",\"marker\":{\"colorbar\":{\"outlinewidth\":0,\"ticks\":\"\"}}}],\"histogram\":[{\"marker\":{\"pattern\":{\"fillmode\":\"overlay\",\"size\":10,\"solidity\":0.2}},\"type\":\"histogram\"}],\"scattergl\":[{\"type\":\"scattergl\",\"marker\":{\"colorbar\":{\"outlinewidth\":0,\"ticks\":\"\"}}}],\"scatter3d\":[{\"type\":\"scatter3d\",\"line\":{\"colorbar\":{\"outlinewidth\":0,\"ticks\":\"\"}},\"marker\":{\"colorbar\":{\"outlinewidth\":0,\"ticks\":\"\"}}}],\"scattermapbox\":[{\"type\":\"scattermapbox\",\"marker\":{\"colorbar\":{\"outlinewidth\":0,\"ticks\":\"\"}}}],\"scatterternary\":[{\"type\":\"scatterternary\",\"marker\":{\"colorbar\":{\"outlinewidth\":0,\"ticks\":\"\"}}}],\"scattercarpet\":[{\"type\":\"scattercarpet\",\"marker\":{\"colorbar\":{\"outlinewidth\":0,\"ticks\":\"\"}}}],\"carpet\":[{\"aaxis\":{\"endlinecolor\":\"#2a3f5f\",\"gridcolor\":\"white\",\"linecolor\":\"white\",\"minorgridcolor\":\"white\",\"startlinecolor\":\"#2a3f5f\"},\"baxis\":{\"endlinecolor\":\"#2a3f5f\",\"gridcolor\":\"white\",\"linecolor\":\"white\",\"minorgridcolor\":\"white\",\"startlinecolor\":\"#2a3f5f\"},\"type\":\"carpet\"}],\"table\":[{\"cells\":{\"fill\":{\"color\":\"#EBF0F8\"},\"line\":{\"color\":\"white\"}},\"header\":{\"fill\":{\"color\":\"#C8D4E3\"},\"line\":{\"color\":\"white\"}},\"type\":\"table\"}],\"barpolar\":[{\"marker\":{\"line\":{\"color\":\"#E5ECF6\",\"width\":0.5},\"pattern\":{\"fillmode\":\"overlay\",\"size\":10,\"solidity\":0.2}},\"type\":\"barpolar\"}],\"pie\":[{\"automargin\":true,\"type\":\"pie\"}]},\"layout\":{\"autotypenumbers\":\"strict\",\"colorway\":[\"#636efa\",\"#EF553B\",\"#00cc96\",\"#ab63fa\",\"#FFA15A\",\"#19d3f3\",\"#FF6692\",\"#B6E880\",\"#FF97FF\",\"#FECB52\"],\"font\":{\"color\":\"#2a3f5f\"},\"hovermode\":\"closest\",\"hoverlabel\":{\"align\":\"left\"},\"paper_bgcolor\":\"white\",\"plot_bgcolor\":\"#E5ECF6\",\"polar\":{\"bgcolor\":\"#E5ECF6\",\"angularaxis\":{\"gridcolor\":\"white\",\"linecolor\":\"white\",\"ticks\":\"\"},\"radialaxis\":{\"gridcolor\":\"white\",\"linecolor\":\"white\",\"ticks\":\"\"}},\"ternary\":{\"bgcolor\":\"#E5ECF6\",\"aaxis\":{\"gridcolor\":\"white\",\"linecolor\":\"white\",\"ticks\":\"\"},\"baxis\":{\"gridcolor\":\"white\",\"linecolor\":\"white\",\"ticks\":\"\"},\"caxis\":{\"gridcolor\":\"white\",\"linecolor\":\"white\",\"ticks\":\"\"}},\"coloraxis\":{\"colorbar\":{\"outlinewidth\":0,\"ticks\":\"\"}},\"colorscale\":{\"sequential\":[[0.0,\"#0d0887\"],[0.1111111111111111,\"#46039f\"],[0.2222222222222222,\"#7201a8\"],[0.3333333333333333,\"#9c179e\"],[0.4444444444444444,\"#bd3786\"],[0.5555555555555556,\"#d8576b\"],[0.6666666666666666,\"#ed7953\"],[0.7777777777777778,\"#fb9f3a\"],[0.8888888888888888,\"#fdca26\"],[1.0,\"#f0f921\"]],\"sequentialminus\":[[0.0,\"#0d0887\"],[0.1111111111111111,\"#46039f\"],[0.2222222222222222,\"#7201a8\"],[0.3333333333333333,\"#9c179e\"],[0.4444444444444444,\"#bd3786\"],[0.5555555555555556,\"#d8576b\"],[0.6666666666666666,\"#ed7953\"],[0.7777777777777778,\"#fb9f3a\"],[0.8888888888888888,\"#fdca26\"],[1.0,\"#f0f921\"]],\"diverging\":[[0,\"#8e0152\"],[0.1,\"#c51b7d\"],[0.2,\"#de77ae\"],[0.3,\"#f1b6da\"],[0.4,\"#fde0ef\"],[0.5,\"#f7f7f7\"],[0.6,\"#e6f5d0\"],[0.7,\"#b8e186\"],[0.8,\"#7fbc41\"],[0.9,\"#4d9221\"],[1,\"#276419\"]]},\"xaxis\":{\"gridcolor\":\"white\",\"linecolor\":\"white\",\"ticks\":\"\",\"title\":{\"standoff\":15},\"zerolinecolor\":\"white\",\"automargin\":true,\"zerolinewidth\":2},\"yaxis\":{\"gridcolor\":\"white\",\"linecolor\":\"white\",\"ticks\":\"\",\"title\":{\"standoff\":15},\"zerolinecolor\":\"white\",\"automargin\":true,\"zerolinewidth\":2},\"scene\":{\"xaxis\":{\"backgroundcolor\":\"#E5ECF6\",\"gridcolor\":\"white\",\"linecolor\":\"white\",\"showbackground\":true,\"ticks\":\"\",\"zerolinecolor\":\"white\",\"gridwidth\":2},\"yaxis\":{\"backgroundcolor\":\"#E5ECF6\",\"gridcolor\":\"white\",\"linecolor\":\"white\",\"showbackground\":true,\"ticks\":\"\",\"zerolinecolor\":\"white\",\"gridwidth\":2},\"zaxis\":{\"backgroundcolor\":\"#E5ECF6\",\"gridcolor\":\"white\",\"linecolor\":\"white\",\"showbackground\":true,\"ticks\":\"\",\"zerolinecolor\":\"white\",\"gridwidth\":2}},\"shapedefaults\":{\"line\":{\"color\":\"#2a3f5f\"}},\"annotationdefaults\":{\"arrowcolor\":\"#2a3f5f\",\"arrowhead\":0,\"arrowwidth\":1},\"geo\":{\"bgcolor\":\"white\",\"landcolor\":\"#E5ECF6\",\"subunitcolor\":\"white\",\"showland\":true,\"showlakes\":true,\"lakecolor\":\"white\"},\"title\":{\"x\":0.05},\"mapbox\":{\"style\":\"light\"}}},\"xaxis\":{\"anchor\":\"y\",\"domain\":[0.0,1.0],\"title\":{\"text\":\"Layer\"},\"tickmode\":\"array\",\"tickvals\":[0,1,2,3,4,5,6,7,8,9,10,11,12,13,14,15,16,17,18,19,20,21,22,23,24],\"ticktext\":[\"0_pre\",\"0_mid\",\"1_pre\",\"1_mid\",\"2_pre\",\"2_mid\",\"3_pre\",\"3_mid\",\"4_pre\",\"4_mid\",\"5_pre\",\"5_mid\",\"6_pre\",\"6_mid\",\"7_pre\",\"7_mid\",\"8_pre\",\"8_mid\",\"9_pre\",\"9_mid\",\"10_pre\",\"10_mid\",\"11_pre\",\"11_mid\",\"final_post\"]},\"yaxis\":{\"anchor\":\"x\",\"domain\":[0.0,1.0],\"title\":{\"text\":\"Logit Diff\"}},\"legend\":{\"tracegroupgap\":0},\"title\":{\"text\":\"Logit Difference From Accumulated Residual Stream\"},\"width\":800,\"hovermode\":\"x unified\"},                        {\"responsive\": true}                    ).then(function(){\n",
       "                            \n",
       "var gd = document.getElementById('fab1639e-7484-480f-95ce-4bd5ddf78c3a');\n",
       "var x = new MutationObserver(function (mutations, observer) {{\n",
       "        var display = window.getComputedStyle(gd).display;\n",
       "        if (!display || display === 'none') {{\n",
       "            console.log([gd, 'removed!']);\n",
       "            Plotly.purge(gd);\n",
       "            observer.disconnect();\n",
       "        }}\n",
       "}});\n",
       "\n",
       "// Listen for the removal of the full notebook cells\n",
       "var notebookContainer = gd.closest('#notebook-container');\n",
       "if (notebookContainer) {{\n",
       "    x.observe(notebookContainer, {childList: true});\n",
       "}}\n",
       "\n",
       "// Listen for the clearing of the current output cell\n",
       "var outputEl = gd.closest('.output');\n",
       "if (outputEl) {{\n",
       "    x.observe(outputEl, {childList: true});\n",
       "}}\n",
       "\n",
       "                        })                };                });            </script>        </div>"
      ]
     },
     "metadata": {},
     "output_type": "display_data"
    }
   ],
   "source": [
    "accumulated_residual, labels = cache.accumulated_resid(layer=-1, incl_mid=True, pos_slice=-1, return_labels=True)\n",
    "# accumulated_residual has shape (component, batch, d_model)\n",
    "\n",
    "logit_lens_logit_diffs: Float[Tensor, \"component\"] = residual_stack_to_logit_diff(accumulated_residual, cache)\n",
    "\n",
    "line(\n",
    "    logit_lens_logit_diffs, \n",
    "    hovermode=\"x unified\",\n",
    "    title=\"Logit Difference From Accumulated Residual Stream\",\n",
    "    labels={\"x\": \"Layer\", \"y\": \"Logit Diff\"},\n",
    "    xaxis_tickvals=labels,\n",
    "    width=800\n",
    ")"
   ]
  },
  {
   "attachments": {},
   "cell_type": "markdown",
   "metadata": {},
   "source": [
    "Thomas's viewpoint is that other things written to last token residual stream wouldn't affect this direction unembedding and would show up pre-6 (or maybe 7 and 8)"
   ]
  },
  {
   "attachments": {},
   "cell_type": "markdown",
   "metadata": {},
   "source": [
    "**Per layer** aka differences between adjacent residual stream. Here, the kth transformer block consists of an attention layer (move info around) and an MLP layer (process info)."
   ]
  },
  {
   "cell_type": "code",
   "execution_count": 115,
   "metadata": {},
   "outputs": [
    {
     "name": "stdout",
     "output_type": "stream",
     "text": [
      "<bound method ActivationCache.decompose_resid of ActivationCache with keys ['hook_embed', 'hook_pos_embed', 'blocks.0.hook_resid_pre', 'blocks.0.ln1.hook_scale', 'blocks.0.ln1.hook_normalized', 'blocks.0.attn.hook_q', 'blocks.0.attn.hook_k', 'blocks.0.attn.hook_v', 'blocks.0.attn.hook_attn_scores', 'blocks.0.attn.hook_pattern', 'blocks.0.attn.hook_z', 'blocks.0.hook_attn_out', 'blocks.0.hook_resid_mid', 'blocks.0.ln2.hook_scale', 'blocks.0.ln2.hook_normalized', 'blocks.0.mlp.hook_pre', 'blocks.0.mlp.hook_post', 'blocks.0.hook_mlp_out', 'blocks.0.hook_resid_post', 'blocks.1.hook_resid_pre', 'blocks.1.ln1.hook_scale', 'blocks.1.ln1.hook_normalized', 'blocks.1.attn.hook_q', 'blocks.1.attn.hook_k', 'blocks.1.attn.hook_v', 'blocks.1.attn.hook_attn_scores', 'blocks.1.attn.hook_pattern', 'blocks.1.attn.hook_z', 'blocks.1.hook_attn_out', 'blocks.1.hook_resid_mid', 'blocks.1.ln2.hook_scale', 'blocks.1.ln2.hook_normalized', 'blocks.1.mlp.hook_pre', 'blocks.1.mlp.hook_post', 'blocks.1.hook_mlp_out', 'blocks.1.hook_resid_post', 'blocks.2.hook_resid_pre', 'blocks.2.ln1.hook_scale', 'blocks.2.ln1.hook_normalized', 'blocks.2.attn.hook_q', 'blocks.2.attn.hook_k', 'blocks.2.attn.hook_v', 'blocks.2.attn.hook_attn_scores', 'blocks.2.attn.hook_pattern', 'blocks.2.attn.hook_z', 'blocks.2.hook_attn_out', 'blocks.2.hook_resid_mid', 'blocks.2.ln2.hook_scale', 'blocks.2.ln2.hook_normalized', 'blocks.2.mlp.hook_pre', 'blocks.2.mlp.hook_post', 'blocks.2.hook_mlp_out', 'blocks.2.hook_resid_post', 'blocks.3.hook_resid_pre', 'blocks.3.ln1.hook_scale', 'blocks.3.ln1.hook_normalized', 'blocks.3.attn.hook_q', 'blocks.3.attn.hook_k', 'blocks.3.attn.hook_v', 'blocks.3.attn.hook_attn_scores', 'blocks.3.attn.hook_pattern', 'blocks.3.attn.hook_z', 'blocks.3.hook_attn_out', 'blocks.3.hook_resid_mid', 'blocks.3.ln2.hook_scale', 'blocks.3.ln2.hook_normalized', 'blocks.3.mlp.hook_pre', 'blocks.3.mlp.hook_post', 'blocks.3.hook_mlp_out', 'blocks.3.hook_resid_post', 'blocks.4.hook_resid_pre', 'blocks.4.ln1.hook_scale', 'blocks.4.ln1.hook_normalized', 'blocks.4.attn.hook_q', 'blocks.4.attn.hook_k', 'blocks.4.attn.hook_v', 'blocks.4.attn.hook_attn_scores', 'blocks.4.attn.hook_pattern', 'blocks.4.attn.hook_z', 'blocks.4.hook_attn_out', 'blocks.4.hook_resid_mid', 'blocks.4.ln2.hook_scale', 'blocks.4.ln2.hook_normalized', 'blocks.4.mlp.hook_pre', 'blocks.4.mlp.hook_post', 'blocks.4.hook_mlp_out', 'blocks.4.hook_resid_post', 'blocks.5.hook_resid_pre', 'blocks.5.ln1.hook_scale', 'blocks.5.ln1.hook_normalized', 'blocks.5.attn.hook_q', 'blocks.5.attn.hook_k', 'blocks.5.attn.hook_v', 'blocks.5.attn.hook_attn_scores', 'blocks.5.attn.hook_pattern', 'blocks.5.attn.hook_z', 'blocks.5.hook_attn_out', 'blocks.5.hook_resid_mid', 'blocks.5.ln2.hook_scale', 'blocks.5.ln2.hook_normalized', 'blocks.5.mlp.hook_pre', 'blocks.5.mlp.hook_post', 'blocks.5.hook_mlp_out', 'blocks.5.hook_resid_post', 'blocks.6.hook_resid_pre', 'blocks.6.ln1.hook_scale', 'blocks.6.ln1.hook_normalized', 'blocks.6.attn.hook_q', 'blocks.6.attn.hook_k', 'blocks.6.attn.hook_v', 'blocks.6.attn.hook_attn_scores', 'blocks.6.attn.hook_pattern', 'blocks.6.attn.hook_z', 'blocks.6.hook_attn_out', 'blocks.6.hook_resid_mid', 'blocks.6.ln2.hook_scale', 'blocks.6.ln2.hook_normalized', 'blocks.6.mlp.hook_pre', 'blocks.6.mlp.hook_post', 'blocks.6.hook_mlp_out', 'blocks.6.hook_resid_post', 'blocks.7.hook_resid_pre', 'blocks.7.ln1.hook_scale', 'blocks.7.ln1.hook_normalized', 'blocks.7.attn.hook_q', 'blocks.7.attn.hook_k', 'blocks.7.attn.hook_v', 'blocks.7.attn.hook_attn_scores', 'blocks.7.attn.hook_pattern', 'blocks.7.attn.hook_z', 'blocks.7.hook_attn_out', 'blocks.7.hook_resid_mid', 'blocks.7.ln2.hook_scale', 'blocks.7.ln2.hook_normalized', 'blocks.7.mlp.hook_pre', 'blocks.7.mlp.hook_post', 'blocks.7.hook_mlp_out', 'blocks.7.hook_resid_post', 'blocks.8.hook_resid_pre', 'blocks.8.ln1.hook_scale', 'blocks.8.ln1.hook_normalized', 'blocks.8.attn.hook_q', 'blocks.8.attn.hook_k', 'blocks.8.attn.hook_v', 'blocks.8.attn.hook_attn_scores', 'blocks.8.attn.hook_pattern', 'blocks.8.attn.hook_z', 'blocks.8.hook_attn_out', 'blocks.8.hook_resid_mid', 'blocks.8.ln2.hook_scale', 'blocks.8.ln2.hook_normalized', 'blocks.8.mlp.hook_pre', 'blocks.8.mlp.hook_post', 'blocks.8.hook_mlp_out', 'blocks.8.hook_resid_post', 'blocks.9.hook_resid_pre', 'blocks.9.ln1.hook_scale', 'blocks.9.ln1.hook_normalized', 'blocks.9.attn.hook_q', 'blocks.9.attn.hook_k', 'blocks.9.attn.hook_v', 'blocks.9.attn.hook_attn_scores', 'blocks.9.attn.hook_pattern', 'blocks.9.attn.hook_z', 'blocks.9.hook_attn_out', 'blocks.9.hook_resid_mid', 'blocks.9.ln2.hook_scale', 'blocks.9.ln2.hook_normalized', 'blocks.9.mlp.hook_pre', 'blocks.9.mlp.hook_post', 'blocks.9.hook_mlp_out', 'blocks.9.hook_resid_post', 'blocks.10.hook_resid_pre', 'blocks.10.ln1.hook_scale', 'blocks.10.ln1.hook_normalized', 'blocks.10.attn.hook_q', 'blocks.10.attn.hook_k', 'blocks.10.attn.hook_v', 'blocks.10.attn.hook_attn_scores', 'blocks.10.attn.hook_pattern', 'blocks.10.attn.hook_z', 'blocks.10.hook_attn_out', 'blocks.10.hook_resid_mid', 'blocks.10.ln2.hook_scale', 'blocks.10.ln2.hook_normalized', 'blocks.10.mlp.hook_pre', 'blocks.10.mlp.hook_post', 'blocks.10.hook_mlp_out', 'blocks.10.hook_resid_post', 'blocks.11.hook_resid_pre', 'blocks.11.ln1.hook_scale', 'blocks.11.ln1.hook_normalized', 'blocks.11.attn.hook_q', 'blocks.11.attn.hook_k', 'blocks.11.attn.hook_v', 'blocks.11.attn.hook_attn_scores', 'blocks.11.attn.hook_pattern', 'blocks.11.attn.hook_z', 'blocks.11.hook_attn_out', 'blocks.11.hook_resid_mid', 'blocks.11.ln2.hook_scale', 'blocks.11.ln2.hook_normalized', 'blocks.11.mlp.hook_pre', 'blocks.11.mlp.hook_post', 'blocks.11.hook_mlp_out', 'blocks.11.hook_resid_post', 'ln_final.hook_scale', 'ln_final.hook_normalized']>\n",
      "8\n"
     ]
    },
    {
     "data": {
      "application/vnd.plotly.v1+json": {
       "config": {
        "plotlyServerURL": "https://plot.ly"
       },
       "data": [
        {
         "hovertemplate": "Layer=%{x}<br>Logit Diff=%{y}<extra></extra>",
         "legendgroup": "",
         "line": {
          "color": "#636efa",
          "dash": "solid"
         },
         "marker": {
          "symbol": "circle"
         },
         "mode": "lines",
         "name": "",
         "orientation": "v",
         "showlegend": false,
         "type": "scatter",
         "x": [
          0,
          1,
          2,
          3,
          4,
          5,
          6,
          7,
          8,
          9,
          10,
          11,
          12,
          13,
          14,
          15,
          16,
          17,
          18,
          19,
          20,
          21,
          22,
          23,
          24,
          25
         ],
         "xaxis": "x",
         "y": [
          -0.000283675326500088,
          0.00029660770087502897,
          -0.006656230892986059,
          -0.000882019754499197,
          -0.0015506560448557138,
          0.00033893290674313903,
          0.000051313312724232674,
          0.002205079421401024,
          -0.001459847204387188,
          -0.0017223191680386662,
          -0.005434085614979267,
          0.0009056157432496548,
          -0.00573893915861845,
          0.01080494374036789,
          -0.018174882978200912,
          -0.0025564301759004593,
          0.2795781195163727,
          0.0008343169465661049,
          0.19950895011425018,
          0.009915350936353207,
          4.565671920776367,
          0.1174466535449028,
          -0.4124181866645813,
          0.15649360418319702,
          -1.4417266845703125,
          0.10648418217897415
         ],
         "yaxis": "y"
        }
       ],
       "layout": {
        "hovermode": "x unified",
        "legend": {
         "tracegroupgap": 0
        },
        "template": {
         "data": {
          "bar": [
           {
            "error_x": {
             "color": "#2a3f5f"
            },
            "error_y": {
             "color": "#2a3f5f"
            },
            "marker": {
             "line": {
              "color": "#E5ECF6",
              "width": 0.5
             },
             "pattern": {
              "fillmode": "overlay",
              "size": 10,
              "solidity": 0.2
             }
            },
            "type": "bar"
           }
          ],
          "barpolar": [
           {
            "marker": {
             "line": {
              "color": "#E5ECF6",
              "width": 0.5
             },
             "pattern": {
              "fillmode": "overlay",
              "size": 10,
              "solidity": 0.2
             }
            },
            "type": "barpolar"
           }
          ],
          "carpet": [
           {
            "aaxis": {
             "endlinecolor": "#2a3f5f",
             "gridcolor": "white",
             "linecolor": "white",
             "minorgridcolor": "white",
             "startlinecolor": "#2a3f5f"
            },
            "baxis": {
             "endlinecolor": "#2a3f5f",
             "gridcolor": "white",
             "linecolor": "white",
             "minorgridcolor": "white",
             "startlinecolor": "#2a3f5f"
            },
            "type": "carpet"
           }
          ],
          "choropleth": [
           {
            "colorbar": {
             "outlinewidth": 0,
             "ticks": ""
            },
            "type": "choropleth"
           }
          ],
          "contour": [
           {
            "colorbar": {
             "outlinewidth": 0,
             "ticks": ""
            },
            "colorscale": [
             [
              0,
              "#0d0887"
             ],
             [
              0.1111111111111111,
              "#46039f"
             ],
             [
              0.2222222222222222,
              "#7201a8"
             ],
             [
              0.3333333333333333,
              "#9c179e"
             ],
             [
              0.4444444444444444,
              "#bd3786"
             ],
             [
              0.5555555555555556,
              "#d8576b"
             ],
             [
              0.6666666666666666,
              "#ed7953"
             ],
             [
              0.7777777777777778,
              "#fb9f3a"
             ],
             [
              0.8888888888888888,
              "#fdca26"
             ],
             [
              1,
              "#f0f921"
             ]
            ],
            "type": "contour"
           }
          ],
          "contourcarpet": [
           {
            "colorbar": {
             "outlinewidth": 0,
             "ticks": ""
            },
            "type": "contourcarpet"
           }
          ],
          "heatmap": [
           {
            "colorbar": {
             "outlinewidth": 0,
             "ticks": ""
            },
            "colorscale": [
             [
              0,
              "#0d0887"
             ],
             [
              0.1111111111111111,
              "#46039f"
             ],
             [
              0.2222222222222222,
              "#7201a8"
             ],
             [
              0.3333333333333333,
              "#9c179e"
             ],
             [
              0.4444444444444444,
              "#bd3786"
             ],
             [
              0.5555555555555556,
              "#d8576b"
             ],
             [
              0.6666666666666666,
              "#ed7953"
             ],
             [
              0.7777777777777778,
              "#fb9f3a"
             ],
             [
              0.8888888888888888,
              "#fdca26"
             ],
             [
              1,
              "#f0f921"
             ]
            ],
            "type": "heatmap"
           }
          ],
          "heatmapgl": [
           {
            "colorbar": {
             "outlinewidth": 0,
             "ticks": ""
            },
            "colorscale": [
             [
              0,
              "#0d0887"
             ],
             [
              0.1111111111111111,
              "#46039f"
             ],
             [
              0.2222222222222222,
              "#7201a8"
             ],
             [
              0.3333333333333333,
              "#9c179e"
             ],
             [
              0.4444444444444444,
              "#bd3786"
             ],
             [
              0.5555555555555556,
              "#d8576b"
             ],
             [
              0.6666666666666666,
              "#ed7953"
             ],
             [
              0.7777777777777778,
              "#fb9f3a"
             ],
             [
              0.8888888888888888,
              "#fdca26"
             ],
             [
              1,
              "#f0f921"
             ]
            ],
            "type": "heatmapgl"
           }
          ],
          "histogram": [
           {
            "marker": {
             "pattern": {
              "fillmode": "overlay",
              "size": 10,
              "solidity": 0.2
             }
            },
            "type": "histogram"
           }
          ],
          "histogram2d": [
           {
            "colorbar": {
             "outlinewidth": 0,
             "ticks": ""
            },
            "colorscale": [
             [
              0,
              "#0d0887"
             ],
             [
              0.1111111111111111,
              "#46039f"
             ],
             [
              0.2222222222222222,
              "#7201a8"
             ],
             [
              0.3333333333333333,
              "#9c179e"
             ],
             [
              0.4444444444444444,
              "#bd3786"
             ],
             [
              0.5555555555555556,
              "#d8576b"
             ],
             [
              0.6666666666666666,
              "#ed7953"
             ],
             [
              0.7777777777777778,
              "#fb9f3a"
             ],
             [
              0.8888888888888888,
              "#fdca26"
             ],
             [
              1,
              "#f0f921"
             ]
            ],
            "type": "histogram2d"
           }
          ],
          "histogram2dcontour": [
           {
            "colorbar": {
             "outlinewidth": 0,
             "ticks": ""
            },
            "colorscale": [
             [
              0,
              "#0d0887"
             ],
             [
              0.1111111111111111,
              "#46039f"
             ],
             [
              0.2222222222222222,
              "#7201a8"
             ],
             [
              0.3333333333333333,
              "#9c179e"
             ],
             [
              0.4444444444444444,
              "#bd3786"
             ],
             [
              0.5555555555555556,
              "#d8576b"
             ],
             [
              0.6666666666666666,
              "#ed7953"
             ],
             [
              0.7777777777777778,
              "#fb9f3a"
             ],
             [
              0.8888888888888888,
              "#fdca26"
             ],
             [
              1,
              "#f0f921"
             ]
            ],
            "type": "histogram2dcontour"
           }
          ],
          "mesh3d": [
           {
            "colorbar": {
             "outlinewidth": 0,
             "ticks": ""
            },
            "type": "mesh3d"
           }
          ],
          "parcoords": [
           {
            "line": {
             "colorbar": {
              "outlinewidth": 0,
              "ticks": ""
             }
            },
            "type": "parcoords"
           }
          ],
          "pie": [
           {
            "automargin": true,
            "type": "pie"
           }
          ],
          "scatter": [
           {
            "fillpattern": {
             "fillmode": "overlay",
             "size": 10,
             "solidity": 0.2
            },
            "type": "scatter"
           }
          ],
          "scatter3d": [
           {
            "line": {
             "colorbar": {
              "outlinewidth": 0,
              "ticks": ""
             }
            },
            "marker": {
             "colorbar": {
              "outlinewidth": 0,
              "ticks": ""
             }
            },
            "type": "scatter3d"
           }
          ],
          "scattercarpet": [
           {
            "marker": {
             "colorbar": {
              "outlinewidth": 0,
              "ticks": ""
             }
            },
            "type": "scattercarpet"
           }
          ],
          "scattergeo": [
           {
            "marker": {
             "colorbar": {
              "outlinewidth": 0,
              "ticks": ""
             }
            },
            "type": "scattergeo"
           }
          ],
          "scattergl": [
           {
            "marker": {
             "colorbar": {
              "outlinewidth": 0,
              "ticks": ""
             }
            },
            "type": "scattergl"
           }
          ],
          "scattermapbox": [
           {
            "marker": {
             "colorbar": {
              "outlinewidth": 0,
              "ticks": ""
             }
            },
            "type": "scattermapbox"
           }
          ],
          "scatterpolar": [
           {
            "marker": {
             "colorbar": {
              "outlinewidth": 0,
              "ticks": ""
             }
            },
            "type": "scatterpolar"
           }
          ],
          "scatterpolargl": [
           {
            "marker": {
             "colorbar": {
              "outlinewidth": 0,
              "ticks": ""
             }
            },
            "type": "scatterpolargl"
           }
          ],
          "scatterternary": [
           {
            "marker": {
             "colorbar": {
              "outlinewidth": 0,
              "ticks": ""
             }
            },
            "type": "scatterternary"
           }
          ],
          "surface": [
           {
            "colorbar": {
             "outlinewidth": 0,
             "ticks": ""
            },
            "colorscale": [
             [
              0,
              "#0d0887"
             ],
             [
              0.1111111111111111,
              "#46039f"
             ],
             [
              0.2222222222222222,
              "#7201a8"
             ],
             [
              0.3333333333333333,
              "#9c179e"
             ],
             [
              0.4444444444444444,
              "#bd3786"
             ],
             [
              0.5555555555555556,
              "#d8576b"
             ],
             [
              0.6666666666666666,
              "#ed7953"
             ],
             [
              0.7777777777777778,
              "#fb9f3a"
             ],
             [
              0.8888888888888888,
              "#fdca26"
             ],
             [
              1,
              "#f0f921"
             ]
            ],
            "type": "surface"
           }
          ],
          "table": [
           {
            "cells": {
             "fill": {
              "color": "#EBF0F8"
             },
             "line": {
              "color": "white"
             }
            },
            "header": {
             "fill": {
              "color": "#C8D4E3"
             },
             "line": {
              "color": "white"
             }
            },
            "type": "table"
           }
          ]
         },
         "layout": {
          "annotationdefaults": {
           "arrowcolor": "#2a3f5f",
           "arrowhead": 0,
           "arrowwidth": 1
          },
          "autotypenumbers": "strict",
          "coloraxis": {
           "colorbar": {
            "outlinewidth": 0,
            "ticks": ""
           }
          },
          "colorscale": {
           "diverging": [
            [
             0,
             "#8e0152"
            ],
            [
             0.1,
             "#c51b7d"
            ],
            [
             0.2,
             "#de77ae"
            ],
            [
             0.3,
             "#f1b6da"
            ],
            [
             0.4,
             "#fde0ef"
            ],
            [
             0.5,
             "#f7f7f7"
            ],
            [
             0.6,
             "#e6f5d0"
            ],
            [
             0.7,
             "#b8e186"
            ],
            [
             0.8,
             "#7fbc41"
            ],
            [
             0.9,
             "#4d9221"
            ],
            [
             1,
             "#276419"
            ]
           ],
           "sequential": [
            [
             0,
             "#0d0887"
            ],
            [
             0.1111111111111111,
             "#46039f"
            ],
            [
             0.2222222222222222,
             "#7201a8"
            ],
            [
             0.3333333333333333,
             "#9c179e"
            ],
            [
             0.4444444444444444,
             "#bd3786"
            ],
            [
             0.5555555555555556,
             "#d8576b"
            ],
            [
             0.6666666666666666,
             "#ed7953"
            ],
            [
             0.7777777777777778,
             "#fb9f3a"
            ],
            [
             0.8888888888888888,
             "#fdca26"
            ],
            [
             1,
             "#f0f921"
            ]
           ],
           "sequentialminus": [
            [
             0,
             "#0d0887"
            ],
            [
             0.1111111111111111,
             "#46039f"
            ],
            [
             0.2222222222222222,
             "#7201a8"
            ],
            [
             0.3333333333333333,
             "#9c179e"
            ],
            [
             0.4444444444444444,
             "#bd3786"
            ],
            [
             0.5555555555555556,
             "#d8576b"
            ],
            [
             0.6666666666666666,
             "#ed7953"
            ],
            [
             0.7777777777777778,
             "#fb9f3a"
            ],
            [
             0.8888888888888888,
             "#fdca26"
            ],
            [
             1,
             "#f0f921"
            ]
           ]
          },
          "colorway": [
           "#636efa",
           "#EF553B",
           "#00cc96",
           "#ab63fa",
           "#FFA15A",
           "#19d3f3",
           "#FF6692",
           "#B6E880",
           "#FF97FF",
           "#FECB52"
          ],
          "font": {
           "color": "#2a3f5f"
          },
          "geo": {
           "bgcolor": "white",
           "lakecolor": "white",
           "landcolor": "#E5ECF6",
           "showlakes": true,
           "showland": true,
           "subunitcolor": "white"
          },
          "hoverlabel": {
           "align": "left"
          },
          "hovermode": "closest",
          "mapbox": {
           "style": "light"
          },
          "paper_bgcolor": "white",
          "plot_bgcolor": "#E5ECF6",
          "polar": {
           "angularaxis": {
            "gridcolor": "white",
            "linecolor": "white",
            "ticks": ""
           },
           "bgcolor": "#E5ECF6",
           "radialaxis": {
            "gridcolor": "white",
            "linecolor": "white",
            "ticks": ""
           }
          },
          "scene": {
           "xaxis": {
            "backgroundcolor": "#E5ECF6",
            "gridcolor": "white",
            "gridwidth": 2,
            "linecolor": "white",
            "showbackground": true,
            "ticks": "",
            "zerolinecolor": "white"
           },
           "yaxis": {
            "backgroundcolor": "#E5ECF6",
            "gridcolor": "white",
            "gridwidth": 2,
            "linecolor": "white",
            "showbackground": true,
            "ticks": "",
            "zerolinecolor": "white"
           },
           "zaxis": {
            "backgroundcolor": "#E5ECF6",
            "gridcolor": "white",
            "gridwidth": 2,
            "linecolor": "white",
            "showbackground": true,
            "ticks": "",
            "zerolinecolor": "white"
           }
          },
          "shapedefaults": {
           "line": {
            "color": "#2a3f5f"
           }
          },
          "ternary": {
           "aaxis": {
            "gridcolor": "white",
            "linecolor": "white",
            "ticks": ""
           },
           "baxis": {
            "gridcolor": "white",
            "linecolor": "white",
            "ticks": ""
           },
           "bgcolor": "#E5ECF6",
           "caxis": {
            "gridcolor": "white",
            "linecolor": "white",
            "ticks": ""
           }
          },
          "title": {
           "x": 0.05
          },
          "xaxis": {
           "automargin": true,
           "gridcolor": "white",
           "linecolor": "white",
           "ticks": "",
           "title": {
            "standoff": 15
           },
           "zerolinecolor": "white",
           "zerolinewidth": 2
          },
          "yaxis": {
           "automargin": true,
           "gridcolor": "white",
           "linecolor": "white",
           "ticks": "",
           "title": {
            "standoff": 15
           },
           "zerolinecolor": "white",
           "zerolinewidth": 2
          }
         }
        },
        "title": {
         "text": "Logit Difference From Each Layer"
        },
        "width": 800,
        "xaxis": {
         "anchor": "y",
         "domain": [
          0,
          1
         ],
         "tickmode": "array",
         "ticktext": [
          "embed",
          "pos_embed",
          "0_attn_out",
          "0_mlp_out",
          "1_attn_out",
          "1_mlp_out",
          "2_attn_out",
          "2_mlp_out",
          "3_attn_out",
          "3_mlp_out",
          "4_attn_out",
          "4_mlp_out",
          "5_attn_out",
          "5_mlp_out",
          "6_attn_out",
          "6_mlp_out",
          "7_attn_out",
          "7_mlp_out",
          "8_attn_out",
          "8_mlp_out",
          "9_attn_out",
          "9_mlp_out",
          "10_attn_out",
          "10_mlp_out",
          "11_attn_out",
          "11_mlp_out"
         ],
         "tickvals": [
          0,
          1,
          2,
          3,
          4,
          5,
          6,
          7,
          8,
          9,
          10,
          11,
          12,
          13,
          14,
          15,
          16,
          17,
          18,
          19,
          20,
          21,
          22,
          23,
          24,
          25
         ],
         "title": {
          "text": "Layer"
         }
        },
        "yaxis": {
         "anchor": "x",
         "domain": [
          0,
          1
         ],
         "title": {
          "text": "Logit Diff"
         }
        }
       }
      },
      "text/html": [
       "<div>                            <div id=\"16b7fa31-c3c2-48d5-9477-f47c8df0575e\" class=\"plotly-graph-div\" style=\"height:525px; width:800px;\"></div>            <script type=\"text/javascript\">                require([\"plotly\"], function(Plotly) {                    window.PLOTLYENV=window.PLOTLYENV || {};                                    if (document.getElementById(\"16b7fa31-c3c2-48d5-9477-f47c8df0575e\")) {                    Plotly.newPlot(                        \"16b7fa31-c3c2-48d5-9477-f47c8df0575e\",                        [{\"hovertemplate\":\"Layer=%{x}<br>Logit Diff=%{y}<extra></extra>\",\"legendgroup\":\"\",\"line\":{\"color\":\"#636efa\",\"dash\":\"solid\"},\"marker\":{\"symbol\":\"circle\"},\"mode\":\"lines\",\"name\":\"\",\"orientation\":\"v\",\"showlegend\":false,\"x\":[0,1,2,3,4,5,6,7,8,9,10,11,12,13,14,15,16,17,18,19,20,21,22,23,24,25],\"xaxis\":\"x\",\"y\":[-0.000283675326500088,0.00029660770087502897,-0.006656230892986059,-0.000882019754499197,-0.0015506560448557138,0.00033893290674313903,5.1313312724232674e-05,0.002205079421401024,-0.001459847204387188,-0.0017223191680386662,-0.005434085614979267,0.0009056157432496548,-0.00573893915861845,0.01080494374036789,-0.018174882978200912,-0.0025564301759004593,0.2795781195163727,0.0008343169465661049,0.19950895011425018,0.009915350936353207,4.565671920776367,0.1174466535449028,-0.4124181866645813,0.15649360418319702,-1.4417266845703125,0.10648418217897415],\"yaxis\":\"y\",\"type\":\"scatter\"}],                        {\"template\":{\"data\":{\"histogram2dcontour\":[{\"type\":\"histogram2dcontour\",\"colorbar\":{\"outlinewidth\":0,\"ticks\":\"\"},\"colorscale\":[[0.0,\"#0d0887\"],[0.1111111111111111,\"#46039f\"],[0.2222222222222222,\"#7201a8\"],[0.3333333333333333,\"#9c179e\"],[0.4444444444444444,\"#bd3786\"],[0.5555555555555556,\"#d8576b\"],[0.6666666666666666,\"#ed7953\"],[0.7777777777777778,\"#fb9f3a\"],[0.8888888888888888,\"#fdca26\"],[1.0,\"#f0f921\"]]}],\"choropleth\":[{\"type\":\"choropleth\",\"colorbar\":{\"outlinewidth\":0,\"ticks\":\"\"}}],\"histogram2d\":[{\"type\":\"histogram2d\",\"colorbar\":{\"outlinewidth\":0,\"ticks\":\"\"},\"colorscale\":[[0.0,\"#0d0887\"],[0.1111111111111111,\"#46039f\"],[0.2222222222222222,\"#7201a8\"],[0.3333333333333333,\"#9c179e\"],[0.4444444444444444,\"#bd3786\"],[0.5555555555555556,\"#d8576b\"],[0.6666666666666666,\"#ed7953\"],[0.7777777777777778,\"#fb9f3a\"],[0.8888888888888888,\"#fdca26\"],[1.0,\"#f0f921\"]]}],\"heatmap\":[{\"type\":\"heatmap\",\"colorbar\":{\"outlinewidth\":0,\"ticks\":\"\"},\"colorscale\":[[0.0,\"#0d0887\"],[0.1111111111111111,\"#46039f\"],[0.2222222222222222,\"#7201a8\"],[0.3333333333333333,\"#9c179e\"],[0.4444444444444444,\"#bd3786\"],[0.5555555555555556,\"#d8576b\"],[0.6666666666666666,\"#ed7953\"],[0.7777777777777778,\"#fb9f3a\"],[0.8888888888888888,\"#fdca26\"],[1.0,\"#f0f921\"]]}],\"heatmapgl\":[{\"type\":\"heatmapgl\",\"colorbar\":{\"outlinewidth\":0,\"ticks\":\"\"},\"colorscale\":[[0.0,\"#0d0887\"],[0.1111111111111111,\"#46039f\"],[0.2222222222222222,\"#7201a8\"],[0.3333333333333333,\"#9c179e\"],[0.4444444444444444,\"#bd3786\"],[0.5555555555555556,\"#d8576b\"],[0.6666666666666666,\"#ed7953\"],[0.7777777777777778,\"#fb9f3a\"],[0.8888888888888888,\"#fdca26\"],[1.0,\"#f0f921\"]]}],\"contourcarpet\":[{\"type\":\"contourcarpet\",\"colorbar\":{\"outlinewidth\":0,\"ticks\":\"\"}}],\"contour\":[{\"type\":\"contour\",\"colorbar\":{\"outlinewidth\":0,\"ticks\":\"\"},\"colorscale\":[[0.0,\"#0d0887\"],[0.1111111111111111,\"#46039f\"],[0.2222222222222222,\"#7201a8\"],[0.3333333333333333,\"#9c179e\"],[0.4444444444444444,\"#bd3786\"],[0.5555555555555556,\"#d8576b\"],[0.6666666666666666,\"#ed7953\"],[0.7777777777777778,\"#fb9f3a\"],[0.8888888888888888,\"#fdca26\"],[1.0,\"#f0f921\"]]}],\"surface\":[{\"type\":\"surface\",\"colorbar\":{\"outlinewidth\":0,\"ticks\":\"\"},\"colorscale\":[[0.0,\"#0d0887\"],[0.1111111111111111,\"#46039f\"],[0.2222222222222222,\"#7201a8\"],[0.3333333333333333,\"#9c179e\"],[0.4444444444444444,\"#bd3786\"],[0.5555555555555556,\"#d8576b\"],[0.6666666666666666,\"#ed7953\"],[0.7777777777777778,\"#fb9f3a\"],[0.8888888888888888,\"#fdca26\"],[1.0,\"#f0f921\"]]}],\"mesh3d\":[{\"type\":\"mesh3d\",\"colorbar\":{\"outlinewidth\":0,\"ticks\":\"\"}}],\"scatter\":[{\"fillpattern\":{\"fillmode\":\"overlay\",\"size\":10,\"solidity\":0.2},\"type\":\"scatter\"}],\"parcoords\":[{\"type\":\"parcoords\",\"line\":{\"colorbar\":{\"outlinewidth\":0,\"ticks\":\"\"}}}],\"scatterpolargl\":[{\"type\":\"scatterpolargl\",\"marker\":{\"colorbar\":{\"outlinewidth\":0,\"ticks\":\"\"}}}],\"bar\":[{\"error_x\":{\"color\":\"#2a3f5f\"},\"error_y\":{\"color\":\"#2a3f5f\"},\"marker\":{\"line\":{\"color\":\"#E5ECF6\",\"width\":0.5},\"pattern\":{\"fillmode\":\"overlay\",\"size\":10,\"solidity\":0.2}},\"type\":\"bar\"}],\"scattergeo\":[{\"type\":\"scattergeo\",\"marker\":{\"colorbar\":{\"outlinewidth\":0,\"ticks\":\"\"}}}],\"scatterpolar\":[{\"type\":\"scatterpolar\",\"marker\":{\"colorbar\":{\"outlinewidth\":0,\"ticks\":\"\"}}}],\"histogram\":[{\"marker\":{\"pattern\":{\"fillmode\":\"overlay\",\"size\":10,\"solidity\":0.2}},\"type\":\"histogram\"}],\"scattergl\":[{\"type\":\"scattergl\",\"marker\":{\"colorbar\":{\"outlinewidth\":0,\"ticks\":\"\"}}}],\"scatter3d\":[{\"type\":\"scatter3d\",\"line\":{\"colorbar\":{\"outlinewidth\":0,\"ticks\":\"\"}},\"marker\":{\"colorbar\":{\"outlinewidth\":0,\"ticks\":\"\"}}}],\"scattermapbox\":[{\"type\":\"scattermapbox\",\"marker\":{\"colorbar\":{\"outlinewidth\":0,\"ticks\":\"\"}}}],\"scatterternary\":[{\"type\":\"scatterternary\",\"marker\":{\"colorbar\":{\"outlinewidth\":0,\"ticks\":\"\"}}}],\"scattercarpet\":[{\"type\":\"scattercarpet\",\"marker\":{\"colorbar\":{\"outlinewidth\":0,\"ticks\":\"\"}}}],\"carpet\":[{\"aaxis\":{\"endlinecolor\":\"#2a3f5f\",\"gridcolor\":\"white\",\"linecolor\":\"white\",\"minorgridcolor\":\"white\",\"startlinecolor\":\"#2a3f5f\"},\"baxis\":{\"endlinecolor\":\"#2a3f5f\",\"gridcolor\":\"white\",\"linecolor\":\"white\",\"minorgridcolor\":\"white\",\"startlinecolor\":\"#2a3f5f\"},\"type\":\"carpet\"}],\"table\":[{\"cells\":{\"fill\":{\"color\":\"#EBF0F8\"},\"line\":{\"color\":\"white\"}},\"header\":{\"fill\":{\"color\":\"#C8D4E3\"},\"line\":{\"color\":\"white\"}},\"type\":\"table\"}],\"barpolar\":[{\"marker\":{\"line\":{\"color\":\"#E5ECF6\",\"width\":0.5},\"pattern\":{\"fillmode\":\"overlay\",\"size\":10,\"solidity\":0.2}},\"type\":\"barpolar\"}],\"pie\":[{\"automargin\":true,\"type\":\"pie\"}]},\"layout\":{\"autotypenumbers\":\"strict\",\"colorway\":[\"#636efa\",\"#EF553B\",\"#00cc96\",\"#ab63fa\",\"#FFA15A\",\"#19d3f3\",\"#FF6692\",\"#B6E880\",\"#FF97FF\",\"#FECB52\"],\"font\":{\"color\":\"#2a3f5f\"},\"hovermode\":\"closest\",\"hoverlabel\":{\"align\":\"left\"},\"paper_bgcolor\":\"white\",\"plot_bgcolor\":\"#E5ECF6\",\"polar\":{\"bgcolor\":\"#E5ECF6\",\"angularaxis\":{\"gridcolor\":\"white\",\"linecolor\":\"white\",\"ticks\":\"\"},\"radialaxis\":{\"gridcolor\":\"white\",\"linecolor\":\"white\",\"ticks\":\"\"}},\"ternary\":{\"bgcolor\":\"#E5ECF6\",\"aaxis\":{\"gridcolor\":\"white\",\"linecolor\":\"white\",\"ticks\":\"\"},\"baxis\":{\"gridcolor\":\"white\",\"linecolor\":\"white\",\"ticks\":\"\"},\"caxis\":{\"gridcolor\":\"white\",\"linecolor\":\"white\",\"ticks\":\"\"}},\"coloraxis\":{\"colorbar\":{\"outlinewidth\":0,\"ticks\":\"\"}},\"colorscale\":{\"sequential\":[[0.0,\"#0d0887\"],[0.1111111111111111,\"#46039f\"],[0.2222222222222222,\"#7201a8\"],[0.3333333333333333,\"#9c179e\"],[0.4444444444444444,\"#bd3786\"],[0.5555555555555556,\"#d8576b\"],[0.6666666666666666,\"#ed7953\"],[0.7777777777777778,\"#fb9f3a\"],[0.8888888888888888,\"#fdca26\"],[1.0,\"#f0f921\"]],\"sequentialminus\":[[0.0,\"#0d0887\"],[0.1111111111111111,\"#46039f\"],[0.2222222222222222,\"#7201a8\"],[0.3333333333333333,\"#9c179e\"],[0.4444444444444444,\"#bd3786\"],[0.5555555555555556,\"#d8576b\"],[0.6666666666666666,\"#ed7953\"],[0.7777777777777778,\"#fb9f3a\"],[0.8888888888888888,\"#fdca26\"],[1.0,\"#f0f921\"]],\"diverging\":[[0,\"#8e0152\"],[0.1,\"#c51b7d\"],[0.2,\"#de77ae\"],[0.3,\"#f1b6da\"],[0.4,\"#fde0ef\"],[0.5,\"#f7f7f7\"],[0.6,\"#e6f5d0\"],[0.7,\"#b8e186\"],[0.8,\"#7fbc41\"],[0.9,\"#4d9221\"],[1,\"#276419\"]]},\"xaxis\":{\"gridcolor\":\"white\",\"linecolor\":\"white\",\"ticks\":\"\",\"title\":{\"standoff\":15},\"zerolinecolor\":\"white\",\"automargin\":true,\"zerolinewidth\":2},\"yaxis\":{\"gridcolor\":\"white\",\"linecolor\":\"white\",\"ticks\":\"\",\"title\":{\"standoff\":15},\"zerolinecolor\":\"white\",\"automargin\":true,\"zerolinewidth\":2},\"scene\":{\"xaxis\":{\"backgroundcolor\":\"#E5ECF6\",\"gridcolor\":\"white\",\"linecolor\":\"white\",\"showbackground\":true,\"ticks\":\"\",\"zerolinecolor\":\"white\",\"gridwidth\":2},\"yaxis\":{\"backgroundcolor\":\"#E5ECF6\",\"gridcolor\":\"white\",\"linecolor\":\"white\",\"showbackground\":true,\"ticks\":\"\",\"zerolinecolor\":\"white\",\"gridwidth\":2},\"zaxis\":{\"backgroundcolor\":\"#E5ECF6\",\"gridcolor\":\"white\",\"linecolor\":\"white\",\"showbackground\":true,\"ticks\":\"\",\"zerolinecolor\":\"white\",\"gridwidth\":2}},\"shapedefaults\":{\"line\":{\"color\":\"#2a3f5f\"}},\"annotationdefaults\":{\"arrowcolor\":\"#2a3f5f\",\"arrowhead\":0,\"arrowwidth\":1},\"geo\":{\"bgcolor\":\"white\",\"landcolor\":\"#E5ECF6\",\"subunitcolor\":\"white\",\"showland\":true,\"showlakes\":true,\"lakecolor\":\"white\"},\"title\":{\"x\":0.05},\"mapbox\":{\"style\":\"light\"}}},\"xaxis\":{\"anchor\":\"y\",\"domain\":[0.0,1.0],\"title\":{\"text\":\"Layer\"},\"tickmode\":\"array\",\"tickvals\":[0,1,2,3,4,5,6,7,8,9,10,11,12,13,14,15,16,17,18,19,20,21,22,23,24,25],\"ticktext\":[\"embed\",\"pos_embed\",\"0_attn_out\",\"0_mlp_out\",\"1_attn_out\",\"1_mlp_out\",\"2_attn_out\",\"2_mlp_out\",\"3_attn_out\",\"3_mlp_out\",\"4_attn_out\",\"4_mlp_out\",\"5_attn_out\",\"5_mlp_out\",\"6_attn_out\",\"6_mlp_out\",\"7_attn_out\",\"7_mlp_out\",\"8_attn_out\",\"8_mlp_out\",\"9_attn_out\",\"9_mlp_out\",\"10_attn_out\",\"10_mlp_out\",\"11_attn_out\",\"11_mlp_out\"]},\"yaxis\":{\"anchor\":\"x\",\"domain\":[0.0,1.0],\"title\":{\"text\":\"Logit Diff\"}},\"legend\":{\"tracegroupgap\":0},\"title\":{\"text\":\"Logit Difference From Each Layer\"},\"width\":800,\"hovermode\":\"x unified\"},                        {\"responsive\": true}                    ).then(function(){\n",
       "                            \n",
       "var gd = document.getElementById('16b7fa31-c3c2-48d5-9477-f47c8df0575e');\n",
       "var x = new MutationObserver(function (mutations, observer) {{\n",
       "        var display = window.getComputedStyle(gd).display;\n",
       "        if (!display || display === 'none') {{\n",
       "            console.log([gd, 'removed!']);\n",
       "            Plotly.purge(gd);\n",
       "            observer.disconnect();\n",
       "        }}\n",
       "}});\n",
       "\n",
       "// Listen for the removal of the full notebook cells\n",
       "var notebookContainer = gd.closest('#notebook-container');\n",
       "if (notebookContainer) {{\n",
       "    x.observe(notebookContainer, {childList: true});\n",
       "}}\n",
       "\n",
       "// Listen for the clearing of the current output cell\n",
       "var outputEl = gd.closest('.output');\n",
       "if (outputEl) {{\n",
       "    x.observe(outputEl, {childList: true});\n",
       "}}\n",
       "\n",
       "                        })                };                });            </script>        </div>"
      ]
     },
     "metadata": {},
     "output_type": "display_data"
    }
   ],
   "source": [
    "per_layer_residual, labels = cache.decompose_resid(layer=-1, pos_slice=-1, return_labels=True)\n",
    "print(cache.decompose_resid)\n",
    "per_layer_logit_diffs = residual_stack_to_logit_diff(per_layer_residual, cache)\n",
    "\n",
    "line(\n",
    "    per_layer_logit_diffs, \n",
    "    hovermode=\"x unified\",\n",
    "    title=\"Logit Difference From Each Layer\",\n",
    "    labels={\"x\": \"Layer\", \"y\": \"Logit Diff\"},\n",
    "    xaxis_tickvals=labels,\n",
    "    width=800\n",
    ")"
   ]
  },
  {
   "attachments": {},
   "cell_type": "markdown",
   "metadata": {},
   "source": [
    "**Per head** aka sum of the outputs of each attention head."
   ]
  },
  {
   "attachments": {},
   "cell_type": "markdown",
   "metadata": {},
   "source": [
    "**Key functions** *I love how everything standard is just a cache function away lol*\n",
    "- cache.accumulated_resid\n",
    "- cache.decompose_resid\n",
    "- cache.stack_head_results\n",
    "- cache.apply_ln_to_stack --> is this really \"inherent\" to class or does it act more like a static function where it doesn't actually take any of the stuff in cache --> more of a static method that doesn't leverage information from the cache"
   ]
  },
  {
   "cell_type": "code",
   "execution_count": 116,
   "metadata": {},
   "outputs": [
    {
     "name": "stdout",
     "output_type": "stream",
     "text": [
      "Tried to stack head results when they weren't cached. Computing head results now\n",
      "torch.Size([144, 8, 768])\n",
      "144, ['L0H0', 'L0H1', 'L0H2', 'L0H3', 'L0H4', 'L0H5', 'L0H6', 'L0H7', 'L0H8', 'L0H9', 'L0H10', 'L0H11', 'L1H0', 'L1H1', 'L1H2', 'L1H3', 'L1H4', 'L1H5', 'L1H6', 'L1H7', 'L1H8', 'L1H9', 'L1H10', 'L1H11', 'L2H0', 'L2H1', 'L2H2', 'L2H3', 'L2H4', 'L2H5', 'L2H6', 'L2H7', 'L2H8', 'L2H9', 'L2H10', 'L2H11', 'L3H0', 'L3H1', 'L3H2', 'L3H3', 'L3H4', 'L3H5', 'L3H6', 'L3H7', 'L3H8', 'L3H9', 'L3H10', 'L3H11', 'L4H0', 'L4H1', 'L4H2', 'L4H3', 'L4H4', 'L4H5', 'L4H6', 'L4H7', 'L4H8', 'L4H9', 'L4H10', 'L4H11', 'L5H0', 'L5H1', 'L5H2', 'L5H3', 'L5H4', 'L5H5', 'L5H6', 'L5H7', 'L5H8', 'L5H9', 'L5H10', 'L5H11', 'L6H0', 'L6H1', 'L6H2', 'L6H3', 'L6H4', 'L6H5', 'L6H6', 'L6H7', 'L6H8', 'L6H9', 'L6H10', 'L6H11', 'L7H0', 'L7H1', 'L7H2', 'L7H3', 'L7H4', 'L7H5', 'L7H6', 'L7H7', 'L7H8', 'L7H9', 'L7H10', 'L7H11', 'L8H0', 'L8H1', 'L8H2', 'L8H3', 'L8H4', 'L8H5', 'L8H6', 'L8H7', 'L8H8', 'L8H9', 'L8H10', 'L8H11', 'L9H0', 'L9H1', 'L9H2', 'L9H3', 'L9H4', 'L9H5', 'L9H6', 'L9H7', 'L9H8', 'L9H9', 'L9H10', 'L9H11', 'L10H0', 'L10H1', 'L10H2', 'L10H3', 'L10H4', 'L10H5', 'L10H6', 'L10H7', 'L10H8', 'L10H9', 'L10H10', 'L10H11', 'L11H0', 'L11H1', 'L11H2', 'L11H3', 'L11H4', 'L11H5', 'L11H6', 'L11H7', 'L11H8', 'L11H9', 'L11H10', 'L11H11']\n",
      "8\n",
      "torch.Size([12, 12])\n"
     ]
    },
    {
     "data": {
      "application/vnd.plotly.v1+json": {
       "config": {
        "plotlyServerURL": "https://plot.ly"
       },
       "data": [
        {
         "coloraxis": "coloraxis",
         "hovertemplate": "Head: %{x}<br>Layer: %{y}<br>color: %{z}<extra></extra>",
         "name": "0",
         "type": "heatmap",
         "xaxis": "x",
         "yaxis": "y",
         "z": [
          [
           -0.002056353958323598,
           -0.0005102603463456035,
           0.00046858389396220446,
           0.00012512653484009206,
           -0.0006028664065524936,
           -0.0002429524902254343,
           -0.0023188318591564894,
           -0.0027583702467381954,
           0.00056464783847332,
           0.0009698491194285452,
           -0.00025048782117664814,
           0.0000047658104449510574
          ],
          [
           -0.0010071827564388514,
           0.00039472372736781836,
           -0.001548816217109561,
           0.001403544913046062,
           -0.001265276805497706,
           -0.00113594566937536,
           -0.0028158915229141712,
           -0.002964372280985117,
           0.0029189896304160357,
           0.0025742859579622746,
           0.00036233942955732346,
           0.0017549459589645267
          ],
          [
           0.0005569682689383626,
           -0.001126498682424426,
           -0.0017354474402964115,
           -0.001451563322916627,
           -0.0002873593184631318,
           0.0017211994854733348,
           0.002665895037353039,
           0.003114748280495405,
           0.000566761358641088,
           -0.0036665780935436487,
           -0.0018848456675186753,
           0.000006989517714828253
          ],
          [
           -0.0007264685700647533,
           0.0001135953061748296,
           0.0014304142678156495,
           0.0007488633273169398,
           0.0020185329485684633,
           0.0007435583975166082,
           -0.00046168698463588953,
           -0.003905938472598791,
           0.0011406854027882218,
           -0.00004021497443318367,
           -0.001329326070845127,
           -0.0017637989949434996
          ],
          [
           -0.002828286960721016,
           0.0003364860313013196,
           -0.001424861722625792,
           -0.0037773330695927143,
           0.0015998627059161663,
           0.0002987947955261916,
           -0.0008045189897529781,
           0.0020390457939356565,
           -0.0015594778815284371,
           -0.0006437076954171062,
           0.0011168395867571235,
           -0.00035009148996323347
          ],
          [
           0.0011338347103446722,
           0.0011260162573307753,
           -0.00251640472561121,
           -0.0014790077693760395,
           0.00038799585308879614,
           -0.00006401703285519034,
           -0.0005096645327284932,
           -0.0008842313545756042,
           0.0006399551639333367,
           -0.00100986089091748,
           -0.006759121082723141,
           0.003366759978234768
          ],
          [
           -0.015149085782468319,
           -0.0021353706251829863,
           0.0025931380223482847,
           -0.0004268147749826312,
           -0.0055589755065739155,
           0.0026660296134650707,
           0.00641095032915473,
           -0.003826673375442624,
           -0.00038420013152062893,
           -0.0016430036630481482,
           -0.0013344407780095935,
           -0.00009160558693110943
          ],
          [
           -0.0000947534863371402,
           -0.005788811482489109,
           -0.0006383722648024559,
           0.1349385678768158,
           -0.0017689684173092246,
           -0.01891663670539856,
           0.0038732304237782955,
           -0.0021450622007250786,
           -0.010328158736228943,
           0.1832510530948639,
           -0.0007748686475679278,
           -0.0010451064445078373
          ],
          [
           -0.0038340380415320396,
           -0.0008046635193750262,
           -0.012672873213887215,
           0.00804841984063387,
           0.003604542464017868,
           -0.00939878262579441,
           -0.08272287249565125,
           0.0035552089102566242,
           -0.018404826521873474,
           0.0017585126915946603,
           0.2896263599395752,
           0.022856438532471657
          ],
          [
           0.08595554530620575,
           -0.0006933076656423509,
           0.068173348903656,
           0.013112794607877731,
           -0.021100051701068878,
           0.05112282186746597,
           1.384558916091919,
           0.0458386056125164,
           -0.0382968932390213,
           2.985555648803711,
           0.001966322772204876,
           -0.008029818534851074
          ],
          [
           0.5608844757080078,
           0.17082107067108154,
           -0.033617086708545685,
           0.05821862816810608,
           -0.0024527311325073242,
           0.0018771515460684896,
           0.2882647216320038,
           -1.8987268209457397,
           -0.001528675202280283,
           -0.03512559086084366,
           0.4802066683769226,
           -0.0009108292288146913
          ],
          [
           0.016075553372502327,
           -0.03985798358917236,
           -0.3879070281982422,
           0.011121300980448723,
           -0.005478335078805685,
           -0.0025133080780506134,
           -0.08056199550628662,
           0.00751868262887001,
           0.04301292449235916,
           -0.04008365795016289,
           -0.9702939987182617,
           0.011862875893712044
          ]
         ]
        }
       ],
       "layout": {
        "coloraxis": {
         "cmid": 0,
         "colorscale": [
          [
           0,
           "rgb(103,0,31)"
          ],
          [
           0.1,
           "rgb(178,24,43)"
          ],
          [
           0.2,
           "rgb(214,96,77)"
          ],
          [
           0.3,
           "rgb(244,165,130)"
          ],
          [
           0.4,
           "rgb(253,219,199)"
          ],
          [
           0.5,
           "rgb(247,247,247)"
          ],
          [
           0.6,
           "rgb(209,229,240)"
          ],
          [
           0.7,
           "rgb(146,197,222)"
          ],
          [
           0.8,
           "rgb(67,147,195)"
          ],
          [
           0.9,
           "rgb(33,102,172)"
          ],
          [
           1,
           "rgb(5,48,97)"
          ]
         ]
        },
        "template": {
         "data": {
          "bar": [
           {
            "error_x": {
             "color": "#2a3f5f"
            },
            "error_y": {
             "color": "#2a3f5f"
            },
            "marker": {
             "line": {
              "color": "#E5ECF6",
              "width": 0.5
             },
             "pattern": {
              "fillmode": "overlay",
              "size": 10,
              "solidity": 0.2
             }
            },
            "type": "bar"
           }
          ],
          "barpolar": [
           {
            "marker": {
             "line": {
              "color": "#E5ECF6",
              "width": 0.5
             },
             "pattern": {
              "fillmode": "overlay",
              "size": 10,
              "solidity": 0.2
             }
            },
            "type": "barpolar"
           }
          ],
          "carpet": [
           {
            "aaxis": {
             "endlinecolor": "#2a3f5f",
             "gridcolor": "white",
             "linecolor": "white",
             "minorgridcolor": "white",
             "startlinecolor": "#2a3f5f"
            },
            "baxis": {
             "endlinecolor": "#2a3f5f",
             "gridcolor": "white",
             "linecolor": "white",
             "minorgridcolor": "white",
             "startlinecolor": "#2a3f5f"
            },
            "type": "carpet"
           }
          ],
          "choropleth": [
           {
            "colorbar": {
             "outlinewidth": 0,
             "ticks": ""
            },
            "type": "choropleth"
           }
          ],
          "contour": [
           {
            "colorbar": {
             "outlinewidth": 0,
             "ticks": ""
            },
            "colorscale": [
             [
              0,
              "#0d0887"
             ],
             [
              0.1111111111111111,
              "#46039f"
             ],
             [
              0.2222222222222222,
              "#7201a8"
             ],
             [
              0.3333333333333333,
              "#9c179e"
             ],
             [
              0.4444444444444444,
              "#bd3786"
             ],
             [
              0.5555555555555556,
              "#d8576b"
             ],
             [
              0.6666666666666666,
              "#ed7953"
             ],
             [
              0.7777777777777778,
              "#fb9f3a"
             ],
             [
              0.8888888888888888,
              "#fdca26"
             ],
             [
              1,
              "#f0f921"
             ]
            ],
            "type": "contour"
           }
          ],
          "contourcarpet": [
           {
            "colorbar": {
             "outlinewidth": 0,
             "ticks": ""
            },
            "type": "contourcarpet"
           }
          ],
          "heatmap": [
           {
            "colorbar": {
             "outlinewidth": 0,
             "ticks": ""
            },
            "colorscale": [
             [
              0,
              "#0d0887"
             ],
             [
              0.1111111111111111,
              "#46039f"
             ],
             [
              0.2222222222222222,
              "#7201a8"
             ],
             [
              0.3333333333333333,
              "#9c179e"
             ],
             [
              0.4444444444444444,
              "#bd3786"
             ],
             [
              0.5555555555555556,
              "#d8576b"
             ],
             [
              0.6666666666666666,
              "#ed7953"
             ],
             [
              0.7777777777777778,
              "#fb9f3a"
             ],
             [
              0.8888888888888888,
              "#fdca26"
             ],
             [
              1,
              "#f0f921"
             ]
            ],
            "type": "heatmap"
           }
          ],
          "heatmapgl": [
           {
            "colorbar": {
             "outlinewidth": 0,
             "ticks": ""
            },
            "colorscale": [
             [
              0,
              "#0d0887"
             ],
             [
              0.1111111111111111,
              "#46039f"
             ],
             [
              0.2222222222222222,
              "#7201a8"
             ],
             [
              0.3333333333333333,
              "#9c179e"
             ],
             [
              0.4444444444444444,
              "#bd3786"
             ],
             [
              0.5555555555555556,
              "#d8576b"
             ],
             [
              0.6666666666666666,
              "#ed7953"
             ],
             [
              0.7777777777777778,
              "#fb9f3a"
             ],
             [
              0.8888888888888888,
              "#fdca26"
             ],
             [
              1,
              "#f0f921"
             ]
            ],
            "type": "heatmapgl"
           }
          ],
          "histogram": [
           {
            "marker": {
             "pattern": {
              "fillmode": "overlay",
              "size": 10,
              "solidity": 0.2
             }
            },
            "type": "histogram"
           }
          ],
          "histogram2d": [
           {
            "colorbar": {
             "outlinewidth": 0,
             "ticks": ""
            },
            "colorscale": [
             [
              0,
              "#0d0887"
             ],
             [
              0.1111111111111111,
              "#46039f"
             ],
             [
              0.2222222222222222,
              "#7201a8"
             ],
             [
              0.3333333333333333,
              "#9c179e"
             ],
             [
              0.4444444444444444,
              "#bd3786"
             ],
             [
              0.5555555555555556,
              "#d8576b"
             ],
             [
              0.6666666666666666,
              "#ed7953"
             ],
             [
              0.7777777777777778,
              "#fb9f3a"
             ],
             [
              0.8888888888888888,
              "#fdca26"
             ],
             [
              1,
              "#f0f921"
             ]
            ],
            "type": "histogram2d"
           }
          ],
          "histogram2dcontour": [
           {
            "colorbar": {
             "outlinewidth": 0,
             "ticks": ""
            },
            "colorscale": [
             [
              0,
              "#0d0887"
             ],
             [
              0.1111111111111111,
              "#46039f"
             ],
             [
              0.2222222222222222,
              "#7201a8"
             ],
             [
              0.3333333333333333,
              "#9c179e"
             ],
             [
              0.4444444444444444,
              "#bd3786"
             ],
             [
              0.5555555555555556,
              "#d8576b"
             ],
             [
              0.6666666666666666,
              "#ed7953"
             ],
             [
              0.7777777777777778,
              "#fb9f3a"
             ],
             [
              0.8888888888888888,
              "#fdca26"
             ],
             [
              1,
              "#f0f921"
             ]
            ],
            "type": "histogram2dcontour"
           }
          ],
          "mesh3d": [
           {
            "colorbar": {
             "outlinewidth": 0,
             "ticks": ""
            },
            "type": "mesh3d"
           }
          ],
          "parcoords": [
           {
            "line": {
             "colorbar": {
              "outlinewidth": 0,
              "ticks": ""
             }
            },
            "type": "parcoords"
           }
          ],
          "pie": [
           {
            "automargin": true,
            "type": "pie"
           }
          ],
          "scatter": [
           {
            "fillpattern": {
             "fillmode": "overlay",
             "size": 10,
             "solidity": 0.2
            },
            "type": "scatter"
           }
          ],
          "scatter3d": [
           {
            "line": {
             "colorbar": {
              "outlinewidth": 0,
              "ticks": ""
             }
            },
            "marker": {
             "colorbar": {
              "outlinewidth": 0,
              "ticks": ""
             }
            },
            "type": "scatter3d"
           }
          ],
          "scattercarpet": [
           {
            "marker": {
             "colorbar": {
              "outlinewidth": 0,
              "ticks": ""
             }
            },
            "type": "scattercarpet"
           }
          ],
          "scattergeo": [
           {
            "marker": {
             "colorbar": {
              "outlinewidth": 0,
              "ticks": ""
             }
            },
            "type": "scattergeo"
           }
          ],
          "scattergl": [
           {
            "marker": {
             "colorbar": {
              "outlinewidth": 0,
              "ticks": ""
             }
            },
            "type": "scattergl"
           }
          ],
          "scattermapbox": [
           {
            "marker": {
             "colorbar": {
              "outlinewidth": 0,
              "ticks": ""
             }
            },
            "type": "scattermapbox"
           }
          ],
          "scatterpolar": [
           {
            "marker": {
             "colorbar": {
              "outlinewidth": 0,
              "ticks": ""
             }
            },
            "type": "scatterpolar"
           }
          ],
          "scatterpolargl": [
           {
            "marker": {
             "colorbar": {
              "outlinewidth": 0,
              "ticks": ""
             }
            },
            "type": "scatterpolargl"
           }
          ],
          "scatterternary": [
           {
            "marker": {
             "colorbar": {
              "outlinewidth": 0,
              "ticks": ""
             }
            },
            "type": "scatterternary"
           }
          ],
          "surface": [
           {
            "colorbar": {
             "outlinewidth": 0,
             "ticks": ""
            },
            "colorscale": [
             [
              0,
              "#0d0887"
             ],
             [
              0.1111111111111111,
              "#46039f"
             ],
             [
              0.2222222222222222,
              "#7201a8"
             ],
             [
              0.3333333333333333,
              "#9c179e"
             ],
             [
              0.4444444444444444,
              "#bd3786"
             ],
             [
              0.5555555555555556,
              "#d8576b"
             ],
             [
              0.6666666666666666,
              "#ed7953"
             ],
             [
              0.7777777777777778,
              "#fb9f3a"
             ],
             [
              0.8888888888888888,
              "#fdca26"
             ],
             [
              1,
              "#f0f921"
             ]
            ],
            "type": "surface"
           }
          ],
          "table": [
           {
            "cells": {
             "fill": {
              "color": "#EBF0F8"
             },
             "line": {
              "color": "white"
             }
            },
            "header": {
             "fill": {
              "color": "#C8D4E3"
             },
             "line": {
              "color": "white"
             }
            },
            "type": "table"
           }
          ]
         },
         "layout": {
          "annotationdefaults": {
           "arrowcolor": "#2a3f5f",
           "arrowhead": 0,
           "arrowwidth": 1
          },
          "autotypenumbers": "strict",
          "coloraxis": {
           "colorbar": {
            "outlinewidth": 0,
            "ticks": ""
           }
          },
          "colorscale": {
           "diverging": [
            [
             0,
             "#8e0152"
            ],
            [
             0.1,
             "#c51b7d"
            ],
            [
             0.2,
             "#de77ae"
            ],
            [
             0.3,
             "#f1b6da"
            ],
            [
             0.4,
             "#fde0ef"
            ],
            [
             0.5,
             "#f7f7f7"
            ],
            [
             0.6,
             "#e6f5d0"
            ],
            [
             0.7,
             "#b8e186"
            ],
            [
             0.8,
             "#7fbc41"
            ],
            [
             0.9,
             "#4d9221"
            ],
            [
             1,
             "#276419"
            ]
           ],
           "sequential": [
            [
             0,
             "#0d0887"
            ],
            [
             0.1111111111111111,
             "#46039f"
            ],
            [
             0.2222222222222222,
             "#7201a8"
            ],
            [
             0.3333333333333333,
             "#9c179e"
            ],
            [
             0.4444444444444444,
             "#bd3786"
            ],
            [
             0.5555555555555556,
             "#d8576b"
            ],
            [
             0.6666666666666666,
             "#ed7953"
            ],
            [
             0.7777777777777778,
             "#fb9f3a"
            ],
            [
             0.8888888888888888,
             "#fdca26"
            ],
            [
             1,
             "#f0f921"
            ]
           ],
           "sequentialminus": [
            [
             0,
             "#0d0887"
            ],
            [
             0.1111111111111111,
             "#46039f"
            ],
            [
             0.2222222222222222,
             "#7201a8"
            ],
            [
             0.3333333333333333,
             "#9c179e"
            ],
            [
             0.4444444444444444,
             "#bd3786"
            ],
            [
             0.5555555555555556,
             "#d8576b"
            ],
            [
             0.6666666666666666,
             "#ed7953"
            ],
            [
             0.7777777777777778,
             "#fb9f3a"
            ],
            [
             0.8888888888888888,
             "#fdca26"
            ],
            [
             1,
             "#f0f921"
            ]
           ]
          },
          "colorway": [
           "#636efa",
           "#EF553B",
           "#00cc96",
           "#ab63fa",
           "#FFA15A",
           "#19d3f3",
           "#FF6692",
           "#B6E880",
           "#FF97FF",
           "#FECB52"
          ],
          "font": {
           "color": "#2a3f5f"
          },
          "geo": {
           "bgcolor": "white",
           "lakecolor": "white",
           "landcolor": "#E5ECF6",
           "showlakes": true,
           "showland": true,
           "subunitcolor": "white"
          },
          "hoverlabel": {
           "align": "left"
          },
          "hovermode": "closest",
          "mapbox": {
           "style": "light"
          },
          "paper_bgcolor": "white",
          "plot_bgcolor": "#E5ECF6",
          "polar": {
           "angularaxis": {
            "gridcolor": "white",
            "linecolor": "white",
            "ticks": ""
           },
           "bgcolor": "#E5ECF6",
           "radialaxis": {
            "gridcolor": "white",
            "linecolor": "white",
            "ticks": ""
           }
          },
          "scene": {
           "xaxis": {
            "backgroundcolor": "#E5ECF6",
            "gridcolor": "white",
            "gridwidth": 2,
            "linecolor": "white",
            "showbackground": true,
            "ticks": "",
            "zerolinecolor": "white"
           },
           "yaxis": {
            "backgroundcolor": "#E5ECF6",
            "gridcolor": "white",
            "gridwidth": 2,
            "linecolor": "white",
            "showbackground": true,
            "ticks": "",
            "zerolinecolor": "white"
           },
           "zaxis": {
            "backgroundcolor": "#E5ECF6",
            "gridcolor": "white",
            "gridwidth": 2,
            "linecolor": "white",
            "showbackground": true,
            "ticks": "",
            "zerolinecolor": "white"
           }
          },
          "shapedefaults": {
           "line": {
            "color": "#2a3f5f"
           }
          },
          "ternary": {
           "aaxis": {
            "gridcolor": "white",
            "linecolor": "white",
            "ticks": ""
           },
           "baxis": {
            "gridcolor": "white",
            "linecolor": "white",
            "ticks": ""
           },
           "bgcolor": "#E5ECF6",
           "caxis": {
            "gridcolor": "white",
            "linecolor": "white",
            "ticks": ""
           }
          },
          "title": {
           "x": 0.05
          },
          "xaxis": {
           "automargin": true,
           "gridcolor": "white",
           "linecolor": "white",
           "ticks": "",
           "title": {
            "standoff": 15
           },
           "zerolinecolor": "white",
           "zerolinewidth": 2
          },
          "yaxis": {
           "automargin": true,
           "gridcolor": "white",
           "linecolor": "white",
           "ticks": "",
           "title": {
            "standoff": 15
           },
           "zerolinecolor": "white",
           "zerolinewidth": 2
          }
         }
        },
        "title": {
         "text": "Logit Difference From Each Head"
        },
        "width": 600,
        "xaxis": {
         "anchor": "y",
         "constrain": "domain",
         "domain": [
          0,
          1
         ],
         "scaleanchor": "y",
         "title": {
          "text": "Head"
         }
        },
        "yaxis": {
         "anchor": "x",
         "autorange": "reversed",
         "constrain": "domain",
         "domain": [
          0,
          1
         ],
         "title": {
          "text": "Layer"
         }
        }
       }
      },
      "text/html": [
       "<div>                            <div id=\"7013efe8-f2bc-4c46-b41c-917006ebbca8\" class=\"plotly-graph-div\" style=\"height:525px; width:600px;\"></div>            <script type=\"text/javascript\">                require([\"plotly\"], function(Plotly) {                    window.PLOTLYENV=window.PLOTLYENV || {};                                    if (document.getElementById(\"7013efe8-f2bc-4c46-b41c-917006ebbca8\")) {                    Plotly.newPlot(                        \"7013efe8-f2bc-4c46-b41c-917006ebbca8\",                        [{\"coloraxis\":\"coloraxis\",\"name\":\"0\",\"z\":[[-0.002056353958323598,-0.0005102603463456035,0.00046858389396220446,0.00012512653484009206,-0.0006028664065524936,-0.0002429524902254343,-0.0023188318591564894,-0.0027583702467381954,0.00056464783847332,0.0009698491194285452,-0.00025048782117664814,4.7658104449510574e-06],[-0.0010071827564388514,0.00039472372736781836,-0.001548816217109561,0.001403544913046062,-0.001265276805497706,-0.00113594566937536,-0.0028158915229141712,-0.002964372280985117,0.0029189896304160357,0.0025742859579622746,0.00036233942955732346,0.0017549459589645267],[0.0005569682689383626,-0.001126498682424426,-0.0017354474402964115,-0.001451563322916627,-0.0002873593184631318,0.0017211994854733348,0.002665895037353039,0.003114748280495405,0.000566761358641088,-0.0036665780935436487,-0.0018848456675186753,6.989517714828253e-06],[-0.0007264685700647533,0.0001135953061748296,0.0014304142678156495,0.0007488633273169398,0.0020185329485684633,0.0007435583975166082,-0.00046168698463588953,-0.003905938472598791,0.0011406854027882218,-4.021497443318367e-05,-0.001329326070845127,-0.0017637989949434996],[-0.002828286960721016,0.0003364860313013196,-0.001424861722625792,-0.0037773330695927143,0.0015998627059161663,0.0002987947955261916,-0.0008045189897529781,0.0020390457939356565,-0.0015594778815284371,-0.0006437076954171062,0.0011168395867571235,-0.00035009148996323347],[0.0011338347103446722,0.0011260162573307753,-0.00251640472561121,-0.0014790077693760395,0.00038799585308879614,-6.401703285519034e-05,-0.0005096645327284932,-0.0008842313545756042,0.0006399551639333367,-0.00100986089091748,-0.006759121082723141,0.003366759978234768],[-0.015149085782468319,-0.0021353706251829863,0.0025931380223482847,-0.0004268147749826312,-0.0055589755065739155,0.0026660296134650707,0.00641095032915473,-0.003826673375442624,-0.00038420013152062893,-0.0016430036630481482,-0.0013344407780095935,-9.160558693110943e-05],[-9.47534863371402e-05,-0.005788811482489109,-0.0006383722648024559,0.1349385678768158,-0.0017689684173092246,-0.01891663670539856,0.0038732304237782955,-0.0021450622007250786,-0.010328158736228943,0.1832510530948639,-0.0007748686475679278,-0.0010451064445078373],[-0.0038340380415320396,-0.0008046635193750262,-0.012672873213887215,0.00804841984063387,0.003604542464017868,-0.00939878262579441,-0.08272287249565125,0.0035552089102566242,-0.018404826521873474,0.0017585126915946603,0.2896263599395752,0.022856438532471657],[0.08595554530620575,-0.0006933076656423509,0.068173348903656,0.013112794607877731,-0.021100051701068878,0.05112282186746597,1.384558916091919,0.0458386056125164,-0.0382968932390213,2.985555648803711,0.001966322772204876,-0.008029818534851074],[0.5608844757080078,0.17082107067108154,-0.033617086708545685,0.05821862816810608,-0.0024527311325073242,0.0018771515460684896,0.2882647216320038,-1.8987268209457397,-0.001528675202280283,-0.03512559086084366,0.4802066683769226,-0.0009108292288146913],[0.016075553372502327,-0.03985798358917236,-0.3879070281982422,0.011121300980448723,-0.005478335078805685,-0.0025133080780506134,-0.08056199550628662,0.00751868262887001,0.04301292449235916,-0.04008365795016289,-0.9702939987182617,0.011862875893712044]],\"type\":\"heatmap\",\"xaxis\":\"x\",\"yaxis\":\"y\",\"hovertemplate\":\"Head: %{x}<br>Layer: %{y}<br>color: %{z}<extra></extra>\"}],                        {\"template\":{\"data\":{\"histogram2dcontour\":[{\"type\":\"histogram2dcontour\",\"colorbar\":{\"outlinewidth\":0,\"ticks\":\"\"},\"colorscale\":[[0.0,\"#0d0887\"],[0.1111111111111111,\"#46039f\"],[0.2222222222222222,\"#7201a8\"],[0.3333333333333333,\"#9c179e\"],[0.4444444444444444,\"#bd3786\"],[0.5555555555555556,\"#d8576b\"],[0.6666666666666666,\"#ed7953\"],[0.7777777777777778,\"#fb9f3a\"],[0.8888888888888888,\"#fdca26\"],[1.0,\"#f0f921\"]]}],\"choropleth\":[{\"type\":\"choropleth\",\"colorbar\":{\"outlinewidth\":0,\"ticks\":\"\"}}],\"histogram2d\":[{\"type\":\"histogram2d\",\"colorbar\":{\"outlinewidth\":0,\"ticks\":\"\"},\"colorscale\":[[0.0,\"#0d0887\"],[0.1111111111111111,\"#46039f\"],[0.2222222222222222,\"#7201a8\"],[0.3333333333333333,\"#9c179e\"],[0.4444444444444444,\"#bd3786\"],[0.5555555555555556,\"#d8576b\"],[0.6666666666666666,\"#ed7953\"],[0.7777777777777778,\"#fb9f3a\"],[0.8888888888888888,\"#fdca26\"],[1.0,\"#f0f921\"]]}],\"heatmap\":[{\"type\":\"heatmap\",\"colorbar\":{\"outlinewidth\":0,\"ticks\":\"\"},\"colorscale\":[[0.0,\"#0d0887\"],[0.1111111111111111,\"#46039f\"],[0.2222222222222222,\"#7201a8\"],[0.3333333333333333,\"#9c179e\"],[0.4444444444444444,\"#bd3786\"],[0.5555555555555556,\"#d8576b\"],[0.6666666666666666,\"#ed7953\"],[0.7777777777777778,\"#fb9f3a\"],[0.8888888888888888,\"#fdca26\"],[1.0,\"#f0f921\"]]}],\"heatmapgl\":[{\"type\":\"heatmapgl\",\"colorbar\":{\"outlinewidth\":0,\"ticks\":\"\"},\"colorscale\":[[0.0,\"#0d0887\"],[0.1111111111111111,\"#46039f\"],[0.2222222222222222,\"#7201a8\"],[0.3333333333333333,\"#9c179e\"],[0.4444444444444444,\"#bd3786\"],[0.5555555555555556,\"#d8576b\"],[0.6666666666666666,\"#ed7953\"],[0.7777777777777778,\"#fb9f3a\"],[0.8888888888888888,\"#fdca26\"],[1.0,\"#f0f921\"]]}],\"contourcarpet\":[{\"type\":\"contourcarpet\",\"colorbar\":{\"outlinewidth\":0,\"ticks\":\"\"}}],\"contour\":[{\"type\":\"contour\",\"colorbar\":{\"outlinewidth\":0,\"ticks\":\"\"},\"colorscale\":[[0.0,\"#0d0887\"],[0.1111111111111111,\"#46039f\"],[0.2222222222222222,\"#7201a8\"],[0.3333333333333333,\"#9c179e\"],[0.4444444444444444,\"#bd3786\"],[0.5555555555555556,\"#d8576b\"],[0.6666666666666666,\"#ed7953\"],[0.7777777777777778,\"#fb9f3a\"],[0.8888888888888888,\"#fdca26\"],[1.0,\"#f0f921\"]]}],\"surface\":[{\"type\":\"surface\",\"colorbar\":{\"outlinewidth\":0,\"ticks\":\"\"},\"colorscale\":[[0.0,\"#0d0887\"],[0.1111111111111111,\"#46039f\"],[0.2222222222222222,\"#7201a8\"],[0.3333333333333333,\"#9c179e\"],[0.4444444444444444,\"#bd3786\"],[0.5555555555555556,\"#d8576b\"],[0.6666666666666666,\"#ed7953\"],[0.7777777777777778,\"#fb9f3a\"],[0.8888888888888888,\"#fdca26\"],[1.0,\"#f0f921\"]]}],\"mesh3d\":[{\"type\":\"mesh3d\",\"colorbar\":{\"outlinewidth\":0,\"ticks\":\"\"}}],\"scatter\":[{\"fillpattern\":{\"fillmode\":\"overlay\",\"size\":10,\"solidity\":0.2},\"type\":\"scatter\"}],\"parcoords\":[{\"type\":\"parcoords\",\"line\":{\"colorbar\":{\"outlinewidth\":0,\"ticks\":\"\"}}}],\"scatterpolargl\":[{\"type\":\"scatterpolargl\",\"marker\":{\"colorbar\":{\"outlinewidth\":0,\"ticks\":\"\"}}}],\"bar\":[{\"error_x\":{\"color\":\"#2a3f5f\"},\"error_y\":{\"color\":\"#2a3f5f\"},\"marker\":{\"line\":{\"color\":\"#E5ECF6\",\"width\":0.5},\"pattern\":{\"fillmode\":\"overlay\",\"size\":10,\"solidity\":0.2}},\"type\":\"bar\"}],\"scattergeo\":[{\"type\":\"scattergeo\",\"marker\":{\"colorbar\":{\"outlinewidth\":0,\"ticks\":\"\"}}}],\"scatterpolar\":[{\"type\":\"scatterpolar\",\"marker\":{\"colorbar\":{\"outlinewidth\":0,\"ticks\":\"\"}}}],\"histogram\":[{\"marker\":{\"pattern\":{\"fillmode\":\"overlay\",\"size\":10,\"solidity\":0.2}},\"type\":\"histogram\"}],\"scattergl\":[{\"type\":\"scattergl\",\"marker\":{\"colorbar\":{\"outlinewidth\":0,\"ticks\":\"\"}}}],\"scatter3d\":[{\"type\":\"scatter3d\",\"line\":{\"colorbar\":{\"outlinewidth\":0,\"ticks\":\"\"}},\"marker\":{\"colorbar\":{\"outlinewidth\":0,\"ticks\":\"\"}}}],\"scattermapbox\":[{\"type\":\"scattermapbox\",\"marker\":{\"colorbar\":{\"outlinewidth\":0,\"ticks\":\"\"}}}],\"scatterternary\":[{\"type\":\"scatterternary\",\"marker\":{\"colorbar\":{\"outlinewidth\":0,\"ticks\":\"\"}}}],\"scattercarpet\":[{\"type\":\"scattercarpet\",\"marker\":{\"colorbar\":{\"outlinewidth\":0,\"ticks\":\"\"}}}],\"carpet\":[{\"aaxis\":{\"endlinecolor\":\"#2a3f5f\",\"gridcolor\":\"white\",\"linecolor\":\"white\",\"minorgridcolor\":\"white\",\"startlinecolor\":\"#2a3f5f\"},\"baxis\":{\"endlinecolor\":\"#2a3f5f\",\"gridcolor\":\"white\",\"linecolor\":\"white\",\"minorgridcolor\":\"white\",\"startlinecolor\":\"#2a3f5f\"},\"type\":\"carpet\"}],\"table\":[{\"cells\":{\"fill\":{\"color\":\"#EBF0F8\"},\"line\":{\"color\":\"white\"}},\"header\":{\"fill\":{\"color\":\"#C8D4E3\"},\"line\":{\"color\":\"white\"}},\"type\":\"table\"}],\"barpolar\":[{\"marker\":{\"line\":{\"color\":\"#E5ECF6\",\"width\":0.5},\"pattern\":{\"fillmode\":\"overlay\",\"size\":10,\"solidity\":0.2}},\"type\":\"barpolar\"}],\"pie\":[{\"automargin\":true,\"type\":\"pie\"}]},\"layout\":{\"autotypenumbers\":\"strict\",\"colorway\":[\"#636efa\",\"#EF553B\",\"#00cc96\",\"#ab63fa\",\"#FFA15A\",\"#19d3f3\",\"#FF6692\",\"#B6E880\",\"#FF97FF\",\"#FECB52\"],\"font\":{\"color\":\"#2a3f5f\"},\"hovermode\":\"closest\",\"hoverlabel\":{\"align\":\"left\"},\"paper_bgcolor\":\"white\",\"plot_bgcolor\":\"#E5ECF6\",\"polar\":{\"bgcolor\":\"#E5ECF6\",\"angularaxis\":{\"gridcolor\":\"white\",\"linecolor\":\"white\",\"ticks\":\"\"},\"radialaxis\":{\"gridcolor\":\"white\",\"linecolor\":\"white\",\"ticks\":\"\"}},\"ternary\":{\"bgcolor\":\"#E5ECF6\",\"aaxis\":{\"gridcolor\":\"white\",\"linecolor\":\"white\",\"ticks\":\"\"},\"baxis\":{\"gridcolor\":\"white\",\"linecolor\":\"white\",\"ticks\":\"\"},\"caxis\":{\"gridcolor\":\"white\",\"linecolor\":\"white\",\"ticks\":\"\"}},\"coloraxis\":{\"colorbar\":{\"outlinewidth\":0,\"ticks\":\"\"}},\"colorscale\":{\"sequential\":[[0.0,\"#0d0887\"],[0.1111111111111111,\"#46039f\"],[0.2222222222222222,\"#7201a8\"],[0.3333333333333333,\"#9c179e\"],[0.4444444444444444,\"#bd3786\"],[0.5555555555555556,\"#d8576b\"],[0.6666666666666666,\"#ed7953\"],[0.7777777777777778,\"#fb9f3a\"],[0.8888888888888888,\"#fdca26\"],[1.0,\"#f0f921\"]],\"sequentialminus\":[[0.0,\"#0d0887\"],[0.1111111111111111,\"#46039f\"],[0.2222222222222222,\"#7201a8\"],[0.3333333333333333,\"#9c179e\"],[0.4444444444444444,\"#bd3786\"],[0.5555555555555556,\"#d8576b\"],[0.6666666666666666,\"#ed7953\"],[0.7777777777777778,\"#fb9f3a\"],[0.8888888888888888,\"#fdca26\"],[1.0,\"#f0f921\"]],\"diverging\":[[0,\"#8e0152\"],[0.1,\"#c51b7d\"],[0.2,\"#de77ae\"],[0.3,\"#f1b6da\"],[0.4,\"#fde0ef\"],[0.5,\"#f7f7f7\"],[0.6,\"#e6f5d0\"],[0.7,\"#b8e186\"],[0.8,\"#7fbc41\"],[0.9,\"#4d9221\"],[1,\"#276419\"]]},\"xaxis\":{\"gridcolor\":\"white\",\"linecolor\":\"white\",\"ticks\":\"\",\"title\":{\"standoff\":15},\"zerolinecolor\":\"white\",\"automargin\":true,\"zerolinewidth\":2},\"yaxis\":{\"gridcolor\":\"white\",\"linecolor\":\"white\",\"ticks\":\"\",\"title\":{\"standoff\":15},\"zerolinecolor\":\"white\",\"automargin\":true,\"zerolinewidth\":2},\"scene\":{\"xaxis\":{\"backgroundcolor\":\"#E5ECF6\",\"gridcolor\":\"white\",\"linecolor\":\"white\",\"showbackground\":true,\"ticks\":\"\",\"zerolinecolor\":\"white\",\"gridwidth\":2},\"yaxis\":{\"backgroundcolor\":\"#E5ECF6\",\"gridcolor\":\"white\",\"linecolor\":\"white\",\"showbackground\":true,\"ticks\":\"\",\"zerolinecolor\":\"white\",\"gridwidth\":2},\"zaxis\":{\"backgroundcolor\":\"#E5ECF6\",\"gridcolor\":\"white\",\"linecolor\":\"white\",\"showbackground\":true,\"ticks\":\"\",\"zerolinecolor\":\"white\",\"gridwidth\":2}},\"shapedefaults\":{\"line\":{\"color\":\"#2a3f5f\"}},\"annotationdefaults\":{\"arrowcolor\":\"#2a3f5f\",\"arrowhead\":0,\"arrowwidth\":1},\"geo\":{\"bgcolor\":\"white\",\"landcolor\":\"#E5ECF6\",\"subunitcolor\":\"white\",\"showland\":true,\"showlakes\":true,\"lakecolor\":\"white\"},\"title\":{\"x\":0.05},\"mapbox\":{\"style\":\"light\"}}},\"xaxis\":{\"anchor\":\"y\",\"domain\":[0.0,1.0],\"scaleanchor\":\"y\",\"constrain\":\"domain\",\"title\":{\"text\":\"Head\"}},\"yaxis\":{\"anchor\":\"x\",\"domain\":[0.0,1.0],\"autorange\":\"reversed\",\"constrain\":\"domain\",\"title\":{\"text\":\"Layer\"}},\"coloraxis\":{\"colorscale\":[[0.0,\"rgb(103,0,31)\"],[0.1,\"rgb(178,24,43)\"],[0.2,\"rgb(214,96,77)\"],[0.3,\"rgb(244,165,130)\"],[0.4,\"rgb(253,219,199)\"],[0.5,\"rgb(247,247,247)\"],[0.6,\"rgb(209,229,240)\"],[0.7,\"rgb(146,197,222)\"],[0.8,\"rgb(67,147,195)\"],[0.9,\"rgb(33,102,172)\"],[1.0,\"rgb(5,48,97)\"]],\"cmid\":0.0},\"title\":{\"text\":\"Logit Difference From Each Head\"},\"width\":600},                        {\"responsive\": true}                    ).then(function(){\n",
       "                            \n",
       "var gd = document.getElementById('7013efe8-f2bc-4c46-b41c-917006ebbca8');\n",
       "var x = new MutationObserver(function (mutations, observer) {{\n",
       "        var display = window.getComputedStyle(gd).display;\n",
       "        if (!display || display === 'none') {{\n",
       "            console.log([gd, 'removed!']);\n",
       "            Plotly.purge(gd);\n",
       "            observer.disconnect();\n",
       "        }}\n",
       "}});\n",
       "\n",
       "// Listen for the removal of the full notebook cells\n",
       "var notebookContainer = gd.closest('#notebook-container');\n",
       "if (notebookContainer) {{\n",
       "    x.observe(notebookContainer, {childList: true});\n",
       "}}\n",
       "\n",
       "// Listen for the clearing of the current output cell\n",
       "var outputEl = gd.closest('.output');\n",
       "if (outputEl) {{\n",
       "    x.observe(outputEl, {childList: true});\n",
       "}}\n",
       "\n",
       "                        })                };                });            </script>        </div>"
      ]
     },
     "metadata": {},
     "output_type": "display_data"
    }
   ],
   "source": [
    "per_head_residual, labels = cache.stack_head_results(layer=-1, pos_slice=-1, return_labels=True)\n",
    "print(per_head_residual.shape)\n",
    "print(f\"{len(labels)}, {labels}\")\n",
    "# shape (head*layer, batch_size, embedding_dimsnion)\n",
    "per_head_residual = einops.rearrange(\n",
    "    per_head_residual, \n",
    "    \"(layer head) ... -> layer head ...\", \n",
    "    layer=model.cfg.n_layers\n",
    ")\n",
    "per_head_logit_diffs = residual_stack_to_logit_diff(per_head_residual, cache)\n",
    "print(per_head_logit_diffs.shape)\n",
    "\n",
    "imshow(\n",
    "    per_head_logit_diffs, \n",
    "    labels={\"x\":\"Head\", \"y\":\"Layer\"}, \n",
    "    title=\"Logit Difference From Each Head\",\n",
    "    width=600\n",
    ")"
   ]
  },
  {
   "attachments": {},
   "cell_type": "markdown",
   "metadata": {},
   "source": [
    "**Attention patterns**\n",
    "\n",
    "note: A common mistake to make when looking at attention patterns is thinking that they must convey information about the token looked at (maybe accounting for the context of the token). But actually, all we can confidently say is that it moves information from the residual stream position corresponding to that input token. Especially later on in the model, there may be components in the residual stream that are nothing to do with the input token! Eg the period at the end of a sentence may contain summary information for that sentence, and the head may solely move that, rather than caring about whether it ends in \".\", \"!\" or \"?\"\n",
    "\n",
    "Can use either attention_patterns or attention_heads"
   ]
  },
  {
   "cell_type": "code",
   "execution_count": 117,
   "metadata": {},
   "outputs": [
    {
     "data": {
      "text/html": [
       "<h2>Top 3 Positive Logit Attribution Heads</h2>"
      ],
      "text/plain": [
       "<IPython.core.display.HTML object>"
      ]
     },
     "metadata": {},
     "output_type": "display_data"
    },
    {
     "data": {
      "text/html": [
       "<div id=\"circuits-vis-7ded1974-5ed3\" style=\"margin: 15px 0;\"/>\n",
       "    <script crossorigin type=\"module\">\n",
       "    import { render, AttentionHeads } from \"https://unpkg.com/circuitsvis@1.39.1/dist/cdn/esm.js\";\n",
       "    render(\n",
       "      \"circuits-vis-7ded1974-5ed3\",\n",
       "      AttentionHeads,\n",
       "      {\"attention\": [[[1.0, 0.0, 0.0, 0.0, 0.0, 0.0, 0.0, 0.0, 0.0, 0.0, 0.0, 0.0, 0.0, 0.0, 0.0], [0.9972944259643555, 0.0027056015096604824, 0.0, 0.0, 0.0, 0.0, 0.0, 0.0, 0.0, 0.0, 0.0, 0.0, 0.0, 0.0, 0.0], [0.9962597489356995, 0.0009261464583687484, 0.002814103150740266, 0.0, 0.0, 0.0, 0.0, 0.0, 0.0, 0.0, 0.0, 0.0, 0.0, 0.0, 0.0], [0.9528975486755371, 0.0022212802432477474, 0.04285643249750137, 0.0020247080828994513, 0.0, 0.0, 0.0, 0.0, 0.0, 0.0, 0.0, 0.0, 0.0, 0.0, 0.0], [0.9851981401443481, 0.0015896570403128862, 0.0063684964552521706, 0.0015315101481974125, 0.005312162451446056, 0.0, 0.0, 0.0, 0.0, 0.0, 0.0, 0.0, 0.0, 0.0, 0.0], [0.9954930543899536, 0.00106122309807688, 0.0010805355850607157, 0.00015536842693109065, 0.0007782168686389923, 0.0014315748121589422, 0.0, 0.0, 0.0, 0.0, 0.0, 0.0, 0.0, 0.0, 0.0], [0.9736467599868774, 0.0022831950336694717, 0.00815540086477995, 0.0002492450294084847, 0.00925278477370739, 0.0015051808441057801, 0.004907450173050165, 0.0, 0.0, 0.0, 0.0, 0.0, 0.0, 0.0, 0.0], [0.9938425421714783, 0.0017841282533481717, 0.0012921843444928527, 0.00020420314103830606, 0.0004908120026811957, 0.00019043992506340146, 0.00037623103708028793, 0.001819357741624117, 0.0, 0.0, 0.0, 0.0, 0.0, 0.0, 0.0], [0.991206169128418, 0.0017233764519914985, 0.001026608981192112, 0.00011960608389927074, 0.0007412520353682339, 0.00015900246216915548, 0.0002987396437674761, 0.00018269391148351133, 0.00454254075884819, 0.0, 0.0, 0.0, 0.0, 0.0, 0.0], [0.5234084725379944, 0.00835421122610569, 0.24390020966529846, 0.002350341062992811, 0.21125197410583496, 0.0007694987580180168, 0.00063475058414042, 0.0015819997061043978, 0.004504119046032429, 0.0032444328535348177, 0.0, 0.0, 0.0, 0.0, 0.0], [0.9352378845214844, 0.002883276203647256, 0.00577094592154026, 0.023920461535453796, 0.018724532797932625, 0.006232360377907753, 0.0004495889297686517, 0.00044701789738610387, 0.0018862589495256543, 0.00124475231859833, 0.0032028667628765106, 0.0, 0.0, 0.0, 0.0], [0.19591224193572998, 0.01192864403128624, 0.35222694277763367, 0.009018605574965477, 0.3910830318927765, 0.0006063758628442883, 0.0003816622484009713, 0.001283445511944592, 0.002717123366892338, 0.0015595322474837303, 0.03172751143574715, 0.0015548992669209838, 0.0, 0.0, 0.0], [0.8878730535507202, 0.004403730854392052, 0.018914243206381798, 0.00600890489295125, 0.013130282051861286, 0.0017336898017674685, 0.0006078116130083799, 0.0005778078339062631, 0.05183924734592438, 0.0020752637647092342, 0.002955361735075712, 0.0017708800733089447, 0.008109763264656067, 0.0, 0.0], [0.9741838574409485, 0.0015543177723884583, 0.0013313491363078356, 0.00039072800427675247, 0.0008167168125510216, 0.00024481912259943783, 0.0005729284603148699, 0.00012022214650642127, 0.002232503844425082, 0.001238593365997076, 0.0003908889484591782, 0.0008207542123273015, 0.001290453365072608, 0.014811885543167591, 0.0], [0.09833793342113495, 0.00914818700402975, 0.38157981634140015, 0.0017669820226728916, 0.4747745990753174, 0.000137058348627761, 8.884153794497252e-05, 0.0005996077670715749, 0.00036258503678254783, 0.0010624899296090007, 0.027500055730342865, 0.00014108186587691307, 0.0028977973852306604, 0.0004911903524771333, 0.0011117851827293634]], [[1.0, 0.0, 0.0, 0.0, 0.0, 0.0, 0.0, 0.0, 0.0, 0.0, 0.0, 0.0, 0.0, 0.0, 0.0], [0.9982618093490601, 0.0017381948418915272, 0.0, 0.0, 0.0, 0.0, 0.0, 0.0, 0.0, 0.0, 0.0, 0.0, 0.0, 0.0, 0.0], [0.994516134262085, 0.0007294052047654986, 0.0047544995322823524, 0.0, 0.0, 0.0, 0.0, 0.0, 0.0, 0.0, 0.0, 0.0, 0.0, 0.0, 0.0], [0.9052227735519409, 0.000989725929684937, 0.09213411808013916, 0.0016534216701984406, 0.0, 0.0, 0.0, 0.0, 0.0, 0.0, 0.0, 0.0, 0.0, 0.0, 0.0], [0.979356050491333, 0.001163553330115974, 0.006032324396073818, 0.005823632702231407, 0.007624433375895023, 0.0, 0.0, 0.0, 0.0, 0.0, 0.0, 0.0, 0.0, 0.0, 0.0], [0.9945247769355774, 0.0006743101985193789, 0.0014486785512417555, 0.0003898629220202565, 0.0010134745389223099, 0.0019488977268338203, 0.0, 0.0, 0.0, 0.0, 0.0, 0.0, 0.0, 0.0, 0.0], [0.9773311018943787, 0.001643872819840908, 0.010375363752245903, 0.000435266993008554, 0.006762314587831497, 0.0009671052685007453, 0.0024849495384842157, 0.0, 0.0, 0.0, 0.0, 0.0, 0.0, 0.0, 0.0], [0.9941064715385437, 0.0010261356364935637, 0.0010848968522623181, 0.000519891269505024, 0.0006983105558902025, 0.00045026768930256367, 0.0011268513044342399, 0.0009871306829154491, 0.0, 0.0, 0.0, 0.0, 0.0, 0.0, 0.0], [0.9748097658157349, 0.00646631047129631, 0.0014508941676467657, 0.00026017517666332424, 0.0012045513140037656, 0.0003457700368016958, 0.001954942476004362, 0.0007787526701577008, 0.01272883266210556, 0.0, 0.0, 0.0, 0.0, 0.0, 0.0], [0.5774410963058472, 0.006452448666095734, 0.1444554626941681, 0.0024809513706713915, 0.25918978452682495, 0.0007871173438616097, 0.00048069728654809296, 0.00042621951433829963, 0.006937060505151749, 0.0013491288991644979, 0.0, 0.0, 0.0, 0.0, 0.0], [0.9336655139923096, 0.0018416724633425474, 0.0031788190826773643, 0.022607136517763138, 0.015272843651473522, 0.007421317044645548, 0.0023878745269030333, 0.0008245239150710404, 0.006557511165738106, 0.0016297809779644012, 0.004613050259649754, 0.0, 0.0, 0.0, 0.0], [0.2962777316570282, 0.0021591023541986942, 0.15840357542037964, 0.005378071218729019, 0.4851713180541992, 0.00088738021440804, 0.0004516483750194311, 0.0008571845828555524, 0.0037932489067316055, 0.00036087926127947867, 0.04474637284874916, 0.0015134878922253847, 0.0, 0.0, 0.0], [0.8873399496078491, 0.0023108432069420815, 0.005899010691791773, 0.011046158149838448, 0.015067840926349163, 0.0029942812398076057, 0.0010866980301216245, 0.00022119398636277765, 0.06406745314598083, 0.001546042738482356, 0.0024537367280572653, 0.0017223554896190763, 0.004244388081133366, 0.0, 0.0], [0.9753502607345581, 0.0013570148730650544, 0.0020862501114606857, 0.00037033669650554657, 0.0017643504543229938, 0.00035506553831510246, 0.0011720913462340832, 0.0002516106760594994, 0.003199887927621603, 0.0012764128623530269, 0.0014510975452139974, 0.00048122243606485426, 0.0019222850678488612, 0.008962124586105347, 0.0], [0.1674286425113678, 0.0011178444838151336, 0.29888132214546204, 0.0009689474827609956, 0.496454119682312, 0.00015990706742741168, 4.597403312800452e-05, 0.00010880183981498703, 0.0009415770182386041, 9.383643919136375e-05, 0.03157643601298332, 0.00010067407856695354, 0.0008204507175832987, 0.000975306611508131, 0.0003260946541558951]], [[1.0, 0.0, 0.0, 0.0, 0.0, 0.0, 0.0, 0.0, 0.0, 0.0, 0.0, 0.0, 0.0, 0.0, 0.0], [0.9807037115097046, 0.019296377897262573, 0.0, 0.0, 0.0, 0.0, 0.0, 0.0, 0.0, 0.0, 0.0, 0.0, 0.0, 0.0, 0.0], [0.9365872144699097, 0.01471523754298687, 0.048697590827941895, 0.0, 0.0, 0.0, 0.0, 0.0, 0.0, 0.0, 0.0, 0.0, 0.0, 0.0, 0.0], [0.8537825345993042, 0.007642047014087439, 0.11181983351707458, 0.026755576953291893, 0.0, 0.0, 0.0, 0.0, 0.0, 0.0, 0.0, 0.0, 0.0, 0.0, 0.0], [0.8629194498062134, 0.018312519416213036, 0.04916565120220184, 0.01543401274830103, 0.05416831374168396, 0.0, 0.0, 0.0, 0.0, 0.0, 0.0, 0.0, 0.0, 0.0, 0.0], [0.9707479476928711, 0.004159907810389996, 0.0016869723331183195, 0.008711561560630798, 0.005909159313887358, 0.008784501813352108, 0.0, 0.0, 0.0, 0.0, 0.0, 0.0, 0.0, 0.0, 0.0], [0.7560607194900513, 0.01851859875023365, 0.05475220829248428, 0.014936268329620361, 0.10818430781364441, 0.015644671395421028, 0.03190333768725395, 0.0, 0.0, 0.0, 0.0, 0.0, 0.0, 0.0, 0.0], [0.8467624187469482, 0.013942433521151543, 0.027310475707054138, 0.015851488336920738, 0.043576814234256744, 0.0069749243557453156, 0.0262666717171669, 0.019314683973789215, 0.0, 0.0, 0.0, 0.0, 0.0, 0.0, 0.0], [0.9167335033416748, 0.0046411845833063126, 0.016127128154039383, 0.0015967035433277488, 0.022551771253347397, 0.001106509706005454, 0.00145459093619138, 0.000934677547775209, 0.03485393896698952, 0.0, 0.0, 0.0, 0.0, 0.0, 0.0], [0.4010830521583557, 0.005765764974057674, 0.14772556722164154, 0.006764659192413092, 0.3876460790634155, 0.003118205349892378, 0.002468399703502655, 0.002493455307558179, 0.03516901656985283, 0.007765758782625198, 0.0, 0.0, 0.0, 0.0, 0.0], [0.8043469190597534, 0.012787037529051304, 0.016313621774315834, 0.014958692714571953, 0.04045336693525314, 0.014976823702454567, 0.008033610880374908, 0.0040494040586054325, 0.0349215529859066, 0.02212947979569435, 0.027029413729906082, 0.0, 0.0, 0.0, 0.0], [0.3483844995498657, 0.010672371834516525, 0.20956076681613922, 0.011965361423790455, 0.3235304355621338, 0.0026043865364044905, 0.004141511395573616, 0.004007796756923199, 0.0158159788697958, 0.007456152234226465, 0.05758048593997955, 0.004280261695384979, 0.0, 0.0, 0.0], [0.6796309947967529, 0.006312962155789137, 0.03498516231775284, 0.026399847120046616, 0.04800131171941757, 0.007242920808494091, 0.012139137834310532, 0.004096179269254208, 0.14104045927524567, 0.011302552185952663, 0.011080393567681313, 0.010714037343859673, 0.00705401785671711, 0.0, 0.0], [0.9063898921012878, 0.004057807847857475, 0.00633915513753891, 0.0018838627729564905, 0.006802775897085667, 0.0009667614358477294, 0.0017921602120622993, 0.0009802634594962, 0.025496456772089005, 0.003900577314198017, 0.005257423501461744, 0.0035592180211097, 0.001681577879935503, 0.03089204803109169, 0.0], [0.43103480339050293, 0.0075414590537548065, 0.1708478331565857, 0.006576072424650192, 0.30283117294311523, 0.0015552958939224482, 0.001924722921103239, 0.0014887659344822168, 0.014000523835420609, 0.0041364445351064205, 0.031716786324977875, 0.001120955217629671, 0.0024683603551238775, 0.015908831730484962, 0.0068479361943900585]]], \"attentionHeadNames\": [\"9.9\", \"9.6\", \"10.0\"], \"tokens\": [\"<|endoftext|>\", \"When\", \" John\", \" and\", \" Mary\", \" went\", \" to\", \" the\", \" shops\", \",\", \" John\", \" gave\", \" the\", \" bag\", \" to\"]}\n",
       "    )\n",
       "    </script>"
      ],
      "text/plain": [
       "<circuitsvis.utils.render.RenderedHTML at 0x7fe777954940>"
      ]
     },
     "metadata": {},
     "output_type": "display_data"
    },
    {
     "data": {
      "text/html": [
       "<h2>Top 3 Negative Logit Attribution Heads</h2>"
      ],
      "text/plain": [
       "<IPython.core.display.HTML object>"
      ]
     },
     "metadata": {},
     "output_type": "display_data"
    },
    {
     "data": {
      "text/html": [
       "<div id=\"circuits-vis-e2736451-0473\" style=\"margin: 15px 0;\"/>\n",
       "    <script crossorigin type=\"module\">\n",
       "    import { render, AttentionHeads } from \"https://unpkg.com/circuitsvis@1.39.1/dist/cdn/esm.js\";\n",
       "    render(\n",
       "      \"circuits-vis-e2736451-0473\",\n",
       "      AttentionHeads,\n",
       "      {\"attention\": [[[1.0, 0.0, 0.0, 0.0, 0.0, 0.0, 0.0, 0.0, 0.0, 0.0, 0.0, 0.0, 0.0, 0.0, 0.0], [0.961372435092926, 0.038627542555332184, 0.0, 0.0, 0.0, 0.0, 0.0, 0.0, 0.0, 0.0, 0.0, 0.0, 0.0, 0.0, 0.0], [0.9806370735168457, 0.003704081755131483, 0.01565883308649063, 0.0, 0.0, 0.0, 0.0, 0.0, 0.0, 0.0, 0.0, 0.0, 0.0, 0.0, 0.0], [0.7969411015510559, 0.006063501350581646, 0.16527019441127777, 0.0317252092063427, 0.0, 0.0, 0.0, 0.0, 0.0, 0.0, 0.0, 0.0, 0.0, 0.0, 0.0], [0.922012448310852, 0.011582519859075546, 0.011502860113978386, 0.035645052790641785, 0.019257117062807083, 0.0, 0.0, 0.0, 0.0, 0.0, 0.0, 0.0, 0.0, 0.0, 0.0], [0.9755087494850159, 0.004000458400696516, 0.00029365031514316797, 0.004432151094079018, 0.0003632756997831166, 0.015401739627122879, 0.0, 0.0, 0.0, 0.0, 0.0, 0.0, 0.0, 0.0, 0.0], [0.7979806661605835, 0.007075132802128792, 0.014008408412337303, 0.03478970378637314, 0.026187922805547714, 0.039590559899806976, 0.08036753535270691, 0.0, 0.0, 0.0, 0.0, 0.0, 0.0, 0.0, 0.0], [0.8270488381385803, 0.009805349633097649, 0.004219495691359043, 0.03341410681605339, 0.008020308800041676, 0.00837283581495285, 0.0720333680510521, 0.037085726857185364, 0.0, 0.0, 0.0, 0.0, 0.0, 0.0, 0.0], [0.8182353377342224, 0.017608413472771645, 0.002703196369111538, 0.017959346994757652, 0.003947335295379162, 0.01049922127276659, 0.03400008752942085, 0.010616658255457878, 0.08443035930395126, 0.0, 0.0, 0.0, 0.0, 0.0, 0.0], [0.29918062686920166, 0.01334928348660469, 0.1559617519378662, 0.0733938068151474, 0.3849971890449524, 0.007713599130511284, 0.014953003264963627, 0.013666569255292416, 0.00733649218454957, 0.029447652399539948, 0.0, 0.0, 0.0, 0.0, 0.0], [0.7702606320381165, 0.024729473516345024, 0.002286372473463416, 0.0728997066617012, 0.008041318506002426, 0.04118899255990982, 0.022476613521575928, 0.005776424892246723, 0.003542973194271326, 0.04029189422726631, 0.00850558653473854, 0.0, 0.0, 0.0, 0.0], [0.13142117857933044, 0.013432789593935013, 0.24380193650722504, 0.021213587373495102, 0.456007719039917, 0.005477976053953171, 0.007662801072001457, 0.006567270960658789, 0.0006128006498329341, 0.012400360777974129, 0.08471617847681046, 0.016685374081134796, 0.0, 0.0, 0.0], [0.6249799132347107, 0.015654098242521286, 0.018807996064424515, 0.05750475823879242, 0.025433896109461784, 0.012550625950098038, 0.03642795979976654, 0.020898355171084404, 0.07213786989450455, 0.02422945946455002, 0.011787750758230686, 0.0281496774405241, 0.0514376126229763, 0.0, 0.0], [0.862866222858429, 0.0044609010219573975, 0.002159813418984413, 0.007581171579658985, 0.003581391181796789, 0.003452314529567957, 0.009511728771030903, 0.002604785840958357, 0.009448716416954994, 0.010861951857805252, 0.004349207505583763, 0.014197608456015587, 0.004222269635647535, 0.060701917856931686, 0.0], [0.05995606258511543, 0.003886454738676548, 0.3804638981819153, 0.017041616141796112, 0.47335898876190186, 0.001337620196864009, 0.0023899427615106106, 0.0035162162967026234, 0.00019048557442147285, 0.004266378469765186, 0.035928890109062195, 0.0016257746610790491, 0.00636573601514101, 0.0008289023535326123, 0.008843021467328072]], [[1.0, 0.0, 0.0, 0.0, 0.0, 0.0, 0.0, 0.0, 0.0, 0.0, 0.0, 0.0, 0.0, 0.0, 0.0], [0.9159116744995117, 0.08408836275339127, 0.0, 0.0, 0.0, 0.0, 0.0, 0.0, 0.0, 0.0, 0.0, 0.0, 0.0, 0.0, 0.0], [0.957220733165741, 0.025202393531799316, 0.017576880753040314, 0.0, 0.0, 0.0, 0.0, 0.0, 0.0, 0.0, 0.0, 0.0, 0.0, 0.0, 0.0], [0.8114000558853149, 0.03956013545393944, 0.08559712767601013, 0.06344262510538101, 0.0, 0.0, 0.0, 0.0, 0.0, 0.0, 0.0, 0.0, 0.0, 0.0, 0.0], [0.662004828453064, 0.1445138156414032, 0.05584311485290527, 0.08134765923023224, 0.056290529668331146, 0.0, 0.0, 0.0, 0.0, 0.0, 0.0, 0.0, 0.0, 0.0, 0.0], [0.9276650547981262, 0.039298392832279205, 0.0004479981434997171, 0.011186787858605385, 0.000394004222471267, 0.021007711067795753, 0.0, 0.0, 0.0, 0.0, 0.0, 0.0, 0.0, 0.0, 0.0], [0.7048169374465942, 0.06263648718595505, 0.029190650209784508, 0.02724837139248848, 0.05935006961226463, 0.06416100263595581, 0.05259648337960243, 0.0, 0.0, 0.0, 0.0, 0.0, 0.0, 0.0, 0.0], [0.7612590789794922, 0.047737572342157364, 0.010893232189118862, 0.030798057094216347, 0.009215254336595535, 0.017460741102695465, 0.0801510289311409, 0.04248502105474472, 0.0, 0.0, 0.0, 0.0, 0.0, 0.0, 0.0], [0.6269217133522034, 0.08047125488519669, 0.018925515934824944, 0.034726276993751526, 0.021245330572128296, 0.04038132727146149, 0.03988127037882805, 0.05820648372173309, 0.0792408362030983, 0.0, 0.0, 0.0, 0.0, 0.0, 0.0], [0.13361722230911255, 0.02952852100133896, 0.34435927867889404, 0.03639468923211098, 0.3688317835330963, 0.005313368514180183, 0.007873959839344025, 0.00896449014544487, 0.010312801226973534, 0.05480390414595604, 0.0, 0.0, 0.0, 0.0, 0.0], [0.5535677075386047, 0.1290736347436905, 0.008745851926505566, 0.06685972958803177, 0.009201167151331902, 0.030575573444366455, 0.014106214046478271, 0.0038758020382374525, 0.013563591986894608, 0.13262343406677246, 0.037807267159223557, 0.0, 0.0, 0.0, 0.0], [0.07568126916885376, 0.023278608918190002, 0.31215614080429077, 0.042602069675922394, 0.3404477834701538, 0.001164278364740312, 0.0012352949706837535, 0.003320407820865512, 0.0012833110522478819, 0.038912948220968246, 0.14029350876808167, 0.019624369218945503, 0.0, 0.0, 0.0], [0.5352697372436523, 0.0465305894613266, 0.04065035656094551, 0.05397479236125946, 0.017668429762125015, 0.01888119988143444, 0.010570640675723553, 0.01101010199636221, 0.0441218763589859, 0.03339904919266701, 0.025438867509365082, 0.07452523708343506, 0.08795909583568573, 0.0, 0.0], [0.6547222137451172, 0.018680796027183533, 0.0035332224797457457, 0.013704011216759682, 0.0030991539824754, 0.010324842296540737, 0.007464409340173006, 0.012537231668829918, 0.007658090908080339, 0.013390513136982918, 0.006240046117454767, 0.06469663977622986, 0.08906605839729309, 0.09488280862569809, 0.0], [0.06460538506507874, 0.019441019743680954, 0.2967733144760132, 0.034400079399347305, 0.42954021692276, 0.0014504131395369768, 0.001717560226097703, 0.004099279176443815, 0.0008780442294664681, 0.0301092267036438, 0.07954618334770203, 0.013083691708743572, 0.006648792885243893, 0.0009256681078113616, 0.016781123355031013]], [[1.0, 0.0, 0.0, 0.0, 0.0, 0.0, 0.0, 0.0, 0.0, 0.0, 0.0, 0.0, 0.0, 0.0, 0.0], [0.971023440361023, 0.028976619243621826, 0.0, 0.0, 0.0, 0.0, 0.0, 0.0, 0.0, 0.0, 0.0, 0.0, 0.0, 0.0, 0.0], [0.9845683574676514, 0.008560863323509693, 0.006870775017887354, 0.0, 0.0, 0.0, 0.0, 0.0, 0.0, 0.0, 0.0, 0.0, 0.0, 0.0, 0.0], [0.9251239895820618, 0.011783085763454437, 0.03397815674543381, 0.029114771634340286, 0.0, 0.0, 0.0, 0.0, 0.0, 0.0, 0.0, 0.0, 0.0, 0.0, 0.0], [0.9106794595718384, 0.022956417873501778, 0.028001315891742706, 0.013814473524689674, 0.02454831823706627, 0.0, 0.0, 0.0, 0.0, 0.0, 0.0, 0.0, 0.0, 0.0, 0.0], [0.9801322221755981, 0.007380678318440914, 0.0035436577163636684, 0.0021217719186097383, 0.003956684377044439, 0.0028649468440562487, 0.0, 0.0, 0.0, 0.0, 0.0, 0.0, 0.0, 0.0, 0.0], [0.8823549747467041, 0.01868586055934429, 0.03253854811191559, 0.008484253659844398, 0.04002644866704941, 0.0032447543926537037, 0.01466518547385931, 0.0, 0.0, 0.0, 0.0, 0.0, 0.0, 0.0, 0.0], [0.9216939210891724, 0.013461442664265633, 0.013907568529248238, 0.006235786713659763, 0.012210560962557793, 0.0018459736602380872, 0.014633897691965103, 0.01601087674498558, 0.0, 0.0, 0.0, 0.0, 0.0, 0.0, 0.0], [0.8206242322921753, 0.03006104752421379, 0.04597633704543114, 0.007285864092409611, 0.0668221041560173, 0.007734653074294329, 0.006979369558393955, 0.0033231962006539106, 0.011193161830306053, 0.0, 0.0, 0.0, 0.0, 0.0, 0.0], [0.6344257593154907, 0.020607134327292442, 0.1048937663435936, 0.020667269825935364, 0.17439228296279907, 0.0014856294728815556, 0.0038281050510704517, 0.003924368880689144, 0.012597039341926575, 0.023178618401288986, 0.0, 0.0, 0.0, 0.0, 0.0], [0.8786939978599548, 0.016267340630292892, 0.013099728152155876, 0.011206802912056446, 0.02814796380698681, 0.021936722099781036, 0.0029187698382884264, 0.0008598813437856734, 0.006977180019021034, 0.010259397327899933, 0.009632195346057415, 0.0, 0.0, 0.0, 0.0], [0.6846758127212524, 0.023637481033802032, 0.07195938378572464, 0.03071598708629608, 0.11307993531227112, 0.0019176480127498507, 0.003345957025885582, 0.004635951481759548, 0.00509453471750021, 0.018088212236762047, 0.03299562260508537, 0.00985350925475359, 0.0, 0.0, 0.0], [0.8094475269317627, 0.01870156079530716, 0.02431613951921463, 0.014004661701619625, 0.041568219661712646, 0.006790409795939922, 0.005309809930622578, 0.005366722587496042, 0.04036498814821243, 0.00922410562634468, 0.008206686936318874, 0.005476709920912981, 0.01122245192527771, 0.0, 0.0], [0.8977124094963074, 0.008977651596069336, 0.009997956454753876, 0.004818056244403124, 0.023794542998075485, 0.0027965009212493896, 0.0018251350848004222, 0.0010311267105862498, 0.006508427672088146, 0.008535312488675117, 0.012881866656243801, 0.0033252525608986616, 0.0033018148969858885, 0.014493935741484165, 0.0], [0.6829361915588379, 0.019322430714964867, 0.07638167589902878, 0.030276868492364883, 0.09443969279527664, 0.0013115223264321685, 0.002638445235788822, 0.0028011086396872997, 0.004264475777745247, 0.015131212770938873, 0.029990823939442635, 0.006477226037532091, 0.003917107358574867, 0.008176048286259174, 0.021935146301984787]]], \"attentionHeadNames\": [\"10.7\", \"11.10\", \"11.2\"], \"tokens\": [\"<|endoftext|>\", \"When\", \" John\", \" and\", \" Mary\", \" went\", \" to\", \" the\", \" shops\", \",\", \" John\", \" gave\", \" the\", \" bag\", \" to\"]}\n",
       "    )\n",
       "    </script>"
      ],
      "text/plain": [
       "<circuitsvis.utils.render.RenderedHTML at 0x7fe777954940>"
      ]
     },
     "metadata": {},
     "output_type": "display_data"
    }
   ],
   "source": [
    "def topk_of_Nd_tensor(tensor: Float[Tensor, \"rows cols\"], k: int):\n",
    "    '''\n",
    "    Helper function: does same as tensor.topk(k).indices, but works over 2D tensors.\n",
    "    Returns a list of indices, i.e. shape [k, tensor.ndim].\n",
    "\n",
    "    Example: if tensor is 2D array of values for each head in each layer, this will\n",
    "    return a list of heads.\n",
    "    '''\n",
    "    i = t.topk(tensor.flatten(), k).indices\n",
    "    return np.array(np.unravel_index(utils.to_numpy(i), tensor.shape)).T.tolist()\n",
    "\n",
    "\n",
    "\n",
    "k = 3\n",
    "\n",
    "for head_type in [\"Positive\", \"Negative\"]:\n",
    "\n",
    "    # Get the heads with largest (or smallest) contribution to the logit difference\n",
    "    top_heads = topk_of_Nd_tensor(per_head_logit_diffs * (1 if head_type==\"Positive\" else -1), k)\n",
    "\n",
    "    # Get all their attention patterns\n",
    "    attn_patterns_for_important_heads: Float[Tensor, \"head q k\"] = t.stack([\n",
    "        cache[\"pattern\", layer][:, head].mean(0)\n",
    "        for layer, head in top_heads\n",
    "    ])\n",
    "\n",
    "    # Display results\n",
    "    display(HTML(f\"<h2>Top {k} {head_type} Logit Attribution Heads</h2>\"))\n",
    "    display(cv.attention.attention_heads(\n",
    "        attention = attn_patterns_for_important_heads,\n",
    "        tokens = model.to_str_tokens(tokens[0]),\n",
    "        attention_head_names = [f\"{layer}.{head}\" for layer, head in top_heads],\n",
    "    ))"
   ]
  },
  {
   "attachments": {},
   "cell_type": "markdown",
   "metadata": {},
   "source": [
    "Duplicate name heads do not show up because they're indirectly responsible and not directly responsible"
   ]
  },
  {
   "cell_type": "code",
   "execution_count": 118,
   "metadata": {},
   "outputs": [
    {
     "name": "stdout",
     "output_type": "stream",
     "text": [
      "torch.Size([8, 12, 15, 15])\n"
     ]
    },
    {
     "data": {
      "text/plain": [
       "torch.Size([8, 15, 15])"
      ]
     },
     "execution_count": 118,
     "metadata": {},
     "output_type": "execute_result"
    }
   ],
   "source": [
    "layer = 1\n",
    "head = 2\n",
    "\n",
    "print(cache[\"pattern\", layer].shape) # 8 sentences, 12 heads, 15 source & 15 destination tokens (attention pattern)\n",
    "cache[\"pattern\", layer][:, head].shape  # taking every sentence, only head 2"
   ]
  },
  {
   "attachments": {},
   "cell_type": "markdown",
   "metadata": {},
   "source": [
    "## Activation Patching"
   ]
  },
  {
   "cell_type": "code",
   "execution_count": 119,
   "metadata": {},
   "outputs": [],
   "source": [
    "from transformer_lens import patching"
   ]
  },
  {
   "attachments": {},
   "cell_type": "markdown",
   "metadata": {},
   "source": [
    "Creating a metric"
   ]
  },
  {
   "cell_type": "code",
   "execution_count": 120,
   "metadata": {},
   "outputs": [
    {
     "name": "stdout",
     "output_type": "stream",
     "text": [
      "Clean string 0:     <|endoftext|>When John and Mary went to the shops, John gave the bag to \n",
      "Corrupted string 0: <|endoftext|>When John and Mary went to the shops, Mary gave the bag to\n",
      "Clean logit diff: 3.5519\n",
      "Corrupted logit diff: -3.5519\n"
     ]
    }
   ],
   "source": [
    "clean_tokens = tokens\n",
    "# Swap each adjacent pair to get corrupted tokens\n",
    "indices = [i+1 if i % 2 == 0 else i-1 for i in range(len(tokens))]\n",
    "corrupted_tokens = clean_tokens[indices]\n",
    "\n",
    "print(\n",
    "    \"Clean string 0:    \", model.to_string(clean_tokens[0]), \"\\n\"\n",
    "    \"Corrupted string 0:\", model.to_string(corrupted_tokens[0])\n",
    ")\n",
    "\n",
    "clean_logits, clean_cache = model.run_with_cache(clean_tokens)\n",
    "corrupted_logits, corrupted_cache = model.run_with_cache(corrupted_tokens)\n",
    "\n",
    "clean_logit_diff = logits_to_ave_logit_diff(clean_logits, answer_tokens)\n",
    "print(f\"Clean logit diff: {clean_logit_diff:.4f}\")\n",
    "\n",
    "corrupted_logit_diff = logits_to_ave_logit_diff(corrupted_logits, answer_tokens)\n",
    "print(f\"Corrupted logit diff: {corrupted_logit_diff:.4f}\")\n",
    "\n",
    "# Why are these exact opposites? --> The tokens are exactly opposites\n",
    "# clean_logit_diff = \"Good performance\" and corrupted_logit_diff = \"bad performance\""
   ]
  },
  {
   "cell_type": "code",
   "execution_count": 121,
   "metadata": {},
   "outputs": [],
   "source": [
    "def ioi_metric(\n",
    "    logits: Float[Tensor, \"batch seq d_vocab\"], \n",
    "    answer_tokens: Float[Tensor, \"batch 2\"] = answer_tokens,\n",
    "    corrupted_logit_diff: float = corrupted_logit_diff,\n",
    "    clean_logit_diff: float = clean_logit_diff,\n",
    ") -> Float[Tensor, \"\"]:\n",
    "    '''\n",
    "    Linear function of logit diff, calibrated so that it equals 0 when performance is \n",
    "    same as on corrupted input, and 1 when performance is same as on clean input.\n",
    "    '''\n",
    "    diff = logits_to_ave_logit_diff(logits, answer_tokens)\n",
    "    return (diff - corrupted_logit_diff) / (clean_logit_diff - corrupted_logit_diff)\n",
    "\n",
    "\n",
    "t.testing.assert_close(ioi_metric(clean_logits).item(), 1.0)\n",
    "t.testing.assert_close(ioi_metric(corrupted_logits).item(), 0.0)\n",
    "t.testing.assert_close(ioi_metric((clean_logits + corrupted_logits) / 2).item(), 0.5)"
   ]
  },
  {
   "attachments": {},
   "cell_type": "markdown",
   "metadata": {},
   "source": [
    "Residual stream patching"
   ]
  },
  {
   "cell_type": "code",
   "execution_count": 122,
   "metadata": {},
   "outputs": [
    {
     "data": {
      "application/vnd.jupyter.widget-view+json": {
       "model_id": "8bdbbab5b92f42999c76e52e258d976f",
       "version_major": 2,
       "version_minor": 0
      },
      "text/plain": [
       "  0%|          | 0/180 [00:00<?, ?it/s]"
      ]
     },
     "metadata": {},
     "output_type": "display_data"
    },
    {
     "data": {
      "application/vnd.plotly.v1+json": {
       "config": {
        "plotlyServerURL": "https://plot.ly"
       },
       "data": [
        {
         "coloraxis": "coloraxis",
         "hovertemplate": "Position: %{x}<br>Layer: %{y}<br>color: %{z}<extra></extra>",
         "name": "0",
         "type": "heatmap",
         "x": [
          "<|endoftext|> 0",
          "When 1",
          " John 2",
          " and 3",
          " Mary 4",
          " went 5",
          " to 6",
          " the 7",
          " shops 8",
          ", 9",
          " John 10",
          " gave 11",
          " the 12",
          " bag 13",
          " to 14"
         ],
         "xaxis": "x",
         "yaxis": "y",
         "z": [
          [
           0,
           0,
           0,
           0,
           0,
           0,
           0,
           0,
           0,
           0,
           1,
           0,
           0,
           0,
           0
          ],
          [
           0,
           0,
           0,
           0,
           0,
           0,
           0,
           0,
           0,
           0,
           1.000651240348816,
           -0.00024802208645269275,
           0.000008793205779511482,
           -0.0003653543535619974,
           -0.000049000307626556605
          ],
          [
           0,
           0,
           0,
           0,
           0,
           0,
           0,
           0,
           0,
           0,
           1.001052737236023,
           -0.000027722091545001604,
           -0.000021009720512665808,
           -0.0004596967191901058,
           -0.0005937762907706201
          ],
          [
           0,
           0,
           0,
           0,
           0,
           0,
           0,
           0,
           0,
           0,
           1.0002667903900146,
           0.0008666006033308804,
           0.000515778549015522,
           -0.0009938671719282866,
           -0.0008658958249725401
          ],
          [
           0,
           0,
           0,
           0,
           0,
           0,
           0,
           0,
           0,
           0,
           0.9949095845222473,
           0.0054291668348014355,
           0.0016047264216467738,
           -0.0006188134429976344,
           -0.0016330190701410174
          ],
          [
           0,
           0,
           0,
           0,
           0,
           0,
           0,
           0,
           0,
           0,
           0.9675675630569458,
           0.03134079650044441,
           0.0028416821733117104,
           -0.0012315186904743314,
           -0.0009871212532743812
          ],
          [
           0,
           0,
           0,
           0,
           0,
           0,
           0,
           0,
           0,
           0,
           0.9675213694572449,
           0.030999742448329926,
           0.0017811947036534548,
           -0.00048644549679011106,
           -0.000648045854177326
          ],
          [
           0,
           0,
           0,
           0,
           0,
           0,
           0,
           0,
           0,
           0,
           0.9228334426879883,
           0.05134352669119835,
           0.004729737993329763,
           0.00093402637867257,
           0.01704653538763523
          ],
          [
           0,
           0,
           0,
           0,
           0,
           0,
           0,
           0,
           0,
           0,
           0.6565515995025635,
           0.023855766281485558,
           0.002357048913836479,
           -0.00001688161319179926,
           0.3186889886856079
          ],
          [
           0,
           0,
           0,
           0,
           0,
           0,
           0,
           0,
           0,
           0,
           0.0273039098829031,
           0.03142436593770981,
           0.0018201264319941401,
           0.0007987049757502973,
           0.9383856058120728
          ],
          [
           0,
           0,
           0,
           0,
           0,
           0,
           0,
           0,
           0,
           0,
           -0.026844650506973267,
           0.020980387926101685,
           0.0012514543486759067,
           0.00032353628193959594,
           1.0048311948776245
          ],
          [
           0,
           0,
           0,
           0,
           0,
           0,
           0,
           0,
           0,
           0,
           -0.005686989054083824,
           0.014263150282204151,
           0.00048647908261045814,
           -0.0000900128943612799,
           0.9914203882217407
          ]
         ]
        }
       ],
       "layout": {
        "coloraxis": {
         "cmid": 0,
         "colorscale": [
          [
           0,
           "rgb(103,0,31)"
          ],
          [
           0.1,
           "rgb(178,24,43)"
          ],
          [
           0.2,
           "rgb(214,96,77)"
          ],
          [
           0.3,
           "rgb(244,165,130)"
          ],
          [
           0.4,
           "rgb(253,219,199)"
          ],
          [
           0.5,
           "rgb(247,247,247)"
          ],
          [
           0.6,
           "rgb(209,229,240)"
          ],
          [
           0.7,
           "rgb(146,197,222)"
          ],
          [
           0.8,
           "rgb(67,147,195)"
          ],
          [
           0.9,
           "rgb(33,102,172)"
          ],
          [
           1,
           "rgb(5,48,97)"
          ]
         ]
        },
        "template": {
         "data": {
          "bar": [
           {
            "error_x": {
             "color": "#2a3f5f"
            },
            "error_y": {
             "color": "#2a3f5f"
            },
            "marker": {
             "line": {
              "color": "#E5ECF6",
              "width": 0.5
             },
             "pattern": {
              "fillmode": "overlay",
              "size": 10,
              "solidity": 0.2
             }
            },
            "type": "bar"
           }
          ],
          "barpolar": [
           {
            "marker": {
             "line": {
              "color": "#E5ECF6",
              "width": 0.5
             },
             "pattern": {
              "fillmode": "overlay",
              "size": 10,
              "solidity": 0.2
             }
            },
            "type": "barpolar"
           }
          ],
          "carpet": [
           {
            "aaxis": {
             "endlinecolor": "#2a3f5f",
             "gridcolor": "white",
             "linecolor": "white",
             "minorgridcolor": "white",
             "startlinecolor": "#2a3f5f"
            },
            "baxis": {
             "endlinecolor": "#2a3f5f",
             "gridcolor": "white",
             "linecolor": "white",
             "minorgridcolor": "white",
             "startlinecolor": "#2a3f5f"
            },
            "type": "carpet"
           }
          ],
          "choropleth": [
           {
            "colorbar": {
             "outlinewidth": 0,
             "ticks": ""
            },
            "type": "choropleth"
           }
          ],
          "contour": [
           {
            "colorbar": {
             "outlinewidth": 0,
             "ticks": ""
            },
            "colorscale": [
             [
              0,
              "#0d0887"
             ],
             [
              0.1111111111111111,
              "#46039f"
             ],
             [
              0.2222222222222222,
              "#7201a8"
             ],
             [
              0.3333333333333333,
              "#9c179e"
             ],
             [
              0.4444444444444444,
              "#bd3786"
             ],
             [
              0.5555555555555556,
              "#d8576b"
             ],
             [
              0.6666666666666666,
              "#ed7953"
             ],
             [
              0.7777777777777778,
              "#fb9f3a"
             ],
             [
              0.8888888888888888,
              "#fdca26"
             ],
             [
              1,
              "#f0f921"
             ]
            ],
            "type": "contour"
           }
          ],
          "contourcarpet": [
           {
            "colorbar": {
             "outlinewidth": 0,
             "ticks": ""
            },
            "type": "contourcarpet"
           }
          ],
          "heatmap": [
           {
            "colorbar": {
             "outlinewidth": 0,
             "ticks": ""
            },
            "colorscale": [
             [
              0,
              "#0d0887"
             ],
             [
              0.1111111111111111,
              "#46039f"
             ],
             [
              0.2222222222222222,
              "#7201a8"
             ],
             [
              0.3333333333333333,
              "#9c179e"
             ],
             [
              0.4444444444444444,
              "#bd3786"
             ],
             [
              0.5555555555555556,
              "#d8576b"
             ],
             [
              0.6666666666666666,
              "#ed7953"
             ],
             [
              0.7777777777777778,
              "#fb9f3a"
             ],
             [
              0.8888888888888888,
              "#fdca26"
             ],
             [
              1,
              "#f0f921"
             ]
            ],
            "type": "heatmap"
           }
          ],
          "heatmapgl": [
           {
            "colorbar": {
             "outlinewidth": 0,
             "ticks": ""
            },
            "colorscale": [
             [
              0,
              "#0d0887"
             ],
             [
              0.1111111111111111,
              "#46039f"
             ],
             [
              0.2222222222222222,
              "#7201a8"
             ],
             [
              0.3333333333333333,
              "#9c179e"
             ],
             [
              0.4444444444444444,
              "#bd3786"
             ],
             [
              0.5555555555555556,
              "#d8576b"
             ],
             [
              0.6666666666666666,
              "#ed7953"
             ],
             [
              0.7777777777777778,
              "#fb9f3a"
             ],
             [
              0.8888888888888888,
              "#fdca26"
             ],
             [
              1,
              "#f0f921"
             ]
            ],
            "type": "heatmapgl"
           }
          ],
          "histogram": [
           {
            "marker": {
             "pattern": {
              "fillmode": "overlay",
              "size": 10,
              "solidity": 0.2
             }
            },
            "type": "histogram"
           }
          ],
          "histogram2d": [
           {
            "colorbar": {
             "outlinewidth": 0,
             "ticks": ""
            },
            "colorscale": [
             [
              0,
              "#0d0887"
             ],
             [
              0.1111111111111111,
              "#46039f"
             ],
             [
              0.2222222222222222,
              "#7201a8"
             ],
             [
              0.3333333333333333,
              "#9c179e"
             ],
             [
              0.4444444444444444,
              "#bd3786"
             ],
             [
              0.5555555555555556,
              "#d8576b"
             ],
             [
              0.6666666666666666,
              "#ed7953"
             ],
             [
              0.7777777777777778,
              "#fb9f3a"
             ],
             [
              0.8888888888888888,
              "#fdca26"
             ],
             [
              1,
              "#f0f921"
             ]
            ],
            "type": "histogram2d"
           }
          ],
          "histogram2dcontour": [
           {
            "colorbar": {
             "outlinewidth": 0,
             "ticks": ""
            },
            "colorscale": [
             [
              0,
              "#0d0887"
             ],
             [
              0.1111111111111111,
              "#46039f"
             ],
             [
              0.2222222222222222,
              "#7201a8"
             ],
             [
              0.3333333333333333,
              "#9c179e"
             ],
             [
              0.4444444444444444,
              "#bd3786"
             ],
             [
              0.5555555555555556,
              "#d8576b"
             ],
             [
              0.6666666666666666,
              "#ed7953"
             ],
             [
              0.7777777777777778,
              "#fb9f3a"
             ],
             [
              0.8888888888888888,
              "#fdca26"
             ],
             [
              1,
              "#f0f921"
             ]
            ],
            "type": "histogram2dcontour"
           }
          ],
          "mesh3d": [
           {
            "colorbar": {
             "outlinewidth": 0,
             "ticks": ""
            },
            "type": "mesh3d"
           }
          ],
          "parcoords": [
           {
            "line": {
             "colorbar": {
              "outlinewidth": 0,
              "ticks": ""
             }
            },
            "type": "parcoords"
           }
          ],
          "pie": [
           {
            "automargin": true,
            "type": "pie"
           }
          ],
          "scatter": [
           {
            "fillpattern": {
             "fillmode": "overlay",
             "size": 10,
             "solidity": 0.2
            },
            "type": "scatter"
           }
          ],
          "scatter3d": [
           {
            "line": {
             "colorbar": {
              "outlinewidth": 0,
              "ticks": ""
             }
            },
            "marker": {
             "colorbar": {
              "outlinewidth": 0,
              "ticks": ""
             }
            },
            "type": "scatter3d"
           }
          ],
          "scattercarpet": [
           {
            "marker": {
             "colorbar": {
              "outlinewidth": 0,
              "ticks": ""
             }
            },
            "type": "scattercarpet"
           }
          ],
          "scattergeo": [
           {
            "marker": {
             "colorbar": {
              "outlinewidth": 0,
              "ticks": ""
             }
            },
            "type": "scattergeo"
           }
          ],
          "scattergl": [
           {
            "marker": {
             "colorbar": {
              "outlinewidth": 0,
              "ticks": ""
             }
            },
            "type": "scattergl"
           }
          ],
          "scattermapbox": [
           {
            "marker": {
             "colorbar": {
              "outlinewidth": 0,
              "ticks": ""
             }
            },
            "type": "scattermapbox"
           }
          ],
          "scatterpolar": [
           {
            "marker": {
             "colorbar": {
              "outlinewidth": 0,
              "ticks": ""
             }
            },
            "type": "scatterpolar"
           }
          ],
          "scatterpolargl": [
           {
            "marker": {
             "colorbar": {
              "outlinewidth": 0,
              "ticks": ""
             }
            },
            "type": "scatterpolargl"
           }
          ],
          "scatterternary": [
           {
            "marker": {
             "colorbar": {
              "outlinewidth": 0,
              "ticks": ""
             }
            },
            "type": "scatterternary"
           }
          ],
          "surface": [
           {
            "colorbar": {
             "outlinewidth": 0,
             "ticks": ""
            },
            "colorscale": [
             [
              0,
              "#0d0887"
             ],
             [
              0.1111111111111111,
              "#46039f"
             ],
             [
              0.2222222222222222,
              "#7201a8"
             ],
             [
              0.3333333333333333,
              "#9c179e"
             ],
             [
              0.4444444444444444,
              "#bd3786"
             ],
             [
              0.5555555555555556,
              "#d8576b"
             ],
             [
              0.6666666666666666,
              "#ed7953"
             ],
             [
              0.7777777777777778,
              "#fb9f3a"
             ],
             [
              0.8888888888888888,
              "#fdca26"
             ],
             [
              1,
              "#f0f921"
             ]
            ],
            "type": "surface"
           }
          ],
          "table": [
           {
            "cells": {
             "fill": {
              "color": "#EBF0F8"
             },
             "line": {
              "color": "white"
             }
            },
            "header": {
             "fill": {
              "color": "#C8D4E3"
             },
             "line": {
              "color": "white"
             }
            },
            "type": "table"
           }
          ]
         },
         "layout": {
          "annotationdefaults": {
           "arrowcolor": "#2a3f5f",
           "arrowhead": 0,
           "arrowwidth": 1
          },
          "autotypenumbers": "strict",
          "coloraxis": {
           "colorbar": {
            "outlinewidth": 0,
            "ticks": ""
           }
          },
          "colorscale": {
           "diverging": [
            [
             0,
             "#8e0152"
            ],
            [
             0.1,
             "#c51b7d"
            ],
            [
             0.2,
             "#de77ae"
            ],
            [
             0.3,
             "#f1b6da"
            ],
            [
             0.4,
             "#fde0ef"
            ],
            [
             0.5,
             "#f7f7f7"
            ],
            [
             0.6,
             "#e6f5d0"
            ],
            [
             0.7,
             "#b8e186"
            ],
            [
             0.8,
             "#7fbc41"
            ],
            [
             0.9,
             "#4d9221"
            ],
            [
             1,
             "#276419"
            ]
           ],
           "sequential": [
            [
             0,
             "#0d0887"
            ],
            [
             0.1111111111111111,
             "#46039f"
            ],
            [
             0.2222222222222222,
             "#7201a8"
            ],
            [
             0.3333333333333333,
             "#9c179e"
            ],
            [
             0.4444444444444444,
             "#bd3786"
            ],
            [
             0.5555555555555556,
             "#d8576b"
            ],
            [
             0.6666666666666666,
             "#ed7953"
            ],
            [
             0.7777777777777778,
             "#fb9f3a"
            ],
            [
             0.8888888888888888,
             "#fdca26"
            ],
            [
             1,
             "#f0f921"
            ]
           ],
           "sequentialminus": [
            [
             0,
             "#0d0887"
            ],
            [
             0.1111111111111111,
             "#46039f"
            ],
            [
             0.2222222222222222,
             "#7201a8"
            ],
            [
             0.3333333333333333,
             "#9c179e"
            ],
            [
             0.4444444444444444,
             "#bd3786"
            ],
            [
             0.5555555555555556,
             "#d8576b"
            ],
            [
             0.6666666666666666,
             "#ed7953"
            ],
            [
             0.7777777777777778,
             "#fb9f3a"
            ],
            [
             0.8888888888888888,
             "#fdca26"
            ],
            [
             1,
             "#f0f921"
            ]
           ]
          },
          "colorway": [
           "#636efa",
           "#EF553B",
           "#00cc96",
           "#ab63fa",
           "#FFA15A",
           "#19d3f3",
           "#FF6692",
           "#B6E880",
           "#FF97FF",
           "#FECB52"
          ],
          "font": {
           "color": "#2a3f5f"
          },
          "geo": {
           "bgcolor": "white",
           "lakecolor": "white",
           "landcolor": "#E5ECF6",
           "showlakes": true,
           "showland": true,
           "subunitcolor": "white"
          },
          "hoverlabel": {
           "align": "left"
          },
          "hovermode": "closest",
          "mapbox": {
           "style": "light"
          },
          "paper_bgcolor": "white",
          "plot_bgcolor": "#E5ECF6",
          "polar": {
           "angularaxis": {
            "gridcolor": "white",
            "linecolor": "white",
            "ticks": ""
           },
           "bgcolor": "#E5ECF6",
           "radialaxis": {
            "gridcolor": "white",
            "linecolor": "white",
            "ticks": ""
           }
          },
          "scene": {
           "xaxis": {
            "backgroundcolor": "#E5ECF6",
            "gridcolor": "white",
            "gridwidth": 2,
            "linecolor": "white",
            "showbackground": true,
            "ticks": "",
            "zerolinecolor": "white"
           },
           "yaxis": {
            "backgroundcolor": "#E5ECF6",
            "gridcolor": "white",
            "gridwidth": 2,
            "linecolor": "white",
            "showbackground": true,
            "ticks": "",
            "zerolinecolor": "white"
           },
           "zaxis": {
            "backgroundcolor": "#E5ECF6",
            "gridcolor": "white",
            "gridwidth": 2,
            "linecolor": "white",
            "showbackground": true,
            "ticks": "",
            "zerolinecolor": "white"
           }
          },
          "shapedefaults": {
           "line": {
            "color": "#2a3f5f"
           }
          },
          "ternary": {
           "aaxis": {
            "gridcolor": "white",
            "linecolor": "white",
            "ticks": ""
           },
           "baxis": {
            "gridcolor": "white",
            "linecolor": "white",
            "ticks": ""
           },
           "bgcolor": "#E5ECF6",
           "caxis": {
            "gridcolor": "white",
            "linecolor": "white",
            "ticks": ""
           }
          },
          "title": {
           "x": 0.05
          },
          "xaxis": {
           "automargin": true,
           "gridcolor": "white",
           "linecolor": "white",
           "ticks": "",
           "title": {
            "standoff": 15
           },
           "zerolinecolor": "white",
           "zerolinewidth": 2
          },
          "yaxis": {
           "automargin": true,
           "gridcolor": "white",
           "linecolor": "white",
           "ticks": "",
           "title": {
            "standoff": 15
           },
           "zerolinecolor": "white",
           "zerolinewidth": 2
          }
         }
        },
        "title": {
         "text": "resid_pre Activation Patching"
        },
        "width": 600,
        "xaxis": {
         "anchor": "y",
         "constrain": "domain",
         "domain": [
          0,
          1
         ],
         "scaleanchor": "y",
         "title": {
          "text": "Position"
         }
        },
        "yaxis": {
         "anchor": "x",
         "autorange": "reversed",
         "constrain": "domain",
         "domain": [
          0,
          1
         ],
         "title": {
          "text": "Layer"
         }
        }
       }
      },
      "text/html": [
       "<div>                            <div id=\"dca67156-eab8-4166-9228-7d48ef3820f7\" class=\"plotly-graph-div\" style=\"height:525px; width:600px;\"></div>            <script type=\"text/javascript\">                require([\"plotly\"], function(Plotly) {                    window.PLOTLYENV=window.PLOTLYENV || {};                                    if (document.getElementById(\"dca67156-eab8-4166-9228-7d48ef3820f7\")) {                    Plotly.newPlot(                        \"dca67156-eab8-4166-9228-7d48ef3820f7\",                        [{\"coloraxis\":\"coloraxis\",\"name\":\"0\",\"x\":[\"<|endoftext|> 0\",\"When 1\",\" John 2\",\" and 3\",\" Mary 4\",\" went 5\",\" to 6\",\" the 7\",\" shops 8\",\", 9\",\" John 10\",\" gave 11\",\" the 12\",\" bag 13\",\" to 14\"],\"z\":[[0.0,0.0,0.0,0.0,0.0,0.0,0.0,0.0,0.0,0.0,1.0,0.0,0.0,0.0,0.0],[0.0,0.0,0.0,0.0,0.0,0.0,0.0,0.0,0.0,0.0,1.000651240348816,-0.00024802208645269275,8.793205779511482e-06,-0.0003653543535619974,-4.9000307626556605e-05],[0.0,0.0,0.0,0.0,0.0,0.0,0.0,0.0,0.0,0.0,1.001052737236023,-2.7722091545001604e-05,-2.1009720512665808e-05,-0.0004596967191901058,-0.0005937762907706201],[0.0,0.0,0.0,0.0,0.0,0.0,0.0,0.0,0.0,0.0,1.0002667903900146,0.0008666006033308804,0.000515778549015522,-0.0009938671719282866,-0.0008658958249725401],[0.0,0.0,0.0,0.0,0.0,0.0,0.0,0.0,0.0,0.0,0.9949095845222473,0.0054291668348014355,0.0016047264216467738,-0.0006188134429976344,-0.0016330190701410174],[0.0,0.0,0.0,0.0,0.0,0.0,0.0,0.0,0.0,0.0,0.9675675630569458,0.03134079650044441,0.0028416821733117104,-0.0012315186904743314,-0.0009871212532743812],[0.0,0.0,0.0,0.0,0.0,0.0,0.0,0.0,0.0,0.0,0.9675213694572449,0.030999742448329926,0.0017811947036534548,-0.00048644549679011106,-0.000648045854177326],[0.0,0.0,0.0,0.0,0.0,0.0,0.0,0.0,0.0,0.0,0.9228334426879883,0.05134352669119835,0.004729737993329763,0.00093402637867257,0.01704653538763523],[0.0,0.0,0.0,0.0,0.0,0.0,0.0,0.0,0.0,0.0,0.6565515995025635,0.023855766281485558,0.002357048913836479,-1.688161319179926e-05,0.3186889886856079],[0.0,0.0,0.0,0.0,0.0,0.0,0.0,0.0,0.0,0.0,0.0273039098829031,0.03142436593770981,0.0018201264319941401,0.0007987049757502973,0.9383856058120728],[0.0,0.0,0.0,0.0,0.0,0.0,0.0,0.0,0.0,0.0,-0.026844650506973267,0.020980387926101685,0.0012514543486759067,0.00032353628193959594,1.0048311948776245],[0.0,0.0,0.0,0.0,0.0,0.0,0.0,0.0,0.0,0.0,-0.005686989054083824,0.014263150282204151,0.00048647908261045814,-9.00128943612799e-05,0.9914203882217407]],\"type\":\"heatmap\",\"xaxis\":\"x\",\"yaxis\":\"y\",\"hovertemplate\":\"Position: %{x}<br>Layer: %{y}<br>color: %{z}<extra></extra>\"}],                        {\"template\":{\"data\":{\"histogram2dcontour\":[{\"type\":\"histogram2dcontour\",\"colorbar\":{\"outlinewidth\":0,\"ticks\":\"\"},\"colorscale\":[[0.0,\"#0d0887\"],[0.1111111111111111,\"#46039f\"],[0.2222222222222222,\"#7201a8\"],[0.3333333333333333,\"#9c179e\"],[0.4444444444444444,\"#bd3786\"],[0.5555555555555556,\"#d8576b\"],[0.6666666666666666,\"#ed7953\"],[0.7777777777777778,\"#fb9f3a\"],[0.8888888888888888,\"#fdca26\"],[1.0,\"#f0f921\"]]}],\"choropleth\":[{\"type\":\"choropleth\",\"colorbar\":{\"outlinewidth\":0,\"ticks\":\"\"}}],\"histogram2d\":[{\"type\":\"histogram2d\",\"colorbar\":{\"outlinewidth\":0,\"ticks\":\"\"},\"colorscale\":[[0.0,\"#0d0887\"],[0.1111111111111111,\"#46039f\"],[0.2222222222222222,\"#7201a8\"],[0.3333333333333333,\"#9c179e\"],[0.4444444444444444,\"#bd3786\"],[0.5555555555555556,\"#d8576b\"],[0.6666666666666666,\"#ed7953\"],[0.7777777777777778,\"#fb9f3a\"],[0.8888888888888888,\"#fdca26\"],[1.0,\"#f0f921\"]]}],\"heatmap\":[{\"type\":\"heatmap\",\"colorbar\":{\"outlinewidth\":0,\"ticks\":\"\"},\"colorscale\":[[0.0,\"#0d0887\"],[0.1111111111111111,\"#46039f\"],[0.2222222222222222,\"#7201a8\"],[0.3333333333333333,\"#9c179e\"],[0.4444444444444444,\"#bd3786\"],[0.5555555555555556,\"#d8576b\"],[0.6666666666666666,\"#ed7953\"],[0.7777777777777778,\"#fb9f3a\"],[0.8888888888888888,\"#fdca26\"],[1.0,\"#f0f921\"]]}],\"heatmapgl\":[{\"type\":\"heatmapgl\",\"colorbar\":{\"outlinewidth\":0,\"ticks\":\"\"},\"colorscale\":[[0.0,\"#0d0887\"],[0.1111111111111111,\"#46039f\"],[0.2222222222222222,\"#7201a8\"],[0.3333333333333333,\"#9c179e\"],[0.4444444444444444,\"#bd3786\"],[0.5555555555555556,\"#d8576b\"],[0.6666666666666666,\"#ed7953\"],[0.7777777777777778,\"#fb9f3a\"],[0.8888888888888888,\"#fdca26\"],[1.0,\"#f0f921\"]]}],\"contourcarpet\":[{\"type\":\"contourcarpet\",\"colorbar\":{\"outlinewidth\":0,\"ticks\":\"\"}}],\"contour\":[{\"type\":\"contour\",\"colorbar\":{\"outlinewidth\":0,\"ticks\":\"\"},\"colorscale\":[[0.0,\"#0d0887\"],[0.1111111111111111,\"#46039f\"],[0.2222222222222222,\"#7201a8\"],[0.3333333333333333,\"#9c179e\"],[0.4444444444444444,\"#bd3786\"],[0.5555555555555556,\"#d8576b\"],[0.6666666666666666,\"#ed7953\"],[0.7777777777777778,\"#fb9f3a\"],[0.8888888888888888,\"#fdca26\"],[1.0,\"#f0f921\"]]}],\"surface\":[{\"type\":\"surface\",\"colorbar\":{\"outlinewidth\":0,\"ticks\":\"\"},\"colorscale\":[[0.0,\"#0d0887\"],[0.1111111111111111,\"#46039f\"],[0.2222222222222222,\"#7201a8\"],[0.3333333333333333,\"#9c179e\"],[0.4444444444444444,\"#bd3786\"],[0.5555555555555556,\"#d8576b\"],[0.6666666666666666,\"#ed7953\"],[0.7777777777777778,\"#fb9f3a\"],[0.8888888888888888,\"#fdca26\"],[1.0,\"#f0f921\"]]}],\"mesh3d\":[{\"type\":\"mesh3d\",\"colorbar\":{\"outlinewidth\":0,\"ticks\":\"\"}}],\"scatter\":[{\"fillpattern\":{\"fillmode\":\"overlay\",\"size\":10,\"solidity\":0.2},\"type\":\"scatter\"}],\"parcoords\":[{\"type\":\"parcoords\",\"line\":{\"colorbar\":{\"outlinewidth\":0,\"ticks\":\"\"}}}],\"scatterpolargl\":[{\"type\":\"scatterpolargl\",\"marker\":{\"colorbar\":{\"outlinewidth\":0,\"ticks\":\"\"}}}],\"bar\":[{\"error_x\":{\"color\":\"#2a3f5f\"},\"error_y\":{\"color\":\"#2a3f5f\"},\"marker\":{\"line\":{\"color\":\"#E5ECF6\",\"width\":0.5},\"pattern\":{\"fillmode\":\"overlay\",\"size\":10,\"solidity\":0.2}},\"type\":\"bar\"}],\"scattergeo\":[{\"type\":\"scattergeo\",\"marker\":{\"colorbar\":{\"outlinewidth\":0,\"ticks\":\"\"}}}],\"scatterpolar\":[{\"type\":\"scatterpolar\",\"marker\":{\"colorbar\":{\"outlinewidth\":0,\"ticks\":\"\"}}}],\"histogram\":[{\"marker\":{\"pattern\":{\"fillmode\":\"overlay\",\"size\":10,\"solidity\":0.2}},\"type\":\"histogram\"}],\"scattergl\":[{\"type\":\"scattergl\",\"marker\":{\"colorbar\":{\"outlinewidth\":0,\"ticks\":\"\"}}}],\"scatter3d\":[{\"type\":\"scatter3d\",\"line\":{\"colorbar\":{\"outlinewidth\":0,\"ticks\":\"\"}},\"marker\":{\"colorbar\":{\"outlinewidth\":0,\"ticks\":\"\"}}}],\"scattermapbox\":[{\"type\":\"scattermapbox\",\"marker\":{\"colorbar\":{\"outlinewidth\":0,\"ticks\":\"\"}}}],\"scatterternary\":[{\"type\":\"scatterternary\",\"marker\":{\"colorbar\":{\"outlinewidth\":0,\"ticks\":\"\"}}}],\"scattercarpet\":[{\"type\":\"scattercarpet\",\"marker\":{\"colorbar\":{\"outlinewidth\":0,\"ticks\":\"\"}}}],\"carpet\":[{\"aaxis\":{\"endlinecolor\":\"#2a3f5f\",\"gridcolor\":\"white\",\"linecolor\":\"white\",\"minorgridcolor\":\"white\",\"startlinecolor\":\"#2a3f5f\"},\"baxis\":{\"endlinecolor\":\"#2a3f5f\",\"gridcolor\":\"white\",\"linecolor\":\"white\",\"minorgridcolor\":\"white\",\"startlinecolor\":\"#2a3f5f\"},\"type\":\"carpet\"}],\"table\":[{\"cells\":{\"fill\":{\"color\":\"#EBF0F8\"},\"line\":{\"color\":\"white\"}},\"header\":{\"fill\":{\"color\":\"#C8D4E3\"},\"line\":{\"color\":\"white\"}},\"type\":\"table\"}],\"barpolar\":[{\"marker\":{\"line\":{\"color\":\"#E5ECF6\",\"width\":0.5},\"pattern\":{\"fillmode\":\"overlay\",\"size\":10,\"solidity\":0.2}},\"type\":\"barpolar\"}],\"pie\":[{\"automargin\":true,\"type\":\"pie\"}]},\"layout\":{\"autotypenumbers\":\"strict\",\"colorway\":[\"#636efa\",\"#EF553B\",\"#00cc96\",\"#ab63fa\",\"#FFA15A\",\"#19d3f3\",\"#FF6692\",\"#B6E880\",\"#FF97FF\",\"#FECB52\"],\"font\":{\"color\":\"#2a3f5f\"},\"hovermode\":\"closest\",\"hoverlabel\":{\"align\":\"left\"},\"paper_bgcolor\":\"white\",\"plot_bgcolor\":\"#E5ECF6\",\"polar\":{\"bgcolor\":\"#E5ECF6\",\"angularaxis\":{\"gridcolor\":\"white\",\"linecolor\":\"white\",\"ticks\":\"\"},\"radialaxis\":{\"gridcolor\":\"white\",\"linecolor\":\"white\",\"ticks\":\"\"}},\"ternary\":{\"bgcolor\":\"#E5ECF6\",\"aaxis\":{\"gridcolor\":\"white\",\"linecolor\":\"white\",\"ticks\":\"\"},\"baxis\":{\"gridcolor\":\"white\",\"linecolor\":\"white\",\"ticks\":\"\"},\"caxis\":{\"gridcolor\":\"white\",\"linecolor\":\"white\",\"ticks\":\"\"}},\"coloraxis\":{\"colorbar\":{\"outlinewidth\":0,\"ticks\":\"\"}},\"colorscale\":{\"sequential\":[[0.0,\"#0d0887\"],[0.1111111111111111,\"#46039f\"],[0.2222222222222222,\"#7201a8\"],[0.3333333333333333,\"#9c179e\"],[0.4444444444444444,\"#bd3786\"],[0.5555555555555556,\"#d8576b\"],[0.6666666666666666,\"#ed7953\"],[0.7777777777777778,\"#fb9f3a\"],[0.8888888888888888,\"#fdca26\"],[1.0,\"#f0f921\"]],\"sequentialminus\":[[0.0,\"#0d0887\"],[0.1111111111111111,\"#46039f\"],[0.2222222222222222,\"#7201a8\"],[0.3333333333333333,\"#9c179e\"],[0.4444444444444444,\"#bd3786\"],[0.5555555555555556,\"#d8576b\"],[0.6666666666666666,\"#ed7953\"],[0.7777777777777778,\"#fb9f3a\"],[0.8888888888888888,\"#fdca26\"],[1.0,\"#f0f921\"]],\"diverging\":[[0,\"#8e0152\"],[0.1,\"#c51b7d\"],[0.2,\"#de77ae\"],[0.3,\"#f1b6da\"],[0.4,\"#fde0ef\"],[0.5,\"#f7f7f7\"],[0.6,\"#e6f5d0\"],[0.7,\"#b8e186\"],[0.8,\"#7fbc41\"],[0.9,\"#4d9221\"],[1,\"#276419\"]]},\"xaxis\":{\"gridcolor\":\"white\",\"linecolor\":\"white\",\"ticks\":\"\",\"title\":{\"standoff\":15},\"zerolinecolor\":\"white\",\"automargin\":true,\"zerolinewidth\":2},\"yaxis\":{\"gridcolor\":\"white\",\"linecolor\":\"white\",\"ticks\":\"\",\"title\":{\"standoff\":15},\"zerolinecolor\":\"white\",\"automargin\":true,\"zerolinewidth\":2},\"scene\":{\"xaxis\":{\"backgroundcolor\":\"#E5ECF6\",\"gridcolor\":\"white\",\"linecolor\":\"white\",\"showbackground\":true,\"ticks\":\"\",\"zerolinecolor\":\"white\",\"gridwidth\":2},\"yaxis\":{\"backgroundcolor\":\"#E5ECF6\",\"gridcolor\":\"white\",\"linecolor\":\"white\",\"showbackground\":true,\"ticks\":\"\",\"zerolinecolor\":\"white\",\"gridwidth\":2},\"zaxis\":{\"backgroundcolor\":\"#E5ECF6\",\"gridcolor\":\"white\",\"linecolor\":\"white\",\"showbackground\":true,\"ticks\":\"\",\"zerolinecolor\":\"white\",\"gridwidth\":2}},\"shapedefaults\":{\"line\":{\"color\":\"#2a3f5f\"}},\"annotationdefaults\":{\"arrowcolor\":\"#2a3f5f\",\"arrowhead\":0,\"arrowwidth\":1},\"geo\":{\"bgcolor\":\"white\",\"landcolor\":\"#E5ECF6\",\"subunitcolor\":\"white\",\"showland\":true,\"showlakes\":true,\"lakecolor\":\"white\"},\"title\":{\"x\":0.05},\"mapbox\":{\"style\":\"light\"}}},\"xaxis\":{\"anchor\":\"y\",\"domain\":[0.0,1.0],\"scaleanchor\":\"y\",\"constrain\":\"domain\",\"title\":{\"text\":\"Position\"}},\"yaxis\":{\"anchor\":\"x\",\"domain\":[0.0,1.0],\"autorange\":\"reversed\",\"constrain\":\"domain\",\"title\":{\"text\":\"Layer\"}},\"coloraxis\":{\"colorscale\":[[0.0,\"rgb(103,0,31)\"],[0.1,\"rgb(178,24,43)\"],[0.2,\"rgb(214,96,77)\"],[0.3,\"rgb(244,165,130)\"],[0.4,\"rgb(253,219,199)\"],[0.5,\"rgb(247,247,247)\"],[0.6,\"rgb(209,229,240)\"],[0.7,\"rgb(146,197,222)\"],[0.8,\"rgb(67,147,195)\"],[0.9,\"rgb(33,102,172)\"],[1.0,\"rgb(5,48,97)\"]],\"cmid\":0.0},\"title\":{\"text\":\"resid_pre Activation Patching\"},\"width\":600},                        {\"responsive\": true}                    ).then(function(){\n",
       "                            \n",
       "var gd = document.getElementById('dca67156-eab8-4166-9228-7d48ef3820f7');\n",
       "var x = new MutationObserver(function (mutations, observer) {{\n",
       "        var display = window.getComputedStyle(gd).display;\n",
       "        if (!display || display === 'none') {{\n",
       "            console.log([gd, 'removed!']);\n",
       "            Plotly.purge(gd);\n",
       "            observer.disconnect();\n",
       "        }}\n",
       "}});\n",
       "\n",
       "// Listen for the removal of the full notebook cells\n",
       "var notebookContainer = gd.closest('#notebook-container');\n",
       "if (notebookContainer) {{\n",
       "    x.observe(notebookContainer, {childList: true});\n",
       "}}\n",
       "\n",
       "// Listen for the clearing of the current output cell\n",
       "var outputEl = gd.closest('.output');\n",
       "if (outputEl) {{\n",
       "    x.observe(outputEl, {childList: true});\n",
       "}}\n",
       "\n",
       "                        })                };                });            </script>        </div>"
      ]
     },
     "metadata": {},
     "output_type": "display_data"
    }
   ],
   "source": [
    "act_patch_resid_pre = patching.get_act_patch_resid_pre(\n",
    "    model = model,\n",
    "    corrupted_tokens = corrupted_tokens,\n",
    "    clean_cache = clean_cache,\n",
    "    patching_metric = ioi_metric\n",
    ")\n",
    "\n",
    "labels = [f\"{tok} {i}\" for i, tok in enumerate(model.to_str_tokens(clean_tokens[0]))]\n",
    "\n",
    "imshow(\n",
    "    act_patch_resid_pre, \n",
    "    labels={\"x\": \"Position\", \"y\": \"Layer\"},\n",
    "    x=labels,\n",
    "    title=\"resid_pre Activation Patching\",\n",
    "    width=600\n",
    ")"
   ]
  },
  {
   "cell_type": "code",
   "execution_count": 123,
   "metadata": {},
   "outputs": [
    {
     "data": {
      "text/plain": [
       "torch.Size([8, 15, 768])"
      ]
     },
     "execution_count": 123,
     "metadata": {},
     "output_type": "execute_result"
    }
   ],
   "source": [
    "clean_cache['resid_pre', 0].shape"
   ]
  },
  {
   "attachments": {},
   "cell_type": "markdown",
   "metadata": {},
   "source": [
    "Implement head-to-residual patching --> patches place from residual stream"
   ]
  },
  {
   "cell_type": "code",
   "execution_count": 124,
   "metadata": {},
   "outputs": [],
   "source": [
    "def patch_residual_component(\n",
    "    corrupted_residual_component: Float[Tensor, \"batch pos d_model\"],\n",
    "    hook: HookPoint, \n",
    "    pos: int, \n",
    "    clean_cache: ActivationCache\n",
    ") -> Float[Tensor, \"batch pos d_model\"]:\n",
    "    '''\n",
    "    Patches a given sequence position in the residual stream, using the value\n",
    "    from the clean cache.\n",
    "    '''\n",
    "    # print(hook.name)\n",
    "    ret = corrupted_residual_component.clone()\n",
    "    ret[:, pos] = clean_cache[hook.name][ :, pos]\n",
    "    return ret\n",
    "\n",
    "def get_act_patch_resid_pre(\n",
    "    model: HookedTransformer, \n",
    "    corrupted_tokens: Float[Tensor, \"batch pos\"], \n",
    "    clean_cache: ActivationCache, \n",
    "    patching_metric: Callable[[Float[Tensor, \"batch pos d_vocab\"]], float]\n",
    ") -> Float[Tensor, \"layer pos\"]:\n",
    "    '''\n",
    "    Returns an array of results of patching each position at each layer in the residual\n",
    "    stream, using the value from the clean cache.\n",
    "\n",
    "    The results are calculated using the patching_metric function, which should be\n",
    "    called on the model's logit output.\n",
    "    '''\n",
    "    n_layers = model.cfg.n_layers\n",
    "    n_pos = corrupted_tokens.shape[1]\n",
    "    results = t.zeros((n_layers, n_pos)).to(device)\n",
    "    for layer in range(n_layers):\n",
    "        for pos in range(n_pos):\n",
    "            model.reset_hooks()\n",
    "            hook = functools.partial(patch_residual_component, pos=pos, clean_cache=clean_cache)\n",
    "            logits = model.run_with_hooks(corrupted_tokens, fwd_hooks=[(\n",
    "                utils.get_act_name(\"resid_pre\", layer), hook)]\n",
    "            )\n",
    "            results[layer, pos] = ioi_metric(logits)\n",
    "    \n",
    "    return results\n",
    "\n",
    "\n",
    "act_patch_resid_pre_own = get_act_patch_resid_pre(model, corrupted_tokens, clean_cache, ioi_metric)\n",
    "\n",
    "t.testing.assert_close(act_patch_resid_pre, act_patch_resid_pre_own)"
   ]
  },
  {
   "cell_type": "code",
   "execution_count": 125,
   "metadata": {},
   "outputs": [
    {
     "data": {
      "application/vnd.plotly.v1+json": {
       "config": {
        "plotlyServerURL": "https://plot.ly"
       },
       "data": [
        {
         "coloraxis": "coloraxis",
         "hovertemplate": "Sequence Position: %{x}<br>Layer: %{y}<br>color: %{z}<extra></extra>",
         "name": "0",
         "type": "heatmap",
         "x": [
          "<|endoftext|> 0",
          "When 1",
          " John 2",
          " and 3",
          " Mary 4",
          " went 5",
          " to 6",
          " the 7",
          " shops 8",
          ", 9",
          " John 10",
          " gave 11",
          " the 12",
          " bag 13",
          " to 14"
         ],
         "xaxis": "x",
         "yaxis": "y",
         "z": [
          [
           0,
           0,
           0,
           0,
           0,
           0,
           0,
           0,
           0,
           0,
           1,
           0,
           0,
           0,
           0
          ],
          [
           0,
           0,
           0,
           0,
           0,
           0,
           0,
           0,
           0,
           0,
           1.000651240348816,
           -0.00024802208645269275,
           0.000008793205779511482,
           -0.0003653543535619974,
           -0.000049000307626556605
          ],
          [
           0,
           0,
           0,
           0,
           0,
           0,
           0,
           0,
           0,
           0,
           1.001052737236023,
           -0.000027722091545001604,
           -0.000021009720512665808,
           -0.0004596967191901058,
           -0.0005937762907706201
          ],
          [
           0,
           0,
           0,
           0,
           0,
           0,
           0,
           0,
           0,
           0,
           1.0002667903900146,
           0.0008666006033308804,
           0.000515778549015522,
           -0.0009938671719282866,
           -0.0008658958249725401
          ],
          [
           0,
           0,
           0,
           0,
           0,
           0,
           0,
           0,
           0,
           0,
           0.9949095845222473,
           0.0054291668348014355,
           0.0016047264216467738,
           -0.0006188134429976344,
           -0.0016330190701410174
          ],
          [
           0,
           0,
           0,
           0,
           0,
           0,
           0,
           0,
           0,
           0,
           0.9675675630569458,
           0.03134079650044441,
           0.0028416821733117104,
           -0.0012315186904743314,
           -0.0009871212532743812
          ],
          [
           0,
           0,
           0,
           0,
           0,
           0,
           0,
           0,
           0,
           0,
           0.9675213694572449,
           0.030999742448329926,
           0.0017811947036534548,
           -0.00048644549679011106,
           -0.000648045854177326
          ],
          [
           0,
           0,
           0,
           0,
           0,
           0,
           0,
           0,
           0,
           0,
           0.9228334426879883,
           0.05134352669119835,
           0.004729737993329763,
           0.00093402637867257,
           0.01704653538763523
          ],
          [
           0,
           0,
           0,
           0,
           0,
           0,
           0,
           0,
           0,
           0,
           0.6565515995025635,
           0.023855766281485558,
           0.002357048913836479,
           -0.00001688161319179926,
           0.3186889886856079
          ],
          [
           0,
           0,
           0,
           0,
           0,
           0,
           0,
           0,
           0,
           0,
           0.0273039098829031,
           0.03142436593770981,
           0.0018201264319941401,
           0.0007987049757502973,
           0.9383856058120728
          ],
          [
           0,
           0,
           0,
           0,
           0,
           0,
           0,
           0,
           0,
           0,
           -0.026844650506973267,
           0.020980387926101685,
           0.0012514543486759067,
           0.00032353628193959594,
           1.0048311948776245
          ],
          [
           0,
           0,
           0,
           0,
           0,
           0,
           0,
           0,
           0,
           0,
           -0.005686989054083824,
           0.014263150282204151,
           0.00048647908261045814,
           -0.0000900128943612799,
           0.9914203882217407
          ]
         ]
        }
       ],
       "layout": {
        "coloraxis": {
         "cmid": 0,
         "colorscale": [
          [
           0,
           "rgb(103,0,31)"
          ],
          [
           0.1,
           "rgb(178,24,43)"
          ],
          [
           0.2,
           "rgb(214,96,77)"
          ],
          [
           0.3,
           "rgb(244,165,130)"
          ],
          [
           0.4,
           "rgb(253,219,199)"
          ],
          [
           0.5,
           "rgb(247,247,247)"
          ],
          [
           0.6,
           "rgb(209,229,240)"
          ],
          [
           0.7,
           "rgb(146,197,222)"
          ],
          [
           0.8,
           "rgb(67,147,195)"
          ],
          [
           0.9,
           "rgb(33,102,172)"
          ],
          [
           1,
           "rgb(5,48,97)"
          ]
         ]
        },
        "template": {
         "data": {
          "bar": [
           {
            "error_x": {
             "color": "#2a3f5f"
            },
            "error_y": {
             "color": "#2a3f5f"
            },
            "marker": {
             "line": {
              "color": "#E5ECF6",
              "width": 0.5
             },
             "pattern": {
              "fillmode": "overlay",
              "size": 10,
              "solidity": 0.2
             }
            },
            "type": "bar"
           }
          ],
          "barpolar": [
           {
            "marker": {
             "line": {
              "color": "#E5ECF6",
              "width": 0.5
             },
             "pattern": {
              "fillmode": "overlay",
              "size": 10,
              "solidity": 0.2
             }
            },
            "type": "barpolar"
           }
          ],
          "carpet": [
           {
            "aaxis": {
             "endlinecolor": "#2a3f5f",
             "gridcolor": "white",
             "linecolor": "white",
             "minorgridcolor": "white",
             "startlinecolor": "#2a3f5f"
            },
            "baxis": {
             "endlinecolor": "#2a3f5f",
             "gridcolor": "white",
             "linecolor": "white",
             "minorgridcolor": "white",
             "startlinecolor": "#2a3f5f"
            },
            "type": "carpet"
           }
          ],
          "choropleth": [
           {
            "colorbar": {
             "outlinewidth": 0,
             "ticks": ""
            },
            "type": "choropleth"
           }
          ],
          "contour": [
           {
            "colorbar": {
             "outlinewidth": 0,
             "ticks": ""
            },
            "colorscale": [
             [
              0,
              "#0d0887"
             ],
             [
              0.1111111111111111,
              "#46039f"
             ],
             [
              0.2222222222222222,
              "#7201a8"
             ],
             [
              0.3333333333333333,
              "#9c179e"
             ],
             [
              0.4444444444444444,
              "#bd3786"
             ],
             [
              0.5555555555555556,
              "#d8576b"
             ],
             [
              0.6666666666666666,
              "#ed7953"
             ],
             [
              0.7777777777777778,
              "#fb9f3a"
             ],
             [
              0.8888888888888888,
              "#fdca26"
             ],
             [
              1,
              "#f0f921"
             ]
            ],
            "type": "contour"
           }
          ],
          "contourcarpet": [
           {
            "colorbar": {
             "outlinewidth": 0,
             "ticks": ""
            },
            "type": "contourcarpet"
           }
          ],
          "heatmap": [
           {
            "colorbar": {
             "outlinewidth": 0,
             "ticks": ""
            },
            "colorscale": [
             [
              0,
              "#0d0887"
             ],
             [
              0.1111111111111111,
              "#46039f"
             ],
             [
              0.2222222222222222,
              "#7201a8"
             ],
             [
              0.3333333333333333,
              "#9c179e"
             ],
             [
              0.4444444444444444,
              "#bd3786"
             ],
             [
              0.5555555555555556,
              "#d8576b"
             ],
             [
              0.6666666666666666,
              "#ed7953"
             ],
             [
              0.7777777777777778,
              "#fb9f3a"
             ],
             [
              0.8888888888888888,
              "#fdca26"
             ],
             [
              1,
              "#f0f921"
             ]
            ],
            "type": "heatmap"
           }
          ],
          "heatmapgl": [
           {
            "colorbar": {
             "outlinewidth": 0,
             "ticks": ""
            },
            "colorscale": [
             [
              0,
              "#0d0887"
             ],
             [
              0.1111111111111111,
              "#46039f"
             ],
             [
              0.2222222222222222,
              "#7201a8"
             ],
             [
              0.3333333333333333,
              "#9c179e"
             ],
             [
              0.4444444444444444,
              "#bd3786"
             ],
             [
              0.5555555555555556,
              "#d8576b"
             ],
             [
              0.6666666666666666,
              "#ed7953"
             ],
             [
              0.7777777777777778,
              "#fb9f3a"
             ],
             [
              0.8888888888888888,
              "#fdca26"
             ],
             [
              1,
              "#f0f921"
             ]
            ],
            "type": "heatmapgl"
           }
          ],
          "histogram": [
           {
            "marker": {
             "pattern": {
              "fillmode": "overlay",
              "size": 10,
              "solidity": 0.2
             }
            },
            "type": "histogram"
           }
          ],
          "histogram2d": [
           {
            "colorbar": {
             "outlinewidth": 0,
             "ticks": ""
            },
            "colorscale": [
             [
              0,
              "#0d0887"
             ],
             [
              0.1111111111111111,
              "#46039f"
             ],
             [
              0.2222222222222222,
              "#7201a8"
             ],
             [
              0.3333333333333333,
              "#9c179e"
             ],
             [
              0.4444444444444444,
              "#bd3786"
             ],
             [
              0.5555555555555556,
              "#d8576b"
             ],
             [
              0.6666666666666666,
              "#ed7953"
             ],
             [
              0.7777777777777778,
              "#fb9f3a"
             ],
             [
              0.8888888888888888,
              "#fdca26"
             ],
             [
              1,
              "#f0f921"
             ]
            ],
            "type": "histogram2d"
           }
          ],
          "histogram2dcontour": [
           {
            "colorbar": {
             "outlinewidth": 0,
             "ticks": ""
            },
            "colorscale": [
             [
              0,
              "#0d0887"
             ],
             [
              0.1111111111111111,
              "#46039f"
             ],
             [
              0.2222222222222222,
              "#7201a8"
             ],
             [
              0.3333333333333333,
              "#9c179e"
             ],
             [
              0.4444444444444444,
              "#bd3786"
             ],
             [
              0.5555555555555556,
              "#d8576b"
             ],
             [
              0.6666666666666666,
              "#ed7953"
             ],
             [
              0.7777777777777778,
              "#fb9f3a"
             ],
             [
              0.8888888888888888,
              "#fdca26"
             ],
             [
              1,
              "#f0f921"
             ]
            ],
            "type": "histogram2dcontour"
           }
          ],
          "mesh3d": [
           {
            "colorbar": {
             "outlinewidth": 0,
             "ticks": ""
            },
            "type": "mesh3d"
           }
          ],
          "parcoords": [
           {
            "line": {
             "colorbar": {
              "outlinewidth": 0,
              "ticks": ""
             }
            },
            "type": "parcoords"
           }
          ],
          "pie": [
           {
            "automargin": true,
            "type": "pie"
           }
          ],
          "scatter": [
           {
            "fillpattern": {
             "fillmode": "overlay",
             "size": 10,
             "solidity": 0.2
            },
            "type": "scatter"
           }
          ],
          "scatter3d": [
           {
            "line": {
             "colorbar": {
              "outlinewidth": 0,
              "ticks": ""
             }
            },
            "marker": {
             "colorbar": {
              "outlinewidth": 0,
              "ticks": ""
             }
            },
            "type": "scatter3d"
           }
          ],
          "scattercarpet": [
           {
            "marker": {
             "colorbar": {
              "outlinewidth": 0,
              "ticks": ""
             }
            },
            "type": "scattercarpet"
           }
          ],
          "scattergeo": [
           {
            "marker": {
             "colorbar": {
              "outlinewidth": 0,
              "ticks": ""
             }
            },
            "type": "scattergeo"
           }
          ],
          "scattergl": [
           {
            "marker": {
             "colorbar": {
              "outlinewidth": 0,
              "ticks": ""
             }
            },
            "type": "scattergl"
           }
          ],
          "scattermapbox": [
           {
            "marker": {
             "colorbar": {
              "outlinewidth": 0,
              "ticks": ""
             }
            },
            "type": "scattermapbox"
           }
          ],
          "scatterpolar": [
           {
            "marker": {
             "colorbar": {
              "outlinewidth": 0,
              "ticks": ""
             }
            },
            "type": "scatterpolar"
           }
          ],
          "scatterpolargl": [
           {
            "marker": {
             "colorbar": {
              "outlinewidth": 0,
              "ticks": ""
             }
            },
            "type": "scatterpolargl"
           }
          ],
          "scatterternary": [
           {
            "marker": {
             "colorbar": {
              "outlinewidth": 0,
              "ticks": ""
             }
            },
            "type": "scatterternary"
           }
          ],
          "surface": [
           {
            "colorbar": {
             "outlinewidth": 0,
             "ticks": ""
            },
            "colorscale": [
             [
              0,
              "#0d0887"
             ],
             [
              0.1111111111111111,
              "#46039f"
             ],
             [
              0.2222222222222222,
              "#7201a8"
             ],
             [
              0.3333333333333333,
              "#9c179e"
             ],
             [
              0.4444444444444444,
              "#bd3786"
             ],
             [
              0.5555555555555556,
              "#d8576b"
             ],
             [
              0.6666666666666666,
              "#ed7953"
             ],
             [
              0.7777777777777778,
              "#fb9f3a"
             ],
             [
              0.8888888888888888,
              "#fdca26"
             ],
             [
              1,
              "#f0f921"
             ]
            ],
            "type": "surface"
           }
          ],
          "table": [
           {
            "cells": {
             "fill": {
              "color": "#EBF0F8"
             },
             "line": {
              "color": "white"
             }
            },
            "header": {
             "fill": {
              "color": "#C8D4E3"
             },
             "line": {
              "color": "white"
             }
            },
            "type": "table"
           }
          ]
         },
         "layout": {
          "annotationdefaults": {
           "arrowcolor": "#2a3f5f",
           "arrowhead": 0,
           "arrowwidth": 1
          },
          "autotypenumbers": "strict",
          "coloraxis": {
           "colorbar": {
            "outlinewidth": 0,
            "ticks": ""
           }
          },
          "colorscale": {
           "diverging": [
            [
             0,
             "#8e0152"
            ],
            [
             0.1,
             "#c51b7d"
            ],
            [
             0.2,
             "#de77ae"
            ],
            [
             0.3,
             "#f1b6da"
            ],
            [
             0.4,
             "#fde0ef"
            ],
            [
             0.5,
             "#f7f7f7"
            ],
            [
             0.6,
             "#e6f5d0"
            ],
            [
             0.7,
             "#b8e186"
            ],
            [
             0.8,
             "#7fbc41"
            ],
            [
             0.9,
             "#4d9221"
            ],
            [
             1,
             "#276419"
            ]
           ],
           "sequential": [
            [
             0,
             "#0d0887"
            ],
            [
             0.1111111111111111,
             "#46039f"
            ],
            [
             0.2222222222222222,
             "#7201a8"
            ],
            [
             0.3333333333333333,
             "#9c179e"
            ],
            [
             0.4444444444444444,
             "#bd3786"
            ],
            [
             0.5555555555555556,
             "#d8576b"
            ],
            [
             0.6666666666666666,
             "#ed7953"
            ],
            [
             0.7777777777777778,
             "#fb9f3a"
            ],
            [
             0.8888888888888888,
             "#fdca26"
            ],
            [
             1,
             "#f0f921"
            ]
           ],
           "sequentialminus": [
            [
             0,
             "#0d0887"
            ],
            [
             0.1111111111111111,
             "#46039f"
            ],
            [
             0.2222222222222222,
             "#7201a8"
            ],
            [
             0.3333333333333333,
             "#9c179e"
            ],
            [
             0.4444444444444444,
             "#bd3786"
            ],
            [
             0.5555555555555556,
             "#d8576b"
            ],
            [
             0.6666666666666666,
             "#ed7953"
            ],
            [
             0.7777777777777778,
             "#fb9f3a"
            ],
            [
             0.8888888888888888,
             "#fdca26"
            ],
            [
             1,
             "#f0f921"
            ]
           ]
          },
          "colorway": [
           "#636efa",
           "#EF553B",
           "#00cc96",
           "#ab63fa",
           "#FFA15A",
           "#19d3f3",
           "#FF6692",
           "#B6E880",
           "#FF97FF",
           "#FECB52"
          ],
          "font": {
           "color": "#2a3f5f"
          },
          "geo": {
           "bgcolor": "white",
           "lakecolor": "white",
           "landcolor": "#E5ECF6",
           "showlakes": true,
           "showland": true,
           "subunitcolor": "white"
          },
          "hoverlabel": {
           "align": "left"
          },
          "hovermode": "closest",
          "mapbox": {
           "style": "light"
          },
          "paper_bgcolor": "white",
          "plot_bgcolor": "#E5ECF6",
          "polar": {
           "angularaxis": {
            "gridcolor": "white",
            "linecolor": "white",
            "ticks": ""
           },
           "bgcolor": "#E5ECF6",
           "radialaxis": {
            "gridcolor": "white",
            "linecolor": "white",
            "ticks": ""
           }
          },
          "scene": {
           "xaxis": {
            "backgroundcolor": "#E5ECF6",
            "gridcolor": "white",
            "gridwidth": 2,
            "linecolor": "white",
            "showbackground": true,
            "ticks": "",
            "zerolinecolor": "white"
           },
           "yaxis": {
            "backgroundcolor": "#E5ECF6",
            "gridcolor": "white",
            "gridwidth": 2,
            "linecolor": "white",
            "showbackground": true,
            "ticks": "",
            "zerolinecolor": "white"
           },
           "zaxis": {
            "backgroundcolor": "#E5ECF6",
            "gridcolor": "white",
            "gridwidth": 2,
            "linecolor": "white",
            "showbackground": true,
            "ticks": "",
            "zerolinecolor": "white"
           }
          },
          "shapedefaults": {
           "line": {
            "color": "#2a3f5f"
           }
          },
          "ternary": {
           "aaxis": {
            "gridcolor": "white",
            "linecolor": "white",
            "ticks": ""
           },
           "baxis": {
            "gridcolor": "white",
            "linecolor": "white",
            "ticks": ""
           },
           "bgcolor": "#E5ECF6",
           "caxis": {
            "gridcolor": "white",
            "linecolor": "white",
            "ticks": ""
           }
          },
          "title": {
           "x": 0.05
          },
          "xaxis": {
           "automargin": true,
           "gridcolor": "white",
           "linecolor": "white",
           "ticks": "",
           "title": {
            "standoff": 15
           },
           "zerolinecolor": "white",
           "zerolinewidth": 2
          },
          "yaxis": {
           "automargin": true,
           "gridcolor": "white",
           "linecolor": "white",
           "ticks": "",
           "title": {
            "standoff": 15
           },
           "zerolinecolor": "white",
           "zerolinewidth": 2
          }
         }
        },
        "title": {
         "text": "Logit Difference From Patched Residual Stream"
        },
        "width": 600,
        "xaxis": {
         "anchor": "y",
         "constrain": "domain",
         "domain": [
          0,
          1
         ],
         "scaleanchor": "y",
         "title": {
          "text": "Sequence Position"
         }
        },
        "yaxis": {
         "anchor": "x",
         "autorange": "reversed",
         "constrain": "domain",
         "domain": [
          0,
          1
         ],
         "title": {
          "text": "Layer"
         }
        }
       }
      },
      "text/html": [
       "<div>                            <div id=\"14b0a355-9a1e-49e2-9a6e-5c3440655b4d\" class=\"plotly-graph-div\" style=\"height:525px; width:600px;\"></div>            <script type=\"text/javascript\">                require([\"plotly\"], function(Plotly) {                    window.PLOTLYENV=window.PLOTLYENV || {};                                    if (document.getElementById(\"14b0a355-9a1e-49e2-9a6e-5c3440655b4d\")) {                    Plotly.newPlot(                        \"14b0a355-9a1e-49e2-9a6e-5c3440655b4d\",                        [{\"coloraxis\":\"coloraxis\",\"name\":\"0\",\"x\":[\"<|endoftext|> 0\",\"When 1\",\" John 2\",\" and 3\",\" Mary 4\",\" went 5\",\" to 6\",\" the 7\",\" shops 8\",\", 9\",\" John 10\",\" gave 11\",\" the 12\",\" bag 13\",\" to 14\"],\"z\":[[0.0,0.0,0.0,0.0,0.0,0.0,0.0,0.0,0.0,0.0,1.0,0.0,0.0,0.0,0.0],[0.0,0.0,0.0,0.0,0.0,0.0,0.0,0.0,0.0,0.0,1.000651240348816,-0.00024802208645269275,8.793205779511482e-06,-0.0003653543535619974,-4.9000307626556605e-05],[0.0,0.0,0.0,0.0,0.0,0.0,0.0,0.0,0.0,0.0,1.001052737236023,-2.7722091545001604e-05,-2.1009720512665808e-05,-0.0004596967191901058,-0.0005937762907706201],[0.0,0.0,0.0,0.0,0.0,0.0,0.0,0.0,0.0,0.0,1.0002667903900146,0.0008666006033308804,0.000515778549015522,-0.0009938671719282866,-0.0008658958249725401],[0.0,0.0,0.0,0.0,0.0,0.0,0.0,0.0,0.0,0.0,0.9949095845222473,0.0054291668348014355,0.0016047264216467738,-0.0006188134429976344,-0.0016330190701410174],[0.0,0.0,0.0,0.0,0.0,0.0,0.0,0.0,0.0,0.0,0.9675675630569458,0.03134079650044441,0.0028416821733117104,-0.0012315186904743314,-0.0009871212532743812],[0.0,0.0,0.0,0.0,0.0,0.0,0.0,0.0,0.0,0.0,0.9675213694572449,0.030999742448329926,0.0017811947036534548,-0.00048644549679011106,-0.000648045854177326],[0.0,0.0,0.0,0.0,0.0,0.0,0.0,0.0,0.0,0.0,0.9228334426879883,0.05134352669119835,0.004729737993329763,0.00093402637867257,0.01704653538763523],[0.0,0.0,0.0,0.0,0.0,0.0,0.0,0.0,0.0,0.0,0.6565515995025635,0.023855766281485558,0.002357048913836479,-1.688161319179926e-05,0.3186889886856079],[0.0,0.0,0.0,0.0,0.0,0.0,0.0,0.0,0.0,0.0,0.0273039098829031,0.03142436593770981,0.0018201264319941401,0.0007987049757502973,0.9383856058120728],[0.0,0.0,0.0,0.0,0.0,0.0,0.0,0.0,0.0,0.0,-0.026844650506973267,0.020980387926101685,0.0012514543486759067,0.00032353628193959594,1.0048311948776245],[0.0,0.0,0.0,0.0,0.0,0.0,0.0,0.0,0.0,0.0,-0.005686989054083824,0.014263150282204151,0.00048647908261045814,-9.00128943612799e-05,0.9914203882217407]],\"type\":\"heatmap\",\"xaxis\":\"x\",\"yaxis\":\"y\",\"hovertemplate\":\"Sequence Position: %{x}<br>Layer: %{y}<br>color: %{z}<extra></extra>\"}],                        {\"template\":{\"data\":{\"histogram2dcontour\":[{\"type\":\"histogram2dcontour\",\"colorbar\":{\"outlinewidth\":0,\"ticks\":\"\"},\"colorscale\":[[0.0,\"#0d0887\"],[0.1111111111111111,\"#46039f\"],[0.2222222222222222,\"#7201a8\"],[0.3333333333333333,\"#9c179e\"],[0.4444444444444444,\"#bd3786\"],[0.5555555555555556,\"#d8576b\"],[0.6666666666666666,\"#ed7953\"],[0.7777777777777778,\"#fb9f3a\"],[0.8888888888888888,\"#fdca26\"],[1.0,\"#f0f921\"]]}],\"choropleth\":[{\"type\":\"choropleth\",\"colorbar\":{\"outlinewidth\":0,\"ticks\":\"\"}}],\"histogram2d\":[{\"type\":\"histogram2d\",\"colorbar\":{\"outlinewidth\":0,\"ticks\":\"\"},\"colorscale\":[[0.0,\"#0d0887\"],[0.1111111111111111,\"#46039f\"],[0.2222222222222222,\"#7201a8\"],[0.3333333333333333,\"#9c179e\"],[0.4444444444444444,\"#bd3786\"],[0.5555555555555556,\"#d8576b\"],[0.6666666666666666,\"#ed7953\"],[0.7777777777777778,\"#fb9f3a\"],[0.8888888888888888,\"#fdca26\"],[1.0,\"#f0f921\"]]}],\"heatmap\":[{\"type\":\"heatmap\",\"colorbar\":{\"outlinewidth\":0,\"ticks\":\"\"},\"colorscale\":[[0.0,\"#0d0887\"],[0.1111111111111111,\"#46039f\"],[0.2222222222222222,\"#7201a8\"],[0.3333333333333333,\"#9c179e\"],[0.4444444444444444,\"#bd3786\"],[0.5555555555555556,\"#d8576b\"],[0.6666666666666666,\"#ed7953\"],[0.7777777777777778,\"#fb9f3a\"],[0.8888888888888888,\"#fdca26\"],[1.0,\"#f0f921\"]]}],\"heatmapgl\":[{\"type\":\"heatmapgl\",\"colorbar\":{\"outlinewidth\":0,\"ticks\":\"\"},\"colorscale\":[[0.0,\"#0d0887\"],[0.1111111111111111,\"#46039f\"],[0.2222222222222222,\"#7201a8\"],[0.3333333333333333,\"#9c179e\"],[0.4444444444444444,\"#bd3786\"],[0.5555555555555556,\"#d8576b\"],[0.6666666666666666,\"#ed7953\"],[0.7777777777777778,\"#fb9f3a\"],[0.8888888888888888,\"#fdca26\"],[1.0,\"#f0f921\"]]}],\"contourcarpet\":[{\"type\":\"contourcarpet\",\"colorbar\":{\"outlinewidth\":0,\"ticks\":\"\"}}],\"contour\":[{\"type\":\"contour\",\"colorbar\":{\"outlinewidth\":0,\"ticks\":\"\"},\"colorscale\":[[0.0,\"#0d0887\"],[0.1111111111111111,\"#46039f\"],[0.2222222222222222,\"#7201a8\"],[0.3333333333333333,\"#9c179e\"],[0.4444444444444444,\"#bd3786\"],[0.5555555555555556,\"#d8576b\"],[0.6666666666666666,\"#ed7953\"],[0.7777777777777778,\"#fb9f3a\"],[0.8888888888888888,\"#fdca26\"],[1.0,\"#f0f921\"]]}],\"surface\":[{\"type\":\"surface\",\"colorbar\":{\"outlinewidth\":0,\"ticks\":\"\"},\"colorscale\":[[0.0,\"#0d0887\"],[0.1111111111111111,\"#46039f\"],[0.2222222222222222,\"#7201a8\"],[0.3333333333333333,\"#9c179e\"],[0.4444444444444444,\"#bd3786\"],[0.5555555555555556,\"#d8576b\"],[0.6666666666666666,\"#ed7953\"],[0.7777777777777778,\"#fb9f3a\"],[0.8888888888888888,\"#fdca26\"],[1.0,\"#f0f921\"]]}],\"mesh3d\":[{\"type\":\"mesh3d\",\"colorbar\":{\"outlinewidth\":0,\"ticks\":\"\"}}],\"scatter\":[{\"fillpattern\":{\"fillmode\":\"overlay\",\"size\":10,\"solidity\":0.2},\"type\":\"scatter\"}],\"parcoords\":[{\"type\":\"parcoords\",\"line\":{\"colorbar\":{\"outlinewidth\":0,\"ticks\":\"\"}}}],\"scatterpolargl\":[{\"type\":\"scatterpolargl\",\"marker\":{\"colorbar\":{\"outlinewidth\":0,\"ticks\":\"\"}}}],\"bar\":[{\"error_x\":{\"color\":\"#2a3f5f\"},\"error_y\":{\"color\":\"#2a3f5f\"},\"marker\":{\"line\":{\"color\":\"#E5ECF6\",\"width\":0.5},\"pattern\":{\"fillmode\":\"overlay\",\"size\":10,\"solidity\":0.2}},\"type\":\"bar\"}],\"scattergeo\":[{\"type\":\"scattergeo\",\"marker\":{\"colorbar\":{\"outlinewidth\":0,\"ticks\":\"\"}}}],\"scatterpolar\":[{\"type\":\"scatterpolar\",\"marker\":{\"colorbar\":{\"outlinewidth\":0,\"ticks\":\"\"}}}],\"histogram\":[{\"marker\":{\"pattern\":{\"fillmode\":\"overlay\",\"size\":10,\"solidity\":0.2}},\"type\":\"histogram\"}],\"scattergl\":[{\"type\":\"scattergl\",\"marker\":{\"colorbar\":{\"outlinewidth\":0,\"ticks\":\"\"}}}],\"scatter3d\":[{\"type\":\"scatter3d\",\"line\":{\"colorbar\":{\"outlinewidth\":0,\"ticks\":\"\"}},\"marker\":{\"colorbar\":{\"outlinewidth\":0,\"ticks\":\"\"}}}],\"scattermapbox\":[{\"type\":\"scattermapbox\",\"marker\":{\"colorbar\":{\"outlinewidth\":0,\"ticks\":\"\"}}}],\"scatterternary\":[{\"type\":\"scatterternary\",\"marker\":{\"colorbar\":{\"outlinewidth\":0,\"ticks\":\"\"}}}],\"scattercarpet\":[{\"type\":\"scattercarpet\",\"marker\":{\"colorbar\":{\"outlinewidth\":0,\"ticks\":\"\"}}}],\"carpet\":[{\"aaxis\":{\"endlinecolor\":\"#2a3f5f\",\"gridcolor\":\"white\",\"linecolor\":\"white\",\"minorgridcolor\":\"white\",\"startlinecolor\":\"#2a3f5f\"},\"baxis\":{\"endlinecolor\":\"#2a3f5f\",\"gridcolor\":\"white\",\"linecolor\":\"white\",\"minorgridcolor\":\"white\",\"startlinecolor\":\"#2a3f5f\"},\"type\":\"carpet\"}],\"table\":[{\"cells\":{\"fill\":{\"color\":\"#EBF0F8\"},\"line\":{\"color\":\"white\"}},\"header\":{\"fill\":{\"color\":\"#C8D4E3\"},\"line\":{\"color\":\"white\"}},\"type\":\"table\"}],\"barpolar\":[{\"marker\":{\"line\":{\"color\":\"#E5ECF6\",\"width\":0.5},\"pattern\":{\"fillmode\":\"overlay\",\"size\":10,\"solidity\":0.2}},\"type\":\"barpolar\"}],\"pie\":[{\"automargin\":true,\"type\":\"pie\"}]},\"layout\":{\"autotypenumbers\":\"strict\",\"colorway\":[\"#636efa\",\"#EF553B\",\"#00cc96\",\"#ab63fa\",\"#FFA15A\",\"#19d3f3\",\"#FF6692\",\"#B6E880\",\"#FF97FF\",\"#FECB52\"],\"font\":{\"color\":\"#2a3f5f\"},\"hovermode\":\"closest\",\"hoverlabel\":{\"align\":\"left\"},\"paper_bgcolor\":\"white\",\"plot_bgcolor\":\"#E5ECF6\",\"polar\":{\"bgcolor\":\"#E5ECF6\",\"angularaxis\":{\"gridcolor\":\"white\",\"linecolor\":\"white\",\"ticks\":\"\"},\"radialaxis\":{\"gridcolor\":\"white\",\"linecolor\":\"white\",\"ticks\":\"\"}},\"ternary\":{\"bgcolor\":\"#E5ECF6\",\"aaxis\":{\"gridcolor\":\"white\",\"linecolor\":\"white\",\"ticks\":\"\"},\"baxis\":{\"gridcolor\":\"white\",\"linecolor\":\"white\",\"ticks\":\"\"},\"caxis\":{\"gridcolor\":\"white\",\"linecolor\":\"white\",\"ticks\":\"\"}},\"coloraxis\":{\"colorbar\":{\"outlinewidth\":0,\"ticks\":\"\"}},\"colorscale\":{\"sequential\":[[0.0,\"#0d0887\"],[0.1111111111111111,\"#46039f\"],[0.2222222222222222,\"#7201a8\"],[0.3333333333333333,\"#9c179e\"],[0.4444444444444444,\"#bd3786\"],[0.5555555555555556,\"#d8576b\"],[0.6666666666666666,\"#ed7953\"],[0.7777777777777778,\"#fb9f3a\"],[0.8888888888888888,\"#fdca26\"],[1.0,\"#f0f921\"]],\"sequentialminus\":[[0.0,\"#0d0887\"],[0.1111111111111111,\"#46039f\"],[0.2222222222222222,\"#7201a8\"],[0.3333333333333333,\"#9c179e\"],[0.4444444444444444,\"#bd3786\"],[0.5555555555555556,\"#d8576b\"],[0.6666666666666666,\"#ed7953\"],[0.7777777777777778,\"#fb9f3a\"],[0.8888888888888888,\"#fdca26\"],[1.0,\"#f0f921\"]],\"diverging\":[[0,\"#8e0152\"],[0.1,\"#c51b7d\"],[0.2,\"#de77ae\"],[0.3,\"#f1b6da\"],[0.4,\"#fde0ef\"],[0.5,\"#f7f7f7\"],[0.6,\"#e6f5d0\"],[0.7,\"#b8e186\"],[0.8,\"#7fbc41\"],[0.9,\"#4d9221\"],[1,\"#276419\"]]},\"xaxis\":{\"gridcolor\":\"white\",\"linecolor\":\"white\",\"ticks\":\"\",\"title\":{\"standoff\":15},\"zerolinecolor\":\"white\",\"automargin\":true,\"zerolinewidth\":2},\"yaxis\":{\"gridcolor\":\"white\",\"linecolor\":\"white\",\"ticks\":\"\",\"title\":{\"standoff\":15},\"zerolinecolor\":\"white\",\"automargin\":true,\"zerolinewidth\":2},\"scene\":{\"xaxis\":{\"backgroundcolor\":\"#E5ECF6\",\"gridcolor\":\"white\",\"linecolor\":\"white\",\"showbackground\":true,\"ticks\":\"\",\"zerolinecolor\":\"white\",\"gridwidth\":2},\"yaxis\":{\"backgroundcolor\":\"#E5ECF6\",\"gridcolor\":\"white\",\"linecolor\":\"white\",\"showbackground\":true,\"ticks\":\"\",\"zerolinecolor\":\"white\",\"gridwidth\":2},\"zaxis\":{\"backgroundcolor\":\"#E5ECF6\",\"gridcolor\":\"white\",\"linecolor\":\"white\",\"showbackground\":true,\"ticks\":\"\",\"zerolinecolor\":\"white\",\"gridwidth\":2}},\"shapedefaults\":{\"line\":{\"color\":\"#2a3f5f\"}},\"annotationdefaults\":{\"arrowcolor\":\"#2a3f5f\",\"arrowhead\":0,\"arrowwidth\":1},\"geo\":{\"bgcolor\":\"white\",\"landcolor\":\"#E5ECF6\",\"subunitcolor\":\"white\",\"showland\":true,\"showlakes\":true,\"lakecolor\":\"white\"},\"title\":{\"x\":0.05},\"mapbox\":{\"style\":\"light\"}}},\"xaxis\":{\"anchor\":\"y\",\"domain\":[0.0,1.0],\"scaleanchor\":\"y\",\"constrain\":\"domain\",\"title\":{\"text\":\"Sequence Position\"}},\"yaxis\":{\"anchor\":\"x\",\"domain\":[0.0,1.0],\"autorange\":\"reversed\",\"constrain\":\"domain\",\"title\":{\"text\":\"Layer\"}},\"coloraxis\":{\"colorscale\":[[0.0,\"rgb(103,0,31)\"],[0.1,\"rgb(178,24,43)\"],[0.2,\"rgb(214,96,77)\"],[0.3,\"rgb(244,165,130)\"],[0.4,\"rgb(253,219,199)\"],[0.5,\"rgb(247,247,247)\"],[0.6,\"rgb(209,229,240)\"],[0.7,\"rgb(146,197,222)\"],[0.8,\"rgb(67,147,195)\"],[0.9,\"rgb(33,102,172)\"],[1.0,\"rgb(5,48,97)\"]],\"cmid\":0.0},\"title\":{\"text\":\"Logit Difference From Patched Residual Stream\"},\"width\":600},                        {\"responsive\": true}                    ).then(function(){\n",
       "                            \n",
       "var gd = document.getElementById('14b0a355-9a1e-49e2-9a6e-5c3440655b4d');\n",
       "var x = new MutationObserver(function (mutations, observer) {{\n",
       "        var display = window.getComputedStyle(gd).display;\n",
       "        if (!display || display === 'none') {{\n",
       "            console.log([gd, 'removed!']);\n",
       "            Plotly.purge(gd);\n",
       "            observer.disconnect();\n",
       "        }}\n",
       "}});\n",
       "\n",
       "// Listen for the removal of the full notebook cells\n",
       "var notebookContainer = gd.closest('#notebook-container');\n",
       "if (notebookContainer) {{\n",
       "    x.observe(notebookContainer, {childList: true});\n",
       "}}\n",
       "\n",
       "// Listen for the clearing of the current output cell\n",
       "var outputEl = gd.closest('.output');\n",
       "if (outputEl) {{\n",
       "    x.observe(outputEl, {childList: true});\n",
       "}}\n",
       "\n",
       "                        })                };                });            </script>        </div>"
      ]
     },
     "metadata": {},
     "output_type": "display_data"
    }
   ],
   "source": [
    "imshow(\n",
    "    act_patch_resid_pre_own, \n",
    "    x=labels, \n",
    "    title=\"Logit Difference From Patched Residual Stream\", \n",
    "    labels={\"x\":\"Sequence Position\", \"y\":\"Layer\"},\n",
    "    width=600 # If you remove this argument, the plot will usually fill the available space\n",
    ")"
   ]
  },
  {
   "attachments": {},
   "cell_type": "markdown",
   "metadata": {},
   "source": [
    "Patch in residual stream by block -- just after the attention layer or just after the MLP"
   ]
  },
  {
   "cell_type": "code",
   "execution_count": 126,
   "metadata": {},
   "outputs": [
    {
     "data": {
      "application/vnd.jupyter.widget-view+json": {
       "model_id": "1141fb8a06754d57b3137631769f6c3e",
       "version_major": 2,
       "version_minor": 0
      },
      "text/plain": [
       "  0%|          | 0/180 [00:00<?, ?it/s]"
      ]
     },
     "metadata": {},
     "output_type": "display_data"
    },
    {
     "data": {
      "application/vnd.jupyter.widget-view+json": {
       "model_id": "0679ca281f1844659082af7d4de84204",
       "version_major": 2,
       "version_minor": 0
      },
      "text/plain": [
       "  0%|          | 0/180 [00:00<?, ?it/s]"
      ]
     },
     "metadata": {},
     "output_type": "display_data"
    },
    {
     "data": {
      "application/vnd.jupyter.widget-view+json": {
       "model_id": "f50ddf94efe345d9a5313dd915b97244",
       "version_major": 2,
       "version_minor": 0
      },
      "text/plain": [
       "  0%|          | 0/180 [00:00<?, ?it/s]"
      ]
     },
     "metadata": {},
     "output_type": "display_data"
    },
    {
     "data": {
      "application/vnd.plotly.v1+json": {
       "config": {
        "plotlyServerURL": "https://plot.ly"
       },
       "data": [
        {
         "coloraxis": "coloraxis",
         "hovertemplate": "Sequence Position: %{x}<br>Layer: %{y}<br>color: %{z}<extra></extra>",
         "name": "0",
         "type": "heatmap",
         "x": [
          "<|endoftext|> 0",
          "When 1",
          " John 2",
          " and 3",
          " Mary 4",
          " went 5",
          " to 6",
          " the 7",
          " shops 8",
          ", 9",
          " John 10",
          " gave 11",
          " the 12",
          " bag 13",
          " to 14"
         ],
         "xaxis": "x",
         "yaxis": "y",
         "z": [
          [
           0,
           0,
           0,
           0,
           0,
           0,
           0,
           0,
           0,
           0,
           1,
           0,
           0,
           0,
           0
          ],
          [
           0,
           0,
           0,
           0,
           0,
           0,
           0,
           0,
           0,
           0,
           1.000651240348816,
           -0.00024802208645269275,
           0.000008793205779511482,
           -0.0003653543535619974,
           -0.000049000307626556605
          ],
          [
           0,
           0,
           0,
           0,
           0,
           0,
           0,
           0,
           0,
           0,
           1.001052737236023,
           -0.000027722091545001604,
           -0.000021009720512665808,
           -0.0004596967191901058,
           -0.0005937762907706201
          ],
          [
           0,
           0,
           0,
           0,
           0,
           0,
           0,
           0,
           0,
           0,
           1.0002667903900146,
           0.0008666006033308804,
           0.000515778549015522,
           -0.0009938671719282866,
           -0.0008658958249725401
          ],
          [
           0,
           0,
           0,
           0,
           0,
           0,
           0,
           0,
           0,
           0,
           0.9949095845222473,
           0.0054291668348014355,
           0.0016047264216467738,
           -0.0006188134429976344,
           -0.0016330190701410174
          ],
          [
           0,
           0,
           0,
           0,
           0,
           0,
           0,
           0,
           0,
           0,
           0.9675675630569458,
           0.03134079650044441,
           0.0028416821733117104,
           -0.0012315186904743314,
           -0.0009871212532743812
          ],
          [
           0,
           0,
           0,
           0,
           0,
           0,
           0,
           0,
           0,
           0,
           0.9675213694572449,
           0.030999742448329926,
           0.0017811947036534548,
           -0.00048644549679011106,
           -0.000648045854177326
          ],
          [
           0,
           0,
           0,
           0,
           0,
           0,
           0,
           0,
           0,
           0,
           0.9228334426879883,
           0.05134352669119835,
           0.004729737993329763,
           0.00093402637867257,
           0.01704653538763523
          ],
          [
           0,
           0,
           0,
           0,
           0,
           0,
           0,
           0,
           0,
           0,
           0.6565515995025635,
           0.023855766281485558,
           0.002357048913836479,
           -0.00001688161319179926,
           0.3186889886856079
          ],
          [
           0,
           0,
           0,
           0,
           0,
           0,
           0,
           0,
           0,
           0,
           0.0273039098829031,
           0.03142436593770981,
           0.0018201264319941401,
           0.0007987049757502973,
           0.9383856058120728
          ],
          [
           0,
           0,
           0,
           0,
           0,
           0,
           0,
           0,
           0,
           0,
           -0.026844650506973267,
           0.020980387926101685,
           0.0012514543486759067,
           0.00032353628193959594,
           1.0048311948776245
          ],
          [
           0,
           0,
           0,
           0,
           0,
           0,
           0,
           0,
           0,
           0,
           -0.005686989054083824,
           0.014263150282204151,
           0.00048647908261045814,
           -0.0000900128943612799,
           0.9914203882217407
          ]
         ]
        },
        {
         "coloraxis": "coloraxis",
         "hovertemplate": "Sequence Position: %{x}<br>Layer: %{y}<br>color: %{z}<extra></extra>",
         "name": "1",
         "type": "heatmap",
         "x": [
          "<|endoftext|> 0",
          "When 1",
          " John 2",
          " and 3",
          " Mary 4",
          " went 5",
          " to 6",
          " the 7",
          " shops 8",
          ", 9",
          " John 10",
          " gave 11",
          " the 12",
          " bag 13",
          " to 14"
         ],
         "xaxis": "x2",
         "yaxis": "y2",
         "z": [
          [
           0,
           0,
           0,
           0,
           0,
           0,
           0,
           0,
           0,
           0,
           0.03545944020152092,
           -0.00024802208645269275,
           0.000008793205779511482,
           -0.0003653543535619974,
           -0.000049000307626556605
          ],
          [
           0,
           0,
           0,
           0,
           0,
           0,
           0,
           0,
           0,
           0,
           -0.0029842194635421038,
           0.00007873610593378544,
           0.000019600121959229,
           0.00008007858559722081,
           -0.000597199599724263
          ],
          [
           0,
           0,
           0,
           0,
           0,
           0,
           0,
           0,
           0,
           0,
           -0.0019124887185171247,
           0.000666034989990294,
           0.00039468740578740835,
           -0.0007051345310173929,
           -0.00027413322823122144
          ],
          [
           0,
           0,
           0,
           0,
           0,
           0,
           0,
           0,
           0,
           0,
           0.15463422238826752,
           0.0038018866907805204,
           0.0005160806467756629,
           -0.00012082267494406551,
           -0.0005613555549643934
          ],
          [
           0,
           0,
           0,
           0,
           0,
           0,
           0,
           0,
           0,
           0,
           -0.005407955963164568,
           0.019581126049160957,
           0.0010070570278912783,
           -0.00024271932488773018,
           0.0007928652339614928
          ],
          [
           0,
           0,
           0,
           0,
           0,
           0,
           0,
           0,
           0,
           0,
           0.3520994782447815,
           0.0010524997487664223,
           0.00022432743571698666,
           0.0001324350741924718,
           0.00008155530667863786
          ],
          [
           0,
           0,
           0,
           0,
           0,
           0,
           0,
           0,
           0,
           0,
           0.1198611631989479,
           0.021243244409561157,
           0.002728276653215289,
           0.0013407960068434477,
           0.017973748967051506
          ],
          [
           0,
           0,
           0,
           0,
           0,
           0,
           0,
           0,
           0,
           0,
           0.013309288769960403,
           0.011508863419294357,
           0.0003740804095286876,
           -0.00004175094727543183,
           0.29759836196899414
          ],
          [
           0,
           0,
           0,
           0,
           0,
           0,
           0,
           0,
           0,
           0,
           -0.0015002149157226086,
           0.017351947724819183,
           0.0005836406489834189,
           0.001011688495054841,
           0.5697354674339294
          ],
          [
           0,
           0,
           0,
           0,
           0,
           0,
           0,
           0,
           0,
           0,
           -0.00012881039583589882,
           0.006301405839622021,
           0.0001406912924721837,
           0.00031239373493008316,
           0.27153149247169495
          ],
          [
           0,
           0,
           0,
           0,
           0,
           0,
           0,
           0,
           0,
           0,
           -0.0009378524264320731,
           0.00008598546992288902,
           0.00033199385507032275,
           0.0000014767215361644048,
           -0.19299548864364624
          ],
          [
           0,
           0,
           0,
           0,
           0,
           0,
           0,
           0,
           0,
           0,
           0,
           0,
           0,
           0,
           -0.40618953108787537
          ]
         ]
        },
        {
         "coloraxis": "coloraxis",
         "hovertemplate": "Sequence Position: %{x}<br>Layer: %{y}<br>color: %{z}<extra></extra>",
         "name": "2",
         "type": "heatmap",
         "x": [
          "<|endoftext|> 0",
          "When 1",
          " John 2",
          " and 3",
          " Mary 4",
          " went 5",
          " to 6",
          " the 7",
          " shops 8",
          ", 9",
          " John 10",
          " gave 11",
          " the 12",
          " bag 13",
          " to 14"
         ],
         "xaxis": "x3",
         "yaxis": "y3",
         "z": [
          [
           0,
           0,
           0,
           0,
           0,
           0,
           0,
           0,
           0,
           0,
           0.8507813215255737,
           -0.0002786640834528953,
           -0.0000740374525776133,
           -0.0004740276199299842,
           0.00003906599886249751
          ],
          [
           0,
           0,
           0,
           0,
           0,
           0,
           0,
           0,
           0,
           0,
           0.00886442419141531,
           0.0002209041267633438,
           0.00014847764396108687,
           -0.0000499736015626695,
           0.0003031306550838053
          ],
          [
           0,
           0,
           0,
           0,
           0,
           0,
           0,
           0,
           0,
           0,
           0.013549591414630413,
           0.00005786063411505893,
           -0.0003302150871604681,
           -0.0006397225079126656,
           0.0007723253802396357
          ],
          [
           0,
           0,
           0,
           0,
           0,
           0,
           0,
           0,
           0,
           0,
           0.0019455135334283113,
           0.0004981586243957281,
           0.000172742860740982,
           0.0001682791335042566,
           0.000406568287871778
          ],
          [
           0,
           0,
           0,
           0,
           0,
           0,
           0,
           0,
           0,
           0,
           -0.019788941368460655,
           0.004128645174205303,
           -0.000049000307626556605,
           -0.00016992365999612957,
           0.0007904488011263311
          ],
          [
           0,
           0,
           0,
           0,
           0,
           0,
           0,
           0,
           0,
           0,
           0.09652479737997055,
           -0.0018824844155460596,
           -0.00048416329082101583,
           0.000709598301909864,
           -0.00018385183648206294
          ],
          [
           0,
           0,
           0,
           0,
           0,
           0,
           0,
           0,
           0,
           0,
           -0.0158986859023571,
           -0.0008509272593073547,
           0.0001226014574058354,
           0.000027923462766921148,
           -0.007238251622766256
          ],
          [
           0,
           0,
           0,
           0,
           0,
           0,
           0,
           0,
           0,
           0,
           0.010361350141465664,
           0.0031499143224209547,
           0.0005304786609485745,
           0.00023473160399589688,
           0.008497425355017185
          ],
          [
           0,
           0,
           0,
           0,
           0,
           0,
           0,
           0,
           0,
           0,
           -0.012533876113593578,
           0.000021479587303474545,
           -0.0003546145453583449,
           0.00008632108801975846,
           -0.021634072065353394
          ],
          [
           0,
           0,
           0,
           0,
           0,
           0,
           0,
           0,
           0,
           0,
           -0.0003344438737258315,
           0.0008093441138044,
           0.000015841194908716716,
           0.0001290788932237774,
           0.03162292018532753
          ],
          [
           0,
           0,
           0,
           0,
           0,
           0,
           0,
           0,
           0,
           0,
           0.0013595236232504249,
           -0.0001949943689396605,
           -0.00009998075984185562,
           -0.00014216800627764314,
           0.02876351587474346
          ],
          [
           0,
           0,
           0,
           0,
           0,
           0,
           0,
           0,
           0,
           0,
           0,
           0,
           0,
           0,
           0.020446082577109337
          ]
         ]
        }
       ],
       "layout": {
        "annotations": [
         {
          "font": {},
          "showarrow": false,
          "text": "Residual Stream",
          "x": 0.15999999999999998,
          "xanchor": "center",
          "xref": "paper",
          "y": 1,
          "yanchor": "bottom",
          "yref": "paper"
         },
         {
          "font": {},
          "showarrow": false,
          "text": "Attn Output",
          "x": 0.49999999999999994,
          "xanchor": "center",
          "xref": "paper",
          "y": 1,
          "yanchor": "bottom",
          "yref": "paper"
         },
         {
          "font": {},
          "showarrow": false,
          "text": "MLP Output",
          "x": 0.8399999999999999,
          "xanchor": "center",
          "xref": "paper",
          "y": 1,
          "yanchor": "bottom",
          "yref": "paper"
         }
        ],
        "coloraxis": {
         "cmid": 0,
         "colorscale": [
          [
           0,
           "rgb(103,0,31)"
          ],
          [
           0.1,
           "rgb(178,24,43)"
          ],
          [
           0.2,
           "rgb(214,96,77)"
          ],
          [
           0.3,
           "rgb(244,165,130)"
          ],
          [
           0.4,
           "rgb(253,219,199)"
          ],
          [
           0.5,
           "rgb(247,247,247)"
          ],
          [
           0.6,
           "rgb(209,229,240)"
          ],
          [
           0.7,
           "rgb(146,197,222)"
          ],
          [
           0.8,
           "rgb(67,147,195)"
          ],
          [
           0.9,
           "rgb(33,102,172)"
          ],
          [
           1,
           "rgb(5,48,97)"
          ]
         ]
        },
        "template": {
         "data": {
          "bar": [
           {
            "error_x": {
             "color": "#2a3f5f"
            },
            "error_y": {
             "color": "#2a3f5f"
            },
            "marker": {
             "line": {
              "color": "#E5ECF6",
              "width": 0.5
             },
             "pattern": {
              "fillmode": "overlay",
              "size": 10,
              "solidity": 0.2
             }
            },
            "type": "bar"
           }
          ],
          "barpolar": [
           {
            "marker": {
             "line": {
              "color": "#E5ECF6",
              "width": 0.5
             },
             "pattern": {
              "fillmode": "overlay",
              "size": 10,
              "solidity": 0.2
             }
            },
            "type": "barpolar"
           }
          ],
          "carpet": [
           {
            "aaxis": {
             "endlinecolor": "#2a3f5f",
             "gridcolor": "white",
             "linecolor": "white",
             "minorgridcolor": "white",
             "startlinecolor": "#2a3f5f"
            },
            "baxis": {
             "endlinecolor": "#2a3f5f",
             "gridcolor": "white",
             "linecolor": "white",
             "minorgridcolor": "white",
             "startlinecolor": "#2a3f5f"
            },
            "type": "carpet"
           }
          ],
          "choropleth": [
           {
            "colorbar": {
             "outlinewidth": 0,
             "ticks": ""
            },
            "type": "choropleth"
           }
          ],
          "contour": [
           {
            "colorbar": {
             "outlinewidth": 0,
             "ticks": ""
            },
            "colorscale": [
             [
              0,
              "#0d0887"
             ],
             [
              0.1111111111111111,
              "#46039f"
             ],
             [
              0.2222222222222222,
              "#7201a8"
             ],
             [
              0.3333333333333333,
              "#9c179e"
             ],
             [
              0.4444444444444444,
              "#bd3786"
             ],
             [
              0.5555555555555556,
              "#d8576b"
             ],
             [
              0.6666666666666666,
              "#ed7953"
             ],
             [
              0.7777777777777778,
              "#fb9f3a"
             ],
             [
              0.8888888888888888,
              "#fdca26"
             ],
             [
              1,
              "#f0f921"
             ]
            ],
            "type": "contour"
           }
          ],
          "contourcarpet": [
           {
            "colorbar": {
             "outlinewidth": 0,
             "ticks": ""
            },
            "type": "contourcarpet"
           }
          ],
          "heatmap": [
           {
            "colorbar": {
             "outlinewidth": 0,
             "ticks": ""
            },
            "colorscale": [
             [
              0,
              "#0d0887"
             ],
             [
              0.1111111111111111,
              "#46039f"
             ],
             [
              0.2222222222222222,
              "#7201a8"
             ],
             [
              0.3333333333333333,
              "#9c179e"
             ],
             [
              0.4444444444444444,
              "#bd3786"
             ],
             [
              0.5555555555555556,
              "#d8576b"
             ],
             [
              0.6666666666666666,
              "#ed7953"
             ],
             [
              0.7777777777777778,
              "#fb9f3a"
             ],
             [
              0.8888888888888888,
              "#fdca26"
             ],
             [
              1,
              "#f0f921"
             ]
            ],
            "type": "heatmap"
           }
          ],
          "heatmapgl": [
           {
            "colorbar": {
             "outlinewidth": 0,
             "ticks": ""
            },
            "colorscale": [
             [
              0,
              "#0d0887"
             ],
             [
              0.1111111111111111,
              "#46039f"
             ],
             [
              0.2222222222222222,
              "#7201a8"
             ],
             [
              0.3333333333333333,
              "#9c179e"
             ],
             [
              0.4444444444444444,
              "#bd3786"
             ],
             [
              0.5555555555555556,
              "#d8576b"
             ],
             [
              0.6666666666666666,
              "#ed7953"
             ],
             [
              0.7777777777777778,
              "#fb9f3a"
             ],
             [
              0.8888888888888888,
              "#fdca26"
             ],
             [
              1,
              "#f0f921"
             ]
            ],
            "type": "heatmapgl"
           }
          ],
          "histogram": [
           {
            "marker": {
             "pattern": {
              "fillmode": "overlay",
              "size": 10,
              "solidity": 0.2
             }
            },
            "type": "histogram"
           }
          ],
          "histogram2d": [
           {
            "colorbar": {
             "outlinewidth": 0,
             "ticks": ""
            },
            "colorscale": [
             [
              0,
              "#0d0887"
             ],
             [
              0.1111111111111111,
              "#46039f"
             ],
             [
              0.2222222222222222,
              "#7201a8"
             ],
             [
              0.3333333333333333,
              "#9c179e"
             ],
             [
              0.4444444444444444,
              "#bd3786"
             ],
             [
              0.5555555555555556,
              "#d8576b"
             ],
             [
              0.6666666666666666,
              "#ed7953"
             ],
             [
              0.7777777777777778,
              "#fb9f3a"
             ],
             [
              0.8888888888888888,
              "#fdca26"
             ],
             [
              1,
              "#f0f921"
             ]
            ],
            "type": "histogram2d"
           }
          ],
          "histogram2dcontour": [
           {
            "colorbar": {
             "outlinewidth": 0,
             "ticks": ""
            },
            "colorscale": [
             [
              0,
              "#0d0887"
             ],
             [
              0.1111111111111111,
              "#46039f"
             ],
             [
              0.2222222222222222,
              "#7201a8"
             ],
             [
              0.3333333333333333,
              "#9c179e"
             ],
             [
              0.4444444444444444,
              "#bd3786"
             ],
             [
              0.5555555555555556,
              "#d8576b"
             ],
             [
              0.6666666666666666,
              "#ed7953"
             ],
             [
              0.7777777777777778,
              "#fb9f3a"
             ],
             [
              0.8888888888888888,
              "#fdca26"
             ],
             [
              1,
              "#f0f921"
             ]
            ],
            "type": "histogram2dcontour"
           }
          ],
          "mesh3d": [
           {
            "colorbar": {
             "outlinewidth": 0,
             "ticks": ""
            },
            "type": "mesh3d"
           }
          ],
          "parcoords": [
           {
            "line": {
             "colorbar": {
              "outlinewidth": 0,
              "ticks": ""
             }
            },
            "type": "parcoords"
           }
          ],
          "pie": [
           {
            "automargin": true,
            "type": "pie"
           }
          ],
          "scatter": [
           {
            "fillpattern": {
             "fillmode": "overlay",
             "size": 10,
             "solidity": 0.2
            },
            "type": "scatter"
           }
          ],
          "scatter3d": [
           {
            "line": {
             "colorbar": {
              "outlinewidth": 0,
              "ticks": ""
             }
            },
            "marker": {
             "colorbar": {
              "outlinewidth": 0,
              "ticks": ""
             }
            },
            "type": "scatter3d"
           }
          ],
          "scattercarpet": [
           {
            "marker": {
             "colorbar": {
              "outlinewidth": 0,
              "ticks": ""
             }
            },
            "type": "scattercarpet"
           }
          ],
          "scattergeo": [
           {
            "marker": {
             "colorbar": {
              "outlinewidth": 0,
              "ticks": ""
             }
            },
            "type": "scattergeo"
           }
          ],
          "scattergl": [
           {
            "marker": {
             "colorbar": {
              "outlinewidth": 0,
              "ticks": ""
             }
            },
            "type": "scattergl"
           }
          ],
          "scattermapbox": [
           {
            "marker": {
             "colorbar": {
              "outlinewidth": 0,
              "ticks": ""
             }
            },
            "type": "scattermapbox"
           }
          ],
          "scatterpolar": [
           {
            "marker": {
             "colorbar": {
              "outlinewidth": 0,
              "ticks": ""
             }
            },
            "type": "scatterpolar"
           }
          ],
          "scatterpolargl": [
           {
            "marker": {
             "colorbar": {
              "outlinewidth": 0,
              "ticks": ""
             }
            },
            "type": "scatterpolargl"
           }
          ],
          "scatterternary": [
           {
            "marker": {
             "colorbar": {
              "outlinewidth": 0,
              "ticks": ""
             }
            },
            "type": "scatterternary"
           }
          ],
          "surface": [
           {
            "colorbar": {
             "outlinewidth": 0,
             "ticks": ""
            },
            "colorscale": [
             [
              0,
              "#0d0887"
             ],
             [
              0.1111111111111111,
              "#46039f"
             ],
             [
              0.2222222222222222,
              "#7201a8"
             ],
             [
              0.3333333333333333,
              "#9c179e"
             ],
             [
              0.4444444444444444,
              "#bd3786"
             ],
             [
              0.5555555555555556,
              "#d8576b"
             ],
             [
              0.6666666666666666,
              "#ed7953"
             ],
             [
              0.7777777777777778,
              "#fb9f3a"
             ],
             [
              0.8888888888888888,
              "#fdca26"
             ],
             [
              1,
              "#f0f921"
             ]
            ],
            "type": "surface"
           }
          ],
          "table": [
           {
            "cells": {
             "fill": {
              "color": "#EBF0F8"
             },
             "line": {
              "color": "white"
             }
            },
            "header": {
             "fill": {
              "color": "#C8D4E3"
             },
             "line": {
              "color": "white"
             }
            },
            "type": "table"
           }
          ]
         },
         "layout": {
          "annotationdefaults": {
           "arrowcolor": "#2a3f5f",
           "arrowhead": 0,
           "arrowwidth": 1
          },
          "autotypenumbers": "strict",
          "coloraxis": {
           "colorbar": {
            "outlinewidth": 0,
            "ticks": ""
           }
          },
          "colorscale": {
           "diverging": [
            [
             0,
             "#8e0152"
            ],
            [
             0.1,
             "#c51b7d"
            ],
            [
             0.2,
             "#de77ae"
            ],
            [
             0.3,
             "#f1b6da"
            ],
            [
             0.4,
             "#fde0ef"
            ],
            [
             0.5,
             "#f7f7f7"
            ],
            [
             0.6,
             "#e6f5d0"
            ],
            [
             0.7,
             "#b8e186"
            ],
            [
             0.8,
             "#7fbc41"
            ],
            [
             0.9,
             "#4d9221"
            ],
            [
             1,
             "#276419"
            ]
           ],
           "sequential": [
            [
             0,
             "#0d0887"
            ],
            [
             0.1111111111111111,
             "#46039f"
            ],
            [
             0.2222222222222222,
             "#7201a8"
            ],
            [
             0.3333333333333333,
             "#9c179e"
            ],
            [
             0.4444444444444444,
             "#bd3786"
            ],
            [
             0.5555555555555556,
             "#d8576b"
            ],
            [
             0.6666666666666666,
             "#ed7953"
            ],
            [
             0.7777777777777778,
             "#fb9f3a"
            ],
            [
             0.8888888888888888,
             "#fdca26"
            ],
            [
             1,
             "#f0f921"
            ]
           ],
           "sequentialminus": [
            [
             0,
             "#0d0887"
            ],
            [
             0.1111111111111111,
             "#46039f"
            ],
            [
             0.2222222222222222,
             "#7201a8"
            ],
            [
             0.3333333333333333,
             "#9c179e"
            ],
            [
             0.4444444444444444,
             "#bd3786"
            ],
            [
             0.5555555555555556,
             "#d8576b"
            ],
            [
             0.6666666666666666,
             "#ed7953"
            ],
            [
             0.7777777777777778,
             "#fb9f3a"
            ],
            [
             0.8888888888888888,
             "#fdca26"
            ],
            [
             1,
             "#f0f921"
            ]
           ]
          },
          "colorway": [
           "#636efa",
           "#EF553B",
           "#00cc96",
           "#ab63fa",
           "#FFA15A",
           "#19d3f3",
           "#FF6692",
           "#B6E880",
           "#FF97FF",
           "#FECB52"
          ],
          "font": {
           "color": "#2a3f5f"
          },
          "geo": {
           "bgcolor": "white",
           "lakecolor": "white",
           "landcolor": "#E5ECF6",
           "showlakes": true,
           "showland": true,
           "subunitcolor": "white"
          },
          "hoverlabel": {
           "align": "left"
          },
          "hovermode": "closest",
          "mapbox": {
           "style": "light"
          },
          "paper_bgcolor": "white",
          "plot_bgcolor": "#E5ECF6",
          "polar": {
           "angularaxis": {
            "gridcolor": "white",
            "linecolor": "white",
            "ticks": ""
           },
           "bgcolor": "#E5ECF6",
           "radialaxis": {
            "gridcolor": "white",
            "linecolor": "white",
            "ticks": ""
           }
          },
          "scene": {
           "xaxis": {
            "backgroundcolor": "#E5ECF6",
            "gridcolor": "white",
            "gridwidth": 2,
            "linecolor": "white",
            "showbackground": true,
            "ticks": "",
            "zerolinecolor": "white"
           },
           "yaxis": {
            "backgroundcolor": "#E5ECF6",
            "gridcolor": "white",
            "gridwidth": 2,
            "linecolor": "white",
            "showbackground": true,
            "ticks": "",
            "zerolinecolor": "white"
           },
           "zaxis": {
            "backgroundcolor": "#E5ECF6",
            "gridcolor": "white",
            "gridwidth": 2,
            "linecolor": "white",
            "showbackground": true,
            "ticks": "",
            "zerolinecolor": "white"
           }
          },
          "shapedefaults": {
           "line": {
            "color": "#2a3f5f"
           }
          },
          "ternary": {
           "aaxis": {
            "gridcolor": "white",
            "linecolor": "white",
            "ticks": ""
           },
           "baxis": {
            "gridcolor": "white",
            "linecolor": "white",
            "ticks": ""
           },
           "bgcolor": "#E5ECF6",
           "caxis": {
            "gridcolor": "white",
            "linecolor": "white",
            "ticks": ""
           }
          },
          "title": {
           "x": 0.05
          },
          "xaxis": {
           "automargin": true,
           "gridcolor": "white",
           "linecolor": "white",
           "ticks": "",
           "title": {
            "standoff": 15
           },
           "zerolinecolor": "white",
           "zerolinewidth": 2
          },
          "yaxis": {
           "automargin": true,
           "gridcolor": "white",
           "linecolor": "white",
           "ticks": "",
           "title": {
            "standoff": 15
           },
           "zerolinecolor": "white",
           "zerolinewidth": 2
          }
         }
        },
        "title": {
         "text": "Logit Difference From Patched Attn Head Output"
        },
        "width": 1000,
        "xaxis": {
         "anchor": "y",
         "constrain": "domain",
         "domain": [
          0,
          0.31999999999999995
         ],
         "scaleanchor": "y",
         "title": {
          "text": "Sequence Position"
         }
        },
        "xaxis2": {
         "anchor": "y2",
         "domain": [
          0.33999999999999997,
          0.6599999999999999
         ],
         "matches": "x",
         "title": {
          "text": "Sequence Position"
         }
        },
        "xaxis3": {
         "anchor": "y3",
         "domain": [
          0.6799999999999999,
          0.9999999999999999
         ],
         "matches": "x",
         "title": {
          "text": "Sequence Position"
         }
        },
        "yaxis": {
         "anchor": "x",
         "autorange": "reversed",
         "constrain": "domain",
         "domain": [
          0,
          1
         ],
         "title": {
          "text": "Layer"
         }
        },
        "yaxis2": {
         "anchor": "x2",
         "domain": [
          0,
          1
         ],
         "matches": "y",
         "showticklabels": false
        },
        "yaxis3": {
         "anchor": "x3",
         "domain": [
          0,
          1
         ],
         "matches": "y",
         "showticklabels": false
        }
       }
      },
      "text/html": [
       "<div>                            <div id=\"a2de851e-a76d-49c4-ba70-79d604ac7801\" class=\"plotly-graph-div\" style=\"height:525px; width:1000px;\"></div>            <script type=\"text/javascript\">                require([\"plotly\"], function(Plotly) {                    window.PLOTLYENV=window.PLOTLYENV || {};                                    if (document.getElementById(\"a2de851e-a76d-49c4-ba70-79d604ac7801\")) {                    Plotly.newPlot(                        \"a2de851e-a76d-49c4-ba70-79d604ac7801\",                        [{\"coloraxis\":\"coloraxis\",\"name\":\"0\",\"x\":[\"<|endoftext|> 0\",\"When 1\",\" John 2\",\" and 3\",\" Mary 4\",\" went 5\",\" to 6\",\" the 7\",\" shops 8\",\", 9\",\" John 10\",\" gave 11\",\" the 12\",\" bag 13\",\" to 14\"],\"z\":[[0.0,0.0,0.0,0.0,0.0,0.0,0.0,0.0,0.0,0.0,1.0,0.0,0.0,0.0,0.0],[0.0,0.0,0.0,0.0,0.0,0.0,0.0,0.0,0.0,0.0,1.000651240348816,-0.00024802208645269275,8.793205779511482e-06,-0.0003653543535619974,-4.9000307626556605e-05],[0.0,0.0,0.0,0.0,0.0,0.0,0.0,0.0,0.0,0.0,1.001052737236023,-2.7722091545001604e-05,-2.1009720512665808e-05,-0.0004596967191901058,-0.0005937762907706201],[0.0,0.0,0.0,0.0,0.0,0.0,0.0,0.0,0.0,0.0,1.0002667903900146,0.0008666006033308804,0.000515778549015522,-0.0009938671719282866,-0.0008658958249725401],[0.0,0.0,0.0,0.0,0.0,0.0,0.0,0.0,0.0,0.0,0.9949095845222473,0.0054291668348014355,0.0016047264216467738,-0.0006188134429976344,-0.0016330190701410174],[0.0,0.0,0.0,0.0,0.0,0.0,0.0,0.0,0.0,0.0,0.9675675630569458,0.03134079650044441,0.0028416821733117104,-0.0012315186904743314,-0.0009871212532743812],[0.0,0.0,0.0,0.0,0.0,0.0,0.0,0.0,0.0,0.0,0.9675213694572449,0.030999742448329926,0.0017811947036534548,-0.00048644549679011106,-0.000648045854177326],[0.0,0.0,0.0,0.0,0.0,0.0,0.0,0.0,0.0,0.0,0.9228334426879883,0.05134352669119835,0.004729737993329763,0.00093402637867257,0.01704653538763523],[0.0,0.0,0.0,0.0,0.0,0.0,0.0,0.0,0.0,0.0,0.6565515995025635,0.023855766281485558,0.002357048913836479,-1.688161319179926e-05,0.3186889886856079],[0.0,0.0,0.0,0.0,0.0,0.0,0.0,0.0,0.0,0.0,0.0273039098829031,0.03142436593770981,0.0018201264319941401,0.0007987049757502973,0.9383856058120728],[0.0,0.0,0.0,0.0,0.0,0.0,0.0,0.0,0.0,0.0,-0.026844650506973267,0.020980387926101685,0.0012514543486759067,0.00032353628193959594,1.0048311948776245],[0.0,0.0,0.0,0.0,0.0,0.0,0.0,0.0,0.0,0.0,-0.005686989054083824,0.014263150282204151,0.00048647908261045814,-9.00128943612799e-05,0.9914203882217407]],\"type\":\"heatmap\",\"xaxis\":\"x\",\"yaxis\":\"y\",\"hovertemplate\":\"Sequence Position: %{x}<br>Layer: %{y}<br>color: %{z}<extra></extra>\"},{\"coloraxis\":\"coloraxis\",\"name\":\"1\",\"x\":[\"<|endoftext|> 0\",\"When 1\",\" John 2\",\" and 3\",\" Mary 4\",\" went 5\",\" to 6\",\" the 7\",\" shops 8\",\", 9\",\" John 10\",\" gave 11\",\" the 12\",\" bag 13\",\" to 14\"],\"z\":[[0.0,0.0,0.0,0.0,0.0,0.0,0.0,0.0,0.0,0.0,0.03545944020152092,-0.00024802208645269275,8.793205779511482e-06,-0.0003653543535619974,-4.9000307626556605e-05],[0.0,0.0,0.0,0.0,0.0,0.0,0.0,0.0,0.0,0.0,-0.0029842194635421038,7.873610593378544e-05,1.9600121959229e-05,8.007858559722081e-05,-0.000597199599724263],[0.0,0.0,0.0,0.0,0.0,0.0,0.0,0.0,0.0,0.0,-0.0019124887185171247,0.000666034989990294,0.00039468740578740835,-0.0007051345310173929,-0.00027413322823122144],[0.0,0.0,0.0,0.0,0.0,0.0,0.0,0.0,0.0,0.0,0.15463422238826752,0.0038018866907805204,0.0005160806467756629,-0.00012082267494406551,-0.0005613555549643934],[0.0,0.0,0.0,0.0,0.0,0.0,0.0,0.0,0.0,0.0,-0.005407955963164568,0.019581126049160957,0.0010070570278912783,-0.00024271932488773018,0.0007928652339614928],[0.0,0.0,0.0,0.0,0.0,0.0,0.0,0.0,0.0,0.0,0.3520994782447815,0.0010524997487664223,0.00022432743571698666,0.0001324350741924718,8.155530667863786e-05],[0.0,0.0,0.0,0.0,0.0,0.0,0.0,0.0,0.0,0.0,0.1198611631989479,0.021243244409561157,0.002728276653215289,0.0013407960068434477,0.017973748967051506],[0.0,0.0,0.0,0.0,0.0,0.0,0.0,0.0,0.0,0.0,0.013309288769960403,0.011508863419294357,0.0003740804095286876,-4.175094727543183e-05,0.29759836196899414],[0.0,0.0,0.0,0.0,0.0,0.0,0.0,0.0,0.0,0.0,-0.0015002149157226086,0.017351947724819183,0.0005836406489834189,0.001011688495054841,0.5697354674339294],[0.0,0.0,0.0,0.0,0.0,0.0,0.0,0.0,0.0,0.0,-0.00012881039583589882,0.006301405839622021,0.0001406912924721837,0.00031239373493008316,0.27153149247169495],[0.0,0.0,0.0,0.0,0.0,0.0,0.0,0.0,0.0,0.0,-0.0009378524264320731,8.598546992288902e-05,0.00033199385507032275,1.4767215361644048e-06,-0.19299548864364624],[0.0,0.0,0.0,0.0,0.0,0.0,0.0,0.0,0.0,0.0,0.0,0.0,0.0,0.0,-0.40618953108787537]],\"type\":\"heatmap\",\"xaxis\":\"x2\",\"yaxis\":\"y2\",\"hovertemplate\":\"Sequence Position: %{x}<br>Layer: %{y}<br>color: %{z}<extra></extra>\"},{\"coloraxis\":\"coloraxis\",\"name\":\"2\",\"x\":[\"<|endoftext|> 0\",\"When 1\",\" John 2\",\" and 3\",\" Mary 4\",\" went 5\",\" to 6\",\" the 7\",\" shops 8\",\", 9\",\" John 10\",\" gave 11\",\" the 12\",\" bag 13\",\" to 14\"],\"z\":[[0.0,0.0,0.0,0.0,0.0,0.0,0.0,0.0,0.0,0.0,0.8507813215255737,-0.0002786640834528953,-7.40374525776133e-05,-0.0004740276199299842,3.906599886249751e-05],[0.0,0.0,0.0,0.0,0.0,0.0,0.0,0.0,0.0,0.0,0.00886442419141531,0.0002209041267633438,0.00014847764396108687,-4.99736015626695e-05,0.0003031306550838053],[0.0,0.0,0.0,0.0,0.0,0.0,0.0,0.0,0.0,0.0,0.013549591414630413,5.786063411505893e-05,-0.0003302150871604681,-0.0006397225079126656,0.0007723253802396357],[0.0,0.0,0.0,0.0,0.0,0.0,0.0,0.0,0.0,0.0,0.0019455135334283113,0.0004981586243957281,0.000172742860740982,0.0001682791335042566,0.000406568287871778],[0.0,0.0,0.0,0.0,0.0,0.0,0.0,0.0,0.0,0.0,-0.019788941368460655,0.004128645174205303,-4.9000307626556605e-05,-0.00016992365999612957,0.0007904488011263311],[0.0,0.0,0.0,0.0,0.0,0.0,0.0,0.0,0.0,0.0,0.09652479737997055,-0.0018824844155460596,-0.00048416329082101583,0.000709598301909864,-0.00018385183648206294],[0.0,0.0,0.0,0.0,0.0,0.0,0.0,0.0,0.0,0.0,-0.0158986859023571,-0.0008509272593073547,0.0001226014574058354,2.7923462766921148e-05,-0.007238251622766256],[0.0,0.0,0.0,0.0,0.0,0.0,0.0,0.0,0.0,0.0,0.010361350141465664,0.0031499143224209547,0.0005304786609485745,0.00023473160399589688,0.008497425355017185],[0.0,0.0,0.0,0.0,0.0,0.0,0.0,0.0,0.0,0.0,-0.012533876113593578,2.1479587303474545e-05,-0.0003546145453583449,8.632108801975846e-05,-0.021634072065353394],[0.0,0.0,0.0,0.0,0.0,0.0,0.0,0.0,0.0,0.0,-0.0003344438737258315,0.0008093441138044,1.5841194908716716e-05,0.0001290788932237774,0.03162292018532753],[0.0,0.0,0.0,0.0,0.0,0.0,0.0,0.0,0.0,0.0,0.0013595236232504249,-0.0001949943689396605,-9.998075984185562e-05,-0.00014216800627764314,0.02876351587474346],[0.0,0.0,0.0,0.0,0.0,0.0,0.0,0.0,0.0,0.0,0.0,0.0,0.0,0.0,0.020446082577109337]],\"type\":\"heatmap\",\"xaxis\":\"x3\",\"yaxis\":\"y3\",\"hovertemplate\":\"Sequence Position: %{x}<br>Layer: %{y}<br>color: %{z}<extra></extra>\"}],                        {\"template\":{\"data\":{\"histogram2dcontour\":[{\"type\":\"histogram2dcontour\",\"colorbar\":{\"outlinewidth\":0,\"ticks\":\"\"},\"colorscale\":[[0.0,\"#0d0887\"],[0.1111111111111111,\"#46039f\"],[0.2222222222222222,\"#7201a8\"],[0.3333333333333333,\"#9c179e\"],[0.4444444444444444,\"#bd3786\"],[0.5555555555555556,\"#d8576b\"],[0.6666666666666666,\"#ed7953\"],[0.7777777777777778,\"#fb9f3a\"],[0.8888888888888888,\"#fdca26\"],[1.0,\"#f0f921\"]]}],\"choropleth\":[{\"type\":\"choropleth\",\"colorbar\":{\"outlinewidth\":0,\"ticks\":\"\"}}],\"histogram2d\":[{\"type\":\"histogram2d\",\"colorbar\":{\"outlinewidth\":0,\"ticks\":\"\"},\"colorscale\":[[0.0,\"#0d0887\"],[0.1111111111111111,\"#46039f\"],[0.2222222222222222,\"#7201a8\"],[0.3333333333333333,\"#9c179e\"],[0.4444444444444444,\"#bd3786\"],[0.5555555555555556,\"#d8576b\"],[0.6666666666666666,\"#ed7953\"],[0.7777777777777778,\"#fb9f3a\"],[0.8888888888888888,\"#fdca26\"],[1.0,\"#f0f921\"]]}],\"heatmap\":[{\"type\":\"heatmap\",\"colorbar\":{\"outlinewidth\":0,\"ticks\":\"\"},\"colorscale\":[[0.0,\"#0d0887\"],[0.1111111111111111,\"#46039f\"],[0.2222222222222222,\"#7201a8\"],[0.3333333333333333,\"#9c179e\"],[0.4444444444444444,\"#bd3786\"],[0.5555555555555556,\"#d8576b\"],[0.6666666666666666,\"#ed7953\"],[0.7777777777777778,\"#fb9f3a\"],[0.8888888888888888,\"#fdca26\"],[1.0,\"#f0f921\"]]}],\"heatmapgl\":[{\"type\":\"heatmapgl\",\"colorbar\":{\"outlinewidth\":0,\"ticks\":\"\"},\"colorscale\":[[0.0,\"#0d0887\"],[0.1111111111111111,\"#46039f\"],[0.2222222222222222,\"#7201a8\"],[0.3333333333333333,\"#9c179e\"],[0.4444444444444444,\"#bd3786\"],[0.5555555555555556,\"#d8576b\"],[0.6666666666666666,\"#ed7953\"],[0.7777777777777778,\"#fb9f3a\"],[0.8888888888888888,\"#fdca26\"],[1.0,\"#f0f921\"]]}],\"contourcarpet\":[{\"type\":\"contourcarpet\",\"colorbar\":{\"outlinewidth\":0,\"ticks\":\"\"}}],\"contour\":[{\"type\":\"contour\",\"colorbar\":{\"outlinewidth\":0,\"ticks\":\"\"},\"colorscale\":[[0.0,\"#0d0887\"],[0.1111111111111111,\"#46039f\"],[0.2222222222222222,\"#7201a8\"],[0.3333333333333333,\"#9c179e\"],[0.4444444444444444,\"#bd3786\"],[0.5555555555555556,\"#d8576b\"],[0.6666666666666666,\"#ed7953\"],[0.7777777777777778,\"#fb9f3a\"],[0.8888888888888888,\"#fdca26\"],[1.0,\"#f0f921\"]]}],\"surface\":[{\"type\":\"surface\",\"colorbar\":{\"outlinewidth\":0,\"ticks\":\"\"},\"colorscale\":[[0.0,\"#0d0887\"],[0.1111111111111111,\"#46039f\"],[0.2222222222222222,\"#7201a8\"],[0.3333333333333333,\"#9c179e\"],[0.4444444444444444,\"#bd3786\"],[0.5555555555555556,\"#d8576b\"],[0.6666666666666666,\"#ed7953\"],[0.7777777777777778,\"#fb9f3a\"],[0.8888888888888888,\"#fdca26\"],[1.0,\"#f0f921\"]]}],\"mesh3d\":[{\"type\":\"mesh3d\",\"colorbar\":{\"outlinewidth\":0,\"ticks\":\"\"}}],\"scatter\":[{\"fillpattern\":{\"fillmode\":\"overlay\",\"size\":10,\"solidity\":0.2},\"type\":\"scatter\"}],\"parcoords\":[{\"type\":\"parcoords\",\"line\":{\"colorbar\":{\"outlinewidth\":0,\"ticks\":\"\"}}}],\"scatterpolargl\":[{\"type\":\"scatterpolargl\",\"marker\":{\"colorbar\":{\"outlinewidth\":0,\"ticks\":\"\"}}}],\"bar\":[{\"error_x\":{\"color\":\"#2a3f5f\"},\"error_y\":{\"color\":\"#2a3f5f\"},\"marker\":{\"line\":{\"color\":\"#E5ECF6\",\"width\":0.5},\"pattern\":{\"fillmode\":\"overlay\",\"size\":10,\"solidity\":0.2}},\"type\":\"bar\"}],\"scattergeo\":[{\"type\":\"scattergeo\",\"marker\":{\"colorbar\":{\"outlinewidth\":0,\"ticks\":\"\"}}}],\"scatterpolar\":[{\"type\":\"scatterpolar\",\"marker\":{\"colorbar\":{\"outlinewidth\":0,\"ticks\":\"\"}}}],\"histogram\":[{\"marker\":{\"pattern\":{\"fillmode\":\"overlay\",\"size\":10,\"solidity\":0.2}},\"type\":\"histogram\"}],\"scattergl\":[{\"type\":\"scattergl\",\"marker\":{\"colorbar\":{\"outlinewidth\":0,\"ticks\":\"\"}}}],\"scatter3d\":[{\"type\":\"scatter3d\",\"line\":{\"colorbar\":{\"outlinewidth\":0,\"ticks\":\"\"}},\"marker\":{\"colorbar\":{\"outlinewidth\":0,\"ticks\":\"\"}}}],\"scattermapbox\":[{\"type\":\"scattermapbox\",\"marker\":{\"colorbar\":{\"outlinewidth\":0,\"ticks\":\"\"}}}],\"scatterternary\":[{\"type\":\"scatterternary\",\"marker\":{\"colorbar\":{\"outlinewidth\":0,\"ticks\":\"\"}}}],\"scattercarpet\":[{\"type\":\"scattercarpet\",\"marker\":{\"colorbar\":{\"outlinewidth\":0,\"ticks\":\"\"}}}],\"carpet\":[{\"aaxis\":{\"endlinecolor\":\"#2a3f5f\",\"gridcolor\":\"white\",\"linecolor\":\"white\",\"minorgridcolor\":\"white\",\"startlinecolor\":\"#2a3f5f\"},\"baxis\":{\"endlinecolor\":\"#2a3f5f\",\"gridcolor\":\"white\",\"linecolor\":\"white\",\"minorgridcolor\":\"white\",\"startlinecolor\":\"#2a3f5f\"},\"type\":\"carpet\"}],\"table\":[{\"cells\":{\"fill\":{\"color\":\"#EBF0F8\"},\"line\":{\"color\":\"white\"}},\"header\":{\"fill\":{\"color\":\"#C8D4E3\"},\"line\":{\"color\":\"white\"}},\"type\":\"table\"}],\"barpolar\":[{\"marker\":{\"line\":{\"color\":\"#E5ECF6\",\"width\":0.5},\"pattern\":{\"fillmode\":\"overlay\",\"size\":10,\"solidity\":0.2}},\"type\":\"barpolar\"}],\"pie\":[{\"automargin\":true,\"type\":\"pie\"}]},\"layout\":{\"autotypenumbers\":\"strict\",\"colorway\":[\"#636efa\",\"#EF553B\",\"#00cc96\",\"#ab63fa\",\"#FFA15A\",\"#19d3f3\",\"#FF6692\",\"#B6E880\",\"#FF97FF\",\"#FECB52\"],\"font\":{\"color\":\"#2a3f5f\"},\"hovermode\":\"closest\",\"hoverlabel\":{\"align\":\"left\"},\"paper_bgcolor\":\"white\",\"plot_bgcolor\":\"#E5ECF6\",\"polar\":{\"bgcolor\":\"#E5ECF6\",\"angularaxis\":{\"gridcolor\":\"white\",\"linecolor\":\"white\",\"ticks\":\"\"},\"radialaxis\":{\"gridcolor\":\"white\",\"linecolor\":\"white\",\"ticks\":\"\"}},\"ternary\":{\"bgcolor\":\"#E5ECF6\",\"aaxis\":{\"gridcolor\":\"white\",\"linecolor\":\"white\",\"ticks\":\"\"},\"baxis\":{\"gridcolor\":\"white\",\"linecolor\":\"white\",\"ticks\":\"\"},\"caxis\":{\"gridcolor\":\"white\",\"linecolor\":\"white\",\"ticks\":\"\"}},\"coloraxis\":{\"colorbar\":{\"outlinewidth\":0,\"ticks\":\"\"}},\"colorscale\":{\"sequential\":[[0.0,\"#0d0887\"],[0.1111111111111111,\"#46039f\"],[0.2222222222222222,\"#7201a8\"],[0.3333333333333333,\"#9c179e\"],[0.4444444444444444,\"#bd3786\"],[0.5555555555555556,\"#d8576b\"],[0.6666666666666666,\"#ed7953\"],[0.7777777777777778,\"#fb9f3a\"],[0.8888888888888888,\"#fdca26\"],[1.0,\"#f0f921\"]],\"sequentialminus\":[[0.0,\"#0d0887\"],[0.1111111111111111,\"#46039f\"],[0.2222222222222222,\"#7201a8\"],[0.3333333333333333,\"#9c179e\"],[0.4444444444444444,\"#bd3786\"],[0.5555555555555556,\"#d8576b\"],[0.6666666666666666,\"#ed7953\"],[0.7777777777777778,\"#fb9f3a\"],[0.8888888888888888,\"#fdca26\"],[1.0,\"#f0f921\"]],\"diverging\":[[0,\"#8e0152\"],[0.1,\"#c51b7d\"],[0.2,\"#de77ae\"],[0.3,\"#f1b6da\"],[0.4,\"#fde0ef\"],[0.5,\"#f7f7f7\"],[0.6,\"#e6f5d0\"],[0.7,\"#b8e186\"],[0.8,\"#7fbc41\"],[0.9,\"#4d9221\"],[1,\"#276419\"]]},\"xaxis\":{\"gridcolor\":\"white\",\"linecolor\":\"white\",\"ticks\":\"\",\"title\":{\"standoff\":15},\"zerolinecolor\":\"white\",\"automargin\":true,\"zerolinewidth\":2},\"yaxis\":{\"gridcolor\":\"white\",\"linecolor\":\"white\",\"ticks\":\"\",\"title\":{\"standoff\":15},\"zerolinecolor\":\"white\",\"automargin\":true,\"zerolinewidth\":2},\"scene\":{\"xaxis\":{\"backgroundcolor\":\"#E5ECF6\",\"gridcolor\":\"white\",\"linecolor\":\"white\",\"showbackground\":true,\"ticks\":\"\",\"zerolinecolor\":\"white\",\"gridwidth\":2},\"yaxis\":{\"backgroundcolor\":\"#E5ECF6\",\"gridcolor\":\"white\",\"linecolor\":\"white\",\"showbackground\":true,\"ticks\":\"\",\"zerolinecolor\":\"white\",\"gridwidth\":2},\"zaxis\":{\"backgroundcolor\":\"#E5ECF6\",\"gridcolor\":\"white\",\"linecolor\":\"white\",\"showbackground\":true,\"ticks\":\"\",\"zerolinecolor\":\"white\",\"gridwidth\":2}},\"shapedefaults\":{\"line\":{\"color\":\"#2a3f5f\"}},\"annotationdefaults\":{\"arrowcolor\":\"#2a3f5f\",\"arrowhead\":0,\"arrowwidth\":1},\"geo\":{\"bgcolor\":\"white\",\"landcolor\":\"#E5ECF6\",\"subunitcolor\":\"white\",\"showland\":true,\"showlakes\":true,\"lakecolor\":\"white\"},\"title\":{\"x\":0.05},\"mapbox\":{\"style\":\"light\"}}},\"xaxis\":{\"anchor\":\"y\",\"domain\":[0.0,0.31999999999999995],\"scaleanchor\":\"y\",\"constrain\":\"domain\",\"title\":{\"text\":\"Sequence Position\"}},\"yaxis\":{\"anchor\":\"x\",\"domain\":[0.0,1.0],\"autorange\":\"reversed\",\"constrain\":\"domain\",\"title\":{\"text\":\"Layer\"}},\"xaxis2\":{\"anchor\":\"y2\",\"domain\":[0.33999999999999997,0.6599999999999999],\"matches\":\"x\",\"title\":{\"text\":\"Sequence Position\"}},\"yaxis2\":{\"anchor\":\"x2\",\"domain\":[0.0,1.0],\"matches\":\"y\",\"showticklabels\":false},\"xaxis3\":{\"anchor\":\"y3\",\"domain\":[0.6799999999999999,0.9999999999999999],\"matches\":\"x\",\"title\":{\"text\":\"Sequence Position\"}},\"yaxis3\":{\"anchor\":\"x3\",\"domain\":[0.0,1.0],\"matches\":\"y\",\"showticklabels\":false},\"annotations\":[{\"font\":{},\"showarrow\":false,\"text\":\"Residual Stream\",\"x\":0.15999999999999998,\"xanchor\":\"center\",\"xref\":\"paper\",\"y\":1.0,\"yanchor\":\"bottom\",\"yref\":\"paper\"},{\"font\":{},\"showarrow\":false,\"text\":\"Attn Output\",\"x\":0.49999999999999994,\"xanchor\":\"center\",\"xref\":\"paper\",\"y\":1.0,\"yanchor\":\"bottom\",\"yref\":\"paper\"},{\"font\":{},\"showarrow\":false,\"text\":\"MLP Output\",\"x\":0.8399999999999999,\"xanchor\":\"center\",\"xref\":\"paper\",\"y\":1.0,\"yanchor\":\"bottom\",\"yref\":\"paper\"}],\"coloraxis\":{\"colorscale\":[[0.0,\"rgb(103,0,31)\"],[0.1,\"rgb(178,24,43)\"],[0.2,\"rgb(214,96,77)\"],[0.3,\"rgb(244,165,130)\"],[0.4,\"rgb(253,219,199)\"],[0.5,\"rgb(247,247,247)\"],[0.6,\"rgb(209,229,240)\"],[0.7,\"rgb(146,197,222)\"],[0.8,\"rgb(67,147,195)\"],[0.9,\"rgb(33,102,172)\"],[1.0,\"rgb(5,48,97)\"]],\"cmid\":0.0},\"title\":{\"text\":\"Logit Difference From Patched Attn Head Output\"},\"width\":1000},                        {\"responsive\": true}                    ).then(function(){\n",
       "                            \n",
       "var gd = document.getElementById('a2de851e-a76d-49c4-ba70-79d604ac7801');\n",
       "var x = new MutationObserver(function (mutations, observer) {{\n",
       "        var display = window.getComputedStyle(gd).display;\n",
       "        if (!display || display === 'none') {{\n",
       "            console.log([gd, 'removed!']);\n",
       "            Plotly.purge(gd);\n",
       "            observer.disconnect();\n",
       "        }}\n",
       "}});\n",
       "\n",
       "// Listen for the removal of the full notebook cells\n",
       "var notebookContainer = gd.closest('#notebook-container');\n",
       "if (notebookContainer) {{\n",
       "    x.observe(notebookContainer, {childList: true});\n",
       "}}\n",
       "\n",
       "// Listen for the clearing of the current output cell\n",
       "var outputEl = gd.closest('.output');\n",
       "if (outputEl) {{\n",
       "    x.observe(outputEl, {childList: true});\n",
       "}}\n",
       "\n",
       "                        })                };                });            </script>        </div>"
      ]
     },
     "metadata": {},
     "output_type": "display_data"
    }
   ],
   "source": [
    "act_patch_block_every = patching.get_act_patch_block_every(model, corrupted_tokens, clean_cache, ioi_metric)\n",
    "\n",
    "imshow(\n",
    "    act_patch_block_every,\n",
    "    x=labels, \n",
    "    facet_col=0, # This argument tells plotly which dimension to split into separate plots\n",
    "    facet_labels=[\"Residual Stream\", \"Attn Output\", \"MLP Output\"], # Subtitles of separate plots\n",
    "    title=\"Logit Difference From Patched Attn Head Output\", \n",
    "    labels={\"x\": \"Sequence Position\", \"y\": \"Layer\"},\n",
    "    width=1000,\n",
    ")"
   ]
  },
  {
   "cell_type": "code",
   "execution_count": 127,
   "metadata": {},
   "outputs": [],
   "source": [
    "# def patch_block_component(\n",
    "    \n",
    "# )\n",
    "\n",
    "# def get_act_patch_block_every(\n",
    "#     model: HookedTransformer, \n",
    "#     corrupted_tokens: Float[Tensor, \"batch pos\"], \n",
    "#     clean_cache: ActivationCache, \n",
    "#     patching_metric: Callable[[Float[Tensor, \"batch pos d_vocab\"]], float]\n",
    "# ) -> Float[Tensor, \"layer pos\"]:\n",
    "#     '''\n",
    "#     Returns an array of results of patching each position at each layer in the residual\n",
    "#     stream, using the value from the clean cache.\n",
    "\n",
    "#     The results are calculated using the patching_metric function, which should be\n",
    "#     called on the model's logit output.\n",
    "#     '''\n",
    "#     layer = model.cfg.n_layers\n",
    "#     batch, pos = corrupted_tokens.shape\n",
    "\n",
    "#     results = t.zeros((layer, pos))\n",
    "\n",
    "#     for l in range(layer):\n",
    "#         for p in range(pos):\n",
    "#             model.reset_hooks()\n",
    "#             logits = model.run_with_hooks(corrupted_tokens, fwd_hooks=[\n",
    "#                 utils.get_act_name(\"layer\")\n",
    "#             ])\n",
    "\n",
    "# act_patch_block_every_own = get_act_patch_block_every(model, corrupted_tokens, clean_cache, ioi_metric)\n",
    "\n",
    "# t.testing.assert_close(act_patch_block_every, act_patch_block_every_own)\n",
    "\n",
    "# imshow(\n",
    "#     act_patch_block_every_own,\n",
    "#     x=labels, \n",
    "#     facet_col=0,\n",
    "#     facet_labels=[\"Residual Stream\", \"Attn Output\", \"MLP Output\"],\n",
    "#     title=\"Logit Difference From Patched Attn Head Output\", \n",
    "#     labels={\"x\": \"Sequence Position\", \"y\": \"Layer\"},\n",
    "#     width=1000\n",
    "# )"
   ]
  },
  {
   "attachments": {},
   "cell_type": "markdown",
   "metadata": {},
   "source": [
    "Head patching"
   ]
  },
  {
   "cell_type": "code",
   "execution_count": 128,
   "metadata": {},
   "outputs": [
    {
     "data": {
      "application/vnd.jupyter.widget-view+json": {
       "model_id": "4e9ed27e952149b5a24d9e745e2af2db",
       "version_major": 2,
       "version_minor": 0
      },
      "text/plain": [
       "  0%|          | 0/144 [00:00<?, ?it/s]"
      ]
     },
     "metadata": {},
     "output_type": "display_data"
    },
    {
     "data": {
      "application/vnd.plotly.v1+json": {
       "config": {
        "plotlyServerURL": "https://plot.ly"
       },
       "data": [
        {
         "coloraxis": "coloraxis",
         "hovertemplate": "Head: %{x}<br>Layer: %{y}<br>color: %{z}<extra></extra>",
         "name": "0",
         "type": "heatmap",
         "xaxis": "x",
         "yaxis": "y",
         "z": [
          [
           0.0009485250920988619,
           0.01612425595521927,
           0.0018548965454101562,
           0.0034389488864690065,
           -0.009824292734265327,
           0.011060208082199097,
           -0.004064877517521381,
           -0.0015790852485224605,
           -0.0012085624039173126,
           0.003827461041510105,
           -0.0042578247375786304,
           -0.0011434858897700906
          ],
          [
           -0.0010772683890536427,
           -0.0003783427819143981,
           0.0000014767215361644048,
           -0.0002609434013720602,
           -0.00014142965665087104,
           0.0038322266191244125,
           -0.0004283835005480796,
           -0.001429634285159409,
           -0.0009229509741999209,
           0.0006927837966941297,
           0.0004325787303969264,
           -0.0035716525744646788
          ],
          [
           -0.000497487373650074,
           0.0008056187652982771,
           0.0005409499863162637,
           -0.0005321567296050489,
           -0.0007166126742959023,
           -0.0010389072122052312,
           -0.0009498340077698231,
           -0.0000860861546243541,
           0.0002760798088274896,
           0.002106375526636839,
           -0.00019898822938557714,
           -0.001640771864913404
          ],
          [
           0.11626453697681427,
           0.0002495995140634477,
           -0.0014683310873806477,
           -0.0003971038677264005,
           0.018961139023303986,
           -0.0001896915928227827,
           0.011169720441102982,
           -0.0013309288769960403,
           -0.0007364142220467329,
           -0.00030430531478486955,
           -0.00014659817679785192,
           -0.00022358907153829932
          ],
          [
           -0.0016512431902810931,
           0.0002920216938946396,
           -0.0014360781060531735,
           0.030840255320072174,
           -0.007433178834617138,
           -0.000283933273749426,
           0.006016499362885952,
           -0.011008153669536114,
           -0.001265483209863305,
           0.0014891393948346376,
           -0.00018049565551336855,
           0.002943911589682102
          ],
          [
           -0.004211811348795891,
           0.0029592157807201147,
           0.0020446551498025656,
           0.0013398563023656607,
           -0.001219704863615334,
           0.34350278973579407,
           0.0005627315840683877,
           -0.00012646106188185513,
           -0.005154261831194162,
           0.016240177676081657,
           0.01709160953760147,
           -0.004174893256276846
          ],
          [
           0.03977462276816368,
           0.015226946212351322,
           -0.0010228981263935566,
           0.0008073639473877847,
           -0.0049352035857737064,
           -0.0021236599422991276,
           -0.01427395734935999,
           0.0013735860120505095,
           0.0014836352784186602,
           0.13027140498161316,
           -0.0003365582670085132,
           0.0012909567449241877
          ],
          [
           0.0003726708237081766,
           0.019513733685016632,
           0.00022251509653870016,
           0.12425179034471512,
           -0.00040472240652889013,
           -0.007651699706912041,
           0.0012999848695471883,
           -0.0011253961129114032,
           -0.0074499258771538734,
           0.19223417341709137,
           -0.00327657675370574,
           -0.0005022867117077112
          ],
          [
           -0.0010080637875944376,
           0.000031044713978189975,
           -0.0008589485078118742,
           0.012362978421151638,
           -0.0004049908893648535,
           -0.004331190604716539,
           0.31855347752571106,
           0.0023293939884752035,
           0.002117685740813613,
           0.00014062416448723525,
           0.27794432640075684,
           0.005738741252571344
          ],
          [
           0.005890038330107927,
           -0.0009690985316410661,
           0.009125232696533203,
           0.020677123218774796,
           -0.03700758144259453,
           0.014263183809816837,
           -0.04828060790896416,
           0.05834204703569412,
           0.0006516369758173823,
           0.2636125981807709,
           0.0004923188243992627,
           -0.0026109779719263315
          ],
          [
           0.0837443396449089,
           0.02067440375685692,
           -0.003743354929611087,
           0.010850883089005947,
           -0.0010966671397909522,
           0.0004740276199299842,
           0.048176832497119904,
           -0.4799308180809021,
           0.00018415389058645815,
           0.011860490776598454,
           0.060881607234478,
           0.0008460272219963372
          ],
          [
           0.005327407270669937,
           -0.011493257246911526,
           -0.11350572109222412,
           0.006329329218715429,
           0.0003162197826895863,
           -0.0011601997539401054,
           -0.022669924423098564,
           0.0040705157443881035,
           0.0073164841160178185,
           -0.008346463553607464,
           -0.2781884968280792,
           0.0036352856550365686
          ]
         ]
        }
       ],
       "layout": {
        "coloraxis": {
         "cmid": 0,
         "colorscale": [
          [
           0,
           "rgb(103,0,31)"
          ],
          [
           0.1,
           "rgb(178,24,43)"
          ],
          [
           0.2,
           "rgb(214,96,77)"
          ],
          [
           0.3,
           "rgb(244,165,130)"
          ],
          [
           0.4,
           "rgb(253,219,199)"
          ],
          [
           0.5,
           "rgb(247,247,247)"
          ],
          [
           0.6,
           "rgb(209,229,240)"
          ],
          [
           0.7,
           "rgb(146,197,222)"
          ],
          [
           0.8,
           "rgb(67,147,195)"
          ],
          [
           0.9,
           "rgb(33,102,172)"
          ],
          [
           1,
           "rgb(5,48,97)"
          ]
         ]
        },
        "template": {
         "data": {
          "bar": [
           {
            "error_x": {
             "color": "#2a3f5f"
            },
            "error_y": {
             "color": "#2a3f5f"
            },
            "marker": {
             "line": {
              "color": "#E5ECF6",
              "width": 0.5
             },
             "pattern": {
              "fillmode": "overlay",
              "size": 10,
              "solidity": 0.2
             }
            },
            "type": "bar"
           }
          ],
          "barpolar": [
           {
            "marker": {
             "line": {
              "color": "#E5ECF6",
              "width": 0.5
             },
             "pattern": {
              "fillmode": "overlay",
              "size": 10,
              "solidity": 0.2
             }
            },
            "type": "barpolar"
           }
          ],
          "carpet": [
           {
            "aaxis": {
             "endlinecolor": "#2a3f5f",
             "gridcolor": "white",
             "linecolor": "white",
             "minorgridcolor": "white",
             "startlinecolor": "#2a3f5f"
            },
            "baxis": {
             "endlinecolor": "#2a3f5f",
             "gridcolor": "white",
             "linecolor": "white",
             "minorgridcolor": "white",
             "startlinecolor": "#2a3f5f"
            },
            "type": "carpet"
           }
          ],
          "choropleth": [
           {
            "colorbar": {
             "outlinewidth": 0,
             "ticks": ""
            },
            "type": "choropleth"
           }
          ],
          "contour": [
           {
            "colorbar": {
             "outlinewidth": 0,
             "ticks": ""
            },
            "colorscale": [
             [
              0,
              "#0d0887"
             ],
             [
              0.1111111111111111,
              "#46039f"
             ],
             [
              0.2222222222222222,
              "#7201a8"
             ],
             [
              0.3333333333333333,
              "#9c179e"
             ],
             [
              0.4444444444444444,
              "#bd3786"
             ],
             [
              0.5555555555555556,
              "#d8576b"
             ],
             [
              0.6666666666666666,
              "#ed7953"
             ],
             [
              0.7777777777777778,
              "#fb9f3a"
             ],
             [
              0.8888888888888888,
              "#fdca26"
             ],
             [
              1,
              "#f0f921"
             ]
            ],
            "type": "contour"
           }
          ],
          "contourcarpet": [
           {
            "colorbar": {
             "outlinewidth": 0,
             "ticks": ""
            },
            "type": "contourcarpet"
           }
          ],
          "heatmap": [
           {
            "colorbar": {
             "outlinewidth": 0,
             "ticks": ""
            },
            "colorscale": [
             [
              0,
              "#0d0887"
             ],
             [
              0.1111111111111111,
              "#46039f"
             ],
             [
              0.2222222222222222,
              "#7201a8"
             ],
             [
              0.3333333333333333,
              "#9c179e"
             ],
             [
              0.4444444444444444,
              "#bd3786"
             ],
             [
              0.5555555555555556,
              "#d8576b"
             ],
             [
              0.6666666666666666,
              "#ed7953"
             ],
             [
              0.7777777777777778,
              "#fb9f3a"
             ],
             [
              0.8888888888888888,
              "#fdca26"
             ],
             [
              1,
              "#f0f921"
             ]
            ],
            "type": "heatmap"
           }
          ],
          "heatmapgl": [
           {
            "colorbar": {
             "outlinewidth": 0,
             "ticks": ""
            },
            "colorscale": [
             [
              0,
              "#0d0887"
             ],
             [
              0.1111111111111111,
              "#46039f"
             ],
             [
              0.2222222222222222,
              "#7201a8"
             ],
             [
              0.3333333333333333,
              "#9c179e"
             ],
             [
              0.4444444444444444,
              "#bd3786"
             ],
             [
              0.5555555555555556,
              "#d8576b"
             ],
             [
              0.6666666666666666,
              "#ed7953"
             ],
             [
              0.7777777777777778,
              "#fb9f3a"
             ],
             [
              0.8888888888888888,
              "#fdca26"
             ],
             [
              1,
              "#f0f921"
             ]
            ],
            "type": "heatmapgl"
           }
          ],
          "histogram": [
           {
            "marker": {
             "pattern": {
              "fillmode": "overlay",
              "size": 10,
              "solidity": 0.2
             }
            },
            "type": "histogram"
           }
          ],
          "histogram2d": [
           {
            "colorbar": {
             "outlinewidth": 0,
             "ticks": ""
            },
            "colorscale": [
             [
              0,
              "#0d0887"
             ],
             [
              0.1111111111111111,
              "#46039f"
             ],
             [
              0.2222222222222222,
              "#7201a8"
             ],
             [
              0.3333333333333333,
              "#9c179e"
             ],
             [
              0.4444444444444444,
              "#bd3786"
             ],
             [
              0.5555555555555556,
              "#d8576b"
             ],
             [
              0.6666666666666666,
              "#ed7953"
             ],
             [
              0.7777777777777778,
              "#fb9f3a"
             ],
             [
              0.8888888888888888,
              "#fdca26"
             ],
             [
              1,
              "#f0f921"
             ]
            ],
            "type": "histogram2d"
           }
          ],
          "histogram2dcontour": [
           {
            "colorbar": {
             "outlinewidth": 0,
             "ticks": ""
            },
            "colorscale": [
             [
              0,
              "#0d0887"
             ],
             [
              0.1111111111111111,
              "#46039f"
             ],
             [
              0.2222222222222222,
              "#7201a8"
             ],
             [
              0.3333333333333333,
              "#9c179e"
             ],
             [
              0.4444444444444444,
              "#bd3786"
             ],
             [
              0.5555555555555556,
              "#d8576b"
             ],
             [
              0.6666666666666666,
              "#ed7953"
             ],
             [
              0.7777777777777778,
              "#fb9f3a"
             ],
             [
              0.8888888888888888,
              "#fdca26"
             ],
             [
              1,
              "#f0f921"
             ]
            ],
            "type": "histogram2dcontour"
           }
          ],
          "mesh3d": [
           {
            "colorbar": {
             "outlinewidth": 0,
             "ticks": ""
            },
            "type": "mesh3d"
           }
          ],
          "parcoords": [
           {
            "line": {
             "colorbar": {
              "outlinewidth": 0,
              "ticks": ""
             }
            },
            "type": "parcoords"
           }
          ],
          "pie": [
           {
            "automargin": true,
            "type": "pie"
           }
          ],
          "scatter": [
           {
            "fillpattern": {
             "fillmode": "overlay",
             "size": 10,
             "solidity": 0.2
            },
            "type": "scatter"
           }
          ],
          "scatter3d": [
           {
            "line": {
             "colorbar": {
              "outlinewidth": 0,
              "ticks": ""
             }
            },
            "marker": {
             "colorbar": {
              "outlinewidth": 0,
              "ticks": ""
             }
            },
            "type": "scatter3d"
           }
          ],
          "scattercarpet": [
           {
            "marker": {
             "colorbar": {
              "outlinewidth": 0,
              "ticks": ""
             }
            },
            "type": "scattercarpet"
           }
          ],
          "scattergeo": [
           {
            "marker": {
             "colorbar": {
              "outlinewidth": 0,
              "ticks": ""
             }
            },
            "type": "scattergeo"
           }
          ],
          "scattergl": [
           {
            "marker": {
             "colorbar": {
              "outlinewidth": 0,
              "ticks": ""
             }
            },
            "type": "scattergl"
           }
          ],
          "scattermapbox": [
           {
            "marker": {
             "colorbar": {
              "outlinewidth": 0,
              "ticks": ""
             }
            },
            "type": "scattermapbox"
           }
          ],
          "scatterpolar": [
           {
            "marker": {
             "colorbar": {
              "outlinewidth": 0,
              "ticks": ""
             }
            },
            "type": "scatterpolar"
           }
          ],
          "scatterpolargl": [
           {
            "marker": {
             "colorbar": {
              "outlinewidth": 0,
              "ticks": ""
             }
            },
            "type": "scatterpolargl"
           }
          ],
          "scatterternary": [
           {
            "marker": {
             "colorbar": {
              "outlinewidth": 0,
              "ticks": ""
             }
            },
            "type": "scatterternary"
           }
          ],
          "surface": [
           {
            "colorbar": {
             "outlinewidth": 0,
             "ticks": ""
            },
            "colorscale": [
             [
              0,
              "#0d0887"
             ],
             [
              0.1111111111111111,
              "#46039f"
             ],
             [
              0.2222222222222222,
              "#7201a8"
             ],
             [
              0.3333333333333333,
              "#9c179e"
             ],
             [
              0.4444444444444444,
              "#bd3786"
             ],
             [
              0.5555555555555556,
              "#d8576b"
             ],
             [
              0.6666666666666666,
              "#ed7953"
             ],
             [
              0.7777777777777778,
              "#fb9f3a"
             ],
             [
              0.8888888888888888,
              "#fdca26"
             ],
             [
              1,
              "#f0f921"
             ]
            ],
            "type": "surface"
           }
          ],
          "table": [
           {
            "cells": {
             "fill": {
              "color": "#EBF0F8"
             },
             "line": {
              "color": "white"
             }
            },
            "header": {
             "fill": {
              "color": "#C8D4E3"
             },
             "line": {
              "color": "white"
             }
            },
            "type": "table"
           }
          ]
         },
         "layout": {
          "annotationdefaults": {
           "arrowcolor": "#2a3f5f",
           "arrowhead": 0,
           "arrowwidth": 1
          },
          "autotypenumbers": "strict",
          "coloraxis": {
           "colorbar": {
            "outlinewidth": 0,
            "ticks": ""
           }
          },
          "colorscale": {
           "diverging": [
            [
             0,
             "#8e0152"
            ],
            [
             0.1,
             "#c51b7d"
            ],
            [
             0.2,
             "#de77ae"
            ],
            [
             0.3,
             "#f1b6da"
            ],
            [
             0.4,
             "#fde0ef"
            ],
            [
             0.5,
             "#f7f7f7"
            ],
            [
             0.6,
             "#e6f5d0"
            ],
            [
             0.7,
             "#b8e186"
            ],
            [
             0.8,
             "#7fbc41"
            ],
            [
             0.9,
             "#4d9221"
            ],
            [
             1,
             "#276419"
            ]
           ],
           "sequential": [
            [
             0,
             "#0d0887"
            ],
            [
             0.1111111111111111,
             "#46039f"
            ],
            [
             0.2222222222222222,
             "#7201a8"
            ],
            [
             0.3333333333333333,
             "#9c179e"
            ],
            [
             0.4444444444444444,
             "#bd3786"
            ],
            [
             0.5555555555555556,
             "#d8576b"
            ],
            [
             0.6666666666666666,
             "#ed7953"
            ],
            [
             0.7777777777777778,
             "#fb9f3a"
            ],
            [
             0.8888888888888888,
             "#fdca26"
            ],
            [
             1,
             "#f0f921"
            ]
           ],
           "sequentialminus": [
            [
             0,
             "#0d0887"
            ],
            [
             0.1111111111111111,
             "#46039f"
            ],
            [
             0.2222222222222222,
             "#7201a8"
            ],
            [
             0.3333333333333333,
             "#9c179e"
            ],
            [
             0.4444444444444444,
             "#bd3786"
            ],
            [
             0.5555555555555556,
             "#d8576b"
            ],
            [
             0.6666666666666666,
             "#ed7953"
            ],
            [
             0.7777777777777778,
             "#fb9f3a"
            ],
            [
             0.8888888888888888,
             "#fdca26"
            ],
            [
             1,
             "#f0f921"
            ]
           ]
          },
          "colorway": [
           "#636efa",
           "#EF553B",
           "#00cc96",
           "#ab63fa",
           "#FFA15A",
           "#19d3f3",
           "#FF6692",
           "#B6E880",
           "#FF97FF",
           "#FECB52"
          ],
          "font": {
           "color": "#2a3f5f"
          },
          "geo": {
           "bgcolor": "white",
           "lakecolor": "white",
           "landcolor": "#E5ECF6",
           "showlakes": true,
           "showland": true,
           "subunitcolor": "white"
          },
          "hoverlabel": {
           "align": "left"
          },
          "hovermode": "closest",
          "mapbox": {
           "style": "light"
          },
          "paper_bgcolor": "white",
          "plot_bgcolor": "#E5ECF6",
          "polar": {
           "angularaxis": {
            "gridcolor": "white",
            "linecolor": "white",
            "ticks": ""
           },
           "bgcolor": "#E5ECF6",
           "radialaxis": {
            "gridcolor": "white",
            "linecolor": "white",
            "ticks": ""
           }
          },
          "scene": {
           "xaxis": {
            "backgroundcolor": "#E5ECF6",
            "gridcolor": "white",
            "gridwidth": 2,
            "linecolor": "white",
            "showbackground": true,
            "ticks": "",
            "zerolinecolor": "white"
           },
           "yaxis": {
            "backgroundcolor": "#E5ECF6",
            "gridcolor": "white",
            "gridwidth": 2,
            "linecolor": "white",
            "showbackground": true,
            "ticks": "",
            "zerolinecolor": "white"
           },
           "zaxis": {
            "backgroundcolor": "#E5ECF6",
            "gridcolor": "white",
            "gridwidth": 2,
            "linecolor": "white",
            "showbackground": true,
            "ticks": "",
            "zerolinecolor": "white"
           }
          },
          "shapedefaults": {
           "line": {
            "color": "#2a3f5f"
           }
          },
          "ternary": {
           "aaxis": {
            "gridcolor": "white",
            "linecolor": "white",
            "ticks": ""
           },
           "baxis": {
            "gridcolor": "white",
            "linecolor": "white",
            "ticks": ""
           },
           "bgcolor": "#E5ECF6",
           "caxis": {
            "gridcolor": "white",
            "linecolor": "white",
            "ticks": ""
           }
          },
          "title": {
           "x": 0.05
          },
          "xaxis": {
           "automargin": true,
           "gridcolor": "white",
           "linecolor": "white",
           "ticks": "",
           "title": {
            "standoff": 15
           },
           "zerolinecolor": "white",
           "zerolinewidth": 2
          },
          "yaxis": {
           "automargin": true,
           "gridcolor": "white",
           "linecolor": "white",
           "ticks": "",
           "title": {
            "standoff": 15
           },
           "zerolinecolor": "white",
           "zerolinewidth": 2
          }
         }
        },
        "title": {
         "text": "attn_head_out Activation Patching (All Pos)"
        },
        "width": 600,
        "xaxis": {
         "anchor": "y",
         "constrain": "domain",
         "domain": [
          0,
          1
         ],
         "scaleanchor": "y",
         "title": {
          "text": "Head"
         }
        },
        "yaxis": {
         "anchor": "x",
         "autorange": "reversed",
         "constrain": "domain",
         "domain": [
          0,
          1
         ],
         "title": {
          "text": "Layer"
         }
        }
       }
      },
      "text/html": [
       "<div>                            <div id=\"ad76133e-97b4-4d2b-8862-f22fd88acd3c\" class=\"plotly-graph-div\" style=\"height:525px; width:600px;\"></div>            <script type=\"text/javascript\">                require([\"plotly\"], function(Plotly) {                    window.PLOTLYENV=window.PLOTLYENV || {};                                    if (document.getElementById(\"ad76133e-97b4-4d2b-8862-f22fd88acd3c\")) {                    Plotly.newPlot(                        \"ad76133e-97b4-4d2b-8862-f22fd88acd3c\",                        [{\"coloraxis\":\"coloraxis\",\"name\":\"0\",\"z\":[[0.0009485250920988619,0.01612425595521927,0.0018548965454101562,0.0034389488864690065,-0.009824292734265327,0.011060208082199097,-0.004064877517521381,-0.0015790852485224605,-0.0012085624039173126,0.003827461041510105,-0.0042578247375786304,-0.0011434858897700906],[-0.0010772683890536427,-0.0003783427819143981,1.4767215361644048e-06,-0.0002609434013720602,-0.00014142965665087104,0.0038322266191244125,-0.0004283835005480796,-0.001429634285159409,-0.0009229509741999209,0.0006927837966941297,0.0004325787303969264,-0.0035716525744646788],[-0.000497487373650074,0.0008056187652982771,0.0005409499863162637,-0.0005321567296050489,-0.0007166126742959023,-0.0010389072122052312,-0.0009498340077698231,-8.60861546243541e-05,0.0002760798088274896,0.002106375526636839,-0.00019898822938557714,-0.001640771864913404],[0.11626453697681427,0.0002495995140634477,-0.0014683310873806477,-0.0003971038677264005,0.018961139023303986,-0.0001896915928227827,0.011169720441102982,-0.0013309288769960403,-0.0007364142220467329,-0.00030430531478486955,-0.00014659817679785192,-0.00022358907153829932],[-0.0016512431902810931,0.0002920216938946396,-0.0014360781060531735,0.030840255320072174,-0.007433178834617138,-0.000283933273749426,0.006016499362885952,-0.011008153669536114,-0.001265483209863305,0.0014891393948346376,-0.00018049565551336855,0.002943911589682102],[-0.004211811348795891,0.0029592157807201147,0.0020446551498025656,0.0013398563023656607,-0.001219704863615334,0.34350278973579407,0.0005627315840683877,-0.00012646106188185513,-0.005154261831194162,0.016240177676081657,0.01709160953760147,-0.004174893256276846],[0.03977462276816368,0.015226946212351322,-0.0010228981263935566,0.0008073639473877847,-0.0049352035857737064,-0.0021236599422991276,-0.01427395734935999,0.0013735860120505095,0.0014836352784186602,0.13027140498161316,-0.0003365582670085132,0.0012909567449241877],[0.0003726708237081766,0.019513733685016632,0.00022251509653870016,0.12425179034471512,-0.00040472240652889013,-0.007651699706912041,0.0012999848695471883,-0.0011253961129114032,-0.0074499258771538734,0.19223417341709137,-0.00327657675370574,-0.0005022867117077112],[-0.0010080637875944376,3.1044713978189975e-05,-0.0008589485078118742,0.012362978421151638,-0.0004049908893648535,-0.004331190604716539,0.31855347752571106,0.0023293939884752035,0.002117685740813613,0.00014062416448723525,0.27794432640075684,0.005738741252571344],[0.005890038330107927,-0.0009690985316410661,0.009125232696533203,0.020677123218774796,-0.03700758144259453,0.014263183809816837,-0.04828060790896416,0.05834204703569412,0.0006516369758173823,0.2636125981807709,0.0004923188243992627,-0.0026109779719263315],[0.0837443396449089,0.02067440375685692,-0.003743354929611087,0.010850883089005947,-0.0010966671397909522,0.0004740276199299842,0.048176832497119904,-0.4799308180809021,0.00018415389058645815,0.011860490776598454,0.060881607234478,0.0008460272219963372],[0.005327407270669937,-0.011493257246911526,-0.11350572109222412,0.006329329218715429,0.0003162197826895863,-0.0011601997539401054,-0.022669924423098564,0.0040705157443881035,0.0073164841160178185,-0.008346463553607464,-0.2781884968280792,0.0036352856550365686]],\"type\":\"heatmap\",\"xaxis\":\"x\",\"yaxis\":\"y\",\"hovertemplate\":\"Head: %{x}<br>Layer: %{y}<br>color: %{z}<extra></extra>\"}],                        {\"template\":{\"data\":{\"histogram2dcontour\":[{\"type\":\"histogram2dcontour\",\"colorbar\":{\"outlinewidth\":0,\"ticks\":\"\"},\"colorscale\":[[0.0,\"#0d0887\"],[0.1111111111111111,\"#46039f\"],[0.2222222222222222,\"#7201a8\"],[0.3333333333333333,\"#9c179e\"],[0.4444444444444444,\"#bd3786\"],[0.5555555555555556,\"#d8576b\"],[0.6666666666666666,\"#ed7953\"],[0.7777777777777778,\"#fb9f3a\"],[0.8888888888888888,\"#fdca26\"],[1.0,\"#f0f921\"]]}],\"choropleth\":[{\"type\":\"choropleth\",\"colorbar\":{\"outlinewidth\":0,\"ticks\":\"\"}}],\"histogram2d\":[{\"type\":\"histogram2d\",\"colorbar\":{\"outlinewidth\":0,\"ticks\":\"\"},\"colorscale\":[[0.0,\"#0d0887\"],[0.1111111111111111,\"#46039f\"],[0.2222222222222222,\"#7201a8\"],[0.3333333333333333,\"#9c179e\"],[0.4444444444444444,\"#bd3786\"],[0.5555555555555556,\"#d8576b\"],[0.6666666666666666,\"#ed7953\"],[0.7777777777777778,\"#fb9f3a\"],[0.8888888888888888,\"#fdca26\"],[1.0,\"#f0f921\"]]}],\"heatmap\":[{\"type\":\"heatmap\",\"colorbar\":{\"outlinewidth\":0,\"ticks\":\"\"},\"colorscale\":[[0.0,\"#0d0887\"],[0.1111111111111111,\"#46039f\"],[0.2222222222222222,\"#7201a8\"],[0.3333333333333333,\"#9c179e\"],[0.4444444444444444,\"#bd3786\"],[0.5555555555555556,\"#d8576b\"],[0.6666666666666666,\"#ed7953\"],[0.7777777777777778,\"#fb9f3a\"],[0.8888888888888888,\"#fdca26\"],[1.0,\"#f0f921\"]]}],\"heatmapgl\":[{\"type\":\"heatmapgl\",\"colorbar\":{\"outlinewidth\":0,\"ticks\":\"\"},\"colorscale\":[[0.0,\"#0d0887\"],[0.1111111111111111,\"#46039f\"],[0.2222222222222222,\"#7201a8\"],[0.3333333333333333,\"#9c179e\"],[0.4444444444444444,\"#bd3786\"],[0.5555555555555556,\"#d8576b\"],[0.6666666666666666,\"#ed7953\"],[0.7777777777777778,\"#fb9f3a\"],[0.8888888888888888,\"#fdca26\"],[1.0,\"#f0f921\"]]}],\"contourcarpet\":[{\"type\":\"contourcarpet\",\"colorbar\":{\"outlinewidth\":0,\"ticks\":\"\"}}],\"contour\":[{\"type\":\"contour\",\"colorbar\":{\"outlinewidth\":0,\"ticks\":\"\"},\"colorscale\":[[0.0,\"#0d0887\"],[0.1111111111111111,\"#46039f\"],[0.2222222222222222,\"#7201a8\"],[0.3333333333333333,\"#9c179e\"],[0.4444444444444444,\"#bd3786\"],[0.5555555555555556,\"#d8576b\"],[0.6666666666666666,\"#ed7953\"],[0.7777777777777778,\"#fb9f3a\"],[0.8888888888888888,\"#fdca26\"],[1.0,\"#f0f921\"]]}],\"surface\":[{\"type\":\"surface\",\"colorbar\":{\"outlinewidth\":0,\"ticks\":\"\"},\"colorscale\":[[0.0,\"#0d0887\"],[0.1111111111111111,\"#46039f\"],[0.2222222222222222,\"#7201a8\"],[0.3333333333333333,\"#9c179e\"],[0.4444444444444444,\"#bd3786\"],[0.5555555555555556,\"#d8576b\"],[0.6666666666666666,\"#ed7953\"],[0.7777777777777778,\"#fb9f3a\"],[0.8888888888888888,\"#fdca26\"],[1.0,\"#f0f921\"]]}],\"mesh3d\":[{\"type\":\"mesh3d\",\"colorbar\":{\"outlinewidth\":0,\"ticks\":\"\"}}],\"scatter\":[{\"fillpattern\":{\"fillmode\":\"overlay\",\"size\":10,\"solidity\":0.2},\"type\":\"scatter\"}],\"parcoords\":[{\"type\":\"parcoords\",\"line\":{\"colorbar\":{\"outlinewidth\":0,\"ticks\":\"\"}}}],\"scatterpolargl\":[{\"type\":\"scatterpolargl\",\"marker\":{\"colorbar\":{\"outlinewidth\":0,\"ticks\":\"\"}}}],\"bar\":[{\"error_x\":{\"color\":\"#2a3f5f\"},\"error_y\":{\"color\":\"#2a3f5f\"},\"marker\":{\"line\":{\"color\":\"#E5ECF6\",\"width\":0.5},\"pattern\":{\"fillmode\":\"overlay\",\"size\":10,\"solidity\":0.2}},\"type\":\"bar\"}],\"scattergeo\":[{\"type\":\"scattergeo\",\"marker\":{\"colorbar\":{\"outlinewidth\":0,\"ticks\":\"\"}}}],\"scatterpolar\":[{\"type\":\"scatterpolar\",\"marker\":{\"colorbar\":{\"outlinewidth\":0,\"ticks\":\"\"}}}],\"histogram\":[{\"marker\":{\"pattern\":{\"fillmode\":\"overlay\",\"size\":10,\"solidity\":0.2}},\"type\":\"histogram\"}],\"scattergl\":[{\"type\":\"scattergl\",\"marker\":{\"colorbar\":{\"outlinewidth\":0,\"ticks\":\"\"}}}],\"scatter3d\":[{\"type\":\"scatter3d\",\"line\":{\"colorbar\":{\"outlinewidth\":0,\"ticks\":\"\"}},\"marker\":{\"colorbar\":{\"outlinewidth\":0,\"ticks\":\"\"}}}],\"scattermapbox\":[{\"type\":\"scattermapbox\",\"marker\":{\"colorbar\":{\"outlinewidth\":0,\"ticks\":\"\"}}}],\"scatterternary\":[{\"type\":\"scatterternary\",\"marker\":{\"colorbar\":{\"outlinewidth\":0,\"ticks\":\"\"}}}],\"scattercarpet\":[{\"type\":\"scattercarpet\",\"marker\":{\"colorbar\":{\"outlinewidth\":0,\"ticks\":\"\"}}}],\"carpet\":[{\"aaxis\":{\"endlinecolor\":\"#2a3f5f\",\"gridcolor\":\"white\",\"linecolor\":\"white\",\"minorgridcolor\":\"white\",\"startlinecolor\":\"#2a3f5f\"},\"baxis\":{\"endlinecolor\":\"#2a3f5f\",\"gridcolor\":\"white\",\"linecolor\":\"white\",\"minorgridcolor\":\"white\",\"startlinecolor\":\"#2a3f5f\"},\"type\":\"carpet\"}],\"table\":[{\"cells\":{\"fill\":{\"color\":\"#EBF0F8\"},\"line\":{\"color\":\"white\"}},\"header\":{\"fill\":{\"color\":\"#C8D4E3\"},\"line\":{\"color\":\"white\"}},\"type\":\"table\"}],\"barpolar\":[{\"marker\":{\"line\":{\"color\":\"#E5ECF6\",\"width\":0.5},\"pattern\":{\"fillmode\":\"overlay\",\"size\":10,\"solidity\":0.2}},\"type\":\"barpolar\"}],\"pie\":[{\"automargin\":true,\"type\":\"pie\"}]},\"layout\":{\"autotypenumbers\":\"strict\",\"colorway\":[\"#636efa\",\"#EF553B\",\"#00cc96\",\"#ab63fa\",\"#FFA15A\",\"#19d3f3\",\"#FF6692\",\"#B6E880\",\"#FF97FF\",\"#FECB52\"],\"font\":{\"color\":\"#2a3f5f\"},\"hovermode\":\"closest\",\"hoverlabel\":{\"align\":\"left\"},\"paper_bgcolor\":\"white\",\"plot_bgcolor\":\"#E5ECF6\",\"polar\":{\"bgcolor\":\"#E5ECF6\",\"angularaxis\":{\"gridcolor\":\"white\",\"linecolor\":\"white\",\"ticks\":\"\"},\"radialaxis\":{\"gridcolor\":\"white\",\"linecolor\":\"white\",\"ticks\":\"\"}},\"ternary\":{\"bgcolor\":\"#E5ECF6\",\"aaxis\":{\"gridcolor\":\"white\",\"linecolor\":\"white\",\"ticks\":\"\"},\"baxis\":{\"gridcolor\":\"white\",\"linecolor\":\"white\",\"ticks\":\"\"},\"caxis\":{\"gridcolor\":\"white\",\"linecolor\":\"white\",\"ticks\":\"\"}},\"coloraxis\":{\"colorbar\":{\"outlinewidth\":0,\"ticks\":\"\"}},\"colorscale\":{\"sequential\":[[0.0,\"#0d0887\"],[0.1111111111111111,\"#46039f\"],[0.2222222222222222,\"#7201a8\"],[0.3333333333333333,\"#9c179e\"],[0.4444444444444444,\"#bd3786\"],[0.5555555555555556,\"#d8576b\"],[0.6666666666666666,\"#ed7953\"],[0.7777777777777778,\"#fb9f3a\"],[0.8888888888888888,\"#fdca26\"],[1.0,\"#f0f921\"]],\"sequentialminus\":[[0.0,\"#0d0887\"],[0.1111111111111111,\"#46039f\"],[0.2222222222222222,\"#7201a8\"],[0.3333333333333333,\"#9c179e\"],[0.4444444444444444,\"#bd3786\"],[0.5555555555555556,\"#d8576b\"],[0.6666666666666666,\"#ed7953\"],[0.7777777777777778,\"#fb9f3a\"],[0.8888888888888888,\"#fdca26\"],[1.0,\"#f0f921\"]],\"diverging\":[[0,\"#8e0152\"],[0.1,\"#c51b7d\"],[0.2,\"#de77ae\"],[0.3,\"#f1b6da\"],[0.4,\"#fde0ef\"],[0.5,\"#f7f7f7\"],[0.6,\"#e6f5d0\"],[0.7,\"#b8e186\"],[0.8,\"#7fbc41\"],[0.9,\"#4d9221\"],[1,\"#276419\"]]},\"xaxis\":{\"gridcolor\":\"white\",\"linecolor\":\"white\",\"ticks\":\"\",\"title\":{\"standoff\":15},\"zerolinecolor\":\"white\",\"automargin\":true,\"zerolinewidth\":2},\"yaxis\":{\"gridcolor\":\"white\",\"linecolor\":\"white\",\"ticks\":\"\",\"title\":{\"standoff\":15},\"zerolinecolor\":\"white\",\"automargin\":true,\"zerolinewidth\":2},\"scene\":{\"xaxis\":{\"backgroundcolor\":\"#E5ECF6\",\"gridcolor\":\"white\",\"linecolor\":\"white\",\"showbackground\":true,\"ticks\":\"\",\"zerolinecolor\":\"white\",\"gridwidth\":2},\"yaxis\":{\"backgroundcolor\":\"#E5ECF6\",\"gridcolor\":\"white\",\"linecolor\":\"white\",\"showbackground\":true,\"ticks\":\"\",\"zerolinecolor\":\"white\",\"gridwidth\":2},\"zaxis\":{\"backgroundcolor\":\"#E5ECF6\",\"gridcolor\":\"white\",\"linecolor\":\"white\",\"showbackground\":true,\"ticks\":\"\",\"zerolinecolor\":\"white\",\"gridwidth\":2}},\"shapedefaults\":{\"line\":{\"color\":\"#2a3f5f\"}},\"annotationdefaults\":{\"arrowcolor\":\"#2a3f5f\",\"arrowhead\":0,\"arrowwidth\":1},\"geo\":{\"bgcolor\":\"white\",\"landcolor\":\"#E5ECF6\",\"subunitcolor\":\"white\",\"showland\":true,\"showlakes\":true,\"lakecolor\":\"white\"},\"title\":{\"x\":0.05},\"mapbox\":{\"style\":\"light\"}}},\"xaxis\":{\"anchor\":\"y\",\"domain\":[0.0,1.0],\"scaleanchor\":\"y\",\"constrain\":\"domain\",\"title\":{\"text\":\"Head\"}},\"yaxis\":{\"anchor\":\"x\",\"domain\":[0.0,1.0],\"autorange\":\"reversed\",\"constrain\":\"domain\",\"title\":{\"text\":\"Layer\"}},\"coloraxis\":{\"colorscale\":[[0.0,\"rgb(103,0,31)\"],[0.1,\"rgb(178,24,43)\"],[0.2,\"rgb(214,96,77)\"],[0.3,\"rgb(244,165,130)\"],[0.4,\"rgb(253,219,199)\"],[0.5,\"rgb(247,247,247)\"],[0.6,\"rgb(209,229,240)\"],[0.7,\"rgb(146,197,222)\"],[0.8,\"rgb(67,147,195)\"],[0.9,\"rgb(33,102,172)\"],[1.0,\"rgb(5,48,97)\"]],\"cmid\":0.0},\"title\":{\"text\":\"attn_head_out Activation Patching (All Pos)\"},\"width\":600},                        {\"responsive\": true}                    ).then(function(){\n",
       "                            \n",
       "var gd = document.getElementById('ad76133e-97b4-4d2b-8862-f22fd88acd3c');\n",
       "var x = new MutationObserver(function (mutations, observer) {{\n",
       "        var display = window.getComputedStyle(gd).display;\n",
       "        if (!display || display === 'none') {{\n",
       "            console.log([gd, 'removed!']);\n",
       "            Plotly.purge(gd);\n",
       "            observer.disconnect();\n",
       "        }}\n",
       "}});\n",
       "\n",
       "// Listen for the removal of the full notebook cells\n",
       "var notebookContainer = gd.closest('#notebook-container');\n",
       "if (notebookContainer) {{\n",
       "    x.observe(notebookContainer, {childList: true});\n",
       "}}\n",
       "\n",
       "// Listen for the clearing of the current output cell\n",
       "var outputEl = gd.closest('.output');\n",
       "if (outputEl) {{\n",
       "    x.observe(outputEl, {childList: true});\n",
       "}}\n",
       "\n",
       "                        })                };                });            </script>        </div>"
      ]
     },
     "metadata": {},
     "output_type": "display_data"
    }
   ],
   "source": [
    "act_patch_attn_head_out_all_pos = patching.get_act_patch_attn_head_out_all_pos(\n",
    "    model, \n",
    "    corrupted_tokens, \n",
    "    clean_cache, \n",
    "    ioi_metric\n",
    ")\n",
    "\n",
    "imshow(\n",
    "    act_patch_attn_head_out_all_pos, \n",
    "    labels={\"y\": \"Layer\", \"x\": \"Head\"}, \n",
    "    title=\"attn_head_out Activation Patching (All Pos)\",\n",
    "    width=600\n",
    ")"
   ]
  },
  {
   "attachments": {},
   "cell_type": "markdown",
   "metadata": {},
   "source": [
    "Head patching"
   ]
  },
  {
   "cell_type": "code",
   "execution_count": 129,
   "metadata": {},
   "outputs": [
    {
     "data": {
      "application/vnd.plotly.v1+json": {
       "config": {
        "plotlyServerURL": "https://plot.ly"
       },
       "data": [
        {
         "coloraxis": "coloraxis",
         "hovertemplate": "Head: %{x}<br>Layer: %{y}<br>color: %{z}<extra></extra>",
         "name": "0",
         "type": "heatmap",
         "xaxis": "x",
         "yaxis": "y",
         "z": [
          [
           0.0009485250920988619,
           0.01612425595521927,
           0.0018548965454101562,
           0.0034389488864690065,
           -0.009824292734265327,
           0.011060208082199097,
           -0.004064877517521381,
           -0.0015790852485224605,
           -0.0012085624039173126,
           0.003827461041510105,
           -0.0042578247375786304,
           -0.0011434858897700906
          ],
          [
           -0.0010772683890536427,
           -0.0003783427819143981,
           0.0000014767215361644048,
           -0.0002609434013720602,
           -0.00014142965665087104,
           0.0038322266191244125,
           -0.0004283835005480796,
           -0.001429634285159409,
           -0.0009229509741999209,
           0.0006927837966941297,
           0.0004325787303969264,
           -0.0035716525744646788
          ],
          [
           -0.000497487373650074,
           0.0008056187652982771,
           0.0005409499863162637,
           -0.0005321567296050489,
           -0.0007166126742959023,
           -0.0010389072122052312,
           -0.0009498340077698231,
           -0.0000860861546243541,
           0.0002760798088274896,
           0.002106375526636839,
           -0.00019898822938557714,
           -0.001640771864913404
          ],
          [
           0.11626453697681427,
           0.0002495995140634477,
           -0.0014683310873806477,
           -0.0003971038677264005,
           0.018961139023303986,
           -0.0001896915928227827,
           0.011169720441102982,
           -0.0013309288769960403,
           -0.0007364142220467329,
           -0.00030430531478486955,
           -0.00014659817679785192,
           -0.00022358907153829932
          ],
          [
           -0.0016512431902810931,
           0.0002920216938946396,
           -0.0014360781060531735,
           0.030840255320072174,
           -0.007433178834617138,
           -0.000283933273749426,
           0.006016499362885952,
           -0.011008153669536114,
           -0.001265483209863305,
           0.0014891393948346376,
           -0.00018049565551336855,
           0.002943911589682102
          ],
          [
           -0.004211811348795891,
           0.0029592157807201147,
           0.0020446551498025656,
           0.0013398563023656607,
           -0.001219704863615334,
           0.34350278973579407,
           0.0005627315840683877,
           -0.00012646106188185513,
           -0.005154261831194162,
           0.016240177676081657,
           0.01709160953760147,
           -0.004174893256276846
          ],
          [
           0.03977462276816368,
           0.015226946212351322,
           -0.0010228981263935566,
           0.0008073639473877847,
           -0.0049352035857737064,
           -0.0021236599422991276,
           -0.01427395734935999,
           0.0013735860120505095,
           0.0014836352784186602,
           0.13027140498161316,
           -0.0003365582670085132,
           0.0012909567449241877
          ],
          [
           0.0003726708237081766,
           0.019513733685016632,
           0.00022251509653870016,
           0.12425179034471512,
           -0.00040472240652889013,
           -0.007651699706912041,
           0.0012999848695471883,
           -0.0011253961129114032,
           -0.0074499258771538734,
           0.19223417341709137,
           -0.00327657675370574,
           -0.0005022867117077112
          ],
          [
           -0.0010080637875944376,
           0.000031044713978189975,
           -0.0008589485078118742,
           0.012362978421151638,
           -0.0004049908893648535,
           -0.004331190604716539,
           0.31855347752571106,
           0.0023293939884752035,
           0.002117685740813613,
           0.00014062416448723525,
           0.27794432640075684,
           0.005738741252571344
          ],
          [
           0.005890038330107927,
           -0.0009690985316410661,
           0.009125232696533203,
           0.020677123218774796,
           -0.03700758144259453,
           0.014263183809816837,
           -0.04828060790896416,
           0.05834204703569412,
           0.0006516369758173823,
           0.2636125981807709,
           0.0004923188243992627,
           -0.0026109779719263315
          ],
          [
           0.0837443396449089,
           0.02067440375685692,
           -0.003743354929611087,
           0.010850883089005947,
           -0.0010966671397909522,
           0.0004740276199299842,
           0.048176832497119904,
           -0.4799308180809021,
           0.00018415389058645815,
           0.011860490776598454,
           0.060881607234478,
           0.0008460272219963372
          ],
          [
           0.005327407270669937,
           -0.011493257246911526,
           -0.11350572109222412,
           0.006329329218715429,
           0.0003162197826895863,
           -0.0011601997539401054,
           -0.022669924423098564,
           0.0040705157443881035,
           0.0073164841160178185,
           -0.008346463553607464,
           -0.2781884968280792,
           0.0036352856550365686
          ]
         ]
        }
       ],
       "layout": {
        "coloraxis": {
         "cmid": 0,
         "colorscale": [
          [
           0,
           "rgb(103,0,31)"
          ],
          [
           0.1,
           "rgb(178,24,43)"
          ],
          [
           0.2,
           "rgb(214,96,77)"
          ],
          [
           0.3,
           "rgb(244,165,130)"
          ],
          [
           0.4,
           "rgb(253,219,199)"
          ],
          [
           0.5,
           "rgb(247,247,247)"
          ],
          [
           0.6,
           "rgb(209,229,240)"
          ],
          [
           0.7,
           "rgb(146,197,222)"
          ],
          [
           0.8,
           "rgb(67,147,195)"
          ],
          [
           0.9,
           "rgb(33,102,172)"
          ],
          [
           1,
           "rgb(5,48,97)"
          ]
         ]
        },
        "template": {
         "data": {
          "bar": [
           {
            "error_x": {
             "color": "#2a3f5f"
            },
            "error_y": {
             "color": "#2a3f5f"
            },
            "marker": {
             "line": {
              "color": "#E5ECF6",
              "width": 0.5
             },
             "pattern": {
              "fillmode": "overlay",
              "size": 10,
              "solidity": 0.2
             }
            },
            "type": "bar"
           }
          ],
          "barpolar": [
           {
            "marker": {
             "line": {
              "color": "#E5ECF6",
              "width": 0.5
             },
             "pattern": {
              "fillmode": "overlay",
              "size": 10,
              "solidity": 0.2
             }
            },
            "type": "barpolar"
           }
          ],
          "carpet": [
           {
            "aaxis": {
             "endlinecolor": "#2a3f5f",
             "gridcolor": "white",
             "linecolor": "white",
             "minorgridcolor": "white",
             "startlinecolor": "#2a3f5f"
            },
            "baxis": {
             "endlinecolor": "#2a3f5f",
             "gridcolor": "white",
             "linecolor": "white",
             "minorgridcolor": "white",
             "startlinecolor": "#2a3f5f"
            },
            "type": "carpet"
           }
          ],
          "choropleth": [
           {
            "colorbar": {
             "outlinewidth": 0,
             "ticks": ""
            },
            "type": "choropleth"
           }
          ],
          "contour": [
           {
            "colorbar": {
             "outlinewidth": 0,
             "ticks": ""
            },
            "colorscale": [
             [
              0,
              "#0d0887"
             ],
             [
              0.1111111111111111,
              "#46039f"
             ],
             [
              0.2222222222222222,
              "#7201a8"
             ],
             [
              0.3333333333333333,
              "#9c179e"
             ],
             [
              0.4444444444444444,
              "#bd3786"
             ],
             [
              0.5555555555555556,
              "#d8576b"
             ],
             [
              0.6666666666666666,
              "#ed7953"
             ],
             [
              0.7777777777777778,
              "#fb9f3a"
             ],
             [
              0.8888888888888888,
              "#fdca26"
             ],
             [
              1,
              "#f0f921"
             ]
            ],
            "type": "contour"
           }
          ],
          "contourcarpet": [
           {
            "colorbar": {
             "outlinewidth": 0,
             "ticks": ""
            },
            "type": "contourcarpet"
           }
          ],
          "heatmap": [
           {
            "colorbar": {
             "outlinewidth": 0,
             "ticks": ""
            },
            "colorscale": [
             [
              0,
              "#0d0887"
             ],
             [
              0.1111111111111111,
              "#46039f"
             ],
             [
              0.2222222222222222,
              "#7201a8"
             ],
             [
              0.3333333333333333,
              "#9c179e"
             ],
             [
              0.4444444444444444,
              "#bd3786"
             ],
             [
              0.5555555555555556,
              "#d8576b"
             ],
             [
              0.6666666666666666,
              "#ed7953"
             ],
             [
              0.7777777777777778,
              "#fb9f3a"
             ],
             [
              0.8888888888888888,
              "#fdca26"
             ],
             [
              1,
              "#f0f921"
             ]
            ],
            "type": "heatmap"
           }
          ],
          "heatmapgl": [
           {
            "colorbar": {
             "outlinewidth": 0,
             "ticks": ""
            },
            "colorscale": [
             [
              0,
              "#0d0887"
             ],
             [
              0.1111111111111111,
              "#46039f"
             ],
             [
              0.2222222222222222,
              "#7201a8"
             ],
             [
              0.3333333333333333,
              "#9c179e"
             ],
             [
              0.4444444444444444,
              "#bd3786"
             ],
             [
              0.5555555555555556,
              "#d8576b"
             ],
             [
              0.6666666666666666,
              "#ed7953"
             ],
             [
              0.7777777777777778,
              "#fb9f3a"
             ],
             [
              0.8888888888888888,
              "#fdca26"
             ],
             [
              1,
              "#f0f921"
             ]
            ],
            "type": "heatmapgl"
           }
          ],
          "histogram": [
           {
            "marker": {
             "pattern": {
              "fillmode": "overlay",
              "size": 10,
              "solidity": 0.2
             }
            },
            "type": "histogram"
           }
          ],
          "histogram2d": [
           {
            "colorbar": {
             "outlinewidth": 0,
             "ticks": ""
            },
            "colorscale": [
             [
              0,
              "#0d0887"
             ],
             [
              0.1111111111111111,
              "#46039f"
             ],
             [
              0.2222222222222222,
              "#7201a8"
             ],
             [
              0.3333333333333333,
              "#9c179e"
             ],
             [
              0.4444444444444444,
              "#bd3786"
             ],
             [
              0.5555555555555556,
              "#d8576b"
             ],
             [
              0.6666666666666666,
              "#ed7953"
             ],
             [
              0.7777777777777778,
              "#fb9f3a"
             ],
             [
              0.8888888888888888,
              "#fdca26"
             ],
             [
              1,
              "#f0f921"
             ]
            ],
            "type": "histogram2d"
           }
          ],
          "histogram2dcontour": [
           {
            "colorbar": {
             "outlinewidth": 0,
             "ticks": ""
            },
            "colorscale": [
             [
              0,
              "#0d0887"
             ],
             [
              0.1111111111111111,
              "#46039f"
             ],
             [
              0.2222222222222222,
              "#7201a8"
             ],
             [
              0.3333333333333333,
              "#9c179e"
             ],
             [
              0.4444444444444444,
              "#bd3786"
             ],
             [
              0.5555555555555556,
              "#d8576b"
             ],
             [
              0.6666666666666666,
              "#ed7953"
             ],
             [
              0.7777777777777778,
              "#fb9f3a"
             ],
             [
              0.8888888888888888,
              "#fdca26"
             ],
             [
              1,
              "#f0f921"
             ]
            ],
            "type": "histogram2dcontour"
           }
          ],
          "mesh3d": [
           {
            "colorbar": {
             "outlinewidth": 0,
             "ticks": ""
            },
            "type": "mesh3d"
           }
          ],
          "parcoords": [
           {
            "line": {
             "colorbar": {
              "outlinewidth": 0,
              "ticks": ""
             }
            },
            "type": "parcoords"
           }
          ],
          "pie": [
           {
            "automargin": true,
            "type": "pie"
           }
          ],
          "scatter": [
           {
            "fillpattern": {
             "fillmode": "overlay",
             "size": 10,
             "solidity": 0.2
            },
            "type": "scatter"
           }
          ],
          "scatter3d": [
           {
            "line": {
             "colorbar": {
              "outlinewidth": 0,
              "ticks": ""
             }
            },
            "marker": {
             "colorbar": {
              "outlinewidth": 0,
              "ticks": ""
             }
            },
            "type": "scatter3d"
           }
          ],
          "scattercarpet": [
           {
            "marker": {
             "colorbar": {
              "outlinewidth": 0,
              "ticks": ""
             }
            },
            "type": "scattercarpet"
           }
          ],
          "scattergeo": [
           {
            "marker": {
             "colorbar": {
              "outlinewidth": 0,
              "ticks": ""
             }
            },
            "type": "scattergeo"
           }
          ],
          "scattergl": [
           {
            "marker": {
             "colorbar": {
              "outlinewidth": 0,
              "ticks": ""
             }
            },
            "type": "scattergl"
           }
          ],
          "scattermapbox": [
           {
            "marker": {
             "colorbar": {
              "outlinewidth": 0,
              "ticks": ""
             }
            },
            "type": "scattermapbox"
           }
          ],
          "scatterpolar": [
           {
            "marker": {
             "colorbar": {
              "outlinewidth": 0,
              "ticks": ""
             }
            },
            "type": "scatterpolar"
           }
          ],
          "scatterpolargl": [
           {
            "marker": {
             "colorbar": {
              "outlinewidth": 0,
              "ticks": ""
             }
            },
            "type": "scatterpolargl"
           }
          ],
          "scatterternary": [
           {
            "marker": {
             "colorbar": {
              "outlinewidth": 0,
              "ticks": ""
             }
            },
            "type": "scatterternary"
           }
          ],
          "surface": [
           {
            "colorbar": {
             "outlinewidth": 0,
             "ticks": ""
            },
            "colorscale": [
             [
              0,
              "#0d0887"
             ],
             [
              0.1111111111111111,
              "#46039f"
             ],
             [
              0.2222222222222222,
              "#7201a8"
             ],
             [
              0.3333333333333333,
              "#9c179e"
             ],
             [
              0.4444444444444444,
              "#bd3786"
             ],
             [
              0.5555555555555556,
              "#d8576b"
             ],
             [
              0.6666666666666666,
              "#ed7953"
             ],
             [
              0.7777777777777778,
              "#fb9f3a"
             ],
             [
              0.8888888888888888,
              "#fdca26"
             ],
             [
              1,
              "#f0f921"
             ]
            ],
            "type": "surface"
           }
          ],
          "table": [
           {
            "cells": {
             "fill": {
              "color": "#EBF0F8"
             },
             "line": {
              "color": "white"
             }
            },
            "header": {
             "fill": {
              "color": "#C8D4E3"
             },
             "line": {
              "color": "white"
             }
            },
            "type": "table"
           }
          ]
         },
         "layout": {
          "annotationdefaults": {
           "arrowcolor": "#2a3f5f",
           "arrowhead": 0,
           "arrowwidth": 1
          },
          "autotypenumbers": "strict",
          "coloraxis": {
           "colorbar": {
            "outlinewidth": 0,
            "ticks": ""
           }
          },
          "colorscale": {
           "diverging": [
            [
             0,
             "#8e0152"
            ],
            [
             0.1,
             "#c51b7d"
            ],
            [
             0.2,
             "#de77ae"
            ],
            [
             0.3,
             "#f1b6da"
            ],
            [
             0.4,
             "#fde0ef"
            ],
            [
             0.5,
             "#f7f7f7"
            ],
            [
             0.6,
             "#e6f5d0"
            ],
            [
             0.7,
             "#b8e186"
            ],
            [
             0.8,
             "#7fbc41"
            ],
            [
             0.9,
             "#4d9221"
            ],
            [
             1,
             "#276419"
            ]
           ],
           "sequential": [
            [
             0,
             "#0d0887"
            ],
            [
             0.1111111111111111,
             "#46039f"
            ],
            [
             0.2222222222222222,
             "#7201a8"
            ],
            [
             0.3333333333333333,
             "#9c179e"
            ],
            [
             0.4444444444444444,
             "#bd3786"
            ],
            [
             0.5555555555555556,
             "#d8576b"
            ],
            [
             0.6666666666666666,
             "#ed7953"
            ],
            [
             0.7777777777777778,
             "#fb9f3a"
            ],
            [
             0.8888888888888888,
             "#fdca26"
            ],
            [
             1,
             "#f0f921"
            ]
           ],
           "sequentialminus": [
            [
             0,
             "#0d0887"
            ],
            [
             0.1111111111111111,
             "#46039f"
            ],
            [
             0.2222222222222222,
             "#7201a8"
            ],
            [
             0.3333333333333333,
             "#9c179e"
            ],
            [
             0.4444444444444444,
             "#bd3786"
            ],
            [
             0.5555555555555556,
             "#d8576b"
            ],
            [
             0.6666666666666666,
             "#ed7953"
            ],
            [
             0.7777777777777778,
             "#fb9f3a"
            ],
            [
             0.8888888888888888,
             "#fdca26"
            ],
            [
             1,
             "#f0f921"
            ]
           ]
          },
          "colorway": [
           "#636efa",
           "#EF553B",
           "#00cc96",
           "#ab63fa",
           "#FFA15A",
           "#19d3f3",
           "#FF6692",
           "#B6E880",
           "#FF97FF",
           "#FECB52"
          ],
          "font": {
           "color": "#2a3f5f"
          },
          "geo": {
           "bgcolor": "white",
           "lakecolor": "white",
           "landcolor": "#E5ECF6",
           "showlakes": true,
           "showland": true,
           "subunitcolor": "white"
          },
          "hoverlabel": {
           "align": "left"
          },
          "hovermode": "closest",
          "mapbox": {
           "style": "light"
          },
          "paper_bgcolor": "white",
          "plot_bgcolor": "#E5ECF6",
          "polar": {
           "angularaxis": {
            "gridcolor": "white",
            "linecolor": "white",
            "ticks": ""
           },
           "bgcolor": "#E5ECF6",
           "radialaxis": {
            "gridcolor": "white",
            "linecolor": "white",
            "ticks": ""
           }
          },
          "scene": {
           "xaxis": {
            "backgroundcolor": "#E5ECF6",
            "gridcolor": "white",
            "gridwidth": 2,
            "linecolor": "white",
            "showbackground": true,
            "ticks": "",
            "zerolinecolor": "white"
           },
           "yaxis": {
            "backgroundcolor": "#E5ECF6",
            "gridcolor": "white",
            "gridwidth": 2,
            "linecolor": "white",
            "showbackground": true,
            "ticks": "",
            "zerolinecolor": "white"
           },
           "zaxis": {
            "backgroundcolor": "#E5ECF6",
            "gridcolor": "white",
            "gridwidth": 2,
            "linecolor": "white",
            "showbackground": true,
            "ticks": "",
            "zerolinecolor": "white"
           }
          },
          "shapedefaults": {
           "line": {
            "color": "#2a3f5f"
           }
          },
          "ternary": {
           "aaxis": {
            "gridcolor": "white",
            "linecolor": "white",
            "ticks": ""
           },
           "baxis": {
            "gridcolor": "white",
            "linecolor": "white",
            "ticks": ""
           },
           "bgcolor": "#E5ECF6",
           "caxis": {
            "gridcolor": "white",
            "linecolor": "white",
            "ticks": ""
           }
          },
          "title": {
           "x": 0.05
          },
          "xaxis": {
           "automargin": true,
           "gridcolor": "white",
           "linecolor": "white",
           "ticks": "",
           "title": {
            "standoff": 15
           },
           "zerolinecolor": "white",
           "zerolinewidth": 2
          },
          "yaxis": {
           "automargin": true,
           "gridcolor": "white",
           "linecolor": "white",
           "ticks": "",
           "title": {
            "standoff": 15
           },
           "zerolinecolor": "white",
           "zerolinewidth": 2
          }
         }
        },
        "title": {
         "text": "Logit Difference From Patched Attn Head Output"
        },
        "width": 600,
        "xaxis": {
         "anchor": "y",
         "constrain": "domain",
         "domain": [
          0,
          1
         ],
         "scaleanchor": "y",
         "title": {
          "text": "Head"
         }
        },
        "yaxis": {
         "anchor": "x",
         "autorange": "reversed",
         "constrain": "domain",
         "domain": [
          0,
          1
         ],
         "title": {
          "text": "Layer"
         }
        }
       }
      },
      "text/html": [
       "<div>                            <div id=\"6bac15ad-f808-4833-af78-876daf28063e\" class=\"plotly-graph-div\" style=\"height:525px; width:600px;\"></div>            <script type=\"text/javascript\">                require([\"plotly\"], function(Plotly) {                    window.PLOTLYENV=window.PLOTLYENV || {};                                    if (document.getElementById(\"6bac15ad-f808-4833-af78-876daf28063e\")) {                    Plotly.newPlot(                        \"6bac15ad-f808-4833-af78-876daf28063e\",                        [{\"coloraxis\":\"coloraxis\",\"name\":\"0\",\"z\":[[0.0009485250920988619,0.01612425595521927,0.0018548965454101562,0.0034389488864690065,-0.009824292734265327,0.011060208082199097,-0.004064877517521381,-0.0015790852485224605,-0.0012085624039173126,0.003827461041510105,-0.0042578247375786304,-0.0011434858897700906],[-0.0010772683890536427,-0.0003783427819143981,1.4767215361644048e-06,-0.0002609434013720602,-0.00014142965665087104,0.0038322266191244125,-0.0004283835005480796,-0.001429634285159409,-0.0009229509741999209,0.0006927837966941297,0.0004325787303969264,-0.0035716525744646788],[-0.000497487373650074,0.0008056187652982771,0.0005409499863162637,-0.0005321567296050489,-0.0007166126742959023,-0.0010389072122052312,-0.0009498340077698231,-8.60861546243541e-05,0.0002760798088274896,0.002106375526636839,-0.00019898822938557714,-0.001640771864913404],[0.11626453697681427,0.0002495995140634477,-0.0014683310873806477,-0.0003971038677264005,0.018961139023303986,-0.0001896915928227827,0.011169720441102982,-0.0013309288769960403,-0.0007364142220467329,-0.00030430531478486955,-0.00014659817679785192,-0.00022358907153829932],[-0.0016512431902810931,0.0002920216938946396,-0.0014360781060531735,0.030840255320072174,-0.007433178834617138,-0.000283933273749426,0.006016499362885952,-0.011008153669536114,-0.001265483209863305,0.0014891393948346376,-0.00018049565551336855,0.002943911589682102],[-0.004211811348795891,0.0029592157807201147,0.0020446551498025656,0.0013398563023656607,-0.001219704863615334,0.34350278973579407,0.0005627315840683877,-0.00012646106188185513,-0.005154261831194162,0.016240177676081657,0.01709160953760147,-0.004174893256276846],[0.03977462276816368,0.015226946212351322,-0.0010228981263935566,0.0008073639473877847,-0.0049352035857737064,-0.0021236599422991276,-0.01427395734935999,0.0013735860120505095,0.0014836352784186602,0.13027140498161316,-0.0003365582670085132,0.0012909567449241877],[0.0003726708237081766,0.019513733685016632,0.00022251509653870016,0.12425179034471512,-0.00040472240652889013,-0.007651699706912041,0.0012999848695471883,-0.0011253961129114032,-0.0074499258771538734,0.19223417341709137,-0.00327657675370574,-0.0005022867117077112],[-0.0010080637875944376,3.1044713978189975e-05,-0.0008589485078118742,0.012362978421151638,-0.0004049908893648535,-0.004331190604716539,0.31855347752571106,0.0023293939884752035,0.002117685740813613,0.00014062416448723525,0.27794432640075684,0.005738741252571344],[0.005890038330107927,-0.0009690985316410661,0.009125232696533203,0.020677123218774796,-0.03700758144259453,0.014263183809816837,-0.04828060790896416,0.05834204703569412,0.0006516369758173823,0.2636125981807709,0.0004923188243992627,-0.0026109779719263315],[0.0837443396449089,0.02067440375685692,-0.003743354929611087,0.010850883089005947,-0.0010966671397909522,0.0004740276199299842,0.048176832497119904,-0.4799308180809021,0.00018415389058645815,0.011860490776598454,0.060881607234478,0.0008460272219963372],[0.005327407270669937,-0.011493257246911526,-0.11350572109222412,0.006329329218715429,0.0003162197826895863,-0.0011601997539401054,-0.022669924423098564,0.0040705157443881035,0.0073164841160178185,-0.008346463553607464,-0.2781884968280792,0.0036352856550365686]],\"type\":\"heatmap\",\"xaxis\":\"x\",\"yaxis\":\"y\",\"hovertemplate\":\"Head: %{x}<br>Layer: %{y}<br>color: %{z}<extra></extra>\"}],                        {\"template\":{\"data\":{\"histogram2dcontour\":[{\"type\":\"histogram2dcontour\",\"colorbar\":{\"outlinewidth\":0,\"ticks\":\"\"},\"colorscale\":[[0.0,\"#0d0887\"],[0.1111111111111111,\"#46039f\"],[0.2222222222222222,\"#7201a8\"],[0.3333333333333333,\"#9c179e\"],[0.4444444444444444,\"#bd3786\"],[0.5555555555555556,\"#d8576b\"],[0.6666666666666666,\"#ed7953\"],[0.7777777777777778,\"#fb9f3a\"],[0.8888888888888888,\"#fdca26\"],[1.0,\"#f0f921\"]]}],\"choropleth\":[{\"type\":\"choropleth\",\"colorbar\":{\"outlinewidth\":0,\"ticks\":\"\"}}],\"histogram2d\":[{\"type\":\"histogram2d\",\"colorbar\":{\"outlinewidth\":0,\"ticks\":\"\"},\"colorscale\":[[0.0,\"#0d0887\"],[0.1111111111111111,\"#46039f\"],[0.2222222222222222,\"#7201a8\"],[0.3333333333333333,\"#9c179e\"],[0.4444444444444444,\"#bd3786\"],[0.5555555555555556,\"#d8576b\"],[0.6666666666666666,\"#ed7953\"],[0.7777777777777778,\"#fb9f3a\"],[0.8888888888888888,\"#fdca26\"],[1.0,\"#f0f921\"]]}],\"heatmap\":[{\"type\":\"heatmap\",\"colorbar\":{\"outlinewidth\":0,\"ticks\":\"\"},\"colorscale\":[[0.0,\"#0d0887\"],[0.1111111111111111,\"#46039f\"],[0.2222222222222222,\"#7201a8\"],[0.3333333333333333,\"#9c179e\"],[0.4444444444444444,\"#bd3786\"],[0.5555555555555556,\"#d8576b\"],[0.6666666666666666,\"#ed7953\"],[0.7777777777777778,\"#fb9f3a\"],[0.8888888888888888,\"#fdca26\"],[1.0,\"#f0f921\"]]}],\"heatmapgl\":[{\"type\":\"heatmapgl\",\"colorbar\":{\"outlinewidth\":0,\"ticks\":\"\"},\"colorscale\":[[0.0,\"#0d0887\"],[0.1111111111111111,\"#46039f\"],[0.2222222222222222,\"#7201a8\"],[0.3333333333333333,\"#9c179e\"],[0.4444444444444444,\"#bd3786\"],[0.5555555555555556,\"#d8576b\"],[0.6666666666666666,\"#ed7953\"],[0.7777777777777778,\"#fb9f3a\"],[0.8888888888888888,\"#fdca26\"],[1.0,\"#f0f921\"]]}],\"contourcarpet\":[{\"type\":\"contourcarpet\",\"colorbar\":{\"outlinewidth\":0,\"ticks\":\"\"}}],\"contour\":[{\"type\":\"contour\",\"colorbar\":{\"outlinewidth\":0,\"ticks\":\"\"},\"colorscale\":[[0.0,\"#0d0887\"],[0.1111111111111111,\"#46039f\"],[0.2222222222222222,\"#7201a8\"],[0.3333333333333333,\"#9c179e\"],[0.4444444444444444,\"#bd3786\"],[0.5555555555555556,\"#d8576b\"],[0.6666666666666666,\"#ed7953\"],[0.7777777777777778,\"#fb9f3a\"],[0.8888888888888888,\"#fdca26\"],[1.0,\"#f0f921\"]]}],\"surface\":[{\"type\":\"surface\",\"colorbar\":{\"outlinewidth\":0,\"ticks\":\"\"},\"colorscale\":[[0.0,\"#0d0887\"],[0.1111111111111111,\"#46039f\"],[0.2222222222222222,\"#7201a8\"],[0.3333333333333333,\"#9c179e\"],[0.4444444444444444,\"#bd3786\"],[0.5555555555555556,\"#d8576b\"],[0.6666666666666666,\"#ed7953\"],[0.7777777777777778,\"#fb9f3a\"],[0.8888888888888888,\"#fdca26\"],[1.0,\"#f0f921\"]]}],\"mesh3d\":[{\"type\":\"mesh3d\",\"colorbar\":{\"outlinewidth\":0,\"ticks\":\"\"}}],\"scatter\":[{\"fillpattern\":{\"fillmode\":\"overlay\",\"size\":10,\"solidity\":0.2},\"type\":\"scatter\"}],\"parcoords\":[{\"type\":\"parcoords\",\"line\":{\"colorbar\":{\"outlinewidth\":0,\"ticks\":\"\"}}}],\"scatterpolargl\":[{\"type\":\"scatterpolargl\",\"marker\":{\"colorbar\":{\"outlinewidth\":0,\"ticks\":\"\"}}}],\"bar\":[{\"error_x\":{\"color\":\"#2a3f5f\"},\"error_y\":{\"color\":\"#2a3f5f\"},\"marker\":{\"line\":{\"color\":\"#E5ECF6\",\"width\":0.5},\"pattern\":{\"fillmode\":\"overlay\",\"size\":10,\"solidity\":0.2}},\"type\":\"bar\"}],\"scattergeo\":[{\"type\":\"scattergeo\",\"marker\":{\"colorbar\":{\"outlinewidth\":0,\"ticks\":\"\"}}}],\"scatterpolar\":[{\"type\":\"scatterpolar\",\"marker\":{\"colorbar\":{\"outlinewidth\":0,\"ticks\":\"\"}}}],\"histogram\":[{\"marker\":{\"pattern\":{\"fillmode\":\"overlay\",\"size\":10,\"solidity\":0.2}},\"type\":\"histogram\"}],\"scattergl\":[{\"type\":\"scattergl\",\"marker\":{\"colorbar\":{\"outlinewidth\":0,\"ticks\":\"\"}}}],\"scatter3d\":[{\"type\":\"scatter3d\",\"line\":{\"colorbar\":{\"outlinewidth\":0,\"ticks\":\"\"}},\"marker\":{\"colorbar\":{\"outlinewidth\":0,\"ticks\":\"\"}}}],\"scattermapbox\":[{\"type\":\"scattermapbox\",\"marker\":{\"colorbar\":{\"outlinewidth\":0,\"ticks\":\"\"}}}],\"scatterternary\":[{\"type\":\"scatterternary\",\"marker\":{\"colorbar\":{\"outlinewidth\":0,\"ticks\":\"\"}}}],\"scattercarpet\":[{\"type\":\"scattercarpet\",\"marker\":{\"colorbar\":{\"outlinewidth\":0,\"ticks\":\"\"}}}],\"carpet\":[{\"aaxis\":{\"endlinecolor\":\"#2a3f5f\",\"gridcolor\":\"white\",\"linecolor\":\"white\",\"minorgridcolor\":\"white\",\"startlinecolor\":\"#2a3f5f\"},\"baxis\":{\"endlinecolor\":\"#2a3f5f\",\"gridcolor\":\"white\",\"linecolor\":\"white\",\"minorgridcolor\":\"white\",\"startlinecolor\":\"#2a3f5f\"},\"type\":\"carpet\"}],\"table\":[{\"cells\":{\"fill\":{\"color\":\"#EBF0F8\"},\"line\":{\"color\":\"white\"}},\"header\":{\"fill\":{\"color\":\"#C8D4E3\"},\"line\":{\"color\":\"white\"}},\"type\":\"table\"}],\"barpolar\":[{\"marker\":{\"line\":{\"color\":\"#E5ECF6\",\"width\":0.5},\"pattern\":{\"fillmode\":\"overlay\",\"size\":10,\"solidity\":0.2}},\"type\":\"barpolar\"}],\"pie\":[{\"automargin\":true,\"type\":\"pie\"}]},\"layout\":{\"autotypenumbers\":\"strict\",\"colorway\":[\"#636efa\",\"#EF553B\",\"#00cc96\",\"#ab63fa\",\"#FFA15A\",\"#19d3f3\",\"#FF6692\",\"#B6E880\",\"#FF97FF\",\"#FECB52\"],\"font\":{\"color\":\"#2a3f5f\"},\"hovermode\":\"closest\",\"hoverlabel\":{\"align\":\"left\"},\"paper_bgcolor\":\"white\",\"plot_bgcolor\":\"#E5ECF6\",\"polar\":{\"bgcolor\":\"#E5ECF6\",\"angularaxis\":{\"gridcolor\":\"white\",\"linecolor\":\"white\",\"ticks\":\"\"},\"radialaxis\":{\"gridcolor\":\"white\",\"linecolor\":\"white\",\"ticks\":\"\"}},\"ternary\":{\"bgcolor\":\"#E5ECF6\",\"aaxis\":{\"gridcolor\":\"white\",\"linecolor\":\"white\",\"ticks\":\"\"},\"baxis\":{\"gridcolor\":\"white\",\"linecolor\":\"white\",\"ticks\":\"\"},\"caxis\":{\"gridcolor\":\"white\",\"linecolor\":\"white\",\"ticks\":\"\"}},\"coloraxis\":{\"colorbar\":{\"outlinewidth\":0,\"ticks\":\"\"}},\"colorscale\":{\"sequential\":[[0.0,\"#0d0887\"],[0.1111111111111111,\"#46039f\"],[0.2222222222222222,\"#7201a8\"],[0.3333333333333333,\"#9c179e\"],[0.4444444444444444,\"#bd3786\"],[0.5555555555555556,\"#d8576b\"],[0.6666666666666666,\"#ed7953\"],[0.7777777777777778,\"#fb9f3a\"],[0.8888888888888888,\"#fdca26\"],[1.0,\"#f0f921\"]],\"sequentialminus\":[[0.0,\"#0d0887\"],[0.1111111111111111,\"#46039f\"],[0.2222222222222222,\"#7201a8\"],[0.3333333333333333,\"#9c179e\"],[0.4444444444444444,\"#bd3786\"],[0.5555555555555556,\"#d8576b\"],[0.6666666666666666,\"#ed7953\"],[0.7777777777777778,\"#fb9f3a\"],[0.8888888888888888,\"#fdca26\"],[1.0,\"#f0f921\"]],\"diverging\":[[0,\"#8e0152\"],[0.1,\"#c51b7d\"],[0.2,\"#de77ae\"],[0.3,\"#f1b6da\"],[0.4,\"#fde0ef\"],[0.5,\"#f7f7f7\"],[0.6,\"#e6f5d0\"],[0.7,\"#b8e186\"],[0.8,\"#7fbc41\"],[0.9,\"#4d9221\"],[1,\"#276419\"]]},\"xaxis\":{\"gridcolor\":\"white\",\"linecolor\":\"white\",\"ticks\":\"\",\"title\":{\"standoff\":15},\"zerolinecolor\":\"white\",\"automargin\":true,\"zerolinewidth\":2},\"yaxis\":{\"gridcolor\":\"white\",\"linecolor\":\"white\",\"ticks\":\"\",\"title\":{\"standoff\":15},\"zerolinecolor\":\"white\",\"automargin\":true,\"zerolinewidth\":2},\"scene\":{\"xaxis\":{\"backgroundcolor\":\"#E5ECF6\",\"gridcolor\":\"white\",\"linecolor\":\"white\",\"showbackground\":true,\"ticks\":\"\",\"zerolinecolor\":\"white\",\"gridwidth\":2},\"yaxis\":{\"backgroundcolor\":\"#E5ECF6\",\"gridcolor\":\"white\",\"linecolor\":\"white\",\"showbackground\":true,\"ticks\":\"\",\"zerolinecolor\":\"white\",\"gridwidth\":2},\"zaxis\":{\"backgroundcolor\":\"#E5ECF6\",\"gridcolor\":\"white\",\"linecolor\":\"white\",\"showbackground\":true,\"ticks\":\"\",\"zerolinecolor\":\"white\",\"gridwidth\":2}},\"shapedefaults\":{\"line\":{\"color\":\"#2a3f5f\"}},\"annotationdefaults\":{\"arrowcolor\":\"#2a3f5f\",\"arrowhead\":0,\"arrowwidth\":1},\"geo\":{\"bgcolor\":\"white\",\"landcolor\":\"#E5ECF6\",\"subunitcolor\":\"white\",\"showland\":true,\"showlakes\":true,\"lakecolor\":\"white\"},\"title\":{\"x\":0.05},\"mapbox\":{\"style\":\"light\"}}},\"xaxis\":{\"anchor\":\"y\",\"domain\":[0.0,1.0],\"scaleanchor\":\"y\",\"constrain\":\"domain\",\"title\":{\"text\":\"Head\"}},\"yaxis\":{\"anchor\":\"x\",\"domain\":[0.0,1.0],\"autorange\":\"reversed\",\"constrain\":\"domain\",\"title\":{\"text\":\"Layer\"}},\"coloraxis\":{\"colorscale\":[[0.0,\"rgb(103,0,31)\"],[0.1,\"rgb(178,24,43)\"],[0.2,\"rgb(214,96,77)\"],[0.3,\"rgb(244,165,130)\"],[0.4,\"rgb(253,219,199)\"],[0.5,\"rgb(247,247,247)\"],[0.6,\"rgb(209,229,240)\"],[0.7,\"rgb(146,197,222)\"],[0.8,\"rgb(67,147,195)\"],[0.9,\"rgb(33,102,172)\"],[1.0,\"rgb(5,48,97)\"]],\"cmid\":0.0},\"title\":{\"text\":\"Logit Difference From Patched Attn Head Output\"},\"width\":600},                        {\"responsive\": true}                    ).then(function(){\n",
       "                            \n",
       "var gd = document.getElementById('6bac15ad-f808-4833-af78-876daf28063e');\n",
       "var x = new MutationObserver(function (mutations, observer) {{\n",
       "        var display = window.getComputedStyle(gd).display;\n",
       "        if (!display || display === 'none') {{\n",
       "            console.log([gd, 'removed!']);\n",
       "            Plotly.purge(gd);\n",
       "            observer.disconnect();\n",
       "        }}\n",
       "}});\n",
       "\n",
       "// Listen for the removal of the full notebook cells\n",
       "var notebookContainer = gd.closest('#notebook-container');\n",
       "if (notebookContainer) {{\n",
       "    x.observe(notebookContainer, {childList: true});\n",
       "}}\n",
       "\n",
       "// Listen for the clearing of the current output cell\n",
       "var outputEl = gd.closest('.output');\n",
       "if (outputEl) {{\n",
       "    x.observe(outputEl, {childList: true});\n",
       "}}\n",
       "\n",
       "                        })                };                });            </script>        </div>"
      ]
     },
     "metadata": {},
     "output_type": "display_data"
    }
   ],
   "source": [
    "def patch_head_vector(\n",
    "    corrupted_head_vector: Float[Tensor, \"batch pos head_index d_head\"],\n",
    "    hook: HookPoint, \n",
    "    head_index: int, \n",
    "    clean_cache: ActivationCache\n",
    ") -> Float[Tensor, \"batch pos head_index d_head\"]:\n",
    "    '''\n",
    "    Patches the output of a given head (before it's added to the residual stream) at\n",
    "    every sequence position, using the value from the clean cache.\n",
    "    '''\n",
    "    # print(clean_cache[hook.name].shape) # batch pos head_index d_head\n",
    "    corrupted_head_vector[:, :, head_index] = clean_cache[hook.name][:, :, head_index]\n",
    "    return corrupted_head_vector\n",
    "\n",
    "def get_act_patch_attn_head_out_all_pos(\n",
    "    model: HookedTransformer, \n",
    "    corrupted_tokens: Float[Tensor, \"batch pos\"], \n",
    "    clean_cache: ActivationCache, \n",
    "    patching_metric: Callable\n",
    ") -> Float[Tensor, \"layer head\"]:\n",
    "    '''\n",
    "    Returns an array of results of patching at all positions for each head in each\n",
    "    layer, using the value from the clean cache.\n",
    "\n",
    "    The results are calculated using the patching_metric function, which should be\n",
    "    called on the model's logit output.\n",
    "    '''\n",
    "    n_layers = model.cfg.n_layers\n",
    "    n_heads = model.cfg.n_heads\n",
    "    results = t.zeros((n_layers, n_heads)).to(device)\n",
    "    for layer in range(n_layers):\n",
    "        for head in range(n_heads):\n",
    "            model.reset_hooks()\n",
    "            hook = functools.partial(patch_head_vector, head_index=head, clean_cache=clean_cache)\n",
    "            logits = model.run_with_hooks(corrupted_tokens, fwd_hooks=[(\n",
    "                utils.get_act_name(\"z\", layer), hook)]\n",
    "            )\n",
    "            results[layer, head] = ioi_metric(logits)\n",
    "    \n",
    "    return results    \n",
    "\n",
    "\n",
    "act_patch_attn_head_out_all_pos_own = get_act_patch_attn_head_out_all_pos(model, corrupted_tokens, clean_cache, ioi_metric)\n",
    "\n",
    "t.testing.assert_close(act_patch_attn_head_out_all_pos, act_patch_attn_head_out_all_pos_own)\n",
    "\n",
    "imshow(\n",
    "    act_patch_attn_head_out_all_pos_own,\n",
    "    title=\"Logit Difference From Patched Attn Head Output\", \n",
    "    labels={\"x\":\"Head\", \"y\":\"Layer\"},\n",
    "    width=600\n",
    ")"
   ]
  },
  {
   "attachments": {},
   "cell_type": "markdown",
   "metadata": {},
   "source": [
    "Implement head-to-head-input patching"
   ]
  },
  {
   "cell_type": "code",
   "execution_count": 130,
   "metadata": {},
   "outputs": [
    {
     "data": {
      "application/vnd.jupyter.widget-view+json": {
       "model_id": "781595ca8c2f4541aa089e28030044f6",
       "version_major": 2,
       "version_minor": 0
      },
      "text/plain": [
       "  0%|          | 0/144 [00:00<?, ?it/s]"
      ]
     },
     "metadata": {},
     "output_type": "display_data"
    },
    {
     "data": {
      "application/vnd.jupyter.widget-view+json": {
       "model_id": "0b1916df849f4ffd903ecd5876bda249",
       "version_major": 2,
       "version_minor": 0
      },
      "text/plain": [
       "  0%|          | 0/144 [00:00<?, ?it/s]"
      ]
     },
     "metadata": {},
     "output_type": "display_data"
    },
    {
     "data": {
      "application/vnd.jupyter.widget-view+json": {
       "model_id": "dcf8bb8b0e2f4cf8a59e6b5a2e690f85",
       "version_major": 2,
       "version_minor": 0
      },
      "text/plain": [
       "  0%|          | 0/144 [00:00<?, ?it/s]"
      ]
     },
     "metadata": {},
     "output_type": "display_data"
    },
    {
     "data": {
      "application/vnd.jupyter.widget-view+json": {
       "model_id": "e7e9fd93419d4c1ebe2c1374fb79dde2",
       "version_major": 2,
       "version_minor": 0
      },
      "text/plain": [
       "  0%|          | 0/144 [00:00<?, ?it/s]"
      ]
     },
     "metadata": {},
     "output_type": "display_data"
    },
    {
     "data": {
      "application/vnd.jupyter.widget-view+json": {
       "model_id": "07b9eae2ad2f4f28a42cf6365e68620c",
       "version_major": 2,
       "version_minor": 0
      },
      "text/plain": [
       "  0%|          | 0/144 [00:00<?, ?it/s]"
      ]
     },
     "metadata": {},
     "output_type": "display_data"
    },
    {
     "data": {
      "application/vnd.plotly.v1+json": {
       "config": {
        "plotlyServerURL": "https://plot.ly"
       },
       "data": [
        {
         "coloraxis": "coloraxis",
         "hovertemplate": "Head: %{x}<br>Layer: %{y}<br>color: %{z}<extra></extra>",
         "name": "0",
         "type": "heatmap",
         "xaxis": "x",
         "yaxis": "y",
         "z": [
          [
           0.0009485250920988619,
           0.01612425595521927,
           0.0018548965454101562,
           0.0034389488864690065,
           -0.009824292734265327,
           0.011060208082199097,
           -0.004064877517521381,
           -0.0015790852485224605,
           -0.0012085624039173126,
           0.003827461041510105,
           -0.0042578247375786304,
           -0.0011434858897700906
          ],
          [
           -0.0010772683890536427,
           -0.0003783427819143981,
           0.0000014767215361644048,
           -0.0002609434013720602,
           -0.00014142965665087104,
           0.0038322266191244125,
           -0.0004283835005480796,
           -0.001429634285159409,
           -0.0009229509741999209,
           0.0006927837966941297,
           0.0004325787303969264,
           -0.0035716525744646788
          ],
          [
           -0.000497487373650074,
           0.0008056187652982771,
           0.0005409499863162637,
           -0.0005321567296050489,
           -0.0007166126742959023,
           -0.0010389072122052312,
           -0.0009498340077698231,
           -0.0000860861546243541,
           0.0002760798088274896,
           0.002106375526636839,
           -0.00019898822938557714,
           -0.001640771864913404
          ],
          [
           0.11626453697681427,
           0.0002495995140634477,
           -0.0014683310873806477,
           -0.0003971038677264005,
           0.018961139023303986,
           -0.0001896915928227827,
           0.011169720441102982,
           -0.0013309288769960403,
           -0.0007364142220467329,
           -0.00030430531478486955,
           -0.00014659817679785192,
           -0.00022358907153829932
          ],
          [
           -0.0016512431902810931,
           0.0002920216938946396,
           -0.0014360781060531735,
           0.030840255320072174,
           -0.007433178834617138,
           -0.000283933273749426,
           0.006016499362885952,
           -0.011008153669536114,
           -0.001265483209863305,
           0.0014891393948346376,
           -0.00018049565551336855,
           0.002943911589682102
          ],
          [
           -0.004211811348795891,
           0.0029592157807201147,
           0.0020446551498025656,
           0.0013398563023656607,
           -0.001219704863615334,
           0.34350278973579407,
           0.0005627315840683877,
           -0.00012646106188185513,
           -0.005154261831194162,
           0.016240177676081657,
           0.01709160953760147,
           -0.004174893256276846
          ],
          [
           0.03977462276816368,
           0.015226946212351322,
           -0.0010228981263935566,
           0.0008073639473877847,
           -0.0049352035857737064,
           -0.0021236599422991276,
           -0.01427395734935999,
           0.0013735860120505095,
           0.0014836352784186602,
           0.13027140498161316,
           -0.0003365582670085132,
           0.0012909567449241877
          ],
          [
           0.0003726708237081766,
           0.019513733685016632,
           0.00022251509653870016,
           0.12425179034471512,
           -0.00040472240652889013,
           -0.007651699706912041,
           0.0012999848695471883,
           -0.0011253961129114032,
           -0.0074499258771538734,
           0.19223417341709137,
           -0.00327657675370574,
           -0.0005022867117077112
          ],
          [
           -0.0010080637875944376,
           0.000031044713978189975,
           -0.0008589485078118742,
           0.012362978421151638,
           -0.0004049908893648535,
           -0.004331190604716539,
           0.31855347752571106,
           0.0023293939884752035,
           0.002117685740813613,
           0.00014062416448723525,
           0.27794432640075684,
           0.005738741252571344
          ],
          [
           0.005890038330107927,
           -0.0009690985316410661,
           0.009125232696533203,
           0.020677123218774796,
           -0.03700758144259453,
           0.014263183809816837,
           -0.04828060790896416,
           0.05834204703569412,
           0.0006516369758173823,
           0.2636125981807709,
           0.0004923188243992627,
           -0.0026109779719263315
          ],
          [
           0.0837443396449089,
           0.02067440375685692,
           -0.003743354929611087,
           0.010850883089005947,
           -0.0010966671397909522,
           0.0004740276199299842,
           0.048176832497119904,
           -0.4799308180809021,
           0.00018415389058645815,
           0.011860490776598454,
           0.060881607234478,
           0.0008460272219963372
          ],
          [
           0.005327407270669937,
           -0.011493257246911526,
           -0.11350572109222412,
           0.006329329218715429,
           0.0003162197826895863,
           -0.0011601997539401054,
           -0.022669924423098564,
           0.0040705157443881035,
           0.0073164841160178185,
           -0.008346463553607464,
           -0.2781884968280792,
           0.0036352856550365686
          ]
         ]
        },
        {
         "coloraxis": "coloraxis",
         "hovertemplate": "Head: %{x}<br>Layer: %{y}<br>color: %{z}<extra></extra>",
         "name": "1",
         "type": "heatmap",
         "xaxis": "x2",
         "yaxis": "y2",
         "z": [
          [
           0.0004929564893245697,
           0.010944520123302937,
           0.0015586460940539837,
           0.00942195300012827,
           -0.004853815771639347,
           0.010262812487781048,
           -0.0031715279910713434,
           -0.00038827708340249956,
           -0.0011045876890420914,
           0.0005110127967782319,
           -0.0008294812287203968,
           -0.0008000474772416055
          ],
          [
           0.000989906839095056,
           -0.00029977448866702616,
           0.00011995006207143888,
           -0.0003547488013282418,
           -0.00011068699677707627,
           0.0070042917504906654,
           -0.00034575420431792736,
           -0.0014777283649891615,
           -0.0012065151240676641,
           0.00024963307077996433,
           0.00006739220407325774,
           -0.0019849822856485844
          ],
          [
           -0.0020127715542912483,
           0.002569562755525112,
           -0.0005187991191633046,
           0.0012823313008993864,
           0.00022429386444855481,
           0.0032737574074417353,
           0.00019579986110329628,
           0.00021217804169282317,
           0.000039871483750175685,
           0.012865802273154259,
           0.0002846045244950801,
           -0.0019253764767199755
          ],
          [
           0.1204252690076828,
           -0.0003093731647823006,
           0.000874386983923614,
           -0.00023929601593408734,
           0.02820826880633831,
           0.0020727128721773624,
           0.0011319071054458618,
           0.006185718346387148,
           0.0006770432810299098,
           0.0000456441193819046,
           -0.0015935167903080583,
           -0.00026017148047685623
          ],
          [
           -0.0012829353800043464,
           0.0013871113769710064,
           -0.0017397121991962194,
           -0.0003965668729506433,
           -0.0016232526395469904,
           -0.000921407132409513,
           -0.002206826116889715,
           -0.0004814112326130271,
           -0.0007487985421903431,
           0.0009407051838934422,
           -0.00026393041480332613,
           0.001497127115726471
          ],
          [
           -0.004147238098084927,
           0.0029540136456489563,
           0.0004315383266657591,
           0.0005999517161399126,
           -0.0005229607922956347,
           0.34353330731391907,
           -0.00044291577069088817,
           -0.00008605259063187987,
           -0.005598318763077259,
           0.02857278287410736,
           0.014875821769237518,
           -0.002265156712383032
          ],
          [
           -0.001191915711387992,
           0.0006325066788122058,
           -0.0011625154875218868,
           0.0004230807244312018,
           -0.00504407798871398,
           0.002765093930065632,
           -0.00018106620700564235,
           0.0012198390904814005,
           0.0010535736801102757,
           0.13032342493534088,
           -0.000015841194908716716,
           0.0010129638249054551
          ],
          [
           0.0003658242058008909,
           0.020353451371192932,
           0.0003352829080540687,
           -0.0014660153537988663,
           -0.00016995723126456141,
           -0.0005949173937551677,
           0.0008214599220082164,
           -0.0005455815116874874,
           0.00009024782775668427,
           -0.0004118039505556226,
           -0.003054598579183221,
           0.00014703448687214404
          ],
          [
           0.000470335828140378,
           0.0005040318937972188,
           0.001586804399266839,
           0.02463419921696186,
           -0.0000522222435392905,
           -0.0010193405905738473,
           0.01094787660986185,
           -0.0005380300572142005,
           0.00184408959466964,
           0.0007357429713010788,
           -0.02760177105665207,
           0.009299452416598797
          ],
          [
           0.006475692614912987,
           -0.0015577399171888828,
           0.012202485464513302,
           0.0014241636963561177,
           -0.026730673387646675,
           0.002552211284637451,
           -0.0437309630215168,
           -0.013098889030516148,
           0.0046377782709896564,
           0.27937743067741394,
           0.00020304921781644225,
           -0.00025513721629977226
          ],
          [
           0.09814170747995377,
           0.026008322834968567,
           0.013916690833866596,
           0.015725204721093178,
           0.0005589391221292317,
           -0.000283631234196946,
           0.05219529569149017,
           -0.5128771662712097,
           0.00017462232790421695,
           -0.004035745747387409,
           0.06916225701570511,
           0.0025166019331663847
          ],
          [
           0.0015770714962854981,
           0.008838044479489326,
           -0.08574926108121872,
           -0.007099204696714878,
           -0.0009577882010489702,
           -0.0030251313000917435,
           -0.0066292379051446915,
           0.00031252799089998007,
           -0.00009786636655917391,
           -0.006149874068796635,
           -0.3373630940914154,
           -0.0022050472907721996
          ]
         ]
        },
        {
         "coloraxis": "coloraxis",
         "hovertemplate": "Head: %{x}<br>Layer: %{y}<br>color: %{z}<extra></extra>",
         "name": "2",
         "type": "heatmap",
         "xaxis": "x3",
         "yaxis": "y3",
         "z": [
          [
           0.00019784712640102953,
           -0.0004907413967885077,
           0.0007507451227866113,
           0.00718374690040946,
           0.00113130290992558,
           -0.00014136252866592258,
           0.0005660542519763112,
           -0.0022296481765806675,
           -0.000012015143511234783,
           -0.0011854382464662194,
           -0.0036474016960710287,
           -0.00014099334657657892
          ],
          [
           0.00009736293577589095,
           -0.000673619972076267,
           0.00006229079735931009,
           0.0003991175617557019,
           0.00013666387530975044,
           0.0013143493561074138,
           0.00016284211596939713,
           -0.000053229101467877626,
           0.000016780926671344787,
           0.0003298123483546078,
           0.000042623552872100845,
           0.0033117495477199554
          ],
          [
           -0.0011043864069506526,
           -0.0004920838982798159,
           -0.0008965377928689122,
           0.0009718505898490548,
           0.0005665912176482379,
           0.0026964263524860144,
           0.00016962160589173436,
           0.000093234826636035,
           0.00005490719195222482,
           0.011643546633422375,
           -0.00009739649976836517,
           -0.00022835485287941992
          ],
          [
           -0.0014170821523293853,
           -0.00039159972220659256,
           0.0007126859854906797,
           -0.0006927166832610965,
           0.007759567815810442,
           -0.00019855193386320025,
           0.0014253719709813595,
           0.006241766270250082,
           0.0005359156639315188,
           -0.000039804359403206035,
           0.0000010068556548503693,
           -0.0007064099190756679
          ],
          [
           -0.00015431740030180663,
           0.00033998157596215606,
           0.00040844775503501296,
           -0.0009756095241755247,
           0.0007701774011366069,
           0.00004611398617271334,
           -0.005579825956374407,
           0.00028530933195725083,
           0.0016958804335445166,
           0.00016552706074435264,
           -0.00008709300891496241,
           0.0007811856921762228
          ],
          [
           0.000010202803423453588,
           -0.0000017116545905082603,
           0.000255372142419219,
           -0.0004818139714188874,
           -0.00018848337640520185,
           0.0000610490096732974,
           -0.00022600551892537624,
           0.00016948736447375268,
           0.0004124416154809296,
           0.03951438516378403,
           0.0017568959156051278,
           -0.00021137254952918738
          ],
          [
           -0.0003554200229700655,
           -0.0026972319465130568,
           0.000053631843911716715,
           -0.0007703787996433675,
           0.0006241162191145122,
           -0.001157246297225356,
           -0.007285271771252155,
           -0.00005564555249293335,
           -0.00042798076174221933,
           0.00014297349844127893,
           -0.00002161383417842444,
           0.000007819911843398586
          ],
          [
           0.000026782359782373533,
           0.00009484579641139135,
           -0.000018593267668620683,
           0.0002402357495157048,
           -0.00011015000200131908,
           0.0003024929901584983,
           0.00011907745647476986,
           -0.00006839905836386606,
           0.00010531709995120764,
           0.005507198162376881,
           -0.00000228220596909523,
           -0.0005077237146906555
          ],
          [
           0.0005792775773443282,
           -0.00006866755575174466,
           -0.0002056334778899327,
           0.0035940383095294237,
           -0.00010699519043555483,
           0.00005920311014051549,
           0.00008974439697340131,
           0.0002437261864542961,
           0.0002878264640457928,
           0.0003169581468682736,
           -0.025733718648552895,
           -0.000035307071811985224
          ],
          [
           -0.00006222367665031925,
           0.00045180966844782233,
           0.0006656657787971199,
           0.0006596246967092156,
           0.0005124224117025733,
           0.0013575770426541567,
           -0.002212733030319214,
           -0.00911768153309822,
           0.00023291926481761038,
           0.008353645913302898,
           -0.00020754650176968426,
           -0.00036669682594947517
          ],
          [
           0.005818350240588188,
           0.0013149199075996876,
           -0.0010812957771122456,
           0.001289480016566813,
           0.000322764361044392,
           0.000033192674891324714,
           0.00028114765882492065,
           -0.13102547824382782,
           0.00010827054211404175,
           -0.0023644997272640467,
           0.0013512002769857645,
           -0.00009776568185770884
          ],
          [
           -0.0005414198385551572,
           0.0015885496977716684,
           -0.004787262994796038,
           -0.003784770146012306,
           0.00009289920853916556,
           -0.00017374972230754793,
           -0.001552403555251658,
           -0.00009971226972993463,
           0.0009411415085196495,
           -0.0004516082990448922,
           -0.11361701041460037,
           -0.0006109600071795285
          ]
         ]
        },
        {
         "coloraxis": "coloraxis",
         "hovertemplate": "Head: %{x}<br>Layer: %{y}<br>color: %{z}<extra></extra>",
         "name": "3",
         "type": "heatmap",
         "xaxis": "x4",
         "yaxis": "y4",
         "z": [
          [
           -0.00019855193386320025,
           0.005340294912457466,
           0.0006514355773106217,
           0.0035052336752414703,
           -0.008984777145087719,
           0.0034810355864465237,
           -0.0008629423682577908,
           -0.00003416596882743761,
           0.0005164497997611761,
           0.0004410027468111366,
           -0.003907539416104555,
           -0.0001881477510323748
          ],
          [
           -0.0004410027468111366,
           -0.00044717814307659864,
           -0.00006849974306533113,
           0.00007252716750372201,
           -0.00003671666854643263,
           -0.0019331627991050482,
           -0.00015794207865837961,
           0.000014565844139724504,
           0.00020476087229326367,
           0.0003376322565600276,
           0.00035112412297166884,
           -0.000567262468393892
          ],
          [
           0.00020935884094797075,
           -0.0007203716086223722,
           0.0004860763147007674,
           -0.0005973338847979903,
           -0.0005929708131588995,
           -0.0005449102609418333,
           -0.00022822061146143824,
           -0.0004800352035090327,
           0.00020476087229326367,
           0.0011832567397505045,
           -0.00035706456401385367,
           -0.0009113386040553451
          ],
          [
           0.0010381352622061968,
           -0.00012115829304093495,
           -0.00007756144623272121,
           -0.0007272518123500049,
           -0.0013106911210343242,
           -0.002311606192961335,
           0.010987547226250172,
           -0.00005225580753176473,
           0.0001437789760529995,
           0.00015002148575149477,
           -0.00008027995500015095,
           -0.000021177529561100528
          ],
          [
           -0.0005376609042286873,
           -0.0008142105652950704,
           -0.0001342474133707583,
           0.030607806518673897,
           -0.007185995578765869,
           0.00014794064918532968,
           0.001333009684458375,
           -0.01142304576933384,
           -0.0005343047087080777,
           0.000511046324390918,
           0.00037327493191696703,
           0.0029553896747529507
          ],
          [
           0.000007249360351124778,
           0.0000055712675930408295,
           0.0015971079701557755,
           0.0003382028080523014,
           -0.0012591065606102347,
           -0.00005530993439606391,
           0.0006321710534393787,
           -0.00027050854987464845,
           0.0000740374525776133,
           -0.006704450119286776,
           0.003176226746290922,
           -0.001729173818603158
          ],
          [
           0.048631396144628525,
           0.015315616503357887,
           -0.0004649659094866365,
           -0.0001167616865132004,
           -0.000049335925723426044,
           -0.0039544254541397095,
           -0.017375709488987923,
           -0.00015435097157023847,
           0.0012202418874949217,
           -0.00018036139954347163,
           -0.0004277793923392892,
           0.00012303775292821229
          ],
          [
           -0.000029265936973388307,
           -0.0013852990232408047,
           -0.00012223227531649172,
           0.13321861624717712,
           -0.00024560565361753106,
           -0.007314940448850393,
           0.0003321616677567363,
           -0.0007950132130645216,
           -0.007939123548567295,
           0.20840662717819214,
           -0.00019200737006030977,
           -0.00020741226035170257
          ],
          [
           -0.0020489846356213093,
           -0.00037663112743757665,
           -0.003315374255180359,
           -0.009665142744779587,
           -0.00031655540806241333,
           -0.005142649170011282,
           0.3171708583831787,
           0.002842554822564125,
           0.0004727522609755397,
           -0.001153789460659027,
           0.2726781368255615,
           -0.0031766295433044434
          ],
          [
           -0.0004396938602440059,
           0.000055779801186872646,
           -0.0020629127975553274,
           0.020066766068339348,
           -0.007871798239648342,
           0.01131410337984562,
           0.0030560751911252737,
           0.06856559216976166,
           -0.0027479103300720453,
           -0.009278946556150913,
           0.0005064147990196943,
           -0.0013154232874512672
          ],
          [
           -0.01295742578804493,
           -0.0030456711538136005,
           -0.01792317070066929,
           -0.004358879290521145,
           -0.0011531517375260592,
           0.0004991319146938622,
           -0.003113298211246729,
           0.01958240196108818,
           0.00004389890455058776,
           0.012967696413397789,
           -0.007696572225540876,
           -0.0009140906622633338
          ],
          [
           0.004099580459296703,
           -0.020457593724131584,
           -0.03587339445948601,
           0.014655924402177334,
           0.0008445169078186154,
           0.0017802213551476598,
           -0.018041107803583145,
           0.0035184232983738184,
           0.008253195323050022,
           -0.0017669980879873037,
           0.04416364058852196,
           0.006474283058196306
          ]
         ]
        },
        {
         "coloraxis": "coloraxis",
         "hovertemplate": "Head: %{x}<br>Layer: %{y}<br>color: %{z}<extra></extra>",
         "name": "4",
         "type": "heatmap",
         "xaxis": "x5",
         "yaxis": "y5",
         "z": [
          [
           0.0006384135922417045,
           0.0053194197826087475,
           0.0011579510755836964,
           -0.00006027708877809346,
           -0.001067233388312161,
           0.005079049617052078,
           -0.0030825219582766294,
           -0.002052642870694399,
           -0.0014423206448554993,
           0.0034923122730106115,
           -0.0025681867264211178,
           -0.0009166413219645619
          ],
          [
           -0.0007611828623339534,
           0.00016895036969799548,
           0.0001223329600179568,
           -0.000349748064763844,
           0.000014901463146088645,
           0.005007999017834663,
           -0.0002982642035931349,
           -0.001444770721718669,
           -0.0011012315517291427,
           0.00047308788634836674,
           0.00005054415305494331,
           -0.0034960710909217596
          ],
          [
           -0.0007250367198139429,
           0.0017469616141170263,
           -0.00015626399544999003,
           0.00005742433131672442,
           -0.00009800061525311321,
           -0.00042442319681867957,
           -0.0007926638354547322,
           0.00027151539688929915,
           0.00010196091170655563,
           0.00042173825204372406,
           0.00015008861373644322,
           -0.0007442341302521527
          ],
          [
           0.11458329111337662,
           0.00021170817490201443,
           -0.0009427524637430906,
           0.00042925612069666386,
           0.020042601972818375,
           0.002104563172906637,
           0.00007537992496509105,
           -0.0015441137365996838,
           -0.0008489135070703924,
           -0.0005825666594319046,
           0.00011820485087810084,
           -0.000020204235624987632
          ],
          [
           -0.001128483796492219,
           0.0012365529546514153,
           -0.001233331044204533,
           -0.0005959242698736489,
           -0.0007551417220383883,
           -0.000584613939281553,
           0.004812299739569426,
           0.00018163675849791616,
           -0.0005373923922888935,
           0.0008567670010961592,
           -0.0002991703513544053,
           -0.000012652818440983538
          ],
          [
           -0.004241513554006815,
           0.0029517649672925472,
           0.0005209470982663333,
           0.0009526867652311921,
           0.00016146607231348753,
           0.3435126543045044,
           -0.00030494300881400704,
           0.00010263214790029451,
           -0.005302974488586187,
           0.024866614490747452,
           0.014384006150066853,
           -0.0023289911914616823
          ],
          [
           -0.002388664288446307,
           -0.0021731972228735685,
           -0.0004775180423166603,
           0.00043294791248627007,
           -0.00467429356649518,
           0.0018587225349619985,
           -0.0026551454793661833,
           0.0014363802038133144,
           0.0003031306550838053,
           0.13043056428432465,
           0.00008870397869031876,
           0.001177081372588873
          ],
          [
           0.00031924035283736885,
           0.020569993183016777,
           0.00031823350582271814,
           -0.0025125746615231037,
           -0.00026312493719160557,
           -0.000246679614065215,
           0.0005511527415364981,
           -0.0004314711841288954,
           0.0002561776200309396,
           0.008089648559689522,
           -0.00307064107619226,
           -0.0004246581229381263
          ],
          [
           0.0009762471891008317,
           0.00039284149534069,
           0.0017536068335175514,
           0.022597530856728554,
           -0.000044972883188165724,
           0.0001409597898600623,
           0.009582983329892159,
           -0.0003152800491079688,
           0.001526795793324709,
           0.0011815786128863692,
           -0.01077402662485838,
           0.009365569800138474
          ],
          [
           0.006315468344837427,
           -0.0010946198599413037,
           0.011661670170724392,
           0.0013477769680321217,
           -0.029189448803663254,
           0.0038328308146446943,
           -0.04409040883183479,
           -0.005032465793192387,
           0.0048219324089586735,
           0.2766501307487488,
           -0.0000317830745188985,
           -0.0006625109817832708
          ],
          [
           0.09538906812667847,
           0.025066308677196503,
           0.01423901878297329,
           0.01475446205586195,
           0.0000992424029391259,
           -0.00009048276115208864,
           0.05082644149661064,
           -0.5051138997077942,
           0.0001470009156037122,
           -0.0016018736641854048,
           0.0688268393278122,
           0.002326708985492587
          ],
          [
           0.00134220567997545,
           0.009629768319427967,
           -0.07776382565498352,
           -0.007730200886726379,
           -0.0005739076877944171,
           -0.0029572355560958385,
           -0.004948292393237352,
           0.0004586227296385914,
           -0.0006327751907519996,
           -0.006520866882055998,
           -0.3204995393753052,
           -0.00247290451079607
          ]
         ]
        }
       ],
       "layout": {
        "annotations": [
         {
          "font": {},
          "showarrow": false,
          "text": "Output",
          "x": 0.09200000000000001,
          "xanchor": "center",
          "xref": "paper",
          "y": 1,
          "yanchor": "bottom",
          "yref": "paper"
         },
         {
          "font": {},
          "showarrow": false,
          "text": "Query",
          "x": 0.29600000000000004,
          "xanchor": "center",
          "xref": "paper",
          "y": 1,
          "yanchor": "bottom",
          "yref": "paper"
         },
         {
          "font": {},
          "showarrow": false,
          "text": "Key",
          "x": 0.5,
          "xanchor": "center",
          "xref": "paper",
          "y": 1,
          "yanchor": "bottom",
          "yref": "paper"
         },
         {
          "font": {},
          "showarrow": false,
          "text": "Value",
          "x": 0.7040000000000002,
          "xanchor": "center",
          "xref": "paper",
          "y": 1,
          "yanchor": "bottom",
          "yref": "paper"
         },
         {
          "font": {},
          "showarrow": false,
          "text": "Pattern",
          "x": 0.908,
          "xanchor": "center",
          "xref": "paper",
          "y": 1,
          "yanchor": "bottom",
          "yref": "paper"
         }
        ],
        "coloraxis": {
         "cmid": 0,
         "colorscale": [
          [
           0,
           "rgb(103,0,31)"
          ],
          [
           0.1,
           "rgb(178,24,43)"
          ],
          [
           0.2,
           "rgb(214,96,77)"
          ],
          [
           0.3,
           "rgb(244,165,130)"
          ],
          [
           0.4,
           "rgb(253,219,199)"
          ],
          [
           0.5,
           "rgb(247,247,247)"
          ],
          [
           0.6,
           "rgb(209,229,240)"
          ],
          [
           0.7,
           "rgb(146,197,222)"
          ],
          [
           0.8,
           "rgb(67,147,195)"
          ],
          [
           0.9,
           "rgb(33,102,172)"
          ],
          [
           1,
           "rgb(5,48,97)"
          ]
         ]
        },
        "template": {
         "data": {
          "bar": [
           {
            "error_x": {
             "color": "#2a3f5f"
            },
            "error_y": {
             "color": "#2a3f5f"
            },
            "marker": {
             "line": {
              "color": "#E5ECF6",
              "width": 0.5
             },
             "pattern": {
              "fillmode": "overlay",
              "size": 10,
              "solidity": 0.2
             }
            },
            "type": "bar"
           }
          ],
          "barpolar": [
           {
            "marker": {
             "line": {
              "color": "#E5ECF6",
              "width": 0.5
             },
             "pattern": {
              "fillmode": "overlay",
              "size": 10,
              "solidity": 0.2
             }
            },
            "type": "barpolar"
           }
          ],
          "carpet": [
           {
            "aaxis": {
             "endlinecolor": "#2a3f5f",
             "gridcolor": "white",
             "linecolor": "white",
             "minorgridcolor": "white",
             "startlinecolor": "#2a3f5f"
            },
            "baxis": {
             "endlinecolor": "#2a3f5f",
             "gridcolor": "white",
             "linecolor": "white",
             "minorgridcolor": "white",
             "startlinecolor": "#2a3f5f"
            },
            "type": "carpet"
           }
          ],
          "choropleth": [
           {
            "colorbar": {
             "outlinewidth": 0,
             "ticks": ""
            },
            "type": "choropleth"
           }
          ],
          "contour": [
           {
            "colorbar": {
             "outlinewidth": 0,
             "ticks": ""
            },
            "colorscale": [
             [
              0,
              "#0d0887"
             ],
             [
              0.1111111111111111,
              "#46039f"
             ],
             [
              0.2222222222222222,
              "#7201a8"
             ],
             [
              0.3333333333333333,
              "#9c179e"
             ],
             [
              0.4444444444444444,
              "#bd3786"
             ],
             [
              0.5555555555555556,
              "#d8576b"
             ],
             [
              0.6666666666666666,
              "#ed7953"
             ],
             [
              0.7777777777777778,
              "#fb9f3a"
             ],
             [
              0.8888888888888888,
              "#fdca26"
             ],
             [
              1,
              "#f0f921"
             ]
            ],
            "type": "contour"
           }
          ],
          "contourcarpet": [
           {
            "colorbar": {
             "outlinewidth": 0,
             "ticks": ""
            },
            "type": "contourcarpet"
           }
          ],
          "heatmap": [
           {
            "colorbar": {
             "outlinewidth": 0,
             "ticks": ""
            },
            "colorscale": [
             [
              0,
              "#0d0887"
             ],
             [
              0.1111111111111111,
              "#46039f"
             ],
             [
              0.2222222222222222,
              "#7201a8"
             ],
             [
              0.3333333333333333,
              "#9c179e"
             ],
             [
              0.4444444444444444,
              "#bd3786"
             ],
             [
              0.5555555555555556,
              "#d8576b"
             ],
             [
              0.6666666666666666,
              "#ed7953"
             ],
             [
              0.7777777777777778,
              "#fb9f3a"
             ],
             [
              0.8888888888888888,
              "#fdca26"
             ],
             [
              1,
              "#f0f921"
             ]
            ],
            "type": "heatmap"
           }
          ],
          "heatmapgl": [
           {
            "colorbar": {
             "outlinewidth": 0,
             "ticks": ""
            },
            "colorscale": [
             [
              0,
              "#0d0887"
             ],
             [
              0.1111111111111111,
              "#46039f"
             ],
             [
              0.2222222222222222,
              "#7201a8"
             ],
             [
              0.3333333333333333,
              "#9c179e"
             ],
             [
              0.4444444444444444,
              "#bd3786"
             ],
             [
              0.5555555555555556,
              "#d8576b"
             ],
             [
              0.6666666666666666,
              "#ed7953"
             ],
             [
              0.7777777777777778,
              "#fb9f3a"
             ],
             [
              0.8888888888888888,
              "#fdca26"
             ],
             [
              1,
              "#f0f921"
             ]
            ],
            "type": "heatmapgl"
           }
          ],
          "histogram": [
           {
            "marker": {
             "pattern": {
              "fillmode": "overlay",
              "size": 10,
              "solidity": 0.2
             }
            },
            "type": "histogram"
           }
          ],
          "histogram2d": [
           {
            "colorbar": {
             "outlinewidth": 0,
             "ticks": ""
            },
            "colorscale": [
             [
              0,
              "#0d0887"
             ],
             [
              0.1111111111111111,
              "#46039f"
             ],
             [
              0.2222222222222222,
              "#7201a8"
             ],
             [
              0.3333333333333333,
              "#9c179e"
             ],
             [
              0.4444444444444444,
              "#bd3786"
             ],
             [
              0.5555555555555556,
              "#d8576b"
             ],
             [
              0.6666666666666666,
              "#ed7953"
             ],
             [
              0.7777777777777778,
              "#fb9f3a"
             ],
             [
              0.8888888888888888,
              "#fdca26"
             ],
             [
              1,
              "#f0f921"
             ]
            ],
            "type": "histogram2d"
           }
          ],
          "histogram2dcontour": [
           {
            "colorbar": {
             "outlinewidth": 0,
             "ticks": ""
            },
            "colorscale": [
             [
              0,
              "#0d0887"
             ],
             [
              0.1111111111111111,
              "#46039f"
             ],
             [
              0.2222222222222222,
              "#7201a8"
             ],
             [
              0.3333333333333333,
              "#9c179e"
             ],
             [
              0.4444444444444444,
              "#bd3786"
             ],
             [
              0.5555555555555556,
              "#d8576b"
             ],
             [
              0.6666666666666666,
              "#ed7953"
             ],
             [
              0.7777777777777778,
              "#fb9f3a"
             ],
             [
              0.8888888888888888,
              "#fdca26"
             ],
             [
              1,
              "#f0f921"
             ]
            ],
            "type": "histogram2dcontour"
           }
          ],
          "mesh3d": [
           {
            "colorbar": {
             "outlinewidth": 0,
             "ticks": ""
            },
            "type": "mesh3d"
           }
          ],
          "parcoords": [
           {
            "line": {
             "colorbar": {
              "outlinewidth": 0,
              "ticks": ""
             }
            },
            "type": "parcoords"
           }
          ],
          "pie": [
           {
            "automargin": true,
            "type": "pie"
           }
          ],
          "scatter": [
           {
            "fillpattern": {
             "fillmode": "overlay",
             "size": 10,
             "solidity": 0.2
            },
            "type": "scatter"
           }
          ],
          "scatter3d": [
           {
            "line": {
             "colorbar": {
              "outlinewidth": 0,
              "ticks": ""
             }
            },
            "marker": {
             "colorbar": {
              "outlinewidth": 0,
              "ticks": ""
             }
            },
            "type": "scatter3d"
           }
          ],
          "scattercarpet": [
           {
            "marker": {
             "colorbar": {
              "outlinewidth": 0,
              "ticks": ""
             }
            },
            "type": "scattercarpet"
           }
          ],
          "scattergeo": [
           {
            "marker": {
             "colorbar": {
              "outlinewidth": 0,
              "ticks": ""
             }
            },
            "type": "scattergeo"
           }
          ],
          "scattergl": [
           {
            "marker": {
             "colorbar": {
              "outlinewidth": 0,
              "ticks": ""
             }
            },
            "type": "scattergl"
           }
          ],
          "scattermapbox": [
           {
            "marker": {
             "colorbar": {
              "outlinewidth": 0,
              "ticks": ""
             }
            },
            "type": "scattermapbox"
           }
          ],
          "scatterpolar": [
           {
            "marker": {
             "colorbar": {
              "outlinewidth": 0,
              "ticks": ""
             }
            },
            "type": "scatterpolar"
           }
          ],
          "scatterpolargl": [
           {
            "marker": {
             "colorbar": {
              "outlinewidth": 0,
              "ticks": ""
             }
            },
            "type": "scatterpolargl"
           }
          ],
          "scatterternary": [
           {
            "marker": {
             "colorbar": {
              "outlinewidth": 0,
              "ticks": ""
             }
            },
            "type": "scatterternary"
           }
          ],
          "surface": [
           {
            "colorbar": {
             "outlinewidth": 0,
             "ticks": ""
            },
            "colorscale": [
             [
              0,
              "#0d0887"
             ],
             [
              0.1111111111111111,
              "#46039f"
             ],
             [
              0.2222222222222222,
              "#7201a8"
             ],
             [
              0.3333333333333333,
              "#9c179e"
             ],
             [
              0.4444444444444444,
              "#bd3786"
             ],
             [
              0.5555555555555556,
              "#d8576b"
             ],
             [
              0.6666666666666666,
              "#ed7953"
             ],
             [
              0.7777777777777778,
              "#fb9f3a"
             ],
             [
              0.8888888888888888,
              "#fdca26"
             ],
             [
              1,
              "#f0f921"
             ]
            ],
            "type": "surface"
           }
          ],
          "table": [
           {
            "cells": {
             "fill": {
              "color": "#EBF0F8"
             },
             "line": {
              "color": "white"
             }
            },
            "header": {
             "fill": {
              "color": "#C8D4E3"
             },
             "line": {
              "color": "white"
             }
            },
            "type": "table"
           }
          ]
         },
         "layout": {
          "annotationdefaults": {
           "arrowcolor": "#2a3f5f",
           "arrowhead": 0,
           "arrowwidth": 1
          },
          "autotypenumbers": "strict",
          "coloraxis": {
           "colorbar": {
            "outlinewidth": 0,
            "ticks": ""
           }
          },
          "colorscale": {
           "diverging": [
            [
             0,
             "#8e0152"
            ],
            [
             0.1,
             "#c51b7d"
            ],
            [
             0.2,
             "#de77ae"
            ],
            [
             0.3,
             "#f1b6da"
            ],
            [
             0.4,
             "#fde0ef"
            ],
            [
             0.5,
             "#f7f7f7"
            ],
            [
             0.6,
             "#e6f5d0"
            ],
            [
             0.7,
             "#b8e186"
            ],
            [
             0.8,
             "#7fbc41"
            ],
            [
             0.9,
             "#4d9221"
            ],
            [
             1,
             "#276419"
            ]
           ],
           "sequential": [
            [
             0,
             "#0d0887"
            ],
            [
             0.1111111111111111,
             "#46039f"
            ],
            [
             0.2222222222222222,
             "#7201a8"
            ],
            [
             0.3333333333333333,
             "#9c179e"
            ],
            [
             0.4444444444444444,
             "#bd3786"
            ],
            [
             0.5555555555555556,
             "#d8576b"
            ],
            [
             0.6666666666666666,
             "#ed7953"
            ],
            [
             0.7777777777777778,
             "#fb9f3a"
            ],
            [
             0.8888888888888888,
             "#fdca26"
            ],
            [
             1,
             "#f0f921"
            ]
           ],
           "sequentialminus": [
            [
             0,
             "#0d0887"
            ],
            [
             0.1111111111111111,
             "#46039f"
            ],
            [
             0.2222222222222222,
             "#7201a8"
            ],
            [
             0.3333333333333333,
             "#9c179e"
            ],
            [
             0.4444444444444444,
             "#bd3786"
            ],
            [
             0.5555555555555556,
             "#d8576b"
            ],
            [
             0.6666666666666666,
             "#ed7953"
            ],
            [
             0.7777777777777778,
             "#fb9f3a"
            ],
            [
             0.8888888888888888,
             "#fdca26"
            ],
            [
             1,
             "#f0f921"
            ]
           ]
          },
          "colorway": [
           "#636efa",
           "#EF553B",
           "#00cc96",
           "#ab63fa",
           "#FFA15A",
           "#19d3f3",
           "#FF6692",
           "#B6E880",
           "#FF97FF",
           "#FECB52"
          ],
          "font": {
           "color": "#2a3f5f"
          },
          "geo": {
           "bgcolor": "white",
           "lakecolor": "white",
           "landcolor": "#E5ECF6",
           "showlakes": true,
           "showland": true,
           "subunitcolor": "white"
          },
          "hoverlabel": {
           "align": "left"
          },
          "hovermode": "closest",
          "mapbox": {
           "style": "light"
          },
          "paper_bgcolor": "white",
          "plot_bgcolor": "#E5ECF6",
          "polar": {
           "angularaxis": {
            "gridcolor": "white",
            "linecolor": "white",
            "ticks": ""
           },
           "bgcolor": "#E5ECF6",
           "radialaxis": {
            "gridcolor": "white",
            "linecolor": "white",
            "ticks": ""
           }
          },
          "scene": {
           "xaxis": {
            "backgroundcolor": "#E5ECF6",
            "gridcolor": "white",
            "gridwidth": 2,
            "linecolor": "white",
            "showbackground": true,
            "ticks": "",
            "zerolinecolor": "white"
           },
           "yaxis": {
            "backgroundcolor": "#E5ECF6",
            "gridcolor": "white",
            "gridwidth": 2,
            "linecolor": "white",
            "showbackground": true,
            "ticks": "",
            "zerolinecolor": "white"
           },
           "zaxis": {
            "backgroundcolor": "#E5ECF6",
            "gridcolor": "white",
            "gridwidth": 2,
            "linecolor": "white",
            "showbackground": true,
            "ticks": "",
            "zerolinecolor": "white"
           }
          },
          "shapedefaults": {
           "line": {
            "color": "#2a3f5f"
           }
          },
          "ternary": {
           "aaxis": {
            "gridcolor": "white",
            "linecolor": "white",
            "ticks": ""
           },
           "baxis": {
            "gridcolor": "white",
            "linecolor": "white",
            "ticks": ""
           },
           "bgcolor": "#E5ECF6",
           "caxis": {
            "gridcolor": "white",
            "linecolor": "white",
            "ticks": ""
           }
          },
          "title": {
           "x": 0.05
          },
          "xaxis": {
           "automargin": true,
           "gridcolor": "white",
           "linecolor": "white",
           "ticks": "",
           "title": {
            "standoff": 15
           },
           "zerolinecolor": "white",
           "zerolinewidth": 2
          },
          "yaxis": {
           "automargin": true,
           "gridcolor": "white",
           "linecolor": "white",
           "ticks": "",
           "title": {
            "standoff": 15
           },
           "zerolinecolor": "white",
           "zerolinewidth": 2
          }
         }
        },
        "title": {
         "text": "Activation Patching Per Head (All Pos)"
        },
        "xaxis": {
         "anchor": "y",
         "constrain": "domain",
         "domain": [
          0,
          0.18400000000000002
         ],
         "scaleanchor": "y",
         "title": {
          "text": "Head"
         }
        },
        "xaxis2": {
         "anchor": "y2",
         "domain": [
          0.20400000000000001,
          0.388
         ],
         "matches": "x",
         "title": {
          "text": "Head"
         }
        },
        "xaxis3": {
         "anchor": "y3",
         "domain": [
          0.40800000000000003,
          0.5920000000000001
         ],
         "matches": "x",
         "title": {
          "text": "Head"
         }
        },
        "xaxis4": {
         "anchor": "y4",
         "domain": [
          0.6120000000000001,
          0.7960000000000002
         ],
         "matches": "x",
         "title": {
          "text": "Head"
         }
        },
        "xaxis5": {
         "anchor": "y5",
         "domain": [
          0.8160000000000001,
          1
         ],
         "matches": "x",
         "title": {
          "text": "Head"
         }
        },
        "yaxis": {
         "anchor": "x",
         "autorange": "reversed",
         "constrain": "domain",
         "domain": [
          0,
          1
         ],
         "title": {
          "text": "Layer"
         }
        },
        "yaxis2": {
         "anchor": "x2",
         "domain": [
          0,
          1
         ],
         "matches": "y",
         "showticklabels": false
        },
        "yaxis3": {
         "anchor": "x3",
         "domain": [
          0,
          1
         ],
         "matches": "y",
         "showticklabels": false
        },
        "yaxis4": {
         "anchor": "x4",
         "domain": [
          0,
          1
         ],
         "matches": "y",
         "showticklabels": false
        },
        "yaxis5": {
         "anchor": "x5",
         "domain": [
          0,
          1
         ],
         "matches": "y",
         "showticklabels": false
        }
       }
      },
      "text/html": [
       "<div>                            <div id=\"fb68921c-e20d-44c5-bae8-b474937fd046\" class=\"plotly-graph-div\" style=\"height:525px; width:100%;\"></div>            <script type=\"text/javascript\">                require([\"plotly\"], function(Plotly) {                    window.PLOTLYENV=window.PLOTLYENV || {};                                    if (document.getElementById(\"fb68921c-e20d-44c5-bae8-b474937fd046\")) {                    Plotly.newPlot(                        \"fb68921c-e20d-44c5-bae8-b474937fd046\",                        [{\"coloraxis\":\"coloraxis\",\"name\":\"0\",\"z\":[[0.0009485250920988619,0.01612425595521927,0.0018548965454101562,0.0034389488864690065,-0.009824292734265327,0.011060208082199097,-0.004064877517521381,-0.0015790852485224605,-0.0012085624039173126,0.003827461041510105,-0.0042578247375786304,-0.0011434858897700906],[-0.0010772683890536427,-0.0003783427819143981,1.4767215361644048e-06,-0.0002609434013720602,-0.00014142965665087104,0.0038322266191244125,-0.0004283835005480796,-0.001429634285159409,-0.0009229509741999209,0.0006927837966941297,0.0004325787303969264,-0.0035716525744646788],[-0.000497487373650074,0.0008056187652982771,0.0005409499863162637,-0.0005321567296050489,-0.0007166126742959023,-0.0010389072122052312,-0.0009498340077698231,-8.60861546243541e-05,0.0002760798088274896,0.002106375526636839,-0.00019898822938557714,-0.001640771864913404],[0.11626453697681427,0.0002495995140634477,-0.0014683310873806477,-0.0003971038677264005,0.018961139023303986,-0.0001896915928227827,0.011169720441102982,-0.0013309288769960403,-0.0007364142220467329,-0.00030430531478486955,-0.00014659817679785192,-0.00022358907153829932],[-0.0016512431902810931,0.0002920216938946396,-0.0014360781060531735,0.030840255320072174,-0.007433178834617138,-0.000283933273749426,0.006016499362885952,-0.011008153669536114,-0.001265483209863305,0.0014891393948346376,-0.00018049565551336855,0.002943911589682102],[-0.004211811348795891,0.0029592157807201147,0.0020446551498025656,0.0013398563023656607,-0.001219704863615334,0.34350278973579407,0.0005627315840683877,-0.00012646106188185513,-0.005154261831194162,0.016240177676081657,0.01709160953760147,-0.004174893256276846],[0.03977462276816368,0.015226946212351322,-0.0010228981263935566,0.0008073639473877847,-0.0049352035857737064,-0.0021236599422991276,-0.01427395734935999,0.0013735860120505095,0.0014836352784186602,0.13027140498161316,-0.0003365582670085132,0.0012909567449241877],[0.0003726708237081766,0.019513733685016632,0.00022251509653870016,0.12425179034471512,-0.00040472240652889013,-0.007651699706912041,0.0012999848695471883,-0.0011253961129114032,-0.0074499258771538734,0.19223417341709137,-0.00327657675370574,-0.0005022867117077112],[-0.0010080637875944376,3.1044713978189975e-05,-0.0008589485078118742,0.012362978421151638,-0.0004049908893648535,-0.004331190604716539,0.31855347752571106,0.0023293939884752035,0.002117685740813613,0.00014062416448723525,0.27794432640075684,0.005738741252571344],[0.005890038330107927,-0.0009690985316410661,0.009125232696533203,0.020677123218774796,-0.03700758144259453,0.014263183809816837,-0.04828060790896416,0.05834204703569412,0.0006516369758173823,0.2636125981807709,0.0004923188243992627,-0.0026109779719263315],[0.0837443396449089,0.02067440375685692,-0.003743354929611087,0.010850883089005947,-0.0010966671397909522,0.0004740276199299842,0.048176832497119904,-0.4799308180809021,0.00018415389058645815,0.011860490776598454,0.060881607234478,0.0008460272219963372],[0.005327407270669937,-0.011493257246911526,-0.11350572109222412,0.006329329218715429,0.0003162197826895863,-0.0011601997539401054,-0.022669924423098564,0.0040705157443881035,0.0073164841160178185,-0.008346463553607464,-0.2781884968280792,0.0036352856550365686]],\"type\":\"heatmap\",\"xaxis\":\"x\",\"yaxis\":\"y\",\"hovertemplate\":\"Head: %{x}<br>Layer: %{y}<br>color: %{z}<extra></extra>\"},{\"coloraxis\":\"coloraxis\",\"name\":\"1\",\"z\":[[0.0004929564893245697,0.010944520123302937,0.0015586460940539837,0.00942195300012827,-0.004853815771639347,0.010262812487781048,-0.0031715279910713434,-0.00038827708340249956,-0.0011045876890420914,0.0005110127967782319,-0.0008294812287203968,-0.0008000474772416055],[0.000989906839095056,-0.00029977448866702616,0.00011995006207143888,-0.0003547488013282418,-0.00011068699677707627,0.0070042917504906654,-0.00034575420431792736,-0.0014777283649891615,-0.0012065151240676641,0.00024963307077996433,6.739220407325774e-05,-0.0019849822856485844],[-0.0020127715542912483,0.002569562755525112,-0.0005187991191633046,0.0012823313008993864,0.00022429386444855481,0.0032737574074417353,0.00019579986110329628,0.00021217804169282317,3.9871483750175685e-05,0.012865802273154259,0.0002846045244950801,-0.0019253764767199755],[0.1204252690076828,-0.0003093731647823006,0.000874386983923614,-0.00023929601593408734,0.02820826880633831,0.0020727128721773624,0.0011319071054458618,0.006185718346387148,0.0006770432810299098,4.56441193819046e-05,-0.0015935167903080583,-0.00026017148047685623],[-0.0012829353800043464,0.0013871113769710064,-0.0017397121991962194,-0.0003965668729506433,-0.0016232526395469904,-0.000921407132409513,-0.002206826116889715,-0.0004814112326130271,-0.0007487985421903431,0.0009407051838934422,-0.00026393041480332613,0.001497127115726471],[-0.004147238098084927,0.0029540136456489563,0.0004315383266657591,0.0005999517161399126,-0.0005229607922956347,0.34353330731391907,-0.00044291577069088817,-8.605259063187987e-05,-0.005598318763077259,0.02857278287410736,0.014875821769237518,-0.002265156712383032],[-0.001191915711387992,0.0006325066788122058,-0.0011625154875218868,0.0004230807244312018,-0.00504407798871398,0.002765093930065632,-0.00018106620700564235,0.0012198390904814005,0.0010535736801102757,0.13032342493534088,-1.5841194908716716e-05,0.0010129638249054551],[0.0003658242058008909,0.020353451371192932,0.0003352829080540687,-0.0014660153537988663,-0.00016995723126456141,-0.0005949173937551677,0.0008214599220082164,-0.0005455815116874874,9.024782775668427e-05,-0.0004118039505556226,-0.003054598579183221,0.00014703448687214404],[0.000470335828140378,0.0005040318937972188,0.001586804399266839,0.02463419921696186,-5.22222435392905e-05,-0.0010193405905738473,0.01094787660986185,-0.0005380300572142005,0.00184408959466964,0.0007357429713010788,-0.02760177105665207,0.009299452416598797],[0.006475692614912987,-0.0015577399171888828,0.012202485464513302,0.0014241636963561177,-0.026730673387646675,0.002552211284637451,-0.0437309630215168,-0.013098889030516148,0.0046377782709896564,0.27937743067741394,0.00020304921781644225,-0.00025513721629977226],[0.09814170747995377,0.026008322834968567,0.013916690833866596,0.015725204721093178,0.0005589391221292317,-0.000283631234196946,0.05219529569149017,-0.5128771662712097,0.00017462232790421695,-0.004035745747387409,0.06916225701570511,0.0025166019331663847],[0.0015770714962854981,0.008838044479489326,-0.08574926108121872,-0.007099204696714878,-0.0009577882010489702,-0.0030251313000917435,-0.0066292379051446915,0.00031252799089998007,-9.786636655917391e-05,-0.006149874068796635,-0.3373630940914154,-0.0022050472907721996]],\"type\":\"heatmap\",\"xaxis\":\"x2\",\"yaxis\":\"y2\",\"hovertemplate\":\"Head: %{x}<br>Layer: %{y}<br>color: %{z}<extra></extra>\"},{\"coloraxis\":\"coloraxis\",\"name\":\"2\",\"z\":[[0.00019784712640102953,-0.0004907413967885077,0.0007507451227866113,0.00718374690040946,0.00113130290992558,-0.00014136252866592258,0.0005660542519763112,-0.0022296481765806675,-1.2015143511234783e-05,-0.0011854382464662194,-0.0036474016960710287,-0.00014099334657657892],[9.736293577589095e-05,-0.000673619972076267,6.229079735931009e-05,0.0003991175617557019,0.00013666387530975044,0.0013143493561074138,0.00016284211596939713,-5.3229101467877626e-05,1.6780926671344787e-05,0.0003298123483546078,4.2623552872100845e-05,0.0033117495477199554],[-0.0011043864069506526,-0.0004920838982798159,-0.0008965377928689122,0.0009718505898490548,0.0005665912176482379,0.0026964263524860144,0.00016962160589173436,9.3234826636035e-05,5.490719195222482e-05,0.011643546633422375,-9.739649976836517e-05,-0.00022835485287941992],[-0.0014170821523293853,-0.00039159972220659256,0.0007126859854906797,-0.0006927166832610965,0.007759567815810442,-0.00019855193386320025,0.0014253719709813595,0.006241766270250082,0.0005359156639315188,-3.9804359403206035e-05,1.0068556548503693e-06,-0.0007064099190756679],[-0.00015431740030180663,0.00033998157596215606,0.00040844775503501296,-0.0009756095241755247,0.0007701774011366069,4.611398617271334e-05,-0.005579825956374407,0.00028530933195725083,0.0016958804335445166,0.00016552706074435264,-8.709300891496241e-05,0.0007811856921762228],[1.0202803423453588e-05,-1.7116545905082603e-06,0.000255372142419219,-0.0004818139714188874,-0.00018848337640520185,6.10490096732974e-05,-0.00022600551892537624,0.00016948736447375268,0.0004124416154809296,0.03951438516378403,0.0017568959156051278,-0.00021137254952918738],[-0.0003554200229700655,-0.0026972319465130568,5.3631843911716715e-05,-0.0007703787996433675,0.0006241162191145122,-0.001157246297225356,-0.007285271771252155,-5.564555249293335e-05,-0.00042798076174221933,0.00014297349844127893,-2.161383417842444e-05,7.819911843398586e-06],[2.6782359782373533e-05,9.484579641139135e-05,-1.8593267668620683e-05,0.0002402357495157048,-0.00011015000200131908,0.0003024929901584983,0.00011907745647476986,-6.839905836386606e-05,0.00010531709995120764,0.005507198162376881,-2.28220596909523e-06,-0.0005077237146906555],[0.0005792775773443282,-6.866755575174466e-05,-0.0002056334778899327,0.0035940383095294237,-0.00010699519043555483,5.920311014051549e-05,8.974439697340131e-05,0.0002437261864542961,0.0002878264640457928,0.0003169581468682736,-0.025733718648552895,-3.5307071811985224e-05],[-6.222367665031925e-05,0.00045180966844782233,0.0006656657787971199,0.0006596246967092156,0.0005124224117025733,0.0013575770426541567,-0.002212733030319214,-0.00911768153309822,0.00023291926481761038,0.008353645913302898,-0.00020754650176968426,-0.00036669682594947517],[0.005818350240588188,0.0013149199075996876,-0.0010812957771122456,0.001289480016566813,0.000322764361044392,3.3192674891324714e-05,0.00028114765882492065,-0.13102547824382782,0.00010827054211404175,-0.0023644997272640467,0.0013512002769857645,-9.776568185770884e-05],[-0.0005414198385551572,0.0015885496977716684,-0.004787262994796038,-0.003784770146012306,9.289920853916556e-05,-0.00017374972230754793,-0.001552403555251658,-9.971226972993463e-05,0.0009411415085196495,-0.0004516082990448922,-0.11361701041460037,-0.0006109600071795285]],\"type\":\"heatmap\",\"xaxis\":\"x3\",\"yaxis\":\"y3\",\"hovertemplate\":\"Head: %{x}<br>Layer: %{y}<br>color: %{z}<extra></extra>\"},{\"coloraxis\":\"coloraxis\",\"name\":\"3\",\"z\":[[-0.00019855193386320025,0.005340294912457466,0.0006514355773106217,0.0035052336752414703,-0.008984777145087719,0.0034810355864465237,-0.0008629423682577908,-3.416596882743761e-05,0.0005164497997611761,0.0004410027468111366,-0.003907539416104555,-0.0001881477510323748],[-0.0004410027468111366,-0.00044717814307659864,-6.849974306533113e-05,7.252716750372201e-05,-3.671666854643263e-05,-0.0019331627991050482,-0.00015794207865837961,1.4565844139724504e-05,0.00020476087229326367,0.0003376322565600276,0.00035112412297166884,-0.000567262468393892],[0.00020935884094797075,-0.0007203716086223722,0.0004860763147007674,-0.0005973338847979903,-0.0005929708131588995,-0.0005449102609418333,-0.00022822061146143824,-0.0004800352035090327,0.00020476087229326367,0.0011832567397505045,-0.00035706456401385367,-0.0009113386040553451],[0.0010381352622061968,-0.00012115829304093495,-7.756144623272121e-05,-0.0007272518123500049,-0.0013106911210343242,-0.002311606192961335,0.010987547226250172,-5.225580753176473e-05,0.0001437789760529995,0.00015002148575149477,-8.027995500015095e-05,-2.1177529561100528e-05],[-0.0005376609042286873,-0.0008142105652950704,-0.0001342474133707583,0.030607806518673897,-0.007185995578765869,0.00014794064918532968,0.001333009684458375,-0.01142304576933384,-0.0005343047087080777,0.000511046324390918,0.00037327493191696703,0.0029553896747529507],[7.249360351124778e-06,5.5712675930408295e-06,0.0015971079701557755,0.0003382028080523014,-0.0012591065606102347,-5.530993439606391e-05,0.0006321710534393787,-0.00027050854987464845,7.40374525776133e-05,-0.006704450119286776,0.003176226746290922,-0.001729173818603158],[0.048631396144628525,0.015315616503357887,-0.0004649659094866365,-0.0001167616865132004,-4.9335925723426044e-05,-0.0039544254541397095,-0.017375709488987923,-0.00015435097157023847,0.0012202418874949217,-0.00018036139954347163,-0.0004277793923392892,0.00012303775292821229],[-2.9265936973388307e-05,-0.0013852990232408047,-0.00012223227531649172,0.13321861624717712,-0.00024560565361753106,-0.007314940448850393,0.0003321616677567363,-0.0007950132130645216,-0.007939123548567295,0.20840662717819214,-0.00019200737006030977,-0.00020741226035170257],[-0.0020489846356213093,-0.00037663112743757665,-0.003315374255180359,-0.009665142744779587,-0.00031655540806241333,-0.005142649170011282,0.3171708583831787,0.002842554822564125,0.0004727522609755397,-0.001153789460659027,0.2726781368255615,-0.0031766295433044434],[-0.0004396938602440059,5.5779801186872646e-05,-0.0020629127975553274,0.020066766068339348,-0.007871798239648342,0.01131410337984562,0.0030560751911252737,0.06856559216976166,-0.0027479103300720453,-0.009278946556150913,0.0005064147990196943,-0.0013154232874512672],[-0.01295742578804493,-0.0030456711538136005,-0.01792317070066929,-0.004358879290521145,-0.0011531517375260592,0.0004991319146938622,-0.003113298211246729,0.01958240196108818,4.389890455058776e-05,0.012967696413397789,-0.007696572225540876,-0.0009140906622633338],[0.004099580459296703,-0.020457593724131584,-0.03587339445948601,0.014655924402177334,0.0008445169078186154,0.0017802213551476598,-0.018041107803583145,0.0035184232983738184,0.008253195323050022,-0.0017669980879873037,0.04416364058852196,0.006474283058196306]],\"type\":\"heatmap\",\"xaxis\":\"x4\",\"yaxis\":\"y4\",\"hovertemplate\":\"Head: %{x}<br>Layer: %{y}<br>color: %{z}<extra></extra>\"},{\"coloraxis\":\"coloraxis\",\"name\":\"4\",\"z\":[[0.0006384135922417045,0.0053194197826087475,0.0011579510755836964,-6.027708877809346e-05,-0.001067233388312161,0.005079049617052078,-0.0030825219582766294,-0.002052642870694399,-0.0014423206448554993,0.0034923122730106115,-0.0025681867264211178,-0.0009166413219645619],[-0.0007611828623339534,0.00016895036969799548,0.0001223329600179568,-0.000349748064763844,1.4901463146088645e-05,0.005007999017834663,-0.0002982642035931349,-0.001444770721718669,-0.0011012315517291427,0.00047308788634836674,5.054415305494331e-05,-0.0034960710909217596],[-0.0007250367198139429,0.0017469616141170263,-0.00015626399544999003,5.742433131672442e-05,-9.800061525311321e-05,-0.00042442319681867957,-0.0007926638354547322,0.00027151539688929915,0.00010196091170655563,0.00042173825204372406,0.00015008861373644322,-0.0007442341302521527],[0.11458329111337662,0.00021170817490201443,-0.0009427524637430906,0.00042925612069666386,0.020042601972818375,0.002104563172906637,7.537992496509105e-05,-0.0015441137365996838,-0.0008489135070703924,-0.0005825666594319046,0.00011820485087810084,-2.0204235624987632e-05],[-0.001128483796492219,0.0012365529546514153,-0.001233331044204533,-0.0005959242698736489,-0.0007551417220383883,-0.000584613939281553,0.004812299739569426,0.00018163675849791616,-0.0005373923922888935,0.0008567670010961592,-0.0002991703513544053,-1.2652818440983538e-05],[-0.004241513554006815,0.0029517649672925472,0.0005209470982663333,0.0009526867652311921,0.00016146607231348753,0.3435126543045044,-0.00030494300881400704,0.00010263214790029451,-0.005302974488586187,0.024866614490747452,0.014384006150066853,-0.0023289911914616823],[-0.002388664288446307,-0.0021731972228735685,-0.0004775180423166603,0.00043294791248627007,-0.00467429356649518,0.0018587225349619985,-0.0026551454793661833,0.0014363802038133144,0.0003031306550838053,0.13043056428432465,8.870397869031876e-05,0.001177081372588873],[0.00031924035283736885,0.020569993183016777,0.00031823350582271814,-0.0025125746615231037,-0.00026312493719160557,-0.000246679614065215,0.0005511527415364981,-0.0004314711841288954,0.0002561776200309396,0.008089648559689522,-0.00307064107619226,-0.0004246581229381263],[0.0009762471891008317,0.00039284149534069,0.0017536068335175514,0.022597530856728554,-4.4972883188165724e-05,0.0001409597898600623,0.009582983329892159,-0.0003152800491079688,0.001526795793324709,0.0011815786128863692,-0.01077402662485838,0.009365569800138474],[0.006315468344837427,-0.0010946198599413037,0.011661670170724392,0.0013477769680321217,-0.029189448803663254,0.0038328308146446943,-0.04409040883183479,-0.005032465793192387,0.0048219324089586735,0.2766501307487488,-3.17830745188985e-05,-0.0006625109817832708],[0.09538906812667847,0.025066308677196503,0.01423901878297329,0.01475446205586195,9.92424029391259e-05,-9.048276115208864e-05,0.05082644149661064,-0.5051138997077942,0.0001470009156037122,-0.0016018736641854048,0.0688268393278122,0.002326708985492587],[0.00134220567997545,0.009629768319427967,-0.07776382565498352,-0.007730200886726379,-0.0005739076877944171,-0.0029572355560958385,-0.004948292393237352,0.0004586227296385914,-0.0006327751907519996,-0.006520866882055998,-0.3204995393753052,-0.00247290451079607]],\"type\":\"heatmap\",\"xaxis\":\"x5\",\"yaxis\":\"y5\",\"hovertemplate\":\"Head: %{x}<br>Layer: %{y}<br>color: %{z}<extra></extra>\"}],                        {\"template\":{\"data\":{\"histogram2dcontour\":[{\"type\":\"histogram2dcontour\",\"colorbar\":{\"outlinewidth\":0,\"ticks\":\"\"},\"colorscale\":[[0.0,\"#0d0887\"],[0.1111111111111111,\"#46039f\"],[0.2222222222222222,\"#7201a8\"],[0.3333333333333333,\"#9c179e\"],[0.4444444444444444,\"#bd3786\"],[0.5555555555555556,\"#d8576b\"],[0.6666666666666666,\"#ed7953\"],[0.7777777777777778,\"#fb9f3a\"],[0.8888888888888888,\"#fdca26\"],[1.0,\"#f0f921\"]]}],\"choropleth\":[{\"type\":\"choropleth\",\"colorbar\":{\"outlinewidth\":0,\"ticks\":\"\"}}],\"histogram2d\":[{\"type\":\"histogram2d\",\"colorbar\":{\"outlinewidth\":0,\"ticks\":\"\"},\"colorscale\":[[0.0,\"#0d0887\"],[0.1111111111111111,\"#46039f\"],[0.2222222222222222,\"#7201a8\"],[0.3333333333333333,\"#9c179e\"],[0.4444444444444444,\"#bd3786\"],[0.5555555555555556,\"#d8576b\"],[0.6666666666666666,\"#ed7953\"],[0.7777777777777778,\"#fb9f3a\"],[0.8888888888888888,\"#fdca26\"],[1.0,\"#f0f921\"]]}],\"heatmap\":[{\"type\":\"heatmap\",\"colorbar\":{\"outlinewidth\":0,\"ticks\":\"\"},\"colorscale\":[[0.0,\"#0d0887\"],[0.1111111111111111,\"#46039f\"],[0.2222222222222222,\"#7201a8\"],[0.3333333333333333,\"#9c179e\"],[0.4444444444444444,\"#bd3786\"],[0.5555555555555556,\"#d8576b\"],[0.6666666666666666,\"#ed7953\"],[0.7777777777777778,\"#fb9f3a\"],[0.8888888888888888,\"#fdca26\"],[1.0,\"#f0f921\"]]}],\"heatmapgl\":[{\"type\":\"heatmapgl\",\"colorbar\":{\"outlinewidth\":0,\"ticks\":\"\"},\"colorscale\":[[0.0,\"#0d0887\"],[0.1111111111111111,\"#46039f\"],[0.2222222222222222,\"#7201a8\"],[0.3333333333333333,\"#9c179e\"],[0.4444444444444444,\"#bd3786\"],[0.5555555555555556,\"#d8576b\"],[0.6666666666666666,\"#ed7953\"],[0.7777777777777778,\"#fb9f3a\"],[0.8888888888888888,\"#fdca26\"],[1.0,\"#f0f921\"]]}],\"contourcarpet\":[{\"type\":\"contourcarpet\",\"colorbar\":{\"outlinewidth\":0,\"ticks\":\"\"}}],\"contour\":[{\"type\":\"contour\",\"colorbar\":{\"outlinewidth\":0,\"ticks\":\"\"},\"colorscale\":[[0.0,\"#0d0887\"],[0.1111111111111111,\"#46039f\"],[0.2222222222222222,\"#7201a8\"],[0.3333333333333333,\"#9c179e\"],[0.4444444444444444,\"#bd3786\"],[0.5555555555555556,\"#d8576b\"],[0.6666666666666666,\"#ed7953\"],[0.7777777777777778,\"#fb9f3a\"],[0.8888888888888888,\"#fdca26\"],[1.0,\"#f0f921\"]]}],\"surface\":[{\"type\":\"surface\",\"colorbar\":{\"outlinewidth\":0,\"ticks\":\"\"},\"colorscale\":[[0.0,\"#0d0887\"],[0.1111111111111111,\"#46039f\"],[0.2222222222222222,\"#7201a8\"],[0.3333333333333333,\"#9c179e\"],[0.4444444444444444,\"#bd3786\"],[0.5555555555555556,\"#d8576b\"],[0.6666666666666666,\"#ed7953\"],[0.7777777777777778,\"#fb9f3a\"],[0.8888888888888888,\"#fdca26\"],[1.0,\"#f0f921\"]]}],\"mesh3d\":[{\"type\":\"mesh3d\",\"colorbar\":{\"outlinewidth\":0,\"ticks\":\"\"}}],\"scatter\":[{\"fillpattern\":{\"fillmode\":\"overlay\",\"size\":10,\"solidity\":0.2},\"type\":\"scatter\"}],\"parcoords\":[{\"type\":\"parcoords\",\"line\":{\"colorbar\":{\"outlinewidth\":0,\"ticks\":\"\"}}}],\"scatterpolargl\":[{\"type\":\"scatterpolargl\",\"marker\":{\"colorbar\":{\"outlinewidth\":0,\"ticks\":\"\"}}}],\"bar\":[{\"error_x\":{\"color\":\"#2a3f5f\"},\"error_y\":{\"color\":\"#2a3f5f\"},\"marker\":{\"line\":{\"color\":\"#E5ECF6\",\"width\":0.5},\"pattern\":{\"fillmode\":\"overlay\",\"size\":10,\"solidity\":0.2}},\"type\":\"bar\"}],\"scattergeo\":[{\"type\":\"scattergeo\",\"marker\":{\"colorbar\":{\"outlinewidth\":0,\"ticks\":\"\"}}}],\"scatterpolar\":[{\"type\":\"scatterpolar\",\"marker\":{\"colorbar\":{\"outlinewidth\":0,\"ticks\":\"\"}}}],\"histogram\":[{\"marker\":{\"pattern\":{\"fillmode\":\"overlay\",\"size\":10,\"solidity\":0.2}},\"type\":\"histogram\"}],\"scattergl\":[{\"type\":\"scattergl\",\"marker\":{\"colorbar\":{\"outlinewidth\":0,\"ticks\":\"\"}}}],\"scatter3d\":[{\"type\":\"scatter3d\",\"line\":{\"colorbar\":{\"outlinewidth\":0,\"ticks\":\"\"}},\"marker\":{\"colorbar\":{\"outlinewidth\":0,\"ticks\":\"\"}}}],\"scattermapbox\":[{\"type\":\"scattermapbox\",\"marker\":{\"colorbar\":{\"outlinewidth\":0,\"ticks\":\"\"}}}],\"scatterternary\":[{\"type\":\"scatterternary\",\"marker\":{\"colorbar\":{\"outlinewidth\":0,\"ticks\":\"\"}}}],\"scattercarpet\":[{\"type\":\"scattercarpet\",\"marker\":{\"colorbar\":{\"outlinewidth\":0,\"ticks\":\"\"}}}],\"carpet\":[{\"aaxis\":{\"endlinecolor\":\"#2a3f5f\",\"gridcolor\":\"white\",\"linecolor\":\"white\",\"minorgridcolor\":\"white\",\"startlinecolor\":\"#2a3f5f\"},\"baxis\":{\"endlinecolor\":\"#2a3f5f\",\"gridcolor\":\"white\",\"linecolor\":\"white\",\"minorgridcolor\":\"white\",\"startlinecolor\":\"#2a3f5f\"},\"type\":\"carpet\"}],\"table\":[{\"cells\":{\"fill\":{\"color\":\"#EBF0F8\"},\"line\":{\"color\":\"white\"}},\"header\":{\"fill\":{\"color\":\"#C8D4E3\"},\"line\":{\"color\":\"white\"}},\"type\":\"table\"}],\"barpolar\":[{\"marker\":{\"line\":{\"color\":\"#E5ECF6\",\"width\":0.5},\"pattern\":{\"fillmode\":\"overlay\",\"size\":10,\"solidity\":0.2}},\"type\":\"barpolar\"}],\"pie\":[{\"automargin\":true,\"type\":\"pie\"}]},\"layout\":{\"autotypenumbers\":\"strict\",\"colorway\":[\"#636efa\",\"#EF553B\",\"#00cc96\",\"#ab63fa\",\"#FFA15A\",\"#19d3f3\",\"#FF6692\",\"#B6E880\",\"#FF97FF\",\"#FECB52\"],\"font\":{\"color\":\"#2a3f5f\"},\"hovermode\":\"closest\",\"hoverlabel\":{\"align\":\"left\"},\"paper_bgcolor\":\"white\",\"plot_bgcolor\":\"#E5ECF6\",\"polar\":{\"bgcolor\":\"#E5ECF6\",\"angularaxis\":{\"gridcolor\":\"white\",\"linecolor\":\"white\",\"ticks\":\"\"},\"radialaxis\":{\"gridcolor\":\"white\",\"linecolor\":\"white\",\"ticks\":\"\"}},\"ternary\":{\"bgcolor\":\"#E5ECF6\",\"aaxis\":{\"gridcolor\":\"white\",\"linecolor\":\"white\",\"ticks\":\"\"},\"baxis\":{\"gridcolor\":\"white\",\"linecolor\":\"white\",\"ticks\":\"\"},\"caxis\":{\"gridcolor\":\"white\",\"linecolor\":\"white\",\"ticks\":\"\"}},\"coloraxis\":{\"colorbar\":{\"outlinewidth\":0,\"ticks\":\"\"}},\"colorscale\":{\"sequential\":[[0.0,\"#0d0887\"],[0.1111111111111111,\"#46039f\"],[0.2222222222222222,\"#7201a8\"],[0.3333333333333333,\"#9c179e\"],[0.4444444444444444,\"#bd3786\"],[0.5555555555555556,\"#d8576b\"],[0.6666666666666666,\"#ed7953\"],[0.7777777777777778,\"#fb9f3a\"],[0.8888888888888888,\"#fdca26\"],[1.0,\"#f0f921\"]],\"sequentialminus\":[[0.0,\"#0d0887\"],[0.1111111111111111,\"#46039f\"],[0.2222222222222222,\"#7201a8\"],[0.3333333333333333,\"#9c179e\"],[0.4444444444444444,\"#bd3786\"],[0.5555555555555556,\"#d8576b\"],[0.6666666666666666,\"#ed7953\"],[0.7777777777777778,\"#fb9f3a\"],[0.8888888888888888,\"#fdca26\"],[1.0,\"#f0f921\"]],\"diverging\":[[0,\"#8e0152\"],[0.1,\"#c51b7d\"],[0.2,\"#de77ae\"],[0.3,\"#f1b6da\"],[0.4,\"#fde0ef\"],[0.5,\"#f7f7f7\"],[0.6,\"#e6f5d0\"],[0.7,\"#b8e186\"],[0.8,\"#7fbc41\"],[0.9,\"#4d9221\"],[1,\"#276419\"]]},\"xaxis\":{\"gridcolor\":\"white\",\"linecolor\":\"white\",\"ticks\":\"\",\"title\":{\"standoff\":15},\"zerolinecolor\":\"white\",\"automargin\":true,\"zerolinewidth\":2},\"yaxis\":{\"gridcolor\":\"white\",\"linecolor\":\"white\",\"ticks\":\"\",\"title\":{\"standoff\":15},\"zerolinecolor\":\"white\",\"automargin\":true,\"zerolinewidth\":2},\"scene\":{\"xaxis\":{\"backgroundcolor\":\"#E5ECF6\",\"gridcolor\":\"white\",\"linecolor\":\"white\",\"showbackground\":true,\"ticks\":\"\",\"zerolinecolor\":\"white\",\"gridwidth\":2},\"yaxis\":{\"backgroundcolor\":\"#E5ECF6\",\"gridcolor\":\"white\",\"linecolor\":\"white\",\"showbackground\":true,\"ticks\":\"\",\"zerolinecolor\":\"white\",\"gridwidth\":2},\"zaxis\":{\"backgroundcolor\":\"#E5ECF6\",\"gridcolor\":\"white\",\"linecolor\":\"white\",\"showbackground\":true,\"ticks\":\"\",\"zerolinecolor\":\"white\",\"gridwidth\":2}},\"shapedefaults\":{\"line\":{\"color\":\"#2a3f5f\"}},\"annotationdefaults\":{\"arrowcolor\":\"#2a3f5f\",\"arrowhead\":0,\"arrowwidth\":1},\"geo\":{\"bgcolor\":\"white\",\"landcolor\":\"#E5ECF6\",\"subunitcolor\":\"white\",\"showland\":true,\"showlakes\":true,\"lakecolor\":\"white\"},\"title\":{\"x\":0.05},\"mapbox\":{\"style\":\"light\"}}},\"xaxis\":{\"anchor\":\"y\",\"domain\":[0.0,0.18400000000000002],\"scaleanchor\":\"y\",\"constrain\":\"domain\",\"title\":{\"text\":\"Head\"}},\"yaxis\":{\"anchor\":\"x\",\"domain\":[0.0,1.0],\"autorange\":\"reversed\",\"constrain\":\"domain\",\"title\":{\"text\":\"Layer\"}},\"xaxis2\":{\"anchor\":\"y2\",\"domain\":[0.20400000000000001,0.388],\"matches\":\"x\",\"title\":{\"text\":\"Head\"}},\"yaxis2\":{\"anchor\":\"x2\",\"domain\":[0.0,1.0],\"matches\":\"y\",\"showticklabels\":false},\"xaxis3\":{\"anchor\":\"y3\",\"domain\":[0.40800000000000003,0.5920000000000001],\"matches\":\"x\",\"title\":{\"text\":\"Head\"}},\"yaxis3\":{\"anchor\":\"x3\",\"domain\":[0.0,1.0],\"matches\":\"y\",\"showticklabels\":false},\"xaxis4\":{\"anchor\":\"y4\",\"domain\":[0.6120000000000001,0.7960000000000002],\"matches\":\"x\",\"title\":{\"text\":\"Head\"}},\"yaxis4\":{\"anchor\":\"x4\",\"domain\":[0.0,1.0],\"matches\":\"y\",\"showticklabels\":false},\"xaxis5\":{\"anchor\":\"y5\",\"domain\":[0.8160000000000001,1.0],\"matches\":\"x\",\"title\":{\"text\":\"Head\"}},\"yaxis5\":{\"anchor\":\"x5\",\"domain\":[0.0,1.0],\"matches\":\"y\",\"showticklabels\":false},\"annotations\":[{\"font\":{},\"showarrow\":false,\"text\":\"Output\",\"x\":0.09200000000000001,\"xanchor\":\"center\",\"xref\":\"paper\",\"y\":1.0,\"yanchor\":\"bottom\",\"yref\":\"paper\"},{\"font\":{},\"showarrow\":false,\"text\":\"Query\",\"x\":0.29600000000000004,\"xanchor\":\"center\",\"xref\":\"paper\",\"y\":1.0,\"yanchor\":\"bottom\",\"yref\":\"paper\"},{\"font\":{},\"showarrow\":false,\"text\":\"Key\",\"x\":0.5,\"xanchor\":\"center\",\"xref\":\"paper\",\"y\":1.0,\"yanchor\":\"bottom\",\"yref\":\"paper\"},{\"font\":{},\"showarrow\":false,\"text\":\"Value\",\"x\":0.7040000000000002,\"xanchor\":\"center\",\"xref\":\"paper\",\"y\":1.0,\"yanchor\":\"bottom\",\"yref\":\"paper\"},{\"font\":{},\"showarrow\":false,\"text\":\"Pattern\",\"x\":0.908,\"xanchor\":\"center\",\"xref\":\"paper\",\"y\":1.0,\"yanchor\":\"bottom\",\"yref\":\"paper\"}],\"coloraxis\":{\"colorscale\":[[0.0,\"rgb(103,0,31)\"],[0.1,\"rgb(178,24,43)\"],[0.2,\"rgb(214,96,77)\"],[0.3,\"rgb(244,165,130)\"],[0.4,\"rgb(253,219,199)\"],[0.5,\"rgb(247,247,247)\"],[0.6,\"rgb(209,229,240)\"],[0.7,\"rgb(146,197,222)\"],[0.8,\"rgb(67,147,195)\"],[0.9,\"rgb(33,102,172)\"],[1.0,\"rgb(5,48,97)\"]],\"cmid\":0.0},\"title\":{\"text\":\"Activation Patching Per Head (All Pos)\"}},                        {\"responsive\": true}                    ).then(function(){\n",
       "                            \n",
       "var gd = document.getElementById('fb68921c-e20d-44c5-bae8-b474937fd046');\n",
       "var x = new MutationObserver(function (mutations, observer) {{\n",
       "        var display = window.getComputedStyle(gd).display;\n",
       "        if (!display || display === 'none') {{\n",
       "            console.log([gd, 'removed!']);\n",
       "            Plotly.purge(gd);\n",
       "            observer.disconnect();\n",
       "        }}\n",
       "}});\n",
       "\n",
       "// Listen for the removal of the full notebook cells\n",
       "var notebookContainer = gd.closest('#notebook-container');\n",
       "if (notebookContainer) {{\n",
       "    x.observe(notebookContainer, {childList: true});\n",
       "}}\n",
       "\n",
       "// Listen for the clearing of the current output cell\n",
       "var outputEl = gd.closest('.output');\n",
       "if (outputEl) {{\n",
       "    x.observe(outputEl, {childList: true});\n",
       "}}\n",
       "\n",
       "                        })                };                });            </script>        </div>"
      ]
     },
     "metadata": {},
     "output_type": "display_data"
    }
   ],
   "source": [
    "act_patch_attn_head_all_pos_every = patching.get_act_patch_attn_head_all_pos_every(\n",
    "    model, \n",
    "    corrupted_tokens, \n",
    "    clean_cache, \n",
    "    ioi_metric\n",
    ")\n",
    "\n",
    "imshow(\n",
    "    act_patch_attn_head_all_pos_every, \n",
    "    facet_col=0, \n",
    "    facet_labels=[\"Output\", \"Query\", \"Key\", \"Value\", \"Pattern\"],\n",
    "    title=\"Activation Patching Per Head (All Pos)\", \n",
    "    labels={\"x\": \"Head\", \"y\": \"Layer\"},\n",
    ")"
   ]
  },
  {
   "cell_type": "code",
   "execution_count": 131,
   "metadata": {},
   "outputs": [
    {
     "data": {
      "application/vnd.jupyter.widget-view+json": {
       "model_id": "c7e654f75a1c4ce694cf8fcaa75b46e5",
       "version_major": 2,
       "version_minor": 0
      },
      "text/plain": [
       "  0%|          | 0/12 [00:00<?, ?it/s]"
      ]
     },
     "metadata": {},
     "output_type": "display_data"
    },
    {
     "data": {
      "application/vnd.jupyter.widget-view+json": {
       "model_id": "a37e64cb91e245a6968d0d5f509f7916",
       "version_major": 2,
       "version_minor": 0
      },
      "text/plain": [
       "  0%|          | 0/12 [00:00<?, ?it/s]"
      ]
     },
     "metadata": {},
     "output_type": "display_data"
    },
    {
     "data": {
      "application/vnd.jupyter.widget-view+json": {
       "model_id": "103ead2d7a914cf6a0996a4037fc36f5",
       "version_major": 2,
       "version_minor": 0
      },
      "text/plain": [
       "  0%|          | 0/12 [00:00<?, ?it/s]"
      ]
     },
     "metadata": {},
     "output_type": "display_data"
    },
    {
     "data": {
      "application/vnd.jupyter.widget-view+json": {
       "model_id": "fb190e279e654ed9adbc1a520ab77eff",
       "version_major": 2,
       "version_minor": 0
      },
      "text/plain": [
       "  0%|          | 0/12 [00:00<?, ?it/s]"
      ]
     },
     "metadata": {},
     "output_type": "display_data"
    },
    {
     "data": {
      "application/vnd.jupyter.widget-view+json": {
       "model_id": "1114a95203314e5fb5f2fed325d70d01",
       "version_major": 2,
       "version_minor": 0
      },
      "text/plain": [
       "  0%|          | 0/12 [00:00<?, ?it/s]"
      ]
     },
     "metadata": {},
     "output_type": "display_data"
    },
    {
     "data": {
      "application/vnd.plotly.v1+json": {
       "config": {
        "plotlyServerURL": "https://plot.ly"
       },
       "data": [
        {
         "coloraxis": "coloraxis",
         "hovertemplate": "Head: %{x}<br>Layer: %{y}<br>color: %{z}<extra></extra>",
         "name": "0",
         "type": "heatmap",
         "xaxis": "x",
         "yaxis": "y",
         "z": [
          [
           0.0009485250920988619,
           0.01612425595521927,
           0.0018548965454101562,
           0.0034389488864690065,
           -0.009824292734265327,
           0.011060208082199097,
           -0.004064877517521381,
           -0.0015790852485224605,
           -0.0012085624039173126,
           0.003827461041510105,
           -0.0042578247375786304,
           -0.0011434858897700906
          ],
          [
           -0.0010772683890536427,
           -0.0003783427819143981,
           0.0000014767215361644048,
           -0.0002609434013720602,
           -0.00014142965665087104,
           0.0038322266191244125,
           -0.0004283835005480796,
           -0.001429634285159409,
           -0.0009229509741999209,
           0.0006927837966941297,
           0.0004325787303969264,
           -0.0035716525744646788
          ],
          [
           -0.000497487373650074,
           0.0008056187652982771,
           0.0005409499863162637,
           -0.0005321567296050489,
           -0.0007166126742959023,
           -0.0010389072122052312,
           -0.0009498340077698231,
           -0.0000860861546243541,
           0.0002760798088274896,
           0.002106375526636839,
           -0.00019898822938557714,
           -0.001640771864913404
          ],
          [
           0.11626453697681427,
           0.0002495995140634477,
           -0.0014683310873806477,
           -0.0003971038677264005,
           0.018961139023303986,
           -0.0001896915928227827,
           0.011169720441102982,
           -0.0013309288769960403,
           -0.0007364142220467329,
           -0.00030430531478486955,
           -0.00014659817679785192,
           -0.00022358907153829932
          ],
          [
           -0.0016512431902810931,
           0.0002920216938946396,
           -0.0014360781060531735,
           0.030840255320072174,
           -0.007433178834617138,
           -0.000283933273749426,
           0.006016499362885952,
           -0.011008153669536114,
           -0.001265483209863305,
           0.0014891393948346376,
           -0.00018049565551336855,
           0.002943911589682102
          ],
          [
           -0.004211811348795891,
           0.0029592157807201147,
           0.0020446551498025656,
           0.0013398563023656607,
           -0.001219704863615334,
           0.34350278973579407,
           0.0005627315840683877,
           -0.00012646106188185513,
           -0.005154261831194162,
           0.016240177676081657,
           0.01709160953760147,
           -0.004174893256276846
          ],
          [
           0.03977462276816368,
           0.015226946212351322,
           -0.0010228981263935566,
           0.0008073639473877847,
           -0.0049352035857737064,
           -0.0021236599422991276,
           -0.01427395734935999,
           0.0013735860120505095,
           0.0014836352784186602,
           0.13027140498161316,
           -0.0003365582670085132,
           0.0012909567449241877
          ],
          [
           0.0003726708237081766,
           0.019513733685016632,
           0.00022251509653870016,
           0.12425179034471512,
           -0.00040472240652889013,
           -0.007651699706912041,
           0.0012999848695471883,
           -0.0011253961129114032,
           -0.0074499258771538734,
           0.19223417341709137,
           -0.00327657675370574,
           -0.0005022867117077112
          ],
          [
           -0.0010080637875944376,
           0.000031044713978189975,
           -0.0008589485078118742,
           0.012362978421151638,
           -0.0004049908893648535,
           -0.004331190604716539,
           0.31855347752571106,
           0.0023293939884752035,
           0.002117685740813613,
           0.00014062416448723525,
           0.27794432640075684,
           0.005738741252571344
          ],
          [
           0.005890038330107927,
           -0.0009690985316410661,
           0.009125232696533203,
           0.020677123218774796,
           -0.03700758144259453,
           0.014263183809816837,
           -0.04828060790896416,
           0.05834204703569412,
           0.0006516369758173823,
           0.2636125981807709,
           0.0004923188243992627,
           -0.0026109779719263315
          ],
          [
           0.0837443396449089,
           0.02067440375685692,
           -0.003743354929611087,
           0.010850883089005947,
           -0.0010966671397909522,
           0.0004740276199299842,
           0.048176832497119904,
           -0.4799308180809021,
           0.00018415389058645815,
           0.011860490776598454,
           0.060881607234478,
           0.0008460272219963372
          ],
          [
           0.005327407270669937,
           -0.011493257246911526,
           -0.11350572109222412,
           0.006329329218715429,
           0.0003162197826895863,
           -0.0011601997539401054,
           -0.022669924423098564,
           0.0040705157443881035,
           0.0073164841160178185,
           -0.008346463553607464,
           -0.2781884968280792,
           0.0036352856550365686
          ]
         ]
        },
        {
         "coloraxis": "coloraxis",
         "hovertemplate": "Head: %{x}<br>Layer: %{y}<br>color: %{z}<extra></extra>",
         "name": "1",
         "type": "heatmap",
         "xaxis": "x2",
         "yaxis": "y2",
         "z": [
          [
           0.0004929564893245697,
           0.010944520123302937,
           0.0015586460940539837,
           0.00942195300012827,
           -0.004853815771639347,
           0.010262812487781048,
           -0.0031715279910713434,
           -0.00038827708340249956,
           -0.0011045876890420914,
           0.0005110127967782319,
           -0.0008294812287203968,
           -0.0008000474772416055
          ],
          [
           0.000989906839095056,
           -0.00029977448866702616,
           0.00011995006207143888,
           -0.0003547488013282418,
           -0.00011068699677707627,
           0.0070042917504906654,
           -0.00034575420431792736,
           -0.0014777283649891615,
           -0.0012065151240676641,
           0.00024963307077996433,
           0.00006739220407325774,
           -0.0019849822856485844
          ],
          [
           -0.0020127715542912483,
           0.002569562755525112,
           -0.0005187991191633046,
           0.0012823313008993864,
           0.00022429386444855481,
           0.0032737574074417353,
           0.00019579986110329628,
           0.00021217804169282317,
           0.000039871483750175685,
           0.012865802273154259,
           0.0002846045244950801,
           -0.0019253764767199755
          ],
          [
           0.1204252690076828,
           -0.0003093731647823006,
           0.000874386983923614,
           -0.00023929601593408734,
           0.02820826880633831,
           0.0020727128721773624,
           0.0011319071054458618,
           0.006185718346387148,
           0.0006770432810299098,
           0.0000456441193819046,
           -0.0015935167903080583,
           -0.00026017148047685623
          ],
          [
           -0.0012829353800043464,
           0.0013871113769710064,
           -0.0017397121991962194,
           -0.0003965668729506433,
           -0.0016232526395469904,
           -0.000921407132409513,
           -0.002206826116889715,
           -0.0004814112326130271,
           -0.0007487985421903431,
           0.0009407051838934422,
           -0.00026393041480332613,
           0.001497127115726471
          ],
          [
           -0.004147238098084927,
           0.0029540136456489563,
           0.0004315383266657591,
           0.0005999517161399126,
           -0.0005229607922956347,
           0.34353330731391907,
           -0.00044291577069088817,
           -0.00008605259063187987,
           -0.005598318763077259,
           0.02857278287410736,
           0.014875821769237518,
           -0.002265156712383032
          ],
          [
           -0.001191915711387992,
           0.0006325066788122058,
           -0.0011625154875218868,
           0.0004230807244312018,
           -0.00504407798871398,
           0.002765093930065632,
           -0.00018106620700564235,
           0.0012198390904814005,
           0.0010535736801102757,
           0.13032342493534088,
           -0.000015841194908716716,
           0.0010129638249054551
          ],
          [
           0.0003658242058008909,
           0.020353451371192932,
           0.0003352829080540687,
           -0.0014660153537988663,
           -0.00016995723126456141,
           -0.0005949173937551677,
           0.0008214599220082164,
           -0.0005455815116874874,
           0.00009024782775668427,
           -0.0004118039505556226,
           -0.003054598579183221,
           0.00014703448687214404
          ],
          [
           0.000470335828140378,
           0.0005040318937972188,
           0.001586804399266839,
           0.02463419921696186,
           -0.0000522222435392905,
           -0.0010193405905738473,
           0.01094787660986185,
           -0.0005380300572142005,
           0.00184408959466964,
           0.0007357429713010788,
           -0.02760177105665207,
           0.009299452416598797
          ],
          [
           0.006475692614912987,
           -0.0015577399171888828,
           0.012202485464513302,
           0.0014241636963561177,
           -0.026730673387646675,
           0.002552211284637451,
           -0.0437309630215168,
           -0.013098889030516148,
           0.0046377782709896564,
           0.27937743067741394,
           0.00020304921781644225,
           -0.00025513721629977226
          ],
          [
           0.09814170747995377,
           0.026008322834968567,
           0.013916690833866596,
           0.015725204721093178,
           0.0005589391221292317,
           -0.000283631234196946,
           0.05219529569149017,
           -0.5128771662712097,
           0.00017462232790421695,
           -0.004035745747387409,
           0.06916225701570511,
           0.0025166019331663847
          ],
          [
           0.0015770714962854981,
           0.008838044479489326,
           -0.08574926108121872,
           -0.007099204696714878,
           -0.0009577882010489702,
           -0.0030251313000917435,
           -0.0066292379051446915,
           0.00031252799089998007,
           -0.00009786636655917391,
           -0.006149874068796635,
           -0.3373630940914154,
           -0.0022050472907721996
          ]
         ]
        },
        {
         "coloraxis": "coloraxis",
         "hovertemplate": "Head: %{x}<br>Layer: %{y}<br>color: %{z}<extra></extra>",
         "name": "2",
         "type": "heatmap",
         "xaxis": "x3",
         "yaxis": "y3",
         "z": [
          [
           0.00019784712640102953,
           -0.0004907413967885077,
           0.0007507451227866113,
           0.00718374690040946,
           0.00113130290992558,
           -0.00014136252866592258,
           0.0005660542519763112,
           -0.0022296481765806675,
           -0.000012015143511234783,
           -0.0011854382464662194,
           -0.0036474016960710287,
           -0.00014099334657657892
          ],
          [
           0.00009736293577589095,
           -0.000673619972076267,
           0.00006229079735931009,
           0.0003991175617557019,
           0.00013666387530975044,
           0.0013143493561074138,
           0.00016284211596939713,
           -0.000053229101467877626,
           0.000016780926671344787,
           0.0003298123483546078,
           0.000042623552872100845,
           0.0033117495477199554
          ],
          [
           -0.0011043864069506526,
           -0.0004920838982798159,
           -0.0008965377928689122,
           0.0009718505898490548,
           0.0005665912176482379,
           0.0026964263524860144,
           0.00016962160589173436,
           0.000093234826636035,
           0.00005490719195222482,
           0.011643546633422375,
           -0.00009739649976836517,
           -0.00022835485287941992
          ],
          [
           -0.0014170821523293853,
           -0.00039159972220659256,
           0.0007126859854906797,
           -0.0006927166832610965,
           0.007759567815810442,
           -0.00019855193386320025,
           0.0014253719709813595,
           0.006241766270250082,
           0.0005359156639315188,
           -0.000039804359403206035,
           0.0000010068556548503693,
           -0.0007064099190756679
          ],
          [
           -0.00015431740030180663,
           0.00033998157596215606,
           0.00040844775503501296,
           -0.0009756095241755247,
           0.0007701774011366069,
           0.00004611398617271334,
           -0.005579825956374407,
           0.00028530933195725083,
           0.0016958804335445166,
           0.00016552706074435264,
           -0.00008709300891496241,
           0.0007811856921762228
          ],
          [
           0.000010202803423453588,
           -0.0000017116545905082603,
           0.000255372142419219,
           -0.0004818139714188874,
           -0.00018848337640520185,
           0.0000610490096732974,
           -0.00022600551892537624,
           0.00016948736447375268,
           0.0004124416154809296,
           0.03951438516378403,
           0.0017568959156051278,
           -0.00021137254952918738
          ],
          [
           -0.0003554200229700655,
           -0.0026972319465130568,
           0.000053631843911716715,
           -0.0007703787996433675,
           0.0006241162191145122,
           -0.001157246297225356,
           -0.007285271771252155,
           -0.00005564555249293335,
           -0.00042798076174221933,
           0.00014297349844127893,
           -0.00002161383417842444,
           0.000007819911843398586
          ],
          [
           0.000026782359782373533,
           0.00009484579641139135,
           -0.000018593267668620683,
           0.0002402357495157048,
           -0.00011015000200131908,
           0.0003024929901584983,
           0.00011907745647476986,
           -0.00006839905836386606,
           0.00010531709995120764,
           0.005507198162376881,
           -0.00000228220596909523,
           -0.0005077237146906555
          ],
          [
           0.0005792775773443282,
           -0.00006866755575174466,
           -0.0002056334778899327,
           0.0035940383095294237,
           -0.00010699519043555483,
           0.00005920311014051549,
           0.00008974439697340131,
           0.0002437261864542961,
           0.0002878264640457928,
           0.0003169581468682736,
           -0.025733718648552895,
           -0.000035307071811985224
          ],
          [
           -0.00006222367665031925,
           0.00045180966844782233,
           0.0006656657787971199,
           0.0006596246967092156,
           0.0005124224117025733,
           0.0013575770426541567,
           -0.002212733030319214,
           -0.00911768153309822,
           0.00023291926481761038,
           0.008353645913302898,
           -0.00020754650176968426,
           -0.00036669682594947517
          ],
          [
           0.005818350240588188,
           0.0013149199075996876,
           -0.0010812957771122456,
           0.001289480016566813,
           0.000322764361044392,
           0.000033192674891324714,
           0.00028114765882492065,
           -0.13102547824382782,
           0.00010827054211404175,
           -0.0023644997272640467,
           0.0013512002769857645,
           -0.00009776568185770884
          ],
          [
           -0.0005414198385551572,
           0.0015885496977716684,
           -0.004787262994796038,
           -0.003784770146012306,
           0.00009289920853916556,
           -0.00017374972230754793,
           -0.001552403555251658,
           -0.00009971226972993463,
           0.0009411415085196495,
           -0.0004516082990448922,
           -0.11361701041460037,
           -0.0006109600071795285
          ]
         ]
        },
        {
         "coloraxis": "coloraxis",
         "hovertemplate": "Head: %{x}<br>Layer: %{y}<br>color: %{z}<extra></extra>",
         "name": "3",
         "type": "heatmap",
         "xaxis": "x4",
         "yaxis": "y4",
         "z": [
          [
           -0.00019855193386320025,
           0.005340294912457466,
           0.0006514355773106217,
           0.0035052336752414703,
           -0.008984777145087719,
           0.0034810355864465237,
           -0.0008629423682577908,
           -0.00003416596882743761,
           0.0005164497997611761,
           0.0004410027468111366,
           -0.003907539416104555,
           -0.0001881477510323748
          ],
          [
           -0.0004410027468111366,
           -0.00044717814307659864,
           -0.00006849974306533113,
           0.00007252716750372201,
           -0.00003671666854643263,
           -0.0019331627991050482,
           -0.00015794207865837961,
           0.000014565844139724504,
           0.00020476087229326367,
           0.0003376322565600276,
           0.00035112412297166884,
           -0.000567262468393892
          ],
          [
           0.00020935884094797075,
           -0.0007203716086223722,
           0.0004860763147007674,
           -0.0005973338847979903,
           -0.0005929708131588995,
           -0.0005449102609418333,
           -0.00022822061146143824,
           -0.0004800352035090327,
           0.00020476087229326367,
           0.0011832567397505045,
           -0.00035706456401385367,
           -0.0009113386040553451
          ],
          [
           0.0010381352622061968,
           -0.00012115829304093495,
           -0.00007756144623272121,
           -0.0007272518123500049,
           -0.0013106911210343242,
           -0.002311606192961335,
           0.010987547226250172,
           -0.00005225580753176473,
           0.0001437789760529995,
           0.00015002148575149477,
           -0.00008027995500015095,
           -0.000021177529561100528
          ],
          [
           -0.0005376609042286873,
           -0.0008142105652950704,
           -0.0001342474133707583,
           0.030607806518673897,
           -0.007185995578765869,
           0.00014794064918532968,
           0.001333009684458375,
           -0.01142304576933384,
           -0.0005343047087080777,
           0.000511046324390918,
           0.00037327493191696703,
           0.0029553896747529507
          ],
          [
           0.000007249360351124778,
           0.0000055712675930408295,
           0.0015971079701557755,
           0.0003382028080523014,
           -0.0012591065606102347,
           -0.00005530993439606391,
           0.0006321710534393787,
           -0.00027050854987464845,
           0.0000740374525776133,
           -0.006704450119286776,
           0.003176226746290922,
           -0.001729173818603158
          ],
          [
           0.048631396144628525,
           0.015315616503357887,
           -0.0004649659094866365,
           -0.0001167616865132004,
           -0.000049335925723426044,
           -0.0039544254541397095,
           -0.017375709488987923,
           -0.00015435097157023847,
           0.0012202418874949217,
           -0.00018036139954347163,
           -0.0004277793923392892,
           0.00012303775292821229
          ],
          [
           -0.000029265936973388307,
           -0.0013852990232408047,
           -0.00012223227531649172,
           0.13321861624717712,
           -0.00024560565361753106,
           -0.007314940448850393,
           0.0003321616677567363,
           -0.0007950132130645216,
           -0.007939123548567295,
           0.20840662717819214,
           -0.00019200737006030977,
           -0.00020741226035170257
          ],
          [
           -0.0020489846356213093,
           -0.00037663112743757665,
           -0.003315374255180359,
           -0.009665142744779587,
           -0.00031655540806241333,
           -0.005142649170011282,
           0.3171708583831787,
           0.002842554822564125,
           0.0004727522609755397,
           -0.001153789460659027,
           0.2726781368255615,
           -0.0031766295433044434
          ],
          [
           -0.0004396938602440059,
           0.000055779801186872646,
           -0.0020629127975553274,
           0.020066766068339348,
           -0.007871798239648342,
           0.01131410337984562,
           0.0030560751911252737,
           0.06856559216976166,
           -0.0027479103300720453,
           -0.009278946556150913,
           0.0005064147990196943,
           -0.0013154232874512672
          ],
          [
           -0.01295742578804493,
           -0.0030456711538136005,
           -0.01792317070066929,
           -0.004358879290521145,
           -0.0011531517375260592,
           0.0004991319146938622,
           -0.003113298211246729,
           0.01958240196108818,
           0.00004389890455058776,
           0.012967696413397789,
           -0.007696572225540876,
           -0.0009140906622633338
          ],
          [
           0.004099580459296703,
           -0.020457593724131584,
           -0.03587339445948601,
           0.014655924402177334,
           0.0008445169078186154,
           0.0017802213551476598,
           -0.018041107803583145,
           0.0035184232983738184,
           0.008253195323050022,
           -0.0017669980879873037,
           0.04416364058852196,
           0.006474283058196306
          ]
         ]
        },
        {
         "coloraxis": "coloraxis",
         "hovertemplate": "Head: %{x}<br>Layer: %{y}<br>color: %{z}<extra></extra>",
         "name": "4",
         "type": "heatmap",
         "xaxis": "x5",
         "yaxis": "y5",
         "z": [
          [
           0.0006384135922417045,
           0.0053194197826087475,
           0.0011579510755836964,
           -0.00006027708877809346,
           -0.001067233388312161,
           0.005079049617052078,
           -0.0030825219582766294,
           -0.002052642870694399,
           -0.0014423206448554993,
           0.0034923122730106115,
           -0.0025681867264211178,
           -0.0009166413219645619
          ],
          [
           -0.0007611828623339534,
           0.00016895036969799548,
           0.0001223329600179568,
           -0.000349748064763844,
           0.000014901463146088645,
           0.005007999017834663,
           -0.0002982642035931349,
           -0.001444770721718669,
           -0.0011012315517291427,
           0.00047308788634836674,
           0.00005054415305494331,
           -0.0034960710909217596
          ],
          [
           -0.0007250367198139429,
           0.0017469616141170263,
           -0.00015626399544999003,
           0.00005742433131672442,
           -0.00009800061525311321,
           -0.00042442319681867957,
           -0.0007926638354547322,
           0.00027151539688929915,
           0.00010196091170655563,
           0.00042173825204372406,
           0.00015008861373644322,
           -0.0007442341302521527
          ],
          [
           0.11458329111337662,
           0.00021170817490201443,
           -0.0009427524637430906,
           0.00042925612069666386,
           0.020042601972818375,
           0.002104563172906637,
           0.00007537992496509105,
           -0.0015441137365996838,
           -0.0008489135070703924,
           -0.0005825666594319046,
           0.00011820485087810084,
           -0.000020204235624987632
          ],
          [
           -0.001128483796492219,
           0.0012365529546514153,
           -0.001233331044204533,
           -0.0005959242698736489,
           -0.0007551417220383883,
           -0.000584613939281553,
           0.004812299739569426,
           0.00018163675849791616,
           -0.0005373923922888935,
           0.0008567670010961592,
           -0.0002991703513544053,
           -0.000012652818440983538
          ],
          [
           -0.004241513554006815,
           0.0029517649672925472,
           0.0005209470982663333,
           0.0009526867652311921,
           0.00016146607231348753,
           0.3435126543045044,
           -0.00030494300881400704,
           0.00010263214790029451,
           -0.005302974488586187,
           0.024866614490747452,
           0.014384006150066853,
           -0.0023289911914616823
          ],
          [
           -0.002388664288446307,
           -0.0021731972228735685,
           -0.0004775180423166603,
           0.00043294791248627007,
           -0.00467429356649518,
           0.0018587225349619985,
           -0.0026551454793661833,
           0.0014363802038133144,
           0.0003031306550838053,
           0.13043056428432465,
           0.00008870397869031876,
           0.001177081372588873
          ],
          [
           0.00031924035283736885,
           0.020569993183016777,
           0.00031823350582271814,
           -0.0025125746615231037,
           -0.00026312493719160557,
           -0.000246679614065215,
           0.0005511527415364981,
           -0.0004314711841288954,
           0.0002561776200309396,
           0.008089648559689522,
           -0.00307064107619226,
           -0.0004246581229381263
          ],
          [
           0.0009762471891008317,
           0.00039284149534069,
           0.0017536068335175514,
           0.022597530856728554,
           -0.000044972883188165724,
           0.0001409597898600623,
           0.009582983329892159,
           -0.0003152800491079688,
           0.001526795793324709,
           0.0011815786128863692,
           -0.01077402662485838,
           0.009365569800138474
          ],
          [
           0.006315468344837427,
           -0.0010946198599413037,
           0.011661670170724392,
           0.0013477769680321217,
           -0.029189448803663254,
           0.0038328308146446943,
           -0.04409040883183479,
           -0.005032465793192387,
           0.0048219324089586735,
           0.2766501307487488,
           -0.0000317830745188985,
           -0.0006625109817832708
          ],
          [
           0.09538906812667847,
           0.025066308677196503,
           0.01423901878297329,
           0.01475446205586195,
           0.0000992424029391259,
           -0.00009048276115208864,
           0.05082644149661064,
           -0.5051138997077942,
           0.0001470009156037122,
           -0.0016018736641854048,
           0.0688268393278122,
           0.002326708985492587
          ],
          [
           0.00134220567997545,
           0.009629768319427967,
           -0.07776382565498352,
           -0.007730200886726379,
           -0.0005739076877944171,
           -0.0029572355560958385,
           -0.004948292393237352,
           0.0004586227296385914,
           -0.0006327751907519996,
           -0.006520866882055998,
           -0.3204995393753052,
           -0.00247290451079607
          ]
         ]
        }
       ],
       "layout": {
        "annotations": [
         {
          "font": {},
          "showarrow": false,
          "text": "Output",
          "x": 0.09200000000000001,
          "xanchor": "center",
          "xref": "paper",
          "y": 1,
          "yanchor": "bottom",
          "yref": "paper"
         },
         {
          "font": {},
          "showarrow": false,
          "text": "Query",
          "x": 0.29600000000000004,
          "xanchor": "center",
          "xref": "paper",
          "y": 1,
          "yanchor": "bottom",
          "yref": "paper"
         },
         {
          "font": {},
          "showarrow": false,
          "text": "Key",
          "x": 0.5,
          "xanchor": "center",
          "xref": "paper",
          "y": 1,
          "yanchor": "bottom",
          "yref": "paper"
         },
         {
          "font": {},
          "showarrow": false,
          "text": "Value",
          "x": 0.7040000000000002,
          "xanchor": "center",
          "xref": "paper",
          "y": 1,
          "yanchor": "bottom",
          "yref": "paper"
         },
         {
          "font": {},
          "showarrow": false,
          "text": "Pattern",
          "x": 0.908,
          "xanchor": "center",
          "xref": "paper",
          "y": 1,
          "yanchor": "bottom",
          "yref": "paper"
         }
        ],
        "coloraxis": {
         "cmid": 0,
         "colorscale": [
          [
           0,
           "rgb(103,0,31)"
          ],
          [
           0.1,
           "rgb(178,24,43)"
          ],
          [
           0.2,
           "rgb(214,96,77)"
          ],
          [
           0.3,
           "rgb(244,165,130)"
          ],
          [
           0.4,
           "rgb(253,219,199)"
          ],
          [
           0.5,
           "rgb(247,247,247)"
          ],
          [
           0.6,
           "rgb(209,229,240)"
          ],
          [
           0.7,
           "rgb(146,197,222)"
          ],
          [
           0.8,
           "rgb(67,147,195)"
          ],
          [
           0.9,
           "rgb(33,102,172)"
          ],
          [
           1,
           "rgb(5,48,97)"
          ]
         ]
        },
        "template": {
         "data": {
          "bar": [
           {
            "error_x": {
             "color": "#2a3f5f"
            },
            "error_y": {
             "color": "#2a3f5f"
            },
            "marker": {
             "line": {
              "color": "#E5ECF6",
              "width": 0.5
             },
             "pattern": {
              "fillmode": "overlay",
              "size": 10,
              "solidity": 0.2
             }
            },
            "type": "bar"
           }
          ],
          "barpolar": [
           {
            "marker": {
             "line": {
              "color": "#E5ECF6",
              "width": 0.5
             },
             "pattern": {
              "fillmode": "overlay",
              "size": 10,
              "solidity": 0.2
             }
            },
            "type": "barpolar"
           }
          ],
          "carpet": [
           {
            "aaxis": {
             "endlinecolor": "#2a3f5f",
             "gridcolor": "white",
             "linecolor": "white",
             "minorgridcolor": "white",
             "startlinecolor": "#2a3f5f"
            },
            "baxis": {
             "endlinecolor": "#2a3f5f",
             "gridcolor": "white",
             "linecolor": "white",
             "minorgridcolor": "white",
             "startlinecolor": "#2a3f5f"
            },
            "type": "carpet"
           }
          ],
          "choropleth": [
           {
            "colorbar": {
             "outlinewidth": 0,
             "ticks": ""
            },
            "type": "choropleth"
           }
          ],
          "contour": [
           {
            "colorbar": {
             "outlinewidth": 0,
             "ticks": ""
            },
            "colorscale": [
             [
              0,
              "#0d0887"
             ],
             [
              0.1111111111111111,
              "#46039f"
             ],
             [
              0.2222222222222222,
              "#7201a8"
             ],
             [
              0.3333333333333333,
              "#9c179e"
             ],
             [
              0.4444444444444444,
              "#bd3786"
             ],
             [
              0.5555555555555556,
              "#d8576b"
             ],
             [
              0.6666666666666666,
              "#ed7953"
             ],
             [
              0.7777777777777778,
              "#fb9f3a"
             ],
             [
              0.8888888888888888,
              "#fdca26"
             ],
             [
              1,
              "#f0f921"
             ]
            ],
            "type": "contour"
           }
          ],
          "contourcarpet": [
           {
            "colorbar": {
             "outlinewidth": 0,
             "ticks": ""
            },
            "type": "contourcarpet"
           }
          ],
          "heatmap": [
           {
            "colorbar": {
             "outlinewidth": 0,
             "ticks": ""
            },
            "colorscale": [
             [
              0,
              "#0d0887"
             ],
             [
              0.1111111111111111,
              "#46039f"
             ],
             [
              0.2222222222222222,
              "#7201a8"
             ],
             [
              0.3333333333333333,
              "#9c179e"
             ],
             [
              0.4444444444444444,
              "#bd3786"
             ],
             [
              0.5555555555555556,
              "#d8576b"
             ],
             [
              0.6666666666666666,
              "#ed7953"
             ],
             [
              0.7777777777777778,
              "#fb9f3a"
             ],
             [
              0.8888888888888888,
              "#fdca26"
             ],
             [
              1,
              "#f0f921"
             ]
            ],
            "type": "heatmap"
           }
          ],
          "heatmapgl": [
           {
            "colorbar": {
             "outlinewidth": 0,
             "ticks": ""
            },
            "colorscale": [
             [
              0,
              "#0d0887"
             ],
             [
              0.1111111111111111,
              "#46039f"
             ],
             [
              0.2222222222222222,
              "#7201a8"
             ],
             [
              0.3333333333333333,
              "#9c179e"
             ],
             [
              0.4444444444444444,
              "#bd3786"
             ],
             [
              0.5555555555555556,
              "#d8576b"
             ],
             [
              0.6666666666666666,
              "#ed7953"
             ],
             [
              0.7777777777777778,
              "#fb9f3a"
             ],
             [
              0.8888888888888888,
              "#fdca26"
             ],
             [
              1,
              "#f0f921"
             ]
            ],
            "type": "heatmapgl"
           }
          ],
          "histogram": [
           {
            "marker": {
             "pattern": {
              "fillmode": "overlay",
              "size": 10,
              "solidity": 0.2
             }
            },
            "type": "histogram"
           }
          ],
          "histogram2d": [
           {
            "colorbar": {
             "outlinewidth": 0,
             "ticks": ""
            },
            "colorscale": [
             [
              0,
              "#0d0887"
             ],
             [
              0.1111111111111111,
              "#46039f"
             ],
             [
              0.2222222222222222,
              "#7201a8"
             ],
             [
              0.3333333333333333,
              "#9c179e"
             ],
             [
              0.4444444444444444,
              "#bd3786"
             ],
             [
              0.5555555555555556,
              "#d8576b"
             ],
             [
              0.6666666666666666,
              "#ed7953"
             ],
             [
              0.7777777777777778,
              "#fb9f3a"
             ],
             [
              0.8888888888888888,
              "#fdca26"
             ],
             [
              1,
              "#f0f921"
             ]
            ],
            "type": "histogram2d"
           }
          ],
          "histogram2dcontour": [
           {
            "colorbar": {
             "outlinewidth": 0,
             "ticks": ""
            },
            "colorscale": [
             [
              0,
              "#0d0887"
             ],
             [
              0.1111111111111111,
              "#46039f"
             ],
             [
              0.2222222222222222,
              "#7201a8"
             ],
             [
              0.3333333333333333,
              "#9c179e"
             ],
             [
              0.4444444444444444,
              "#bd3786"
             ],
             [
              0.5555555555555556,
              "#d8576b"
             ],
             [
              0.6666666666666666,
              "#ed7953"
             ],
             [
              0.7777777777777778,
              "#fb9f3a"
             ],
             [
              0.8888888888888888,
              "#fdca26"
             ],
             [
              1,
              "#f0f921"
             ]
            ],
            "type": "histogram2dcontour"
           }
          ],
          "mesh3d": [
           {
            "colorbar": {
             "outlinewidth": 0,
             "ticks": ""
            },
            "type": "mesh3d"
           }
          ],
          "parcoords": [
           {
            "line": {
             "colorbar": {
              "outlinewidth": 0,
              "ticks": ""
             }
            },
            "type": "parcoords"
           }
          ],
          "pie": [
           {
            "automargin": true,
            "type": "pie"
           }
          ],
          "scatter": [
           {
            "fillpattern": {
             "fillmode": "overlay",
             "size": 10,
             "solidity": 0.2
            },
            "type": "scatter"
           }
          ],
          "scatter3d": [
           {
            "line": {
             "colorbar": {
              "outlinewidth": 0,
              "ticks": ""
             }
            },
            "marker": {
             "colorbar": {
              "outlinewidth": 0,
              "ticks": ""
             }
            },
            "type": "scatter3d"
           }
          ],
          "scattercarpet": [
           {
            "marker": {
             "colorbar": {
              "outlinewidth": 0,
              "ticks": ""
             }
            },
            "type": "scattercarpet"
           }
          ],
          "scattergeo": [
           {
            "marker": {
             "colorbar": {
              "outlinewidth": 0,
              "ticks": ""
             }
            },
            "type": "scattergeo"
           }
          ],
          "scattergl": [
           {
            "marker": {
             "colorbar": {
              "outlinewidth": 0,
              "ticks": ""
             }
            },
            "type": "scattergl"
           }
          ],
          "scattermapbox": [
           {
            "marker": {
             "colorbar": {
              "outlinewidth": 0,
              "ticks": ""
             }
            },
            "type": "scattermapbox"
           }
          ],
          "scatterpolar": [
           {
            "marker": {
             "colorbar": {
              "outlinewidth": 0,
              "ticks": ""
             }
            },
            "type": "scatterpolar"
           }
          ],
          "scatterpolargl": [
           {
            "marker": {
             "colorbar": {
              "outlinewidth": 0,
              "ticks": ""
             }
            },
            "type": "scatterpolargl"
           }
          ],
          "scatterternary": [
           {
            "marker": {
             "colorbar": {
              "outlinewidth": 0,
              "ticks": ""
             }
            },
            "type": "scatterternary"
           }
          ],
          "surface": [
           {
            "colorbar": {
             "outlinewidth": 0,
             "ticks": ""
            },
            "colorscale": [
             [
              0,
              "#0d0887"
             ],
             [
              0.1111111111111111,
              "#46039f"
             ],
             [
              0.2222222222222222,
              "#7201a8"
             ],
             [
              0.3333333333333333,
              "#9c179e"
             ],
             [
              0.4444444444444444,
              "#bd3786"
             ],
             [
              0.5555555555555556,
              "#d8576b"
             ],
             [
              0.6666666666666666,
              "#ed7953"
             ],
             [
              0.7777777777777778,
              "#fb9f3a"
             ],
             [
              0.8888888888888888,
              "#fdca26"
             ],
             [
              1,
              "#f0f921"
             ]
            ],
            "type": "surface"
           }
          ],
          "table": [
           {
            "cells": {
             "fill": {
              "color": "#EBF0F8"
             },
             "line": {
              "color": "white"
             }
            },
            "header": {
             "fill": {
              "color": "#C8D4E3"
             },
             "line": {
              "color": "white"
             }
            },
            "type": "table"
           }
          ]
         },
         "layout": {
          "annotationdefaults": {
           "arrowcolor": "#2a3f5f",
           "arrowhead": 0,
           "arrowwidth": 1
          },
          "autotypenumbers": "strict",
          "coloraxis": {
           "colorbar": {
            "outlinewidth": 0,
            "ticks": ""
           }
          },
          "colorscale": {
           "diverging": [
            [
             0,
             "#8e0152"
            ],
            [
             0.1,
             "#c51b7d"
            ],
            [
             0.2,
             "#de77ae"
            ],
            [
             0.3,
             "#f1b6da"
            ],
            [
             0.4,
             "#fde0ef"
            ],
            [
             0.5,
             "#f7f7f7"
            ],
            [
             0.6,
             "#e6f5d0"
            ],
            [
             0.7,
             "#b8e186"
            ],
            [
             0.8,
             "#7fbc41"
            ],
            [
             0.9,
             "#4d9221"
            ],
            [
             1,
             "#276419"
            ]
           ],
           "sequential": [
            [
             0,
             "#0d0887"
            ],
            [
             0.1111111111111111,
             "#46039f"
            ],
            [
             0.2222222222222222,
             "#7201a8"
            ],
            [
             0.3333333333333333,
             "#9c179e"
            ],
            [
             0.4444444444444444,
             "#bd3786"
            ],
            [
             0.5555555555555556,
             "#d8576b"
            ],
            [
             0.6666666666666666,
             "#ed7953"
            ],
            [
             0.7777777777777778,
             "#fb9f3a"
            ],
            [
             0.8888888888888888,
             "#fdca26"
            ],
            [
             1,
             "#f0f921"
            ]
           ],
           "sequentialminus": [
            [
             0,
             "#0d0887"
            ],
            [
             0.1111111111111111,
             "#46039f"
            ],
            [
             0.2222222222222222,
             "#7201a8"
            ],
            [
             0.3333333333333333,
             "#9c179e"
            ],
            [
             0.4444444444444444,
             "#bd3786"
            ],
            [
             0.5555555555555556,
             "#d8576b"
            ],
            [
             0.6666666666666666,
             "#ed7953"
            ],
            [
             0.7777777777777778,
             "#fb9f3a"
            ],
            [
             0.8888888888888888,
             "#fdca26"
            ],
            [
             1,
             "#f0f921"
            ]
           ]
          },
          "colorway": [
           "#636efa",
           "#EF553B",
           "#00cc96",
           "#ab63fa",
           "#FFA15A",
           "#19d3f3",
           "#FF6692",
           "#B6E880",
           "#FF97FF",
           "#FECB52"
          ],
          "font": {
           "color": "#2a3f5f"
          },
          "geo": {
           "bgcolor": "white",
           "lakecolor": "white",
           "landcolor": "#E5ECF6",
           "showlakes": true,
           "showland": true,
           "subunitcolor": "white"
          },
          "hoverlabel": {
           "align": "left"
          },
          "hovermode": "closest",
          "mapbox": {
           "style": "light"
          },
          "paper_bgcolor": "white",
          "plot_bgcolor": "#E5ECF6",
          "polar": {
           "angularaxis": {
            "gridcolor": "white",
            "linecolor": "white",
            "ticks": ""
           },
           "bgcolor": "#E5ECF6",
           "radialaxis": {
            "gridcolor": "white",
            "linecolor": "white",
            "ticks": ""
           }
          },
          "scene": {
           "xaxis": {
            "backgroundcolor": "#E5ECF6",
            "gridcolor": "white",
            "gridwidth": 2,
            "linecolor": "white",
            "showbackground": true,
            "ticks": "",
            "zerolinecolor": "white"
           },
           "yaxis": {
            "backgroundcolor": "#E5ECF6",
            "gridcolor": "white",
            "gridwidth": 2,
            "linecolor": "white",
            "showbackground": true,
            "ticks": "",
            "zerolinecolor": "white"
           },
           "zaxis": {
            "backgroundcolor": "#E5ECF6",
            "gridcolor": "white",
            "gridwidth": 2,
            "linecolor": "white",
            "showbackground": true,
            "ticks": "",
            "zerolinecolor": "white"
           }
          },
          "shapedefaults": {
           "line": {
            "color": "#2a3f5f"
           }
          },
          "ternary": {
           "aaxis": {
            "gridcolor": "white",
            "linecolor": "white",
            "ticks": ""
           },
           "baxis": {
            "gridcolor": "white",
            "linecolor": "white",
            "ticks": ""
           },
           "bgcolor": "#E5ECF6",
           "caxis": {
            "gridcolor": "white",
            "linecolor": "white",
            "ticks": ""
           }
          },
          "title": {
           "x": 0.05
          },
          "xaxis": {
           "automargin": true,
           "gridcolor": "white",
           "linecolor": "white",
           "ticks": "",
           "title": {
            "standoff": 15
           },
           "zerolinecolor": "white",
           "zerolinewidth": 2
          },
          "yaxis": {
           "automargin": true,
           "gridcolor": "white",
           "linecolor": "white",
           "ticks": "",
           "title": {
            "standoff": 15
           },
           "zerolinecolor": "white",
           "zerolinewidth": 2
          }
         }
        },
        "title": {
         "text": "Activation Patching Per Head (All Pos)"
        },
        "width": 1200,
        "xaxis": {
         "anchor": "y",
         "constrain": "domain",
         "domain": [
          0,
          0.18400000000000002
         ],
         "scaleanchor": "y",
         "title": {
          "text": "Head"
         }
        },
        "xaxis2": {
         "anchor": "y2",
         "domain": [
          0.20400000000000001,
          0.388
         ],
         "matches": "x",
         "title": {
          "text": "Head"
         }
        },
        "xaxis3": {
         "anchor": "y3",
         "domain": [
          0.40800000000000003,
          0.5920000000000001
         ],
         "matches": "x",
         "title": {
          "text": "Head"
         }
        },
        "xaxis4": {
         "anchor": "y4",
         "domain": [
          0.6120000000000001,
          0.7960000000000002
         ],
         "matches": "x",
         "title": {
          "text": "Head"
         }
        },
        "xaxis5": {
         "anchor": "y5",
         "domain": [
          0.8160000000000001,
          1
         ],
         "matches": "x",
         "title": {
          "text": "Head"
         }
        },
        "yaxis": {
         "anchor": "x",
         "autorange": "reversed",
         "constrain": "domain",
         "domain": [
          0,
          1
         ],
         "title": {
          "text": "Layer"
         }
        },
        "yaxis2": {
         "anchor": "x2",
         "domain": [
          0,
          1
         ],
         "matches": "y",
         "showticklabels": false
        },
        "yaxis3": {
         "anchor": "x3",
         "domain": [
          0,
          1
         ],
         "matches": "y",
         "showticklabels": false
        },
        "yaxis4": {
         "anchor": "x4",
         "domain": [
          0,
          1
         ],
         "matches": "y",
         "showticklabels": false
        },
        "yaxis5": {
         "anchor": "x5",
         "domain": [
          0,
          1
         ],
         "matches": "y",
         "showticklabels": false
        }
       }
      },
      "text/html": [
       "<div>                            <div id=\"8435d008-155e-40c0-9890-1551287a6f96\" class=\"plotly-graph-div\" style=\"height:525px; width:1200px;\"></div>            <script type=\"text/javascript\">                require([\"plotly\"], function(Plotly) {                    window.PLOTLYENV=window.PLOTLYENV || {};                                    if (document.getElementById(\"8435d008-155e-40c0-9890-1551287a6f96\")) {                    Plotly.newPlot(                        \"8435d008-155e-40c0-9890-1551287a6f96\",                        [{\"coloraxis\":\"coloraxis\",\"name\":\"0\",\"z\":[[0.0009485250920988619,0.01612425595521927,0.0018548965454101562,0.0034389488864690065,-0.009824292734265327,0.011060208082199097,-0.004064877517521381,-0.0015790852485224605,-0.0012085624039173126,0.003827461041510105,-0.0042578247375786304,-0.0011434858897700906],[-0.0010772683890536427,-0.0003783427819143981,1.4767215361644048e-06,-0.0002609434013720602,-0.00014142965665087104,0.0038322266191244125,-0.0004283835005480796,-0.001429634285159409,-0.0009229509741999209,0.0006927837966941297,0.0004325787303969264,-0.0035716525744646788],[-0.000497487373650074,0.0008056187652982771,0.0005409499863162637,-0.0005321567296050489,-0.0007166126742959023,-0.0010389072122052312,-0.0009498340077698231,-8.60861546243541e-05,0.0002760798088274896,0.002106375526636839,-0.00019898822938557714,-0.001640771864913404],[0.11626453697681427,0.0002495995140634477,-0.0014683310873806477,-0.0003971038677264005,0.018961139023303986,-0.0001896915928227827,0.011169720441102982,-0.0013309288769960403,-0.0007364142220467329,-0.00030430531478486955,-0.00014659817679785192,-0.00022358907153829932],[-0.0016512431902810931,0.0002920216938946396,-0.0014360781060531735,0.030840255320072174,-0.007433178834617138,-0.000283933273749426,0.006016499362885952,-0.011008153669536114,-0.001265483209863305,0.0014891393948346376,-0.00018049565551336855,0.002943911589682102],[-0.004211811348795891,0.0029592157807201147,0.0020446551498025656,0.0013398563023656607,-0.001219704863615334,0.34350278973579407,0.0005627315840683877,-0.00012646106188185513,-0.005154261831194162,0.016240177676081657,0.01709160953760147,-0.004174893256276846],[0.03977462276816368,0.015226946212351322,-0.0010228981263935566,0.0008073639473877847,-0.0049352035857737064,-0.0021236599422991276,-0.01427395734935999,0.0013735860120505095,0.0014836352784186602,0.13027140498161316,-0.0003365582670085132,0.0012909567449241877],[0.0003726708237081766,0.019513733685016632,0.00022251509653870016,0.12425179034471512,-0.00040472240652889013,-0.007651699706912041,0.0012999848695471883,-0.0011253961129114032,-0.0074499258771538734,0.19223417341709137,-0.00327657675370574,-0.0005022867117077112],[-0.0010080637875944376,3.1044713978189975e-05,-0.0008589485078118742,0.012362978421151638,-0.0004049908893648535,-0.004331190604716539,0.31855347752571106,0.0023293939884752035,0.002117685740813613,0.00014062416448723525,0.27794432640075684,0.005738741252571344],[0.005890038330107927,-0.0009690985316410661,0.009125232696533203,0.020677123218774796,-0.03700758144259453,0.014263183809816837,-0.04828060790896416,0.05834204703569412,0.0006516369758173823,0.2636125981807709,0.0004923188243992627,-0.0026109779719263315],[0.0837443396449089,0.02067440375685692,-0.003743354929611087,0.010850883089005947,-0.0010966671397909522,0.0004740276199299842,0.048176832497119904,-0.4799308180809021,0.00018415389058645815,0.011860490776598454,0.060881607234478,0.0008460272219963372],[0.005327407270669937,-0.011493257246911526,-0.11350572109222412,0.006329329218715429,0.0003162197826895863,-0.0011601997539401054,-0.022669924423098564,0.0040705157443881035,0.0073164841160178185,-0.008346463553607464,-0.2781884968280792,0.0036352856550365686]],\"type\":\"heatmap\",\"xaxis\":\"x\",\"yaxis\":\"y\",\"hovertemplate\":\"Head: %{x}<br>Layer: %{y}<br>color: %{z}<extra></extra>\"},{\"coloraxis\":\"coloraxis\",\"name\":\"1\",\"z\":[[0.0004929564893245697,0.010944520123302937,0.0015586460940539837,0.00942195300012827,-0.004853815771639347,0.010262812487781048,-0.0031715279910713434,-0.00038827708340249956,-0.0011045876890420914,0.0005110127967782319,-0.0008294812287203968,-0.0008000474772416055],[0.000989906839095056,-0.00029977448866702616,0.00011995006207143888,-0.0003547488013282418,-0.00011068699677707627,0.0070042917504906654,-0.00034575420431792736,-0.0014777283649891615,-0.0012065151240676641,0.00024963307077996433,6.739220407325774e-05,-0.0019849822856485844],[-0.0020127715542912483,0.002569562755525112,-0.0005187991191633046,0.0012823313008993864,0.00022429386444855481,0.0032737574074417353,0.00019579986110329628,0.00021217804169282317,3.9871483750175685e-05,0.012865802273154259,0.0002846045244950801,-0.0019253764767199755],[0.1204252690076828,-0.0003093731647823006,0.000874386983923614,-0.00023929601593408734,0.02820826880633831,0.0020727128721773624,0.0011319071054458618,0.006185718346387148,0.0006770432810299098,4.56441193819046e-05,-0.0015935167903080583,-0.00026017148047685623],[-0.0012829353800043464,0.0013871113769710064,-0.0017397121991962194,-0.0003965668729506433,-0.0016232526395469904,-0.000921407132409513,-0.002206826116889715,-0.0004814112326130271,-0.0007487985421903431,0.0009407051838934422,-0.00026393041480332613,0.001497127115726471],[-0.004147238098084927,0.0029540136456489563,0.0004315383266657591,0.0005999517161399126,-0.0005229607922956347,0.34353330731391907,-0.00044291577069088817,-8.605259063187987e-05,-0.005598318763077259,0.02857278287410736,0.014875821769237518,-0.002265156712383032],[-0.001191915711387992,0.0006325066788122058,-0.0011625154875218868,0.0004230807244312018,-0.00504407798871398,0.002765093930065632,-0.00018106620700564235,0.0012198390904814005,0.0010535736801102757,0.13032342493534088,-1.5841194908716716e-05,0.0010129638249054551],[0.0003658242058008909,0.020353451371192932,0.0003352829080540687,-0.0014660153537988663,-0.00016995723126456141,-0.0005949173937551677,0.0008214599220082164,-0.0005455815116874874,9.024782775668427e-05,-0.0004118039505556226,-0.003054598579183221,0.00014703448687214404],[0.000470335828140378,0.0005040318937972188,0.001586804399266839,0.02463419921696186,-5.22222435392905e-05,-0.0010193405905738473,0.01094787660986185,-0.0005380300572142005,0.00184408959466964,0.0007357429713010788,-0.02760177105665207,0.009299452416598797],[0.006475692614912987,-0.0015577399171888828,0.012202485464513302,0.0014241636963561177,-0.026730673387646675,0.002552211284637451,-0.0437309630215168,-0.013098889030516148,0.0046377782709896564,0.27937743067741394,0.00020304921781644225,-0.00025513721629977226],[0.09814170747995377,0.026008322834968567,0.013916690833866596,0.015725204721093178,0.0005589391221292317,-0.000283631234196946,0.05219529569149017,-0.5128771662712097,0.00017462232790421695,-0.004035745747387409,0.06916225701570511,0.0025166019331663847],[0.0015770714962854981,0.008838044479489326,-0.08574926108121872,-0.007099204696714878,-0.0009577882010489702,-0.0030251313000917435,-0.0066292379051446915,0.00031252799089998007,-9.786636655917391e-05,-0.006149874068796635,-0.3373630940914154,-0.0022050472907721996]],\"type\":\"heatmap\",\"xaxis\":\"x2\",\"yaxis\":\"y2\",\"hovertemplate\":\"Head: %{x}<br>Layer: %{y}<br>color: %{z}<extra></extra>\"},{\"coloraxis\":\"coloraxis\",\"name\":\"2\",\"z\":[[0.00019784712640102953,-0.0004907413967885077,0.0007507451227866113,0.00718374690040946,0.00113130290992558,-0.00014136252866592258,0.0005660542519763112,-0.0022296481765806675,-1.2015143511234783e-05,-0.0011854382464662194,-0.0036474016960710287,-0.00014099334657657892],[9.736293577589095e-05,-0.000673619972076267,6.229079735931009e-05,0.0003991175617557019,0.00013666387530975044,0.0013143493561074138,0.00016284211596939713,-5.3229101467877626e-05,1.6780926671344787e-05,0.0003298123483546078,4.2623552872100845e-05,0.0033117495477199554],[-0.0011043864069506526,-0.0004920838982798159,-0.0008965377928689122,0.0009718505898490548,0.0005665912176482379,0.0026964263524860144,0.00016962160589173436,9.3234826636035e-05,5.490719195222482e-05,0.011643546633422375,-9.739649976836517e-05,-0.00022835485287941992],[-0.0014170821523293853,-0.00039159972220659256,0.0007126859854906797,-0.0006927166832610965,0.007759567815810442,-0.00019855193386320025,0.0014253719709813595,0.006241766270250082,0.0005359156639315188,-3.9804359403206035e-05,1.0068556548503693e-06,-0.0007064099190756679],[-0.00015431740030180663,0.00033998157596215606,0.00040844775503501296,-0.0009756095241755247,0.0007701774011366069,4.611398617271334e-05,-0.005579825956374407,0.00028530933195725083,0.0016958804335445166,0.00016552706074435264,-8.709300891496241e-05,0.0007811856921762228],[1.0202803423453588e-05,-1.7116545905082603e-06,0.000255372142419219,-0.0004818139714188874,-0.00018848337640520185,6.10490096732974e-05,-0.00022600551892537624,0.00016948736447375268,0.0004124416154809296,0.03951438516378403,0.0017568959156051278,-0.00021137254952918738],[-0.0003554200229700655,-0.0026972319465130568,5.3631843911716715e-05,-0.0007703787996433675,0.0006241162191145122,-0.001157246297225356,-0.007285271771252155,-5.564555249293335e-05,-0.00042798076174221933,0.00014297349844127893,-2.161383417842444e-05,7.819911843398586e-06],[2.6782359782373533e-05,9.484579641139135e-05,-1.8593267668620683e-05,0.0002402357495157048,-0.00011015000200131908,0.0003024929901584983,0.00011907745647476986,-6.839905836386606e-05,0.00010531709995120764,0.005507198162376881,-2.28220596909523e-06,-0.0005077237146906555],[0.0005792775773443282,-6.866755575174466e-05,-0.0002056334778899327,0.0035940383095294237,-0.00010699519043555483,5.920311014051549e-05,8.974439697340131e-05,0.0002437261864542961,0.0002878264640457928,0.0003169581468682736,-0.025733718648552895,-3.5307071811985224e-05],[-6.222367665031925e-05,0.00045180966844782233,0.0006656657787971199,0.0006596246967092156,0.0005124224117025733,0.0013575770426541567,-0.002212733030319214,-0.00911768153309822,0.00023291926481761038,0.008353645913302898,-0.00020754650176968426,-0.00036669682594947517],[0.005818350240588188,0.0013149199075996876,-0.0010812957771122456,0.001289480016566813,0.000322764361044392,3.3192674891324714e-05,0.00028114765882492065,-0.13102547824382782,0.00010827054211404175,-0.0023644997272640467,0.0013512002769857645,-9.776568185770884e-05],[-0.0005414198385551572,0.0015885496977716684,-0.004787262994796038,-0.003784770146012306,9.289920853916556e-05,-0.00017374972230754793,-0.001552403555251658,-9.971226972993463e-05,0.0009411415085196495,-0.0004516082990448922,-0.11361701041460037,-0.0006109600071795285]],\"type\":\"heatmap\",\"xaxis\":\"x3\",\"yaxis\":\"y3\",\"hovertemplate\":\"Head: %{x}<br>Layer: %{y}<br>color: %{z}<extra></extra>\"},{\"coloraxis\":\"coloraxis\",\"name\":\"3\",\"z\":[[-0.00019855193386320025,0.005340294912457466,0.0006514355773106217,0.0035052336752414703,-0.008984777145087719,0.0034810355864465237,-0.0008629423682577908,-3.416596882743761e-05,0.0005164497997611761,0.0004410027468111366,-0.003907539416104555,-0.0001881477510323748],[-0.0004410027468111366,-0.00044717814307659864,-6.849974306533113e-05,7.252716750372201e-05,-3.671666854643263e-05,-0.0019331627991050482,-0.00015794207865837961,1.4565844139724504e-05,0.00020476087229326367,0.0003376322565600276,0.00035112412297166884,-0.000567262468393892],[0.00020935884094797075,-0.0007203716086223722,0.0004860763147007674,-0.0005973338847979903,-0.0005929708131588995,-0.0005449102609418333,-0.00022822061146143824,-0.0004800352035090327,0.00020476087229326367,0.0011832567397505045,-0.00035706456401385367,-0.0009113386040553451],[0.0010381352622061968,-0.00012115829304093495,-7.756144623272121e-05,-0.0007272518123500049,-0.0013106911210343242,-0.002311606192961335,0.010987547226250172,-5.225580753176473e-05,0.0001437789760529995,0.00015002148575149477,-8.027995500015095e-05,-2.1177529561100528e-05],[-0.0005376609042286873,-0.0008142105652950704,-0.0001342474133707583,0.030607806518673897,-0.007185995578765869,0.00014794064918532968,0.001333009684458375,-0.01142304576933384,-0.0005343047087080777,0.000511046324390918,0.00037327493191696703,0.0029553896747529507],[7.249360351124778e-06,5.5712675930408295e-06,0.0015971079701557755,0.0003382028080523014,-0.0012591065606102347,-5.530993439606391e-05,0.0006321710534393787,-0.00027050854987464845,7.40374525776133e-05,-0.006704450119286776,0.003176226746290922,-0.001729173818603158],[0.048631396144628525,0.015315616503357887,-0.0004649659094866365,-0.0001167616865132004,-4.9335925723426044e-05,-0.0039544254541397095,-0.017375709488987923,-0.00015435097157023847,0.0012202418874949217,-0.00018036139954347163,-0.0004277793923392892,0.00012303775292821229],[-2.9265936973388307e-05,-0.0013852990232408047,-0.00012223227531649172,0.13321861624717712,-0.00024560565361753106,-0.007314940448850393,0.0003321616677567363,-0.0007950132130645216,-0.007939123548567295,0.20840662717819214,-0.00019200737006030977,-0.00020741226035170257],[-0.0020489846356213093,-0.00037663112743757665,-0.003315374255180359,-0.009665142744779587,-0.00031655540806241333,-0.005142649170011282,0.3171708583831787,0.002842554822564125,0.0004727522609755397,-0.001153789460659027,0.2726781368255615,-0.0031766295433044434],[-0.0004396938602440059,5.5779801186872646e-05,-0.0020629127975553274,0.020066766068339348,-0.007871798239648342,0.01131410337984562,0.0030560751911252737,0.06856559216976166,-0.0027479103300720453,-0.009278946556150913,0.0005064147990196943,-0.0013154232874512672],[-0.01295742578804493,-0.0030456711538136005,-0.01792317070066929,-0.004358879290521145,-0.0011531517375260592,0.0004991319146938622,-0.003113298211246729,0.01958240196108818,4.389890455058776e-05,0.012967696413397789,-0.007696572225540876,-0.0009140906622633338],[0.004099580459296703,-0.020457593724131584,-0.03587339445948601,0.014655924402177334,0.0008445169078186154,0.0017802213551476598,-0.018041107803583145,0.0035184232983738184,0.008253195323050022,-0.0017669980879873037,0.04416364058852196,0.006474283058196306]],\"type\":\"heatmap\",\"xaxis\":\"x4\",\"yaxis\":\"y4\",\"hovertemplate\":\"Head: %{x}<br>Layer: %{y}<br>color: %{z}<extra></extra>\"},{\"coloraxis\":\"coloraxis\",\"name\":\"4\",\"z\":[[0.0006384135922417045,0.0053194197826087475,0.0011579510755836964,-6.027708877809346e-05,-0.001067233388312161,0.005079049617052078,-0.0030825219582766294,-0.002052642870694399,-0.0014423206448554993,0.0034923122730106115,-0.0025681867264211178,-0.0009166413219645619],[-0.0007611828623339534,0.00016895036969799548,0.0001223329600179568,-0.000349748064763844,1.4901463146088645e-05,0.005007999017834663,-0.0002982642035931349,-0.001444770721718669,-0.0011012315517291427,0.00047308788634836674,5.054415305494331e-05,-0.0034960710909217596],[-0.0007250367198139429,0.0017469616141170263,-0.00015626399544999003,5.742433131672442e-05,-9.800061525311321e-05,-0.00042442319681867957,-0.0007926638354547322,0.00027151539688929915,0.00010196091170655563,0.00042173825204372406,0.00015008861373644322,-0.0007442341302521527],[0.11458329111337662,0.00021170817490201443,-0.0009427524637430906,0.00042925612069666386,0.020042601972818375,0.002104563172906637,7.537992496509105e-05,-0.0015441137365996838,-0.0008489135070703924,-0.0005825666594319046,0.00011820485087810084,-2.0204235624987632e-05],[-0.001128483796492219,0.0012365529546514153,-0.001233331044204533,-0.0005959242698736489,-0.0007551417220383883,-0.000584613939281553,0.004812299739569426,0.00018163675849791616,-0.0005373923922888935,0.0008567670010961592,-0.0002991703513544053,-1.2652818440983538e-05],[-0.004241513554006815,0.0029517649672925472,0.0005209470982663333,0.0009526867652311921,0.00016146607231348753,0.3435126543045044,-0.00030494300881400704,0.00010263214790029451,-0.005302974488586187,0.024866614490747452,0.014384006150066853,-0.0023289911914616823],[-0.002388664288446307,-0.0021731972228735685,-0.0004775180423166603,0.00043294791248627007,-0.00467429356649518,0.0018587225349619985,-0.0026551454793661833,0.0014363802038133144,0.0003031306550838053,0.13043056428432465,8.870397869031876e-05,0.001177081372588873],[0.00031924035283736885,0.020569993183016777,0.00031823350582271814,-0.0025125746615231037,-0.00026312493719160557,-0.000246679614065215,0.0005511527415364981,-0.0004314711841288954,0.0002561776200309396,0.008089648559689522,-0.00307064107619226,-0.0004246581229381263],[0.0009762471891008317,0.00039284149534069,0.0017536068335175514,0.022597530856728554,-4.4972883188165724e-05,0.0001409597898600623,0.009582983329892159,-0.0003152800491079688,0.001526795793324709,0.0011815786128863692,-0.01077402662485838,0.009365569800138474],[0.006315468344837427,-0.0010946198599413037,0.011661670170724392,0.0013477769680321217,-0.029189448803663254,0.0038328308146446943,-0.04409040883183479,-0.005032465793192387,0.0048219324089586735,0.2766501307487488,-3.17830745188985e-05,-0.0006625109817832708],[0.09538906812667847,0.025066308677196503,0.01423901878297329,0.01475446205586195,9.92424029391259e-05,-9.048276115208864e-05,0.05082644149661064,-0.5051138997077942,0.0001470009156037122,-0.0016018736641854048,0.0688268393278122,0.002326708985492587],[0.00134220567997545,0.009629768319427967,-0.07776382565498352,-0.007730200886726379,-0.0005739076877944171,-0.0029572355560958385,-0.004948292393237352,0.0004586227296385914,-0.0006327751907519996,-0.006520866882055998,-0.3204995393753052,-0.00247290451079607]],\"type\":\"heatmap\",\"xaxis\":\"x5\",\"yaxis\":\"y5\",\"hovertemplate\":\"Head: %{x}<br>Layer: %{y}<br>color: %{z}<extra></extra>\"}],                        {\"template\":{\"data\":{\"histogram2dcontour\":[{\"type\":\"histogram2dcontour\",\"colorbar\":{\"outlinewidth\":0,\"ticks\":\"\"},\"colorscale\":[[0.0,\"#0d0887\"],[0.1111111111111111,\"#46039f\"],[0.2222222222222222,\"#7201a8\"],[0.3333333333333333,\"#9c179e\"],[0.4444444444444444,\"#bd3786\"],[0.5555555555555556,\"#d8576b\"],[0.6666666666666666,\"#ed7953\"],[0.7777777777777778,\"#fb9f3a\"],[0.8888888888888888,\"#fdca26\"],[1.0,\"#f0f921\"]]}],\"choropleth\":[{\"type\":\"choropleth\",\"colorbar\":{\"outlinewidth\":0,\"ticks\":\"\"}}],\"histogram2d\":[{\"type\":\"histogram2d\",\"colorbar\":{\"outlinewidth\":0,\"ticks\":\"\"},\"colorscale\":[[0.0,\"#0d0887\"],[0.1111111111111111,\"#46039f\"],[0.2222222222222222,\"#7201a8\"],[0.3333333333333333,\"#9c179e\"],[0.4444444444444444,\"#bd3786\"],[0.5555555555555556,\"#d8576b\"],[0.6666666666666666,\"#ed7953\"],[0.7777777777777778,\"#fb9f3a\"],[0.8888888888888888,\"#fdca26\"],[1.0,\"#f0f921\"]]}],\"heatmap\":[{\"type\":\"heatmap\",\"colorbar\":{\"outlinewidth\":0,\"ticks\":\"\"},\"colorscale\":[[0.0,\"#0d0887\"],[0.1111111111111111,\"#46039f\"],[0.2222222222222222,\"#7201a8\"],[0.3333333333333333,\"#9c179e\"],[0.4444444444444444,\"#bd3786\"],[0.5555555555555556,\"#d8576b\"],[0.6666666666666666,\"#ed7953\"],[0.7777777777777778,\"#fb9f3a\"],[0.8888888888888888,\"#fdca26\"],[1.0,\"#f0f921\"]]}],\"heatmapgl\":[{\"type\":\"heatmapgl\",\"colorbar\":{\"outlinewidth\":0,\"ticks\":\"\"},\"colorscale\":[[0.0,\"#0d0887\"],[0.1111111111111111,\"#46039f\"],[0.2222222222222222,\"#7201a8\"],[0.3333333333333333,\"#9c179e\"],[0.4444444444444444,\"#bd3786\"],[0.5555555555555556,\"#d8576b\"],[0.6666666666666666,\"#ed7953\"],[0.7777777777777778,\"#fb9f3a\"],[0.8888888888888888,\"#fdca26\"],[1.0,\"#f0f921\"]]}],\"contourcarpet\":[{\"type\":\"contourcarpet\",\"colorbar\":{\"outlinewidth\":0,\"ticks\":\"\"}}],\"contour\":[{\"type\":\"contour\",\"colorbar\":{\"outlinewidth\":0,\"ticks\":\"\"},\"colorscale\":[[0.0,\"#0d0887\"],[0.1111111111111111,\"#46039f\"],[0.2222222222222222,\"#7201a8\"],[0.3333333333333333,\"#9c179e\"],[0.4444444444444444,\"#bd3786\"],[0.5555555555555556,\"#d8576b\"],[0.6666666666666666,\"#ed7953\"],[0.7777777777777778,\"#fb9f3a\"],[0.8888888888888888,\"#fdca26\"],[1.0,\"#f0f921\"]]}],\"surface\":[{\"type\":\"surface\",\"colorbar\":{\"outlinewidth\":0,\"ticks\":\"\"},\"colorscale\":[[0.0,\"#0d0887\"],[0.1111111111111111,\"#46039f\"],[0.2222222222222222,\"#7201a8\"],[0.3333333333333333,\"#9c179e\"],[0.4444444444444444,\"#bd3786\"],[0.5555555555555556,\"#d8576b\"],[0.6666666666666666,\"#ed7953\"],[0.7777777777777778,\"#fb9f3a\"],[0.8888888888888888,\"#fdca26\"],[1.0,\"#f0f921\"]]}],\"mesh3d\":[{\"type\":\"mesh3d\",\"colorbar\":{\"outlinewidth\":0,\"ticks\":\"\"}}],\"scatter\":[{\"fillpattern\":{\"fillmode\":\"overlay\",\"size\":10,\"solidity\":0.2},\"type\":\"scatter\"}],\"parcoords\":[{\"type\":\"parcoords\",\"line\":{\"colorbar\":{\"outlinewidth\":0,\"ticks\":\"\"}}}],\"scatterpolargl\":[{\"type\":\"scatterpolargl\",\"marker\":{\"colorbar\":{\"outlinewidth\":0,\"ticks\":\"\"}}}],\"bar\":[{\"error_x\":{\"color\":\"#2a3f5f\"},\"error_y\":{\"color\":\"#2a3f5f\"},\"marker\":{\"line\":{\"color\":\"#E5ECF6\",\"width\":0.5},\"pattern\":{\"fillmode\":\"overlay\",\"size\":10,\"solidity\":0.2}},\"type\":\"bar\"}],\"scattergeo\":[{\"type\":\"scattergeo\",\"marker\":{\"colorbar\":{\"outlinewidth\":0,\"ticks\":\"\"}}}],\"scatterpolar\":[{\"type\":\"scatterpolar\",\"marker\":{\"colorbar\":{\"outlinewidth\":0,\"ticks\":\"\"}}}],\"histogram\":[{\"marker\":{\"pattern\":{\"fillmode\":\"overlay\",\"size\":10,\"solidity\":0.2}},\"type\":\"histogram\"}],\"scattergl\":[{\"type\":\"scattergl\",\"marker\":{\"colorbar\":{\"outlinewidth\":0,\"ticks\":\"\"}}}],\"scatter3d\":[{\"type\":\"scatter3d\",\"line\":{\"colorbar\":{\"outlinewidth\":0,\"ticks\":\"\"}},\"marker\":{\"colorbar\":{\"outlinewidth\":0,\"ticks\":\"\"}}}],\"scattermapbox\":[{\"type\":\"scattermapbox\",\"marker\":{\"colorbar\":{\"outlinewidth\":0,\"ticks\":\"\"}}}],\"scatterternary\":[{\"type\":\"scatterternary\",\"marker\":{\"colorbar\":{\"outlinewidth\":0,\"ticks\":\"\"}}}],\"scattercarpet\":[{\"type\":\"scattercarpet\",\"marker\":{\"colorbar\":{\"outlinewidth\":0,\"ticks\":\"\"}}}],\"carpet\":[{\"aaxis\":{\"endlinecolor\":\"#2a3f5f\",\"gridcolor\":\"white\",\"linecolor\":\"white\",\"minorgridcolor\":\"white\",\"startlinecolor\":\"#2a3f5f\"},\"baxis\":{\"endlinecolor\":\"#2a3f5f\",\"gridcolor\":\"white\",\"linecolor\":\"white\",\"minorgridcolor\":\"white\",\"startlinecolor\":\"#2a3f5f\"},\"type\":\"carpet\"}],\"table\":[{\"cells\":{\"fill\":{\"color\":\"#EBF0F8\"},\"line\":{\"color\":\"white\"}},\"header\":{\"fill\":{\"color\":\"#C8D4E3\"},\"line\":{\"color\":\"white\"}},\"type\":\"table\"}],\"barpolar\":[{\"marker\":{\"line\":{\"color\":\"#E5ECF6\",\"width\":0.5},\"pattern\":{\"fillmode\":\"overlay\",\"size\":10,\"solidity\":0.2}},\"type\":\"barpolar\"}],\"pie\":[{\"automargin\":true,\"type\":\"pie\"}]},\"layout\":{\"autotypenumbers\":\"strict\",\"colorway\":[\"#636efa\",\"#EF553B\",\"#00cc96\",\"#ab63fa\",\"#FFA15A\",\"#19d3f3\",\"#FF6692\",\"#B6E880\",\"#FF97FF\",\"#FECB52\"],\"font\":{\"color\":\"#2a3f5f\"},\"hovermode\":\"closest\",\"hoverlabel\":{\"align\":\"left\"},\"paper_bgcolor\":\"white\",\"plot_bgcolor\":\"#E5ECF6\",\"polar\":{\"bgcolor\":\"#E5ECF6\",\"angularaxis\":{\"gridcolor\":\"white\",\"linecolor\":\"white\",\"ticks\":\"\"},\"radialaxis\":{\"gridcolor\":\"white\",\"linecolor\":\"white\",\"ticks\":\"\"}},\"ternary\":{\"bgcolor\":\"#E5ECF6\",\"aaxis\":{\"gridcolor\":\"white\",\"linecolor\":\"white\",\"ticks\":\"\"},\"baxis\":{\"gridcolor\":\"white\",\"linecolor\":\"white\",\"ticks\":\"\"},\"caxis\":{\"gridcolor\":\"white\",\"linecolor\":\"white\",\"ticks\":\"\"}},\"coloraxis\":{\"colorbar\":{\"outlinewidth\":0,\"ticks\":\"\"}},\"colorscale\":{\"sequential\":[[0.0,\"#0d0887\"],[0.1111111111111111,\"#46039f\"],[0.2222222222222222,\"#7201a8\"],[0.3333333333333333,\"#9c179e\"],[0.4444444444444444,\"#bd3786\"],[0.5555555555555556,\"#d8576b\"],[0.6666666666666666,\"#ed7953\"],[0.7777777777777778,\"#fb9f3a\"],[0.8888888888888888,\"#fdca26\"],[1.0,\"#f0f921\"]],\"sequentialminus\":[[0.0,\"#0d0887\"],[0.1111111111111111,\"#46039f\"],[0.2222222222222222,\"#7201a8\"],[0.3333333333333333,\"#9c179e\"],[0.4444444444444444,\"#bd3786\"],[0.5555555555555556,\"#d8576b\"],[0.6666666666666666,\"#ed7953\"],[0.7777777777777778,\"#fb9f3a\"],[0.8888888888888888,\"#fdca26\"],[1.0,\"#f0f921\"]],\"diverging\":[[0,\"#8e0152\"],[0.1,\"#c51b7d\"],[0.2,\"#de77ae\"],[0.3,\"#f1b6da\"],[0.4,\"#fde0ef\"],[0.5,\"#f7f7f7\"],[0.6,\"#e6f5d0\"],[0.7,\"#b8e186\"],[0.8,\"#7fbc41\"],[0.9,\"#4d9221\"],[1,\"#276419\"]]},\"xaxis\":{\"gridcolor\":\"white\",\"linecolor\":\"white\",\"ticks\":\"\",\"title\":{\"standoff\":15},\"zerolinecolor\":\"white\",\"automargin\":true,\"zerolinewidth\":2},\"yaxis\":{\"gridcolor\":\"white\",\"linecolor\":\"white\",\"ticks\":\"\",\"title\":{\"standoff\":15},\"zerolinecolor\":\"white\",\"automargin\":true,\"zerolinewidth\":2},\"scene\":{\"xaxis\":{\"backgroundcolor\":\"#E5ECF6\",\"gridcolor\":\"white\",\"linecolor\":\"white\",\"showbackground\":true,\"ticks\":\"\",\"zerolinecolor\":\"white\",\"gridwidth\":2},\"yaxis\":{\"backgroundcolor\":\"#E5ECF6\",\"gridcolor\":\"white\",\"linecolor\":\"white\",\"showbackground\":true,\"ticks\":\"\",\"zerolinecolor\":\"white\",\"gridwidth\":2},\"zaxis\":{\"backgroundcolor\":\"#E5ECF6\",\"gridcolor\":\"white\",\"linecolor\":\"white\",\"showbackground\":true,\"ticks\":\"\",\"zerolinecolor\":\"white\",\"gridwidth\":2}},\"shapedefaults\":{\"line\":{\"color\":\"#2a3f5f\"}},\"annotationdefaults\":{\"arrowcolor\":\"#2a3f5f\",\"arrowhead\":0,\"arrowwidth\":1},\"geo\":{\"bgcolor\":\"white\",\"landcolor\":\"#E5ECF6\",\"subunitcolor\":\"white\",\"showland\":true,\"showlakes\":true,\"lakecolor\":\"white\"},\"title\":{\"x\":0.05},\"mapbox\":{\"style\":\"light\"}}},\"xaxis\":{\"anchor\":\"y\",\"domain\":[0.0,0.18400000000000002],\"scaleanchor\":\"y\",\"constrain\":\"domain\",\"title\":{\"text\":\"Head\"}},\"yaxis\":{\"anchor\":\"x\",\"domain\":[0.0,1.0],\"autorange\":\"reversed\",\"constrain\":\"domain\",\"title\":{\"text\":\"Layer\"}},\"xaxis2\":{\"anchor\":\"y2\",\"domain\":[0.20400000000000001,0.388],\"matches\":\"x\",\"title\":{\"text\":\"Head\"}},\"yaxis2\":{\"anchor\":\"x2\",\"domain\":[0.0,1.0],\"matches\":\"y\",\"showticklabels\":false},\"xaxis3\":{\"anchor\":\"y3\",\"domain\":[0.40800000000000003,0.5920000000000001],\"matches\":\"x\",\"title\":{\"text\":\"Head\"}},\"yaxis3\":{\"anchor\":\"x3\",\"domain\":[0.0,1.0],\"matches\":\"y\",\"showticklabels\":false},\"xaxis4\":{\"anchor\":\"y4\",\"domain\":[0.6120000000000001,0.7960000000000002],\"matches\":\"x\",\"title\":{\"text\":\"Head\"}},\"yaxis4\":{\"anchor\":\"x4\",\"domain\":[0.0,1.0],\"matches\":\"y\",\"showticklabels\":false},\"xaxis5\":{\"anchor\":\"y5\",\"domain\":[0.8160000000000001,1.0],\"matches\":\"x\",\"title\":{\"text\":\"Head\"}},\"yaxis5\":{\"anchor\":\"x5\",\"domain\":[0.0,1.0],\"matches\":\"y\",\"showticklabels\":false},\"annotations\":[{\"font\":{},\"showarrow\":false,\"text\":\"Output\",\"x\":0.09200000000000001,\"xanchor\":\"center\",\"xref\":\"paper\",\"y\":1.0,\"yanchor\":\"bottom\",\"yref\":\"paper\"},{\"font\":{},\"showarrow\":false,\"text\":\"Query\",\"x\":0.29600000000000004,\"xanchor\":\"center\",\"xref\":\"paper\",\"y\":1.0,\"yanchor\":\"bottom\",\"yref\":\"paper\"},{\"font\":{},\"showarrow\":false,\"text\":\"Key\",\"x\":0.5,\"xanchor\":\"center\",\"xref\":\"paper\",\"y\":1.0,\"yanchor\":\"bottom\",\"yref\":\"paper\"},{\"font\":{},\"showarrow\":false,\"text\":\"Value\",\"x\":0.7040000000000002,\"xanchor\":\"center\",\"xref\":\"paper\",\"y\":1.0,\"yanchor\":\"bottom\",\"yref\":\"paper\"},{\"font\":{},\"showarrow\":false,\"text\":\"Pattern\",\"x\":0.908,\"xanchor\":\"center\",\"xref\":\"paper\",\"y\":1.0,\"yanchor\":\"bottom\",\"yref\":\"paper\"}],\"coloraxis\":{\"colorscale\":[[0.0,\"rgb(103,0,31)\"],[0.1,\"rgb(178,24,43)\"],[0.2,\"rgb(214,96,77)\"],[0.3,\"rgb(244,165,130)\"],[0.4,\"rgb(253,219,199)\"],[0.5,\"rgb(247,247,247)\"],[0.6,\"rgb(209,229,240)\"],[0.7,\"rgb(146,197,222)\"],[0.8,\"rgb(67,147,195)\"],[0.9,\"rgb(33,102,172)\"],[1.0,\"rgb(5,48,97)\"]],\"cmid\":0.0},\"title\":{\"text\":\"Activation Patching Per Head (All Pos)\"},\"width\":1200},                        {\"responsive\": true}                    ).then(function(){\n",
       "                            \n",
       "var gd = document.getElementById('8435d008-155e-40c0-9890-1551287a6f96');\n",
       "var x = new MutationObserver(function (mutations, observer) {{\n",
       "        var display = window.getComputedStyle(gd).display;\n",
       "        if (!display || display === 'none') {{\n",
       "            console.log([gd, 'removed!']);\n",
       "            Plotly.purge(gd);\n",
       "            observer.disconnect();\n",
       "        }}\n",
       "}});\n",
       "\n",
       "// Listen for the removal of the full notebook cells\n",
       "var notebookContainer = gd.closest('#notebook-container');\n",
       "if (notebookContainer) {{\n",
       "    x.observe(notebookContainer, {childList: true});\n",
       "}}\n",
       "\n",
       "// Listen for the clearing of the current output cell\n",
       "var outputEl = gd.closest('.output');\n",
       "if (outputEl) {{\n",
       "    x.observe(outputEl, {childList: true});\n",
       "}}\n",
       "\n",
       "                        })                };                });            </script>        </div>"
      ]
     },
     "metadata": {},
     "output_type": "display_data"
    }
   ],
   "source": [
    "def patch_attn_patterns(\n",
    "    corrupted_head_vector: Float[Tensor, \"batch head_index pos_q pos_k\"],\n",
    "    hook: HookPoint, \n",
    "    head_index: int, \n",
    "    clean_cache: ActivationCache\n",
    ") -> Float[Tensor, \"batch pos head_index d_head\"]:\n",
    "    '''\n",
    "    Patches the attn patterns of a given head at every sequence position, using \n",
    "    the value from the clean cache.\n",
    "    '''\n",
    "    corrupted_head_vector[:, head_index] = clean_cache[hook.name][:,head_index]\n",
    "\n",
    "def get_act_patch_attn_head_all_pos_every(\n",
    "    model: HookedTransformer,\n",
    "    corrupted_tokens: Float[Tensor, \"batch pos\"],\n",
    "    clean_cache: ActivationCache,\n",
    "    patching_metric: Callable\n",
    ") -> Float[Tensor, \"layer head\"]:\n",
    "    '''\n",
    "    Returns an array of results of patching at all positions for each head in each\n",
    "    layer (using the value from the clean cache) for output, queries, keys, values\n",
    "    and attn pattern in turn.\n",
    "\n",
    "    The results are calculated using the patching_metric function, which should be\n",
    "    called on the model's logit output.\n",
    "    '''\n",
    "    results = t.zeros(5, model.cfg.n_layers, model.cfg.n_heads, device=device, dtype=t.float32)\n",
    "    # Loop over each component in turn\n",
    "    for component_idx, component in enumerate([\"z\", \"q\", \"k\", \"v\", \"pattern\"]):\n",
    "        for layer in tqdm(range(model.cfg.n_layers)):\n",
    "            for head in range(model.cfg.n_heads):\n",
    "                # Get different hook function if we're doing attention probs\n",
    "                hook_fn_general = patch_attn_patterns if component == \"pattern\" else patch_head_vector\n",
    "                hook_fn = partial(hook_fn_general, head_index=head, clean_cache=clean_cache)\n",
    "                # Get patched logits\n",
    "                patched_logits = model.run_with_hooks(\n",
    "                    corrupted_tokens,\n",
    "                    fwd_hooks = [(utils.get_act_name(component, layer), hook_fn)],\n",
    "                    return_type=\"logits\"\n",
    "                )\n",
    "                results[component_idx, layer, head] = patching_metric(patched_logits)\n",
    "\n",
    "    return results\n",
    "\n",
    "act_patch_attn_head_all_pos_every_own = get_act_patch_attn_head_all_pos_every(\n",
    "    model,\n",
    "    corrupted_tokens,\n",
    "    clean_cache,\n",
    "    ioi_metric\n",
    ")\n",
    "\n",
    "t.testing.assert_close(act_patch_attn_head_all_pos_every, act_patch_attn_head_all_pos_every_own)\n",
    "\n",
    "imshow(\n",
    "    act_patch_attn_head_all_pos_every_own,\n",
    "    facet_col=0,\n",
    "    facet_labels=[\"Output\", \"Query\", \"Key\", \"Value\", \"Pattern\"],\n",
    "    title=\"Activation Patching Per Head (All Pos)\",\n",
    "    labels={\"x\": \"Head\", \"y\": \"Layer\"},\n",
    "    width=1200\n",
    ")"
   ]
  },
  {
   "attachments": {},
   "cell_type": "markdown",
   "metadata": {},
   "source": [
    "**Key variables:**\n",
    "- clean_tokens, corrupted_tokens\n",
    "- clean_logits, clean_cache when you run model with clean_tokens\n",
    "- corrupted_logits, corrupted_cache when you run model with corrupted_tokens\n",
    "- clean_logit_diff and corrupted_logit_diff for performance to eventually determine *ioi_metric*\n",
    "\n",
    "**Key functions:**\n",
    "\n",
    "TransformerLens’ patching modules: takes in input model, corrupted_tokens, clean_cache, patching_metric\n",
    "- patching.get_act_patch_resid_pre() --> gets activation patching for \n",
    "- patching.get_act_patch_block_every()\n",
    "- patching.get_act_patch_attn_head_all_pos_every"
   ]
  },
  {
   "attachments": {},
   "cell_type": "markdown",
   "metadata": {},
   "source": [
    "## Path Patching"
   ]
  },
  {
   "cell_type": "code",
   "execution_count": 132,
   "metadata": {},
   "outputs": [],
   "source": [
    "from part3_indirect_object_identification.ioi_dataset import NAMES, IOIDataset"
   ]
  },
  {
   "cell_type": "code",
   "execution_count": 133,
   "metadata": {},
   "outputs": [],
   "source": [
    "N = 25\n",
    "ioi_dataset = IOIDataset(\n",
    "    prompt_type=\"mixed\",\n",
    "    N=N,\n",
    "    tokenizer=model.tokenizer,\n",
    "    prepend_bos=False,\n",
    "    seed=1,\n",
    "    device=str(device)\n",
    ")\n",
    "abc_dataset = ioi_dataset.gen_flipped_prompts(\"ABB->XYZ, BAB->XYZ\")"
   ]
  },
  {
   "attachments": {},
   "cell_type": "markdown",
   "metadata": {},
   "source": [
    "Looking at the dataset"
   ]
  },
  {
   "cell_type": "code",
   "execution_count": 134,
   "metadata": {},
   "outputs": [
    {
     "data": {
      "text/html": [
       "<pre style=\"white-space:pre;overflow-x:auto;line-height:normal;font-family:Menlo,'DejaVu Sans Mono',consolas,'Courier New',monospace\"><span style=\"font-style: italic\">                                      Sentences from IOI vs ABC distribution                                       </span>\n",
       "┏━━━━━━━━━━━━━━━━━━━━━━━━━━━━━━━━━━━━━━━━━┳━━━━━━━━━━┳━━━━━━━━━━━━━━━━━━┳━━━━━━━━━━━━━━━━━━━━━━━━━━━━━━━━━━━━━━━━━┓\n",
       "┃<span style=\"font-weight: bold\"> IOI prompt                              </span>┃<span style=\"font-weight: bold\"> IOI subj </span>┃<span style=\"font-weight: bold\"> IOI indirect obj </span>┃<span style=\"font-weight: bold\"> ABC prompt                              </span>┃\n",
       "┡━━━━━━━━━━━━━━━━━━━━━━━━━━━━━━━━━━━━━━━━━╇━━━━━━━━━━╇━━━━━━━━━━━━━━━━━━╇━━━━━━━━━━━━━━━━━━━━━━━━━━━━━━━━━━━━━━━━━┩\n",
       "│ When <span style=\"color: #ff8700; text-decoration-color: #ff8700; font-weight: bold; text-decoration: underline\">Victoria</span> and <span style=\"color: #ff8700; text-decoration-color: #ff8700; font-weight: bold; text-decoration: underline\">Jane</span> got a snack at   │ Jane     │ Victoria         │ When <span style=\"color: #ff8700; text-decoration-color: #ff8700; font-weight: bold; text-decoration: underline\">Lisa</span> and <span style=\"color: #ff8700; text-decoration-color: #ff8700; font-weight: bold; text-decoration: underline\">Anderson</span> got a snack at   │\n",
       "│ the store, <span style=\"color: #ff8700; text-decoration-color: #ff8700; font-weight: bold; text-decoration: underline\">Jane</span> decided to give it to   │          │                  │ the store, <span style=\"color: #ff8700; text-decoration-color: #ff8700; font-weight: bold; text-decoration: underline\">Marcus</span> decided to give it to │\n",
       "│ <span style=\"color: #ff8700; text-decoration-color: #ff8700; font-weight: bold; text-decoration: underline\">Victoria</span>                                │          │                  │ <span style=\"color: #ff8700; text-decoration-color: #ff8700; font-weight: bold; text-decoration: underline\">Victoria</span>                                │\n",
       "│                                         │          │                  │                                         │\n",
       "│ When <span style=\"color: #ff8700; text-decoration-color: #ff8700; font-weight: bold; text-decoration: underline\">Sullivan</span> and <span style=\"color: #ff8700; text-decoration-color: #ff8700; font-weight: bold; text-decoration: underline\">Rose</span> got a necklace   │ Sullivan │ Rose             │ When <span style=\"color: #ff8700; text-decoration-color: #ff8700; font-weight: bold; text-decoration: underline\">Blake</span> and <span style=\"color: #ff8700; text-decoration-color: #ff8700; font-weight: bold; text-decoration: underline\">Rachel</span> got a necklace at │\n",
       "│ at the garden, <span style=\"color: #ff8700; text-decoration-color: #ff8700; font-weight: bold; text-decoration: underline\">Sullivan</span> decided to give │          │                  │ the garden, <span style=\"color: #ff8700; text-decoration-color: #ff8700; font-weight: bold; text-decoration: underline\">Paul</span> decided to give it to  │\n",
       "│ it to <span style=\"color: #ff8700; text-decoration-color: #ff8700; font-weight: bold; text-decoration: underline\">Rose</span>                              │          │                  │ <span style=\"color: #ff8700; text-decoration-color: #ff8700; font-weight: bold; text-decoration: underline\">Rose</span>                                    │\n",
       "│                                         │          │                  │                                         │\n",
       "│ When <span style=\"color: #ff8700; text-decoration-color: #ff8700; font-weight: bold; text-decoration: underline\">Alan</span> and <span style=\"color: #ff8700; text-decoration-color: #ff8700; font-weight: bold; text-decoration: underline\">Alex</span> got a drink at the   │ Alex     │ Alan             │ When <span style=\"color: #ff8700; text-decoration-color: #ff8700; font-weight: bold; text-decoration: underline\">Ryan</span> and <span style=\"color: #ff8700; text-decoration-color: #ff8700; font-weight: bold; text-decoration: underline\">David</span> got a drink at the  │\n",
       "│ store, <span style=\"color: #ff8700; text-decoration-color: #ff8700; font-weight: bold; text-decoration: underline\">Alex</span> decided to give it to <span style=\"color: #ff8700; text-decoration-color: #ff8700; font-weight: bold; text-decoration: underline\">Alan</span>  │          │                  │ store, <span style=\"color: #ff8700; text-decoration-color: #ff8700; font-weight: bold; text-decoration: underline\">Morgan</span> decided to give it to     │\n",
       "│                                         │          │                  │ <span style=\"color: #ff8700; text-decoration-color: #ff8700; font-weight: bold; text-decoration: underline\">Alan</span>                                    │\n",
       "│                                         │          │                  │                                         │\n",
       "│ Then, <span style=\"color: #ff8700; text-decoration-color: #ff8700; font-weight: bold; text-decoration: underline\">Jessica</span> and <span style=\"color: #ff8700; text-decoration-color: #ff8700; font-weight: bold; text-decoration: underline\">Crystal</span> had a long    │ Jessica  │ Crystal          │ Then, <span style=\"color: #ff8700; text-decoration-color: #ff8700; font-weight: bold; text-decoration: underline\">Kyle</span> and <span style=\"color: #ff8700; text-decoration-color: #ff8700; font-weight: bold; text-decoration: underline\">Madison</span> had a long       │\n",
       "│ argument, and afterwards <span style=\"color: #ff8700; text-decoration-color: #ff8700; font-weight: bold; text-decoration: underline\">Jessica</span> said   │          │                  │ argument, and afterwards <span style=\"color: #ff8700; text-decoration-color: #ff8700; font-weight: bold; text-decoration: underline\">Ryan</span> said to   │\n",
       "│ to <span style=\"color: #ff8700; text-decoration-color: #ff8700; font-weight: bold; text-decoration: underline\">Crystal</span>                              │          │                  │ <span style=\"color: #ff8700; text-decoration-color: #ff8700; font-weight: bold; text-decoration: underline\">Crystal</span>                                 │\n",
       "│                                         │          │                  │                                         │\n",
       "│ Then, <span style=\"color: #ff8700; text-decoration-color: #ff8700; font-weight: bold; text-decoration: underline\">Jonathan</span> and <span style=\"color: #ff8700; text-decoration-color: #ff8700; font-weight: bold; text-decoration: underline\">Kevin</span> were working   │ Kevin    │ Jonathan         │ Then, <span style=\"color: #ff8700; text-decoration-color: #ff8700; font-weight: bold; text-decoration: underline\">Max</span> and <span style=\"color: #ff8700; text-decoration-color: #ff8700; font-weight: bold; text-decoration: underline\">William</span> were working at   │\n",
       "│ at the school. <span style=\"color: #ff8700; text-decoration-color: #ff8700; font-weight: bold; text-decoration: underline\">Kevin</span> decided to give a  │          │                  │ the school. <span style=\"color: #ff8700; text-decoration-color: #ff8700; font-weight: bold; text-decoration: underline\">Anna</span> decided to give a      │\n",
       "│ necklace to <span style=\"color: #ff8700; text-decoration-color: #ff8700; font-weight: bold; text-decoration: underline\">Jonathan</span>                    │          │                  │ necklace to <span style=\"color: #ff8700; text-decoration-color: #ff8700; font-weight: bold; text-decoration: underline\">Jonathan</span>                    │\n",
       "│                                         │          │                  │                                         │\n",
       "└─────────────────────────────────────────┴──────────┴──────────────────┴─────────────────────────────────────────┘\n",
       "</pre>\n"
      ],
      "text/plain": [
       "\u001b[3m                                      Sentences from IOI vs ABC distribution                                       \u001b[0m\n",
       "┏━━━━━━━━━━━━━━━━━━━━━━━━━━━━━━━━━━━━━━━━━┳━━━━━━━━━━┳━━━━━━━━━━━━━━━━━━┳━━━━━━━━━━━━━━━━━━━━━━━━━━━━━━━━━━━━━━━━━┓\n",
       "┃\u001b[1m \u001b[0m\u001b[1mIOI prompt                             \u001b[0m\u001b[1m \u001b[0m┃\u001b[1m \u001b[0m\u001b[1mIOI subj\u001b[0m\u001b[1m \u001b[0m┃\u001b[1m \u001b[0m\u001b[1mIOI indirect obj\u001b[0m\u001b[1m \u001b[0m┃\u001b[1m \u001b[0m\u001b[1mABC prompt                             \u001b[0m\u001b[1m \u001b[0m┃\n",
       "┡━━━━━━━━━━━━━━━━━━━━━━━━━━━━━━━━━━━━━━━━━╇━━━━━━━━━━╇━━━━━━━━━━━━━━━━━━╇━━━━━━━━━━━━━━━━━━━━━━━━━━━━━━━━━━━━━━━━━┩\n",
       "│ When \u001b[1;4;38;5;208mVictoria\u001b[0m and \u001b[1;4;38;5;208mJane\u001b[0m got a snack at   │ Jane     │ Victoria         │ When \u001b[1;4;38;5;208mLisa\u001b[0m and \u001b[1;4;38;5;208mAnderson\u001b[0m got a snack at   │\n",
       "│ the store, \u001b[1;4;38;5;208mJane\u001b[0m decided to give it to   │          │                  │ the store, \u001b[1;4;38;5;208mMarcus\u001b[0m decided to give it to │\n",
       "│ \u001b[1;4;38;5;208mVictoria\u001b[0m                                │          │                  │ \u001b[1;4;38;5;208mVictoria\u001b[0m                                │\n",
       "│                                         │          │                  │                                         │\n",
       "│ When \u001b[1;4;38;5;208mSullivan\u001b[0m and \u001b[1;4;38;5;208mRose\u001b[0m got a necklace   │ Sullivan │ Rose             │ When \u001b[1;4;38;5;208mBlake\u001b[0m and \u001b[1;4;38;5;208mRachel\u001b[0m got a necklace at │\n",
       "│ at the garden, \u001b[1;4;38;5;208mSullivan\u001b[0m decided to give │          │                  │ the garden, \u001b[1;4;38;5;208mPaul\u001b[0m decided to give it to  │\n",
       "│ it to \u001b[1;4;38;5;208mRose\u001b[0m                              │          │                  │ \u001b[1;4;38;5;208mRose\u001b[0m                                    │\n",
       "│                                         │          │                  │                                         │\n",
       "│ When \u001b[1;4;38;5;208mAlan\u001b[0m and \u001b[1;4;38;5;208mAlex\u001b[0m got a drink at the   │ Alex     │ Alan             │ When \u001b[1;4;38;5;208mRyan\u001b[0m and \u001b[1;4;38;5;208mDavid\u001b[0m got a drink at the  │\n",
       "│ store, \u001b[1;4;38;5;208mAlex\u001b[0m decided to give it to \u001b[1;4;38;5;208mAlan\u001b[0m  │          │                  │ store, \u001b[1;4;38;5;208mMorgan\u001b[0m decided to give it to     │\n",
       "│                                         │          │                  │ \u001b[1;4;38;5;208mAlan\u001b[0m                                    │\n",
       "│                                         │          │                  │                                         │\n",
       "│ Then, \u001b[1;4;38;5;208mJessica\u001b[0m and \u001b[1;4;38;5;208mCrystal\u001b[0m had a long    │ Jessica  │ Crystal          │ Then, \u001b[1;4;38;5;208mKyle\u001b[0m and \u001b[1;4;38;5;208mMadison\u001b[0m had a long       │\n",
       "│ argument, and afterwards \u001b[1;4;38;5;208mJessica\u001b[0m said   │          │                  │ argument, and afterwards \u001b[1;4;38;5;208mRyan\u001b[0m said to   │\n",
       "│ to \u001b[1;4;38;5;208mCrystal\u001b[0m                              │          │                  │ \u001b[1;4;38;5;208mCrystal\u001b[0m                                 │\n",
       "│                                         │          │                  │                                         │\n",
       "│ Then, \u001b[1;4;38;5;208mJonathan\u001b[0m and \u001b[1;4;38;5;208mKevin\u001b[0m were working   │ Kevin    │ Jonathan         │ Then, \u001b[1;4;38;5;208mMax\u001b[0m and \u001b[1;4;38;5;208mWilliam\u001b[0m were working at   │\n",
       "│ at the school. \u001b[1;4;38;5;208mKevin\u001b[0m decided to give a  │          │                  │ the school. \u001b[1;4;38;5;208mAnna\u001b[0m decided to give a      │\n",
       "│ necklace to \u001b[1;4;38;5;208mJonathan\u001b[0m                    │          │                  │ necklace to \u001b[1;4;38;5;208mJonathan\u001b[0m                    │\n",
       "│                                         │          │                  │                                         │\n",
       "└─────────────────────────────────────────┴──────────┴──────────────────┴─────────────────────────────────────────┘\n"
      ]
     },
     "metadata": {},
     "output_type": "display_data"
    }
   ],
   "source": [
    "def format_prompt(sentence: str) -> str:\n",
    "    '''Format a prompt by underlining names (for rich print)'''\n",
    "    return re.sub(\"(\" + \"|\".join(NAMES) + \")\", lambda x: f\"[u bold dark_orange]{x.group(0)}[/]\", sentence) + \"\\n\"\n",
    "\n",
    "\n",
    "def make_table(cols, colnames, title=\"\", n_rows=5, decimals=4):\n",
    "    '''Makes and displays a table, from cols rather than rows (using rich print)'''\n",
    "    table = Table(*colnames, title=title)\n",
    "    rows = list(zip(*cols))\n",
    "    f = lambda x: x if isinstance(x, str) else f\"{x:.{decimals}f}\"\n",
    "    for row in rows[:n_rows]:\n",
    "        table.add_row(*list(map(f, row)))\n",
    "    rprint(table)\n",
    "\n",
    "make_table(\n",
    "    colnames = [\"IOI prompt\", \"IOI subj\", \"IOI indirect obj\", \"ABC prompt\"],\n",
    "    cols = [\n",
    "        map(format_prompt, ioi_dataset.sentences), \n",
    "        model.to_string(ioi_dataset.s_tokenIDs).split(), \n",
    "        model.to_string(ioi_dataset.io_tokenIDs).split(), \n",
    "        map(format_prompt, abc_dataset.sentences), \n",
    "    ],\n",
    "    title = \"Sentences from IOI vs ABC distribution\",\n",
    ")"
   ]
  },
  {
   "cell_type": "code",
   "execution_count": 135,
   "metadata": {},
   "outputs": [
    {
     "name": "stdout",
     "output_type": "stream",
     "text": [
      "Average logit diff (IOI dataset): 2.8053\n",
      "Average logit diff (ABC dataset): -0.1693\n"
     ]
    },
    {
     "data": {
      "text/html": [
       "<pre style=\"white-space:pre;overflow-x:auto;line-height:normal;font-family:Menlo,'DejaVu Sans Mono',consolas,'Courier New',monospace\"><span style=\"font-style: italic\">                                      Sentences from IOI vs ABC distribution                                       </span>\n",
       "┏━━━━━━━━━━━━━━━━━━━━━━━━━━━━━━━━━━━━━━━┳━━━━━━━━━━━━━━━━┳━━━━━━━━━━━━━━━━━━━━━━━━━━━━━━━━━━━━━━━┳━━━━━━━━━━━━━━━━┓\n",
       "┃<span style=\"font-weight: bold\"> IOI prompt                            </span>┃<span style=\"font-weight: bold\"> IOI logit diff </span>┃<span style=\"font-weight: bold\"> ABC prompt                            </span>┃<span style=\"font-weight: bold\"> ABC logit diff </span>┃\n",
       "┡━━━━━━━━━━━━━━━━━━━━━━━━━━━━━━━━━━━━━━━╇━━━━━━━━━━━━━━━━╇━━━━━━━━━━━━━━━━━━━━━━━━━━━━━━━━━━━━━━━╇━━━━━━━━━━━━━━━━┩\n",
       "│ When <span style=\"color: #ff8700; text-decoration-color: #ff8700; font-weight: bold; text-decoration: underline\">Victoria</span> and <span style=\"color: #ff8700; text-decoration-color: #ff8700; font-weight: bold; text-decoration: underline\">Jane</span> got a snack at │ 2.4406         │ When <span style=\"color: #ff8700; text-decoration-color: #ff8700; font-weight: bold; text-decoration: underline\">Lisa</span> and <span style=\"color: #ff8700; text-decoration-color: #ff8700; font-weight: bold; text-decoration: underline\">Anderson</span> got a snack at │ -0.3648        │\n",
       "│ the store, <span style=\"color: #ff8700; text-decoration-color: #ff8700; font-weight: bold; text-decoration: underline\">Jane</span> decided to give it to │                │ the store, <span style=\"color: #ff8700; text-decoration-color: #ff8700; font-weight: bold; text-decoration: underline\">Marcus</span> decided to give it  │                │\n",
       "│ <span style=\"color: #ff8700; text-decoration-color: #ff8700; font-weight: bold; text-decoration: underline\">Victoria</span>                              │                │ to <span style=\"color: #ff8700; text-decoration-color: #ff8700; font-weight: bold; text-decoration: underline\">Victoria</span>                           │                │\n",
       "│                                       │                │                                       │                │\n",
       "│ When <span style=\"color: #ff8700; text-decoration-color: #ff8700; font-weight: bold; text-decoration: underline\">Sullivan</span> and <span style=\"color: #ff8700; text-decoration-color: #ff8700; font-weight: bold; text-decoration: underline\">Rose</span> got a necklace │ 6.5410         │ When <span style=\"color: #ff8700; text-decoration-color: #ff8700; font-weight: bold; text-decoration: underline\">Blake</span> and <span style=\"color: #ff8700; text-decoration-color: #ff8700; font-weight: bold; text-decoration: underline\">Rachel</span> got a necklace  │ 4.4015         │\n",
       "│ at the garden, <span style=\"color: #ff8700; text-decoration-color: #ff8700; font-weight: bold; text-decoration: underline\">Sullivan</span> decided to    │                │ at the garden, <span style=\"color: #ff8700; text-decoration-color: #ff8700; font-weight: bold; text-decoration: underline\">Paul</span> decided to give   │                │\n",
       "│ give it to <span style=\"color: #ff8700; text-decoration-color: #ff8700; font-weight: bold; text-decoration: underline\">Rose</span>                       │                │ it to <span style=\"color: #ff8700; text-decoration-color: #ff8700; font-weight: bold; text-decoration: underline\">Rose</span>                            │                │\n",
       "│                                       │                │                                       │                │\n",
       "│ When <span style=\"color: #ff8700; text-decoration-color: #ff8700; font-weight: bold; text-decoration: underline\">Alan</span> and <span style=\"color: #ff8700; text-decoration-color: #ff8700; font-weight: bold; text-decoration: underline\">Alex</span> got a drink at the │ 3.3346         │ When <span style=\"color: #ff8700; text-decoration-color: #ff8700; font-weight: bold; text-decoration: underline\">Ryan</span> and <span style=\"color: #ff8700; text-decoration-color: #ff8700; font-weight: bold; text-decoration: underline\">David</span> got a drink at    │ -0.9367        │\n",
       "│ store, <span style=\"color: #ff8700; text-decoration-color: #ff8700; font-weight: bold; text-decoration: underline\">Alex</span> decided to give it to     │                │ the store, <span style=\"color: #ff8700; text-decoration-color: #ff8700; font-weight: bold; text-decoration: underline\">Morgan</span> decided to give it  │                │\n",
       "│ <span style=\"color: #ff8700; text-decoration-color: #ff8700; font-weight: bold; text-decoration: underline\">Alan</span>                                  │                │ to <span style=\"color: #ff8700; text-decoration-color: #ff8700; font-weight: bold; text-decoration: underline\">Alan</span>                               │                │\n",
       "│                                       │                │                                       │                │\n",
       "│ Then, <span style=\"color: #ff8700; text-decoration-color: #ff8700; font-weight: bold; text-decoration: underline\">Jessica</span> and <span style=\"color: #ff8700; text-decoration-color: #ff8700; font-weight: bold; text-decoration: underline\">Crystal</span> had a long  │ 1.1970         │ Then, <span style=\"color: #ff8700; text-decoration-color: #ff8700; font-weight: bold; text-decoration: underline\">Kyle</span> and <span style=\"color: #ff8700; text-decoration-color: #ff8700; font-weight: bold; text-decoration: underline\">Madison</span> had a long     │ -1.4160        │\n",
       "│ argument, and afterwards <span style=\"color: #ff8700; text-decoration-color: #ff8700; font-weight: bold; text-decoration: underline\">Jessica</span> said │                │ argument, and afterwards <span style=\"color: #ff8700; text-decoration-color: #ff8700; font-weight: bold; text-decoration: underline\">Ryan</span> said to │                │\n",
       "│ to <span style=\"color: #ff8700; text-decoration-color: #ff8700; font-weight: bold; text-decoration: underline\">Crystal</span>                            │                │ <span style=\"color: #ff8700; text-decoration-color: #ff8700; font-weight: bold; text-decoration: underline\">Crystal</span>                               │                │\n",
       "│                                       │                │                                       │                │\n",
       "│ Then, <span style=\"color: #ff8700; text-decoration-color: #ff8700; font-weight: bold; text-decoration: underline\">Jonathan</span> and <span style=\"color: #ff8700; text-decoration-color: #ff8700; font-weight: bold; text-decoration: underline\">Kevin</span> were working │ 3.0533         │ Then, <span style=\"color: #ff8700; text-decoration-color: #ff8700; font-weight: bold; text-decoration: underline\">Max</span> and <span style=\"color: #ff8700; text-decoration-color: #ff8700; font-weight: bold; text-decoration: underline\">William</span> were working at │ 0.0137         │\n",
       "│ at the school. <span style=\"color: #ff8700; text-decoration-color: #ff8700; font-weight: bold; text-decoration: underline\">Kevin</span> decided to give  │                │ the school. <span style=\"color: #ff8700; text-decoration-color: #ff8700; font-weight: bold; text-decoration: underline\">Anna</span> decided to give a    │                │\n",
       "│ a necklace to <span style=\"color: #ff8700; text-decoration-color: #ff8700; font-weight: bold; text-decoration: underline\">Jonathan</span>                │                │ necklace to <span style=\"color: #ff8700; text-decoration-color: #ff8700; font-weight: bold; text-decoration: underline\">Jonathan</span>                  │                │\n",
       "│                                       │                │                                       │                │\n",
       "└───────────────────────────────────────┴────────────────┴───────────────────────────────────────┴────────────────┘\n",
       "</pre>\n"
      ],
      "text/plain": [
       "\u001b[3m                                      Sentences from IOI vs ABC distribution                                       \u001b[0m\n",
       "┏━━━━━━━━━━━━━━━━━━━━━━━━━━━━━━━━━━━━━━━┳━━━━━━━━━━━━━━━━┳━━━━━━━━━━━━━━━━━━━━━━━━━━━━━━━━━━━━━━━┳━━━━━━━━━━━━━━━━┓\n",
       "┃\u001b[1m \u001b[0m\u001b[1mIOI prompt                           \u001b[0m\u001b[1m \u001b[0m┃\u001b[1m \u001b[0m\u001b[1mIOI logit diff\u001b[0m\u001b[1m \u001b[0m┃\u001b[1m \u001b[0m\u001b[1mABC prompt                           \u001b[0m\u001b[1m \u001b[0m┃\u001b[1m \u001b[0m\u001b[1mABC logit diff\u001b[0m\u001b[1m \u001b[0m┃\n",
       "┡━━━━━━━━━━━━━━━━━━━━━━━━━━━━━━━━━━━━━━━╇━━━━━━━━━━━━━━━━╇━━━━━━━━━━━━━━━━━━━━━━━━━━━━━━━━━━━━━━━╇━━━━━━━━━━━━━━━━┩\n",
       "│ When \u001b[1;4;38;5;208mVictoria\u001b[0m and \u001b[1;4;38;5;208mJane\u001b[0m got a snack at │ 2.4406         │ When \u001b[1;4;38;5;208mLisa\u001b[0m and \u001b[1;4;38;5;208mAnderson\u001b[0m got a snack at │ -0.3648        │\n",
       "│ the store, \u001b[1;4;38;5;208mJane\u001b[0m decided to give it to │                │ the store, \u001b[1;4;38;5;208mMarcus\u001b[0m decided to give it  │                │\n",
       "│ \u001b[1;4;38;5;208mVictoria\u001b[0m                              │                │ to \u001b[1;4;38;5;208mVictoria\u001b[0m                           │                │\n",
       "│                                       │                │                                       │                │\n",
       "│ When \u001b[1;4;38;5;208mSullivan\u001b[0m and \u001b[1;4;38;5;208mRose\u001b[0m got a necklace │ 6.5410         │ When \u001b[1;4;38;5;208mBlake\u001b[0m and \u001b[1;4;38;5;208mRachel\u001b[0m got a necklace  │ 4.4015         │\n",
       "│ at the garden, \u001b[1;4;38;5;208mSullivan\u001b[0m decided to    │                │ at the garden, \u001b[1;4;38;5;208mPaul\u001b[0m decided to give   │                │\n",
       "│ give it to \u001b[1;4;38;5;208mRose\u001b[0m                       │                │ it to \u001b[1;4;38;5;208mRose\u001b[0m                            │                │\n",
       "│                                       │                │                                       │                │\n",
       "│ When \u001b[1;4;38;5;208mAlan\u001b[0m and \u001b[1;4;38;5;208mAlex\u001b[0m got a drink at the │ 3.3346         │ When \u001b[1;4;38;5;208mRyan\u001b[0m and \u001b[1;4;38;5;208mDavid\u001b[0m got a drink at    │ -0.9367        │\n",
       "│ store, \u001b[1;4;38;5;208mAlex\u001b[0m decided to give it to     │                │ the store, \u001b[1;4;38;5;208mMorgan\u001b[0m decided to give it  │                │\n",
       "│ \u001b[1;4;38;5;208mAlan\u001b[0m                                  │                │ to \u001b[1;4;38;5;208mAlan\u001b[0m                               │                │\n",
       "│                                       │                │                                       │                │\n",
       "│ Then, \u001b[1;4;38;5;208mJessica\u001b[0m and \u001b[1;4;38;5;208mCrystal\u001b[0m had a long  │ 1.1970         │ Then, \u001b[1;4;38;5;208mKyle\u001b[0m and \u001b[1;4;38;5;208mMadison\u001b[0m had a long     │ -1.4160        │\n",
       "│ argument, and afterwards \u001b[1;4;38;5;208mJessica\u001b[0m said │                │ argument, and afterwards \u001b[1;4;38;5;208mRyan\u001b[0m said to │                │\n",
       "│ to \u001b[1;4;38;5;208mCrystal\u001b[0m                            │                │ \u001b[1;4;38;5;208mCrystal\u001b[0m                               │                │\n",
       "│                                       │                │                                       │                │\n",
       "│ Then, \u001b[1;4;38;5;208mJonathan\u001b[0m and \u001b[1;4;38;5;208mKevin\u001b[0m were working │ 3.0533         │ Then, \u001b[1;4;38;5;208mMax\u001b[0m and \u001b[1;4;38;5;208mWilliam\u001b[0m were working at │ 0.0137         │\n",
       "│ at the school. \u001b[1;4;38;5;208mKevin\u001b[0m decided to give  │                │ the school. \u001b[1;4;38;5;208mAnna\u001b[0m decided to give a    │                │\n",
       "│ a necklace to \u001b[1;4;38;5;208mJonathan\u001b[0m                │                │ necklace to \u001b[1;4;38;5;208mJonathan\u001b[0m                  │                │\n",
       "│                                       │                │                                       │                │\n",
       "└───────────────────────────────────────┴────────────────┴───────────────────────────────────────┴────────────────┘\n"
      ]
     },
     "metadata": {},
     "output_type": "display_data"
    }
   ],
   "source": [
    "def logits_to_ave_logit_diff_2(logits: Float[Tensor, \"batch seq d_vocab\"], ioi_dataset: IOIDataset = ioi_dataset, per_prompt=False):\n",
    "    '''\n",
    "    Returns logit difference between the correct and incorrect answer.\n",
    "\n",
    "    If per_prompt=True, return the array of differences rather than the average.\n",
    "    '''\n",
    "\n",
    "    # Only the final logits are relevant for the answer\n",
    "    # Get the logits corresponding to the indirect object / subject tokens respectively\n",
    "    io_logits: Float[Tensor, \"batch\"] = logits[range(logits.size(0)), ioi_dataset.word_idx[\"end\"], ioi_dataset.io_tokenIDs]\n",
    "    s_logits: Float[Tensor, \"batch\"] = logits[range(logits.size(0)), ioi_dataset.word_idx[\"end\"], ioi_dataset.s_tokenIDs]\n",
    "    # Find logit difference\n",
    "    answer_logit_diff = io_logits - s_logits\n",
    "    return answer_logit_diff if per_prompt else answer_logit_diff.mean()\n",
    "\n",
    "\n",
    "\n",
    "model.reset_hooks(including_permanent=True)\n",
    "\n",
    "ioi_logits_original, ioi_cache = model.run_with_cache(ioi_dataset.toks)\n",
    "abc_logits_original, abc_cache = model.run_with_cache(abc_dataset.toks)\n",
    "\n",
    "ioi_per_prompt_diff = logits_to_ave_logit_diff_2(ioi_logits_original, per_prompt=True)\n",
    "abc_per_prompt_diff = logits_to_ave_logit_diff_2(abc_logits_original, per_prompt=True)\n",
    "\n",
    "ioi_average_logit_diff = logits_to_ave_logit_diff_2(ioi_logits_original).item()\n",
    "abc_average_logit_diff = logits_to_ave_logit_diff_2(abc_logits_original).item()\n",
    "\n",
    "print(f\"Average logit diff (IOI dataset): {ioi_average_logit_diff:.4f}\")\n",
    "print(f\"Average logit diff (ABC dataset): {abc_average_logit_diff:.4f}\")\n",
    "\n",
    "make_table(\n",
    "    colnames = [\"IOI prompt\", \"IOI logit diff\", \"ABC prompt\", \"ABC logit diff\"],\n",
    "    cols = [\n",
    "        map(format_prompt, ioi_dataset.sentences), \n",
    "        ioi_per_prompt_diff,\n",
    "        map(format_prompt, abc_dataset.sentences), \n",
    "        abc_per_prompt_diff,\n",
    "    ],\n",
    "    title = \"Sentences from IOI vs ABC distribution\",\n",
    ")"
   ]
  },
  {
   "cell_type": "code",
   "execution_count": 136,
   "metadata": {},
   "outputs": [
    {
     "name": "stdout",
     "output_type": "stream",
     "text": [
      "IOI metric (IOI dataset): 0.0000\n",
      "IOI metric (ABC dataset): -1.0000\n"
     ]
    }
   ],
   "source": [
    "def ioi_metric_2(\n",
    "    logits: Float[Tensor, \"batch seq d_vocab\"],\n",
    "    clean_logit_diff: float = ioi_average_logit_diff,\n",
    "    corrupted_logit_diff: float = abc_average_logit_diff,\n",
    "    ioi_dataset: IOIDataset = ioi_dataset,\n",
    ") -> float:\n",
    "    '''\n",
    "    We calibrate this so that the value is 0 when performance isn't harmed (i.e. same as IOI dataset), \n",
    "    and -1 when performance has been destroyed (i.e. is same as ABC dataset).\n",
    "    '''\n",
    "    patched_logit_diff = logits_to_ave_logit_diff_2(logits, ioi_dataset)\n",
    "    return (patched_logit_diff - clean_logit_diff) / (clean_logit_diff - corrupted_logit_diff)\n",
    "\n",
    "\n",
    "print(f\"IOI metric (IOI dataset): {ioi_metric_2(ioi_logits_original):.4f}\")\n",
    "print(f\"IOI metric (ABC dataset): {ioi_metric_2(abc_logits_original):.4f}\")"
   ]
  },
  {
   "attachments": {},
   "cell_type": "markdown",
   "metadata": {},
   "source": [
    "Exercise: Path patching for name mover heads"
   ]
  },
  {
   "cell_type": "code",
   "execution_count": 137,
   "metadata": {},
   "outputs": [
    {
     "data": {
      "text/plain": [
       "torch.Size([25, 21, 12, 64])"
      ]
     },
     "execution_count": 137,
     "metadata": {},
     "output_type": "execute_result"
    }
   ],
   "source": [
    "abc_cache['blocks.0.attn.hook_z'].shape # batch, seq_ln, num_heads, head_dim"
   ]
  },
  {
   "attachments": {},
   "cell_type": "markdown",
   "metadata": {},
   "source": [
    "Key variables:\n",
    "- ioi_dataset. Has a couple of good methods/attributions: ``toks`` is a tensor containing token IDs (batch_size, max_seq_len); ``s_tokenIDs`` and ``io_tokenIDs`` are a list containing token IDs for the subjects and objects; ``sentences`` is a list containing the sentences as strings; ``word_idx`` is a dictionary mapping word types to tensors containing positions of those words for each sequence\n",
    "- abc_dataset\n",
    "\n",
    "Data cleaning / visualization: make_table prints tables after being fed columns, format_prompt (??)\n",
    "\n",
    "New function for logit difference: def logits_to_ave_logit_diff_2\n",
    "\n",
    "New function for IOI metric: ioi_metric_2. -1 means corrupted (ABC dataset), while 0 means non-corrupted (IOI dataset performance)."
   ]
  },
  {
   "cell_type": "code",
   "execution_count": 138,
   "metadata": {},
   "outputs": [
    {
     "data": {
      "application/vnd.jupyter.widget-view+json": {
       "model_id": "2bd5099fcd1c453ea997d774f0f062ac",
       "version_major": 2,
       "version_minor": 0
      },
      "text/plain": [
       "  0%|          | 0/12 [00:00<?, ?it/s]"
      ]
     },
     "metadata": {},
     "output_type": "display_data"
    },
    {
     "data": {
      "application/vnd.plotly.v1+json": {
       "config": {
        "plotlyServerURL": "https://plot.ly"
       },
       "data": [
        {
         "coloraxis": "coloraxis",
         "hovertemplate": "Head: %{x}<br>Layer: %{y}<br>Logit diff. variation: %{z}<extra></extra>",
         "name": "0",
         "type": "heatmap",
         "xaxis": "x",
         "yaxis": "y",
         "z": [
          [
           0.07008391618728638,
           -0.0001122112080338411,
           0.02233804576098919,
           0.0005049504106864333,
           0.0012663835659623146,
           0.002765204757452011,
           0.06245354935526848,
           0.024542195722460747,
           -0.004744931124150753,
           -0.017024042084813118,
           0.07330597937107086,
           -0.0008415839984081686
          ],
          [
           -0.009241394698619843,
           0.024197544902563095,
           -0.01727251149713993,
           0.019773218780755997,
           0.04845920950174332,
           -0.01488401461392641,
           0.024806691333651543,
           -0.047689761966466904,
           -0.058197539299726486,
           -0.041037242859601974,
           0.0256242323666811,
           -0.07555020600557327
          ],
          [
           0.017512964084744453,
           0.06322300434112549,
           0.017088163644075394,
           -0.017448842525482178,
           0.038384247571229935,
           0.03832012414932251,
           -0.00110608187969774,
           -0.10988683253526688,
           -0.027355490252375603,
           0.11856716871261597,
           -0.10290569812059402,
           -0.03037717565894127
          ],
          [
           0.0004728900967165828,
           0.029920317232608795,
           0.006283827591687441,
           0.08305232226848602,
           -0.011140969581902027,
           0.0868033841252327,
           0.1383163332939148,
           0.03767891973257065,
           -0.0010740215657278895,
           0.0528114028275013,
           -0.017024042084813118,
           -0.0300886332988739
          ],
          [
           -0.024606313556432724,
           -0.008832625113427639,
           0.035963691771030426,
           0.19157660007476807,
           -0.02712305262684822,
           0.025752471759915352,
           -0.07494907081127167,
           -0.16550351679325104,
           -0.02255445346236229,
           0.1759471744298935,
           0.015340874902904034,
           0.01222300622612238
          ],
          [
           0.0010179158998653293,
           0.0006011314690113068,
           0.10129465907812119,
           0.0351221077144146,
           0.04544553905725479,
           0.004760961048305035,
           -0.02255445346236229,
           -0.010740215890109539,
           -0.024638375267386436,
           -0.0020999524276703596,
           0.20380760729312897,
           -0.10417207330465317
          ],
          [
           0.5992158651351929,
           -0.16314707696437836,
           -0.2744445502758026,
           0.07444412261247635,
           0.4493337571620941,
           0.012102779932320118,
           -0.06437717378139496,
           -0.006692596711218357,
           0.007710512727499008,
           0.03475341200828552,
           -0.01059594377875328,
           -0.09675011038780212
          ],
          [
           0.03653276339173317,
           0.09192502498626709,
           -0.0006973125273361802,
           -2.016659736633301,
           -0.03882507607340813,
           0.3216935098171234,
           0.0881899893283844,
           -0.06650117039680481,
           0.26852142810821533,
           -8.198912620544434,
           -0.000128241372294724,
           -0.03198821097612381
          ],
          [
           -0.20383965969085693,
           0.025271566584706306,
           1.5148593187332153,
           -1.3180007934570312,
           -0.05135265365242958,
           0.4584628939628601,
           -1.0974656343460083,
           -0.18162986636161804,
           1.0428187847137451,
           0.03534653037786484,
           -9.40141487121582,
           0.624078631401062
          ],
          [
           -0.861605703830719,
           0.4234369993209839,
           0.04376237094402313,
           -0.6962384581565857,
           1.202751874923706,
           -1.5155245065689087,
           -38.82767868041992,
           -5.827376842498779,
           4.582208633422852,
           -73.71726989746094,
           0.025015082210302353,
           0.6278858184814453
          ],
          [
           -17.112504959106445,
           -9.912553787231445,
           4.392884254455566,
           -3.8235490322113037,
           -0.5675963759422302,
           -0.016462987288832664,
           -7.2497172355651855,
           44.99774169921875,
           -0.10121450573205948,
           0.042528048157691956,
           -10.766873359680176,
           -0.038704853504896164
          ],
          [
           -0.7465732097625732,
           -0.2521786689758301,
           10.237613677978516,
           -1.7172882556915283,
           -0.2888556718826294,
           0.288062185049057,
           -1.1333732604980469,
           0.12640592455863953,
           -0.22836583852767944,
           -1.2226532697677612,
           21.0261287689209,
           0.70827716588974
          ]
         ]
        }
       ],
       "layout": {
        "coloraxis": {
         "cmid": 0,
         "colorbar": {
          "ticksuffix": "%",
          "title": {
           "text": "Logit diff. variation"
          }
         },
         "colorscale": [
          [
           0,
           "rgb(103,0,31)"
          ],
          [
           0.1,
           "rgb(178,24,43)"
          ],
          [
           0.2,
           "rgb(214,96,77)"
          ],
          [
           0.3,
           "rgb(244,165,130)"
          ],
          [
           0.4,
           "rgb(253,219,199)"
          ],
          [
           0.5,
           "rgb(247,247,247)"
          ],
          [
           0.6,
           "rgb(209,229,240)"
          ],
          [
           0.7,
           "rgb(146,197,222)"
          ],
          [
           0.8,
           "rgb(67,147,195)"
          ],
          [
           0.9,
           "rgb(33,102,172)"
          ],
          [
           1,
           "rgb(5,48,97)"
          ]
         ]
        },
        "template": {
         "data": {
          "bar": [
           {
            "error_x": {
             "color": "#2a3f5f"
            },
            "error_y": {
             "color": "#2a3f5f"
            },
            "marker": {
             "line": {
              "color": "#E5ECF6",
              "width": 0.5
             },
             "pattern": {
              "fillmode": "overlay",
              "size": 10,
              "solidity": 0.2
             }
            },
            "type": "bar"
           }
          ],
          "barpolar": [
           {
            "marker": {
             "line": {
              "color": "#E5ECF6",
              "width": 0.5
             },
             "pattern": {
              "fillmode": "overlay",
              "size": 10,
              "solidity": 0.2
             }
            },
            "type": "barpolar"
           }
          ],
          "carpet": [
           {
            "aaxis": {
             "endlinecolor": "#2a3f5f",
             "gridcolor": "white",
             "linecolor": "white",
             "minorgridcolor": "white",
             "startlinecolor": "#2a3f5f"
            },
            "baxis": {
             "endlinecolor": "#2a3f5f",
             "gridcolor": "white",
             "linecolor": "white",
             "minorgridcolor": "white",
             "startlinecolor": "#2a3f5f"
            },
            "type": "carpet"
           }
          ],
          "choropleth": [
           {
            "colorbar": {
             "outlinewidth": 0,
             "ticks": ""
            },
            "type": "choropleth"
           }
          ],
          "contour": [
           {
            "colorbar": {
             "outlinewidth": 0,
             "ticks": ""
            },
            "colorscale": [
             [
              0,
              "#0d0887"
             ],
             [
              0.1111111111111111,
              "#46039f"
             ],
             [
              0.2222222222222222,
              "#7201a8"
             ],
             [
              0.3333333333333333,
              "#9c179e"
             ],
             [
              0.4444444444444444,
              "#bd3786"
             ],
             [
              0.5555555555555556,
              "#d8576b"
             ],
             [
              0.6666666666666666,
              "#ed7953"
             ],
             [
              0.7777777777777778,
              "#fb9f3a"
             ],
             [
              0.8888888888888888,
              "#fdca26"
             ],
             [
              1,
              "#f0f921"
             ]
            ],
            "type": "contour"
           }
          ],
          "contourcarpet": [
           {
            "colorbar": {
             "outlinewidth": 0,
             "ticks": ""
            },
            "type": "contourcarpet"
           }
          ],
          "heatmap": [
           {
            "colorbar": {
             "outlinewidth": 0,
             "ticks": ""
            },
            "colorscale": [
             [
              0,
              "#0d0887"
             ],
             [
              0.1111111111111111,
              "#46039f"
             ],
             [
              0.2222222222222222,
              "#7201a8"
             ],
             [
              0.3333333333333333,
              "#9c179e"
             ],
             [
              0.4444444444444444,
              "#bd3786"
             ],
             [
              0.5555555555555556,
              "#d8576b"
             ],
             [
              0.6666666666666666,
              "#ed7953"
             ],
             [
              0.7777777777777778,
              "#fb9f3a"
             ],
             [
              0.8888888888888888,
              "#fdca26"
             ],
             [
              1,
              "#f0f921"
             ]
            ],
            "type": "heatmap"
           }
          ],
          "heatmapgl": [
           {
            "colorbar": {
             "outlinewidth": 0,
             "ticks": ""
            },
            "colorscale": [
             [
              0,
              "#0d0887"
             ],
             [
              0.1111111111111111,
              "#46039f"
             ],
             [
              0.2222222222222222,
              "#7201a8"
             ],
             [
              0.3333333333333333,
              "#9c179e"
             ],
             [
              0.4444444444444444,
              "#bd3786"
             ],
             [
              0.5555555555555556,
              "#d8576b"
             ],
             [
              0.6666666666666666,
              "#ed7953"
             ],
             [
              0.7777777777777778,
              "#fb9f3a"
             ],
             [
              0.8888888888888888,
              "#fdca26"
             ],
             [
              1,
              "#f0f921"
             ]
            ],
            "type": "heatmapgl"
           }
          ],
          "histogram": [
           {
            "marker": {
             "pattern": {
              "fillmode": "overlay",
              "size": 10,
              "solidity": 0.2
             }
            },
            "type": "histogram"
           }
          ],
          "histogram2d": [
           {
            "colorbar": {
             "outlinewidth": 0,
             "ticks": ""
            },
            "colorscale": [
             [
              0,
              "#0d0887"
             ],
             [
              0.1111111111111111,
              "#46039f"
             ],
             [
              0.2222222222222222,
              "#7201a8"
             ],
             [
              0.3333333333333333,
              "#9c179e"
             ],
             [
              0.4444444444444444,
              "#bd3786"
             ],
             [
              0.5555555555555556,
              "#d8576b"
             ],
             [
              0.6666666666666666,
              "#ed7953"
             ],
             [
              0.7777777777777778,
              "#fb9f3a"
             ],
             [
              0.8888888888888888,
              "#fdca26"
             ],
             [
              1,
              "#f0f921"
             ]
            ],
            "type": "histogram2d"
           }
          ],
          "histogram2dcontour": [
           {
            "colorbar": {
             "outlinewidth": 0,
             "ticks": ""
            },
            "colorscale": [
             [
              0,
              "#0d0887"
             ],
             [
              0.1111111111111111,
              "#46039f"
             ],
             [
              0.2222222222222222,
              "#7201a8"
             ],
             [
              0.3333333333333333,
              "#9c179e"
             ],
             [
              0.4444444444444444,
              "#bd3786"
             ],
             [
              0.5555555555555556,
              "#d8576b"
             ],
             [
              0.6666666666666666,
              "#ed7953"
             ],
             [
              0.7777777777777778,
              "#fb9f3a"
             ],
             [
              0.8888888888888888,
              "#fdca26"
             ],
             [
              1,
              "#f0f921"
             ]
            ],
            "type": "histogram2dcontour"
           }
          ],
          "mesh3d": [
           {
            "colorbar": {
             "outlinewidth": 0,
             "ticks": ""
            },
            "type": "mesh3d"
           }
          ],
          "parcoords": [
           {
            "line": {
             "colorbar": {
              "outlinewidth": 0,
              "ticks": ""
             }
            },
            "type": "parcoords"
           }
          ],
          "pie": [
           {
            "automargin": true,
            "type": "pie"
           }
          ],
          "scatter": [
           {
            "fillpattern": {
             "fillmode": "overlay",
             "size": 10,
             "solidity": 0.2
            },
            "type": "scatter"
           }
          ],
          "scatter3d": [
           {
            "line": {
             "colorbar": {
              "outlinewidth": 0,
              "ticks": ""
             }
            },
            "marker": {
             "colorbar": {
              "outlinewidth": 0,
              "ticks": ""
             }
            },
            "type": "scatter3d"
           }
          ],
          "scattercarpet": [
           {
            "marker": {
             "colorbar": {
              "outlinewidth": 0,
              "ticks": ""
             }
            },
            "type": "scattercarpet"
           }
          ],
          "scattergeo": [
           {
            "marker": {
             "colorbar": {
              "outlinewidth": 0,
              "ticks": ""
             }
            },
            "type": "scattergeo"
           }
          ],
          "scattergl": [
           {
            "marker": {
             "colorbar": {
              "outlinewidth": 0,
              "ticks": ""
             }
            },
            "type": "scattergl"
           }
          ],
          "scattermapbox": [
           {
            "marker": {
             "colorbar": {
              "outlinewidth": 0,
              "ticks": ""
             }
            },
            "type": "scattermapbox"
           }
          ],
          "scatterpolar": [
           {
            "marker": {
             "colorbar": {
              "outlinewidth": 0,
              "ticks": ""
             }
            },
            "type": "scatterpolar"
           }
          ],
          "scatterpolargl": [
           {
            "marker": {
             "colorbar": {
              "outlinewidth": 0,
              "ticks": ""
             }
            },
            "type": "scatterpolargl"
           }
          ],
          "scatterternary": [
           {
            "marker": {
             "colorbar": {
              "outlinewidth": 0,
              "ticks": ""
             }
            },
            "type": "scatterternary"
           }
          ],
          "surface": [
           {
            "colorbar": {
             "outlinewidth": 0,
             "ticks": ""
            },
            "colorscale": [
             [
              0,
              "#0d0887"
             ],
             [
              0.1111111111111111,
              "#46039f"
             ],
             [
              0.2222222222222222,
              "#7201a8"
             ],
             [
              0.3333333333333333,
              "#9c179e"
             ],
             [
              0.4444444444444444,
              "#bd3786"
             ],
             [
              0.5555555555555556,
              "#d8576b"
             ],
             [
              0.6666666666666666,
              "#ed7953"
             ],
             [
              0.7777777777777778,
              "#fb9f3a"
             ],
             [
              0.8888888888888888,
              "#fdca26"
             ],
             [
              1,
              "#f0f921"
             ]
            ],
            "type": "surface"
           }
          ],
          "table": [
           {
            "cells": {
             "fill": {
              "color": "#EBF0F8"
             },
             "line": {
              "color": "white"
             }
            },
            "header": {
             "fill": {
              "color": "#C8D4E3"
             },
             "line": {
              "color": "white"
             }
            },
            "type": "table"
           }
          ]
         },
         "layout": {
          "annotationdefaults": {
           "arrowcolor": "#2a3f5f",
           "arrowhead": 0,
           "arrowwidth": 1
          },
          "autotypenumbers": "strict",
          "coloraxis": {
           "colorbar": {
            "outlinewidth": 0,
            "ticks": ""
           }
          },
          "colorscale": {
           "diverging": [
            [
             0,
             "#8e0152"
            ],
            [
             0.1,
             "#c51b7d"
            ],
            [
             0.2,
             "#de77ae"
            ],
            [
             0.3,
             "#f1b6da"
            ],
            [
             0.4,
             "#fde0ef"
            ],
            [
             0.5,
             "#f7f7f7"
            ],
            [
             0.6,
             "#e6f5d0"
            ],
            [
             0.7,
             "#b8e186"
            ],
            [
             0.8,
             "#7fbc41"
            ],
            [
             0.9,
             "#4d9221"
            ],
            [
             1,
             "#276419"
            ]
           ],
           "sequential": [
            [
             0,
             "#0d0887"
            ],
            [
             0.1111111111111111,
             "#46039f"
            ],
            [
             0.2222222222222222,
             "#7201a8"
            ],
            [
             0.3333333333333333,
             "#9c179e"
            ],
            [
             0.4444444444444444,
             "#bd3786"
            ],
            [
             0.5555555555555556,
             "#d8576b"
            ],
            [
             0.6666666666666666,
             "#ed7953"
            ],
            [
             0.7777777777777778,
             "#fb9f3a"
            ],
            [
             0.8888888888888888,
             "#fdca26"
            ],
            [
             1,
             "#f0f921"
            ]
           ],
           "sequentialminus": [
            [
             0,
             "#0d0887"
            ],
            [
             0.1111111111111111,
             "#46039f"
            ],
            [
             0.2222222222222222,
             "#7201a8"
            ],
            [
             0.3333333333333333,
             "#9c179e"
            ],
            [
             0.4444444444444444,
             "#bd3786"
            ],
            [
             0.5555555555555556,
             "#d8576b"
            ],
            [
             0.6666666666666666,
             "#ed7953"
            ],
            [
             0.7777777777777778,
             "#fb9f3a"
            ],
            [
             0.8888888888888888,
             "#fdca26"
            ],
            [
             1,
             "#f0f921"
            ]
           ]
          },
          "colorway": [
           "#636efa",
           "#EF553B",
           "#00cc96",
           "#ab63fa",
           "#FFA15A",
           "#19d3f3",
           "#FF6692",
           "#B6E880",
           "#FF97FF",
           "#FECB52"
          ],
          "font": {
           "color": "#2a3f5f"
          },
          "geo": {
           "bgcolor": "white",
           "lakecolor": "white",
           "landcolor": "#E5ECF6",
           "showlakes": true,
           "showland": true,
           "subunitcolor": "white"
          },
          "hoverlabel": {
           "align": "left"
          },
          "hovermode": "closest",
          "mapbox": {
           "style": "light"
          },
          "paper_bgcolor": "white",
          "plot_bgcolor": "#E5ECF6",
          "polar": {
           "angularaxis": {
            "gridcolor": "white",
            "linecolor": "white",
            "ticks": ""
           },
           "bgcolor": "#E5ECF6",
           "radialaxis": {
            "gridcolor": "white",
            "linecolor": "white",
            "ticks": ""
           }
          },
          "scene": {
           "xaxis": {
            "backgroundcolor": "#E5ECF6",
            "gridcolor": "white",
            "gridwidth": 2,
            "linecolor": "white",
            "showbackground": true,
            "ticks": "",
            "zerolinecolor": "white"
           },
           "yaxis": {
            "backgroundcolor": "#E5ECF6",
            "gridcolor": "white",
            "gridwidth": 2,
            "linecolor": "white",
            "showbackground": true,
            "ticks": "",
            "zerolinecolor": "white"
           },
           "zaxis": {
            "backgroundcolor": "#E5ECF6",
            "gridcolor": "white",
            "gridwidth": 2,
            "linecolor": "white",
            "showbackground": true,
            "ticks": "",
            "zerolinecolor": "white"
           }
          },
          "shapedefaults": {
           "line": {
            "color": "#2a3f5f"
           }
          },
          "ternary": {
           "aaxis": {
            "gridcolor": "white",
            "linecolor": "white",
            "ticks": ""
           },
           "baxis": {
            "gridcolor": "white",
            "linecolor": "white",
            "ticks": ""
           },
           "bgcolor": "#E5ECF6",
           "caxis": {
            "gridcolor": "white",
            "linecolor": "white",
            "ticks": ""
           }
          },
          "title": {
           "x": 0.05
          },
          "xaxis": {
           "automargin": true,
           "gridcolor": "white",
           "linecolor": "white",
           "ticks": "",
           "title": {
            "standoff": 15
           },
           "zerolinecolor": "white",
           "zerolinewidth": 2
          },
          "yaxis": {
           "automargin": true,
           "gridcolor": "white",
           "linecolor": "white",
           "ticks": "",
           "title": {
            "standoff": 15
           },
           "zerolinecolor": "white",
           "zerolinewidth": 2
          }
         }
        },
        "title": {
         "text": "Direct effect on logit difference"
        },
        "width": 600,
        "xaxis": {
         "anchor": "y",
         "constrain": "domain",
         "domain": [
          0,
          1
         ],
         "scaleanchor": "y",
         "title": {
          "text": "Head"
         }
        },
        "yaxis": {
         "anchor": "x",
         "autorange": "reversed",
         "constrain": "domain",
         "domain": [
          0,
          1
         ],
         "title": {
          "text": "Layer"
         }
        }
       }
      },
      "text/html": [
       "<div>                            <div id=\"16a8cf74-b80a-42e6-ae3f-f6a7139a0d69\" class=\"plotly-graph-div\" style=\"height:525px; width:600px;\"></div>            <script type=\"text/javascript\">                require([\"plotly\"], function(Plotly) {                    window.PLOTLYENV=window.PLOTLYENV || {};                                    if (document.getElementById(\"16a8cf74-b80a-42e6-ae3f-f6a7139a0d69\")) {                    Plotly.newPlot(                        \"16a8cf74-b80a-42e6-ae3f-f6a7139a0d69\",                        [{\"coloraxis\":\"coloraxis\",\"name\":\"0\",\"z\":[[0.07008391618728638,-0.0001122112080338411,0.02233804576098919,0.0005049504106864333,0.0012663835659623146,0.002765204757452011,0.06245354935526848,0.024542195722460747,-0.004744931124150753,-0.017024042084813118,0.07330597937107086,-0.0008415839984081686],[-0.009241394698619843,0.024197544902563095,-0.01727251149713993,0.019773218780755997,0.04845920950174332,-0.01488401461392641,0.024806691333651543,-0.047689761966466904,-0.058197539299726486,-0.041037242859601974,0.0256242323666811,-0.07555020600557327],[0.017512964084744453,0.06322300434112549,0.017088163644075394,-0.017448842525482178,0.038384247571229935,0.03832012414932251,-0.00110608187969774,-0.10988683253526688,-0.027355490252375603,0.11856716871261597,-0.10290569812059402,-0.03037717565894127],[0.0004728900967165828,0.029920317232608795,0.006283827591687441,0.08305232226848602,-0.011140969581902027,0.0868033841252327,0.1383163332939148,0.03767891973257065,-0.0010740215657278895,0.0528114028275013,-0.017024042084813118,-0.0300886332988739],[-0.024606313556432724,-0.008832625113427639,0.035963691771030426,0.19157660007476807,-0.02712305262684822,0.025752471759915352,-0.07494907081127167,-0.16550351679325104,-0.02255445346236229,0.1759471744298935,0.015340874902904034,0.01222300622612238],[0.0010179158998653293,0.0006011314690113068,0.10129465907812119,0.0351221077144146,0.04544553905725479,0.004760961048305035,-0.02255445346236229,-0.010740215890109539,-0.024638375267386436,-0.0020999524276703596,0.20380760729312897,-0.10417207330465317],[0.5992158651351929,-0.16314707696437836,-0.2744445502758026,0.07444412261247635,0.4493337571620941,0.012102779932320118,-0.06437717378139496,-0.006692596711218357,0.007710512727499008,0.03475341200828552,-0.01059594377875328,-0.09675011038780212],[0.03653276339173317,0.09192502498626709,-0.0006973125273361802,-2.016659736633301,-0.03882507607340813,0.3216935098171234,0.0881899893283844,-0.06650117039680481,0.26852142810821533,-8.198912620544434,-0.000128241372294724,-0.03198821097612381],[-0.20383965969085693,0.025271566584706306,1.5148593187332153,-1.3180007934570312,-0.05135265365242958,0.4584628939628601,-1.0974656343460083,-0.18162986636161804,1.0428187847137451,0.03534653037786484,-9.40141487121582,0.624078631401062],[-0.861605703830719,0.4234369993209839,0.04376237094402313,-0.6962384581565857,1.202751874923706,-1.5155245065689087,-38.82767868041992,-5.827376842498779,4.582208633422852,-73.71726989746094,0.025015082210302353,0.6278858184814453],[-17.112504959106445,-9.912553787231445,4.392884254455566,-3.8235490322113037,-0.5675963759422302,-0.016462987288832664,-7.2497172355651855,44.99774169921875,-0.10121450573205948,0.042528048157691956,-10.766873359680176,-0.038704853504896164],[-0.7465732097625732,-0.2521786689758301,10.237613677978516,-1.7172882556915283,-0.2888556718826294,0.288062185049057,-1.1333732604980469,0.12640592455863953,-0.22836583852767944,-1.2226532697677612,21.0261287689209,0.70827716588974]],\"type\":\"heatmap\",\"xaxis\":\"x\",\"yaxis\":\"y\",\"hovertemplate\":\"Head: %{x}<br>Layer: %{y}<br>Logit diff. variation: %{z}<extra></extra>\"}],                        {\"template\":{\"data\":{\"histogram2dcontour\":[{\"type\":\"histogram2dcontour\",\"colorbar\":{\"outlinewidth\":0,\"ticks\":\"\"},\"colorscale\":[[0.0,\"#0d0887\"],[0.1111111111111111,\"#46039f\"],[0.2222222222222222,\"#7201a8\"],[0.3333333333333333,\"#9c179e\"],[0.4444444444444444,\"#bd3786\"],[0.5555555555555556,\"#d8576b\"],[0.6666666666666666,\"#ed7953\"],[0.7777777777777778,\"#fb9f3a\"],[0.8888888888888888,\"#fdca26\"],[1.0,\"#f0f921\"]]}],\"choropleth\":[{\"type\":\"choropleth\",\"colorbar\":{\"outlinewidth\":0,\"ticks\":\"\"}}],\"histogram2d\":[{\"type\":\"histogram2d\",\"colorbar\":{\"outlinewidth\":0,\"ticks\":\"\"},\"colorscale\":[[0.0,\"#0d0887\"],[0.1111111111111111,\"#46039f\"],[0.2222222222222222,\"#7201a8\"],[0.3333333333333333,\"#9c179e\"],[0.4444444444444444,\"#bd3786\"],[0.5555555555555556,\"#d8576b\"],[0.6666666666666666,\"#ed7953\"],[0.7777777777777778,\"#fb9f3a\"],[0.8888888888888888,\"#fdca26\"],[1.0,\"#f0f921\"]]}],\"heatmap\":[{\"type\":\"heatmap\",\"colorbar\":{\"outlinewidth\":0,\"ticks\":\"\"},\"colorscale\":[[0.0,\"#0d0887\"],[0.1111111111111111,\"#46039f\"],[0.2222222222222222,\"#7201a8\"],[0.3333333333333333,\"#9c179e\"],[0.4444444444444444,\"#bd3786\"],[0.5555555555555556,\"#d8576b\"],[0.6666666666666666,\"#ed7953\"],[0.7777777777777778,\"#fb9f3a\"],[0.8888888888888888,\"#fdca26\"],[1.0,\"#f0f921\"]]}],\"heatmapgl\":[{\"type\":\"heatmapgl\",\"colorbar\":{\"outlinewidth\":0,\"ticks\":\"\"},\"colorscale\":[[0.0,\"#0d0887\"],[0.1111111111111111,\"#46039f\"],[0.2222222222222222,\"#7201a8\"],[0.3333333333333333,\"#9c179e\"],[0.4444444444444444,\"#bd3786\"],[0.5555555555555556,\"#d8576b\"],[0.6666666666666666,\"#ed7953\"],[0.7777777777777778,\"#fb9f3a\"],[0.8888888888888888,\"#fdca26\"],[1.0,\"#f0f921\"]]}],\"contourcarpet\":[{\"type\":\"contourcarpet\",\"colorbar\":{\"outlinewidth\":0,\"ticks\":\"\"}}],\"contour\":[{\"type\":\"contour\",\"colorbar\":{\"outlinewidth\":0,\"ticks\":\"\"},\"colorscale\":[[0.0,\"#0d0887\"],[0.1111111111111111,\"#46039f\"],[0.2222222222222222,\"#7201a8\"],[0.3333333333333333,\"#9c179e\"],[0.4444444444444444,\"#bd3786\"],[0.5555555555555556,\"#d8576b\"],[0.6666666666666666,\"#ed7953\"],[0.7777777777777778,\"#fb9f3a\"],[0.8888888888888888,\"#fdca26\"],[1.0,\"#f0f921\"]]}],\"surface\":[{\"type\":\"surface\",\"colorbar\":{\"outlinewidth\":0,\"ticks\":\"\"},\"colorscale\":[[0.0,\"#0d0887\"],[0.1111111111111111,\"#46039f\"],[0.2222222222222222,\"#7201a8\"],[0.3333333333333333,\"#9c179e\"],[0.4444444444444444,\"#bd3786\"],[0.5555555555555556,\"#d8576b\"],[0.6666666666666666,\"#ed7953\"],[0.7777777777777778,\"#fb9f3a\"],[0.8888888888888888,\"#fdca26\"],[1.0,\"#f0f921\"]]}],\"mesh3d\":[{\"type\":\"mesh3d\",\"colorbar\":{\"outlinewidth\":0,\"ticks\":\"\"}}],\"scatter\":[{\"fillpattern\":{\"fillmode\":\"overlay\",\"size\":10,\"solidity\":0.2},\"type\":\"scatter\"}],\"parcoords\":[{\"type\":\"parcoords\",\"line\":{\"colorbar\":{\"outlinewidth\":0,\"ticks\":\"\"}}}],\"scatterpolargl\":[{\"type\":\"scatterpolargl\",\"marker\":{\"colorbar\":{\"outlinewidth\":0,\"ticks\":\"\"}}}],\"bar\":[{\"error_x\":{\"color\":\"#2a3f5f\"},\"error_y\":{\"color\":\"#2a3f5f\"},\"marker\":{\"line\":{\"color\":\"#E5ECF6\",\"width\":0.5},\"pattern\":{\"fillmode\":\"overlay\",\"size\":10,\"solidity\":0.2}},\"type\":\"bar\"}],\"scattergeo\":[{\"type\":\"scattergeo\",\"marker\":{\"colorbar\":{\"outlinewidth\":0,\"ticks\":\"\"}}}],\"scatterpolar\":[{\"type\":\"scatterpolar\",\"marker\":{\"colorbar\":{\"outlinewidth\":0,\"ticks\":\"\"}}}],\"histogram\":[{\"marker\":{\"pattern\":{\"fillmode\":\"overlay\",\"size\":10,\"solidity\":0.2}},\"type\":\"histogram\"}],\"scattergl\":[{\"type\":\"scattergl\",\"marker\":{\"colorbar\":{\"outlinewidth\":0,\"ticks\":\"\"}}}],\"scatter3d\":[{\"type\":\"scatter3d\",\"line\":{\"colorbar\":{\"outlinewidth\":0,\"ticks\":\"\"}},\"marker\":{\"colorbar\":{\"outlinewidth\":0,\"ticks\":\"\"}}}],\"scattermapbox\":[{\"type\":\"scattermapbox\",\"marker\":{\"colorbar\":{\"outlinewidth\":0,\"ticks\":\"\"}}}],\"scatterternary\":[{\"type\":\"scatterternary\",\"marker\":{\"colorbar\":{\"outlinewidth\":0,\"ticks\":\"\"}}}],\"scattercarpet\":[{\"type\":\"scattercarpet\",\"marker\":{\"colorbar\":{\"outlinewidth\":0,\"ticks\":\"\"}}}],\"carpet\":[{\"aaxis\":{\"endlinecolor\":\"#2a3f5f\",\"gridcolor\":\"white\",\"linecolor\":\"white\",\"minorgridcolor\":\"white\",\"startlinecolor\":\"#2a3f5f\"},\"baxis\":{\"endlinecolor\":\"#2a3f5f\",\"gridcolor\":\"white\",\"linecolor\":\"white\",\"minorgridcolor\":\"white\",\"startlinecolor\":\"#2a3f5f\"},\"type\":\"carpet\"}],\"table\":[{\"cells\":{\"fill\":{\"color\":\"#EBF0F8\"},\"line\":{\"color\":\"white\"}},\"header\":{\"fill\":{\"color\":\"#C8D4E3\"},\"line\":{\"color\":\"white\"}},\"type\":\"table\"}],\"barpolar\":[{\"marker\":{\"line\":{\"color\":\"#E5ECF6\",\"width\":0.5},\"pattern\":{\"fillmode\":\"overlay\",\"size\":10,\"solidity\":0.2}},\"type\":\"barpolar\"}],\"pie\":[{\"automargin\":true,\"type\":\"pie\"}]},\"layout\":{\"autotypenumbers\":\"strict\",\"colorway\":[\"#636efa\",\"#EF553B\",\"#00cc96\",\"#ab63fa\",\"#FFA15A\",\"#19d3f3\",\"#FF6692\",\"#B6E880\",\"#FF97FF\",\"#FECB52\"],\"font\":{\"color\":\"#2a3f5f\"},\"hovermode\":\"closest\",\"hoverlabel\":{\"align\":\"left\"},\"paper_bgcolor\":\"white\",\"plot_bgcolor\":\"#E5ECF6\",\"polar\":{\"bgcolor\":\"#E5ECF6\",\"angularaxis\":{\"gridcolor\":\"white\",\"linecolor\":\"white\",\"ticks\":\"\"},\"radialaxis\":{\"gridcolor\":\"white\",\"linecolor\":\"white\",\"ticks\":\"\"}},\"ternary\":{\"bgcolor\":\"#E5ECF6\",\"aaxis\":{\"gridcolor\":\"white\",\"linecolor\":\"white\",\"ticks\":\"\"},\"baxis\":{\"gridcolor\":\"white\",\"linecolor\":\"white\",\"ticks\":\"\"},\"caxis\":{\"gridcolor\":\"white\",\"linecolor\":\"white\",\"ticks\":\"\"}},\"coloraxis\":{\"colorbar\":{\"outlinewidth\":0,\"ticks\":\"\"}},\"colorscale\":{\"sequential\":[[0.0,\"#0d0887\"],[0.1111111111111111,\"#46039f\"],[0.2222222222222222,\"#7201a8\"],[0.3333333333333333,\"#9c179e\"],[0.4444444444444444,\"#bd3786\"],[0.5555555555555556,\"#d8576b\"],[0.6666666666666666,\"#ed7953\"],[0.7777777777777778,\"#fb9f3a\"],[0.8888888888888888,\"#fdca26\"],[1.0,\"#f0f921\"]],\"sequentialminus\":[[0.0,\"#0d0887\"],[0.1111111111111111,\"#46039f\"],[0.2222222222222222,\"#7201a8\"],[0.3333333333333333,\"#9c179e\"],[0.4444444444444444,\"#bd3786\"],[0.5555555555555556,\"#d8576b\"],[0.6666666666666666,\"#ed7953\"],[0.7777777777777778,\"#fb9f3a\"],[0.8888888888888888,\"#fdca26\"],[1.0,\"#f0f921\"]],\"diverging\":[[0,\"#8e0152\"],[0.1,\"#c51b7d\"],[0.2,\"#de77ae\"],[0.3,\"#f1b6da\"],[0.4,\"#fde0ef\"],[0.5,\"#f7f7f7\"],[0.6,\"#e6f5d0\"],[0.7,\"#b8e186\"],[0.8,\"#7fbc41\"],[0.9,\"#4d9221\"],[1,\"#276419\"]]},\"xaxis\":{\"gridcolor\":\"white\",\"linecolor\":\"white\",\"ticks\":\"\",\"title\":{\"standoff\":15},\"zerolinecolor\":\"white\",\"automargin\":true,\"zerolinewidth\":2},\"yaxis\":{\"gridcolor\":\"white\",\"linecolor\":\"white\",\"ticks\":\"\",\"title\":{\"standoff\":15},\"zerolinecolor\":\"white\",\"automargin\":true,\"zerolinewidth\":2},\"scene\":{\"xaxis\":{\"backgroundcolor\":\"#E5ECF6\",\"gridcolor\":\"white\",\"linecolor\":\"white\",\"showbackground\":true,\"ticks\":\"\",\"zerolinecolor\":\"white\",\"gridwidth\":2},\"yaxis\":{\"backgroundcolor\":\"#E5ECF6\",\"gridcolor\":\"white\",\"linecolor\":\"white\",\"showbackground\":true,\"ticks\":\"\",\"zerolinecolor\":\"white\",\"gridwidth\":2},\"zaxis\":{\"backgroundcolor\":\"#E5ECF6\",\"gridcolor\":\"white\",\"linecolor\":\"white\",\"showbackground\":true,\"ticks\":\"\",\"zerolinecolor\":\"white\",\"gridwidth\":2}},\"shapedefaults\":{\"line\":{\"color\":\"#2a3f5f\"}},\"annotationdefaults\":{\"arrowcolor\":\"#2a3f5f\",\"arrowhead\":0,\"arrowwidth\":1},\"geo\":{\"bgcolor\":\"white\",\"landcolor\":\"#E5ECF6\",\"subunitcolor\":\"white\",\"showland\":true,\"showlakes\":true,\"lakecolor\":\"white\"},\"title\":{\"x\":0.05},\"mapbox\":{\"style\":\"light\"}}},\"xaxis\":{\"anchor\":\"y\",\"domain\":[0.0,1.0],\"scaleanchor\":\"y\",\"constrain\":\"domain\",\"title\":{\"text\":\"Head\"}},\"yaxis\":{\"anchor\":\"x\",\"domain\":[0.0,1.0],\"autorange\":\"reversed\",\"constrain\":\"domain\",\"title\":{\"text\":\"Layer\"}},\"coloraxis\":{\"colorbar\":{\"title\":{\"text\":\"Logit diff. variation\"},\"ticksuffix\":\"%\"},\"colorscale\":[[0.0,\"rgb(103,0,31)\"],[0.1,\"rgb(178,24,43)\"],[0.2,\"rgb(214,96,77)\"],[0.3,\"rgb(244,165,130)\"],[0.4,\"rgb(253,219,199)\"],[0.5,\"rgb(247,247,247)\"],[0.6,\"rgb(209,229,240)\"],[0.7,\"rgb(146,197,222)\"],[0.8,\"rgb(67,147,195)\"],[0.9,\"rgb(33,102,172)\"],[1.0,\"rgb(5,48,97)\"]],\"cmid\":0.0},\"title\":{\"text\":\"Direct effect on logit difference\"},\"width\":600},                        {\"responsive\": true}                    ).then(function(){\n",
       "                            \n",
       "var gd = document.getElementById('16a8cf74-b80a-42e6-ae3f-f6a7139a0d69');\n",
       "var x = new MutationObserver(function (mutations, observer) {{\n",
       "        var display = window.getComputedStyle(gd).display;\n",
       "        if (!display || display === 'none') {{\n",
       "            console.log([gd, 'removed!']);\n",
       "            Plotly.purge(gd);\n",
       "            observer.disconnect();\n",
       "        }}\n",
       "}});\n",
       "\n",
       "// Listen for the removal of the full notebook cells\n",
       "var notebookContainer = gd.closest('#notebook-container');\n",
       "if (notebookContainer) {{\n",
       "    x.observe(notebookContainer, {childList: true});\n",
       "}}\n",
       "\n",
       "// Listen for the clearing of the current output cell\n",
       "var outputEl = gd.closest('.output');\n",
       "if (outputEl) {{\n",
       "    x.observe(outputEl, {childList: true});\n",
       "}}\n",
       "\n",
       "                        })                };                });            </script>        </div>"
      ]
     },
     "metadata": {},
     "output_type": "display_data"
    }
   ],
   "source": [
    "def hook_and_patch_head_output(\n",
    "    activation: Float[Tensor, \"batch seq n_head embed\"], # can also pass cache in, so you don't have to do functools.partial each time --> cache would be same for all of these\n",
    "    hook: HookPoint,\n",
    "    new_activation: Float[Tensor, \"batch seq embed\"],\n",
    "    head: int\n",
    ") -> Float[Tensor, \"batch seq n_head embed\"]:\n",
    "    activation[:,:,head,:] = new_activation\n",
    "    return activation\n",
    "\n",
    "def get_path_patch_head_to_final_resid_post(\n",
    "    model: HookedTransformer,\n",
    "    patching_metric: Callable,\n",
    "    new_dataset: IOIDataset = abc_dataset,\n",
    "    orig_dataset: IOIDataset = ioi_dataset,\n",
    "    new_cache: Optional[ActivationCache] = abc_cache,\n",
    "    orig_cache: Optional[ActivationCache] = ioi_cache,\n",
    ") -> Float[Tensor, \"layer head\"]:\n",
    "\n",
    "    layers = model.cfg.n_layers\n",
    "    heads = model.cfg.n_heads\n",
    "\n",
    "    ret = t.zeros(layers, heads)\n",
    "\n",
    "    for corrupted_layer in tqdm(range(layers)):\n",
    "        for corrupted_head in range(heads):\n",
    "\n",
    "            model.reset_hooks()\n",
    "            list_of_hooks = []\n",
    "            \n",
    "            # Find the corruption\n",
    "            corrupt_hook = functools.partial(\n",
    "                hook_and_patch_head_output, \n",
    "                new_activation = new_cache[\"z\", corrupted_layer][:,:,corrupted_head], \n",
    "                head = corrupted_head\n",
    "            )\n",
    "            corrupt_input_name = utils.get_act_name(\"z\", corrupted_layer)\n",
    "            list_of_hooks.append((corrupt_input_name, corrupt_hook))\n",
    "\n",
    "            # Make sure all the other heads be patched in cursed O(n^2) time\n",
    "            for non_corrupted_layer in range(layers):\n",
    "                for non_corrupted_head in range(heads):\n",
    "                    # if (not layer == corrupted_layer) and (not head == corrupted_head):\n",
    "                    if not (non_corrupted_layer, non_corrupted_head) == (corrupted_layer, corrupted_head):\n",
    "                        clean_hook = functools.partial(\n",
    "                            hook_and_patch_head_output, \n",
    "                            new_activation = orig_cache[\"z\", non_corrupted_layer][:, :, non_corrupted_head], \n",
    "                            head = non_corrupted_head\n",
    "                        )\n",
    "                        clean_input_name = utils.get_act_name(\"z\", non_corrupted_layer)\n",
    "                        list_of_hooks.append((clean_input_name, clean_hook))\n",
    "            \n",
    "            # Return the result\n",
    "            logits = model.run_with_hooks(orig_dataset.toks, fwd_hooks = list_of_hooks, return_type = \"logits\")\n",
    "            ret[corrupted_layer, corrupted_head] = patching_metric(logits)\n",
    "\n",
    "    return ret\n",
    "\n",
    "path_patch_head_to_final_resid_post = get_path_patch_head_to_final_resid_post(model, ioi_metric_2)\n",
    "\n",
    "imshow(\n",
    "    100 * path_patch_head_to_final_resid_post,\n",
    "    title=\"Direct effect on logit difference\",\n",
    "    labels={\"x\":\"Head\", \"y\":\"Layer\", \"color\": \"Logit diff. variation\"},\n",
    "    coloraxis=dict(colorbar_ticksuffix = \"%\"),\n",
    "    width=600,\n",
    ")"
   ]
  },
  {
   "cell_type": "code",
   "execution_count": 142,
   "metadata": {},
   "outputs": [
    {
     "data": {
      "application/vnd.jupyter.widget-view+json": {
       "model_id": "dd678463d47b4f659914ee8e35de5011",
       "version_major": 2,
       "version_minor": 0
      },
      "text/plain": [
       "  0%|          | 0/12 [00:00<?, ?it/s]"
      ]
     },
     "metadata": {},
     "output_type": "display_data"
    },
    {
     "ename": "AttributeError",
     "evalue": "'tuple' object has no attribute 'size'",
     "output_type": "error",
     "traceback": [
      "\u001b[0;31m---------------------------------------------------------------------------\u001b[0m",
      "\u001b[0;31mAttributeError\u001b[0m                            Traceback (most recent call last)",
      "Cell \u001b[0;32mIn[142], line 101\u001b[0m\n\u001b[1;32m     97\u001b[0m     \u001b[39mreturn\u001b[39;00m ret\n\u001b[1;32m     99\u001b[0m model\u001b[39m.\u001b[39mreset_hooks()\n\u001b[0;32m--> 101\u001b[0m s_inhibition_value_path_patching_results \u001b[39m=\u001b[39m get_path_patch_head_to_heads(\n\u001b[1;32m    102\u001b[0m     receiver_heads \u001b[39m=\u001b[39;49m [(\u001b[39m8\u001b[39;49m, \u001b[39m6\u001b[39;49m), (\u001b[39m8\u001b[39;49m, \u001b[39m10\u001b[39;49m), (\u001b[39m7\u001b[39;49m, \u001b[39m9\u001b[39;49m), (\u001b[39m7\u001b[39;49m, \u001b[39m3\u001b[39;49m)],\n\u001b[1;32m    103\u001b[0m     receiver_input \u001b[39m=\u001b[39;49m \u001b[39m\"\u001b[39;49m\u001b[39mv\u001b[39;49m\u001b[39m\"\u001b[39;49m,\n\u001b[1;32m    104\u001b[0m     model \u001b[39m=\u001b[39;49m model,\n\u001b[1;32m    105\u001b[0m     patching_metric \u001b[39m=\u001b[39;49m ioi_metric_2\n\u001b[1;32m    106\u001b[0m )\n\u001b[1;32m    108\u001b[0m imshow(\n\u001b[1;32m    109\u001b[0m     \u001b[39m100\u001b[39m \u001b[39m*\u001b[39m s_inhibition_value_path_patching_results,\n\u001b[1;32m    110\u001b[0m     title\u001b[39m=\u001b[39m\u001b[39m\"\u001b[39m\u001b[39mDirect effect on S-Inhibition Heads\u001b[39m\u001b[39m'\u001b[39m\u001b[39m values\u001b[39m\u001b[39m\"\u001b[39m, \n\u001b[0;32m   (...)\u001b[0m\n\u001b[1;32m    113\u001b[0m     coloraxis\u001b[39m=\u001b[39m\u001b[39mdict\u001b[39m(colorbar_ticksuffix \u001b[39m=\u001b[39m \u001b[39m\"\u001b[39m\u001b[39m%\u001b[39m\u001b[39m\"\u001b[39m),\n\u001b[1;32m    114\u001b[0m )\n",
      "Cell \u001b[0;32mIn[142], line 95\u001b[0m, in \u001b[0;36mget_path_patch_head_to_heads\u001b[0;34m(receiver_heads, receiver_input, model, patching_metric, new_dataset, orig_dataset, new_cache, orig_cache)\u001b[0m\n\u001b[1;32m     92\u001b[0m         run2_logits, run2_cache \u001b[39m=\u001b[39m model\u001b[39m.\u001b[39mrun_with_cache(orig_dataset\u001b[39m.\u001b[39mtoks)\n\u001b[1;32m     94\u001b[0m         logits \u001b[39m=\u001b[39m model\u001b[39m.\u001b[39mrun_with_cache(orig_dataset\u001b[39m.\u001b[39mtoks)\n\u001b[0;32m---> 95\u001b[0m         ret[corrupted_layer, corrupted_head] \u001b[39m=\u001b[39m patching_metric(logits)\n\u001b[1;32m     97\u001b[0m \u001b[39mreturn\u001b[39;00m ret\n",
      "Cell \u001b[0;32mIn[136], line 11\u001b[0m, in \u001b[0;36mioi_metric_2\u001b[0;34m(logits, clean_logit_diff, corrupted_logit_diff, ioi_dataset)\u001b[0m\n\u001b[1;32m      1\u001b[0m \u001b[39mdef\u001b[39;00m \u001b[39mioi_metric_2\u001b[39m(\n\u001b[1;32m      2\u001b[0m     logits: Float[Tensor, \u001b[39m\"\u001b[39m\u001b[39mbatch seq d_vocab\u001b[39m\u001b[39m\"\u001b[39m],\n\u001b[1;32m      3\u001b[0m     clean_logit_diff: \u001b[39mfloat\u001b[39m \u001b[39m=\u001b[39m ioi_average_logit_diff,\n\u001b[1;32m      4\u001b[0m     corrupted_logit_diff: \u001b[39mfloat\u001b[39m \u001b[39m=\u001b[39m abc_average_logit_diff,\n\u001b[1;32m      5\u001b[0m     ioi_dataset: IOIDataset \u001b[39m=\u001b[39m ioi_dataset,\n\u001b[1;32m      6\u001b[0m ) \u001b[39m-\u001b[39m\u001b[39m>\u001b[39m \u001b[39mfloat\u001b[39m:\n\u001b[1;32m      7\u001b[0m \u001b[39m    \u001b[39m\u001b[39m'''\u001b[39;00m\n\u001b[1;32m      8\u001b[0m \u001b[39m    We calibrate this so that the value is 0 when performance isn't harmed (i.e. same as IOI dataset), \u001b[39;00m\n\u001b[1;32m      9\u001b[0m \u001b[39m    and -1 when performance has been destroyed (i.e. is same as ABC dataset).\u001b[39;00m\n\u001b[1;32m     10\u001b[0m \u001b[39m    '''\u001b[39;00m\n\u001b[0;32m---> 11\u001b[0m     patched_logit_diff \u001b[39m=\u001b[39m logits_to_ave_logit_diff_2(logits, ioi_dataset)\n\u001b[1;32m     12\u001b[0m     \u001b[39mreturn\u001b[39;00m (patched_logit_diff \u001b[39m-\u001b[39m clean_logit_diff) \u001b[39m/\u001b[39m (clean_logit_diff \u001b[39m-\u001b[39m corrupted_logit_diff)\n",
      "Cell \u001b[0;32mIn[135], line 10\u001b[0m, in \u001b[0;36mlogits_to_ave_logit_diff_2\u001b[0;34m(logits, ioi_dataset, per_prompt)\u001b[0m\n\u001b[1;32m      2\u001b[0m \u001b[39m\u001b[39m\u001b[39m'''\u001b[39;00m\n\u001b[1;32m      3\u001b[0m \u001b[39mReturns logit difference between the correct and incorrect answer.\u001b[39;00m\n\u001b[1;32m      4\u001b[0m \n\u001b[1;32m      5\u001b[0m \u001b[39mIf per_prompt=True, return the array of differences rather than the average.\u001b[39;00m\n\u001b[1;32m      6\u001b[0m \u001b[39m'''\u001b[39;00m\n\u001b[1;32m      8\u001b[0m \u001b[39m# Only the final logits are relevant for the answer\u001b[39;00m\n\u001b[1;32m      9\u001b[0m \u001b[39m# Get the logits corresponding to the indirect object / subject tokens respectively\u001b[39;00m\n\u001b[0;32m---> 10\u001b[0m io_logits: Float[Tensor, \u001b[39m\"\u001b[39m\u001b[39mbatch\u001b[39m\u001b[39m\"\u001b[39m] \u001b[39m=\u001b[39m logits[\u001b[39mrange\u001b[39m(logits\u001b[39m.\u001b[39;49msize(\u001b[39m0\u001b[39m)), ioi_dataset\u001b[39m.\u001b[39mword_idx[\u001b[39m\"\u001b[39m\u001b[39mend\u001b[39m\u001b[39m\"\u001b[39m], ioi_dataset\u001b[39m.\u001b[39mio_tokenIDs]\n\u001b[1;32m     11\u001b[0m s_logits: Float[Tensor, \u001b[39m\"\u001b[39m\u001b[39mbatch\u001b[39m\u001b[39m\"\u001b[39m] \u001b[39m=\u001b[39m logits[\u001b[39mrange\u001b[39m(logits\u001b[39m.\u001b[39msize(\u001b[39m0\u001b[39m)), ioi_dataset\u001b[39m.\u001b[39mword_idx[\u001b[39m\"\u001b[39m\u001b[39mend\u001b[39m\u001b[39m\"\u001b[39m], ioi_dataset\u001b[39m.\u001b[39ms_tokenIDs]\n\u001b[1;32m     12\u001b[0m \u001b[39m# Find logit difference\u001b[39;00m\n",
      "\u001b[0;31mAttributeError\u001b[0m: 'tuple' object has no attribute 'size'"
     ]
    }
   ],
   "source": [
    "def hook_and_patch_zqkv(\n",
    "    activation: Float[Tensor, \"batch seq n_head embed\"], # can also pass cache in, so you don't have to do functools.partial each time --> cache would be same for all of these\n",
    "    hook: HookPoint,\n",
    "    new_activation: Float[Tensor, \"batch seq embed\"],\n",
    "    head: int\n",
    ") -> Float[Tensor, \"batch seq n_head embed\"]:\n",
    "    activation[:,:,head,:] = new_activation\n",
    "    return activation\n",
    "\n",
    "def get_path_patch_head_to_heads(\n",
    "    receiver_heads: List[Tuple[int, int]],\n",
    "    receiver_input: str,\n",
    "    model: HookedTransformer,\n",
    "    patching_metric: Callable,\n",
    "    new_dataset: IOIDataset = abc_dataset,\n",
    "    orig_dataset: IOIDataset = ioi_dataset,\n",
    "    new_cache: Optional[ActivationCache] = abc_cache,\n",
    "    orig_cache: Optional[ActivationCache] = ioi_cache,\n",
    ") -> Float[Tensor, \"layer head\"]:\n",
    "    '''\n",
    "    Performs path patching (see algorithm in appendix B of IOI paper), with:\n",
    "\n",
    "        sender head = (each head, looped through, one at a time)\n",
    "        receiver node = input to a later head (or set of heads)\n",
    "\n",
    "    The receiver node is specified by receiver_heads and receiver_input.\n",
    "    Example (for S-inhibition path patching the queries):\n",
    "        receiver_heads = [(8, 6), (8, 10), (7, 9), (7, 3)],\n",
    "        receiver_input = \"v\"\n",
    "\n",
    "    Returns:\n",
    "        tensor of metric values for every possible sender head\n",
    "    '''\n",
    "    layers = model.cfg.n_layers\n",
    "    heads = model.cfg.n_heads\n",
    "\n",
    "    ret = t.zeros(layers, heads)\n",
    "\n",
    "    for corrupted_layer in tqdm(range(layers)):\n",
    "        for corrupted_head in range(heads):\n",
    "\n",
    "            # ----- RUN ONE: Patch sender, freeze others, cache reciever\n",
    "\n",
    "            model.reset_hooks()\n",
    "            \n",
    "            # Find the corruption\n",
    "            corrupt_hook = functools.partial(\n",
    "                hook_and_patch_zqkv, \n",
    "                new_activation = new_cache[\"z\", corrupted_layer][:,:,corrupted_head], \n",
    "                head = corrupted_head\n",
    "            )\n",
    "            corrupt_input_name = utils.get_act_name(\"z\", corrupted_layer)\n",
    "            model.add_hook(corrupt_input_name, corrupt_hook)\n",
    "\n",
    "            # Make sure all the other heads be patched in cursed O(n^2) time\n",
    "            for non_corrupted_layer in range(layers):\n",
    "                for non_corrupted_head in range(heads):\n",
    "                    # if (not layer == corrupted_layer) and (not head == corrupted_head):\n",
    "                    if not (non_corrupted_layer, non_corrupted_head) == (corrupted_layer, corrupted_head):\n",
    "                        clean_hook = functools.partial(\n",
    "                            hook_and_patch_zqkv, \n",
    "                            new_activation = orig_cache[\"z\", non_corrupted_layer][:, :, non_corrupted_head], \n",
    "                            head = non_corrupted_head\n",
    "                        )\n",
    "                        clean_input_name = utils.get_act_name(\"z\", non_corrupted_layer)\n",
    "                        model.add_hook(clean_input_name, clean_hook)\n",
    "\n",
    "            run1_logits, run1_cache = model.run_with_cache(orig_dataset.toks)\n",
    "\n",
    "            # ----- RUN TWO\n",
    "        \n",
    "            model.reset_hooks()\n",
    "\n",
    "            # Patch in the layer and head from the corrupted run\n",
    "            for layer, head in receiver_heads:\n",
    "                receiver_zqkv = run1_cache[receiver_input, layer][:,:, head] \n",
    "                patch_hook = functools.partial(\n",
    "                    hook_and_patch_zqkv, \n",
    "                    new_activation = receiver_zqkv, \n",
    "                    head = head\n",
    "                )\n",
    "                model.add_hook(utils.get_act_name(receiver_input, layer), patch_hook)\n",
    "\n",
    "            run2_logits, run2_cache = model.run_with_cache(orig_dataset.toks)\n",
    "\n",
    "            logits = model.run_with_cache(orig_dataset.toks)\n",
    "            ret[corrupted_layer, corrupted_head] = patching_metric(logits)\n",
    "\n",
    "    return ret\n",
    "\n",
    "model.reset_hooks()\n",
    "\n",
    "s_inhibition_value_path_patching_results = get_path_patch_head_to_heads(\n",
    "    receiver_heads = [(8, 6), (8, 10), (7, 9), (7, 3)],\n",
    "    receiver_input = \"v\",\n",
    "    model = model,\n",
    "    patching_metric = ioi_metric_2\n",
    ")\n",
    "\n",
    "imshow(\n",
    "    100 * s_inhibition_value_path_patching_results,\n",
    "    title=\"Direct effect on S-Inhibition Heads' values\", \n",
    "    labels={\"x\": \"Head\", \"y\": \"Layer\", \"color\": \"Logit diff.<br>variation\"},\n",
    "    width=600,\n",
    "    coloraxis=dict(colorbar_ticksuffix = \"%\"),\n",
    ")"
   ]
  },
  {
   "attachments": {},
   "cell_type": "markdown",
   "metadata": {},
   "source": [
    "## Paper Replication"
   ]
  },
  {
   "attachments": {},
   "cell_type": "markdown",
   "metadata": {},
   "source": []
  }
 ],
 "metadata": {
  "kernelspec": {
   "display_name": "myenv",
   "language": "python",
   "name": "python3"
  },
  "language_info": {
   "codemirror_mode": {
    "name": "ipython",
    "version": 3
   },
   "file_extension": ".py",
   "mimetype": "text/x-python",
   "name": "python",
   "nbconvert_exporter": "python",
   "pygments_lexer": "ipython3",
   "version": "3.8.10"
  },
  "orig_nbformat": 4
 },
 "nbformat": 4,
 "nbformat_minor": 2
}
