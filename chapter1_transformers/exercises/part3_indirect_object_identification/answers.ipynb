{
 "cells": [
  {
   "attachments": {},
   "cell_type": "markdown",
   "metadata": {},
   "source": [
    "## Model & Task Setup"
   ]
  },
  {
   "attachments": {},
   "cell_type": "markdown",
   "metadata": {},
   "source": [
    "Import everything"
   ]
  },
  {
   "cell_type": "code",
   "execution_count": 6,
   "metadata": {},
   "outputs": [],
   "source": [
    "import os; os.environ[\"ACCELERATE_DISABLE_RICH\"] = \"1\"\n",
    "import sys\n",
    "from pathlib import Path\n",
    "import torch as t\n",
    "from torch import Tensor\n",
    "import numpy as np\n",
    "import einops\n",
    "from tqdm.notebook import tqdm\n",
    "import plotly.express as px\n",
    "import webbrowser\n",
    "import re\n",
    "import itertools\n",
    "from jaxtyping import Float, Int, Bool\n",
    "from typing import List, Optional, Callable, Tuple, Dict, Literal, Set\n",
    "from functools import partial\n",
    "from IPython.display import display, HTML\n",
    "from rich.table import Table, Column\n",
    "from rich import print as rprint\n",
    "import circuitsvis as cv\n",
    "from pathlib import Path\n",
    "from transformer_lens.hook_points import HookPoint\n",
    "from transformer_lens import utils, HookedTransformer, ActivationCache\n",
    "from transformer_lens.components import Embed, Unembed, LayerNorm, MLP\n",
    "\n",
    "t.set_grad_enabled(False)\n",
    "\n",
    "# Make sure exercises are in the path\n",
    "chapter = r\"chapter1_transformers\"\n",
    "exercises_dir = Path(f\"{os.getcwd().split(chapter)[0]}/{chapter}/exercises\").resolve()\n",
    "section_dir = (exercises_dir / \"part3_indirect_object_identification\").resolve()\n",
    "if str(exercises_dir) not in sys.path: sys.path.append(str(exercises_dir))\n",
    "\n",
    "from plotly_utils import imshow, line, scatter, bar\n",
    "import part3_indirect_object_identification.tests as tests\n",
    "\n",
    "device = t.device(\"cuda\") if t.cuda.is_available() else t.device(\"cpu\")\n",
    "\n",
    "MAIN = __name__ == \"__main__\""
   ]
  },
  {
   "attachments": {},
   "cell_type": "markdown",
   "metadata": {},
   "source": [
    "Load model"
   ]
  },
  {
   "cell_type": "code",
   "execution_count": 7,
   "metadata": {},
   "outputs": [
    {
     "name": "stderr",
     "output_type": "stream",
     "text": [
      "Using pad_token, but it is not set yet.\n"
     ]
    },
    {
     "name": "stdout",
     "output_type": "stream",
     "text": [
      "Loaded pretrained model gpt2-small into HookedTransformer\n"
     ]
    }
   ],
   "source": [
    "model = HookedTransformer.from_pretrained(\n",
    "    \"gpt2-small\",\n",
    "    center_unembed=True,\n",
    "    center_writing_weights=True,\n",
    "    fold_ln=True,\n",
    "    refactor_factored_attn_matrices=True,\n",
    ")"
   ]
  },
  {
   "cell_type": "code",
   "execution_count": 8,
   "metadata": {},
   "outputs": [
    {
     "name": "stdout",
     "output_type": "stream",
     "text": [
      "Tokenized prompt: ['<|endoftext|>', 'After', ' John', ' and', ' Mary', ' went', ' to', ' the', ' store', ',', ' John', ' gave', ' a', ' bottle', ' of', ' milk', ' to']\n",
      "Tokenized answer: [' Mary']\n"
     ]
    },
    {
     "data": {
      "text/html": [
       "<pre style=\"white-space:pre;overflow-x:auto;line-height:normal;font-family:Menlo,'DejaVu Sans Mono',consolas,'Courier New',monospace\">Performance on answer token:\n",
       "<span style=\"font-weight: bold\">Rank: </span><span style=\"color: #008080; text-decoration-color: #008080; font-weight: bold\">0</span><span style=\"font-weight: bold\">        Logit: </span><span style=\"color: #008080; text-decoration-color: #008080; font-weight: bold\">18.09</span><span style=\"font-weight: bold\"> Prob: </span><span style=\"color: #008080; text-decoration-color: #008080; font-weight: bold\">70.07</span><span style=\"font-weight: bold\">% Token: | Mary|</span>\n",
       "</pre>\n"
      ],
      "text/plain": [
       "Performance on answer token:\n",
       "\u001b[1mRank: \u001b[0m\u001b[1;36m0\u001b[0m\u001b[1m        Logit: \u001b[0m\u001b[1;36m18.09\u001b[0m\u001b[1m Prob: \u001b[0m\u001b[1;36m70.07\u001b[0m\u001b[1m% Token: | Mary|\u001b[0m\n"
      ]
     },
     "metadata": {},
     "output_type": "display_data"
    },
    {
     "name": "stdout",
     "output_type": "stream",
     "text": [
      "Top 0th token. Logit: 18.09 Prob: 70.07% Token: | Mary|\n",
      "Top 1th token. Logit: 15.38 Prob:  4.67% Token: | the|\n",
      "Top 2th token. Logit: 15.35 Prob:  4.54% Token: | John|\n",
      "Top 3th token. Logit: 15.25 Prob:  4.11% Token: | them|\n",
      "Top 4th token. Logit: 14.84 Prob:  2.73% Token: | his|\n",
      "Top 5th token. Logit: 14.06 Prob:  1.24% Token: | her|\n",
      "Top 6th token. Logit: 13.54 Prob:  0.74% Token: | a|\n",
      "Top 7th token. Logit: 13.52 Prob:  0.73% Token: | their|\n",
      "Top 8th token. Logit: 13.13 Prob:  0.49% Token: | Jesus|\n",
      "Top 9th token. Logit: 12.97 Prob:  0.42% Token: | him|\n"
     ]
    },
    {
     "data": {
      "text/html": [
       "<pre style=\"white-space:pre;overflow-x:auto;line-height:normal;font-family:Menlo,'DejaVu Sans Mono',consolas,'Courier New',monospace\"><span style=\"font-weight: bold\">Ranks of the answer tokens:</span> <span style=\"font-weight: bold\">[(</span><span style=\"color: #008000; text-decoration-color: #008000\">' Mary'</span>, <span style=\"color: #008080; text-decoration-color: #008080; font-weight: bold\">0</span><span style=\"font-weight: bold\">)]</span>\n",
       "</pre>\n"
      ],
      "text/plain": [
       "\u001b[1mRanks of the answer tokens:\u001b[0m \u001b[1m[\u001b[0m\u001b[1m(\u001b[0m\u001b[32m' Mary'\u001b[0m, \u001b[1;36m0\u001b[0m\u001b[1m)\u001b[0m\u001b[1m]\u001b[0m\n"
      ]
     },
     "metadata": {},
     "output_type": "display_data"
    }
   ],
   "source": [
    "# Here is where we test on a single prompt\n",
    "# Result: 70% probability on Mary, as we expect\n",
    "\n",
    "example_prompt = \"After John and Mary went to the store, John gave a bottle of milk to\"\n",
    "example_answer = \" Mary\"\n",
    "utils.test_prompt(example_prompt, example_answer, model, prepend_bos=True)"
   ]
  },
  {
   "cell_type": "code",
   "execution_count": 10,
   "metadata": {},
   "outputs": [
    {
     "data": {
      "text/html": [
       "<pre style=\"white-space:pre;overflow-x:auto;line-height:normal;font-family:Menlo,'DejaVu Sans Mono',consolas,'Courier New',monospace\"><span style=\"font-weight: bold\">[</span>\n",
       "    <span style=\"color: #008000; text-decoration-color: #008000\">'When John and Mary went to the shops, John gave the bag to'</span>,\n",
       "    <span style=\"color: #008000; text-decoration-color: #008000\">'When John and Mary went to the shops, Mary gave the bag to'</span>,\n",
       "    <span style=\"color: #008000; text-decoration-color: #008000\">'When Tom and James went to the park, James gave the ball to'</span>,\n",
       "    <span style=\"color: #008000; text-decoration-color: #008000\">'When Tom and James went to the park, Tom gave the ball to'</span>,\n",
       "    <span style=\"color: #008000; text-decoration-color: #008000\">'When Dan and Sid went to the shops, Sid gave an apple to'</span>,\n",
       "    <span style=\"color: #008000; text-decoration-color: #008000\">'When Dan and Sid went to the shops, Dan gave an apple to'</span>,\n",
       "    <span style=\"color: #008000; text-decoration-color: #008000\">'After Martin and Amy went to the park, Amy gave a drink to'</span>,\n",
       "    <span style=\"color: #008000; text-decoration-color: #008000\">'After Martin and Amy went to the park, Martin gave a drink to'</span>\n",
       "<span style=\"font-weight: bold\">]</span>\n",
       "</pre>\n"
      ],
      "text/plain": [
       "\u001b[1m[\u001b[0m\n",
       "    \u001b[32m'When John and Mary went to the shops, John gave the bag to'\u001b[0m,\n",
       "    \u001b[32m'When John and Mary went to the shops, Mary gave the bag to'\u001b[0m,\n",
       "    \u001b[32m'When Tom and James went to the park, James gave the ball to'\u001b[0m,\n",
       "    \u001b[32m'When Tom and James went to the park, Tom gave the ball to'\u001b[0m,\n",
       "    \u001b[32m'When Dan and Sid went to the shops, Sid gave an apple to'\u001b[0m,\n",
       "    \u001b[32m'When Dan and Sid went to the shops, Dan gave an apple to'\u001b[0m,\n",
       "    \u001b[32m'After Martin and Amy went to the park, Amy gave a drink to'\u001b[0m,\n",
       "    \u001b[32m'After Martin and Amy went to the park, Martin gave a drink to'\u001b[0m\n",
       "\u001b[1m]\u001b[0m\n"
      ]
     },
     "metadata": {},
     "output_type": "display_data"
    },
    {
     "data": {
      "text/html": [
       "<pre style=\"white-space:pre;overflow-x:auto;line-height:normal;font-family:Menlo,'DejaVu Sans Mono',consolas,'Courier New',monospace\"><span style=\"font-weight: bold\">[</span>\n",
       "    <span style=\"font-weight: bold\">(</span><span style=\"color: #008000; text-decoration-color: #008000\">' Mary'</span>, <span style=\"color: #008000; text-decoration-color: #008000\">' John'</span><span style=\"font-weight: bold\">)</span>,\n",
       "    <span style=\"font-weight: bold\">(</span><span style=\"color: #008000; text-decoration-color: #008000\">' John'</span>, <span style=\"color: #008000; text-decoration-color: #008000\">' Mary'</span><span style=\"font-weight: bold\">)</span>,\n",
       "    <span style=\"font-weight: bold\">(</span><span style=\"color: #008000; text-decoration-color: #008000\">' Tom'</span>, <span style=\"color: #008000; text-decoration-color: #008000\">' James'</span><span style=\"font-weight: bold\">)</span>,\n",
       "    <span style=\"font-weight: bold\">(</span><span style=\"color: #008000; text-decoration-color: #008000\">' James'</span>, <span style=\"color: #008000; text-decoration-color: #008000\">' Tom'</span><span style=\"font-weight: bold\">)</span>,\n",
       "    <span style=\"font-weight: bold\">(</span><span style=\"color: #008000; text-decoration-color: #008000\">' Dan'</span>, <span style=\"color: #008000; text-decoration-color: #008000\">' Sid'</span><span style=\"font-weight: bold\">)</span>,\n",
       "    <span style=\"font-weight: bold\">(</span><span style=\"color: #008000; text-decoration-color: #008000\">' Sid'</span>, <span style=\"color: #008000; text-decoration-color: #008000\">' Dan'</span><span style=\"font-weight: bold\">)</span>,\n",
       "    <span style=\"font-weight: bold\">(</span><span style=\"color: #008000; text-decoration-color: #008000\">' Martin'</span>, <span style=\"color: #008000; text-decoration-color: #008000\">' Amy'</span><span style=\"font-weight: bold\">)</span>,\n",
       "    <span style=\"font-weight: bold\">(</span><span style=\"color: #008000; text-decoration-color: #008000\">' Amy'</span>, <span style=\"color: #008000; text-decoration-color: #008000\">' Martin'</span><span style=\"font-weight: bold\">)</span>\n",
       "<span style=\"font-weight: bold\">]</span>\n",
       "</pre>\n"
      ],
      "text/plain": [
       "\u001b[1m[\u001b[0m\n",
       "    \u001b[1m(\u001b[0m\u001b[32m' Mary'\u001b[0m, \u001b[32m' John'\u001b[0m\u001b[1m)\u001b[0m,\n",
       "    \u001b[1m(\u001b[0m\u001b[32m' John'\u001b[0m, \u001b[32m' Mary'\u001b[0m\u001b[1m)\u001b[0m,\n",
       "    \u001b[1m(\u001b[0m\u001b[32m' Tom'\u001b[0m, \u001b[32m' James'\u001b[0m\u001b[1m)\u001b[0m,\n",
       "    \u001b[1m(\u001b[0m\u001b[32m' James'\u001b[0m, \u001b[32m' Tom'\u001b[0m\u001b[1m)\u001b[0m,\n",
       "    \u001b[1m(\u001b[0m\u001b[32m' Dan'\u001b[0m, \u001b[32m' Sid'\u001b[0m\u001b[1m)\u001b[0m,\n",
       "    \u001b[1m(\u001b[0m\u001b[32m' Sid'\u001b[0m, \u001b[32m' Dan'\u001b[0m\u001b[1m)\u001b[0m,\n",
       "    \u001b[1m(\u001b[0m\u001b[32m' Martin'\u001b[0m, \u001b[32m' Amy'\u001b[0m\u001b[1m)\u001b[0m,\n",
       "    \u001b[1m(\u001b[0m\u001b[32m' Amy'\u001b[0m, \u001b[32m' Martin'\u001b[0m\u001b[1m)\u001b[0m\n",
       "\u001b[1m]\u001b[0m\n"
      ]
     },
     "metadata": {},
     "output_type": "display_data"
    },
    {
     "data": {
      "text/html": [
       "<pre style=\"white-space:pre;overflow-x:auto;line-height:normal;font-family:Menlo,'DejaVu Sans Mono',consolas,'Courier New',monospace\"><span style=\"color: #800080; text-decoration-color: #800080; font-weight: bold\">tensor</span><span style=\"font-weight: bold\">([[</span> <span style=\"color: #008080; text-decoration-color: #008080; font-weight: bold\">5335</span>,  <span style=\"color: #008080; text-decoration-color: #008080; font-weight: bold\">1757</span><span style=\"font-weight: bold\">]</span>,\n",
       "        <span style=\"font-weight: bold\">[</span> <span style=\"color: #008080; text-decoration-color: #008080; font-weight: bold\">1757</span>,  <span style=\"color: #008080; text-decoration-color: #008080; font-weight: bold\">5335</span><span style=\"font-weight: bold\">]</span>,\n",
       "        <span style=\"font-weight: bold\">[</span> <span style=\"color: #008080; text-decoration-color: #008080; font-weight: bold\">4186</span>,  <span style=\"color: #008080; text-decoration-color: #008080; font-weight: bold\">3700</span><span style=\"font-weight: bold\">]</span>,\n",
       "        <span style=\"font-weight: bold\">[</span> <span style=\"color: #008080; text-decoration-color: #008080; font-weight: bold\">3700</span>,  <span style=\"color: #008080; text-decoration-color: #008080; font-weight: bold\">4186</span><span style=\"font-weight: bold\">]</span>,\n",
       "        <span style=\"font-weight: bold\">[</span> <span style=\"color: #008080; text-decoration-color: #008080; font-weight: bold\">6035</span>, <span style=\"color: #008080; text-decoration-color: #008080; font-weight: bold\">15686</span><span style=\"font-weight: bold\">]</span>,\n",
       "        <span style=\"font-weight: bold\">[</span><span style=\"color: #008080; text-decoration-color: #008080; font-weight: bold\">15686</span>,  <span style=\"color: #008080; text-decoration-color: #008080; font-weight: bold\">6035</span><span style=\"font-weight: bold\">]</span>,\n",
       "        <span style=\"font-weight: bold\">[</span> <span style=\"color: #008080; text-decoration-color: #008080; font-weight: bold\">5780</span>, <span style=\"color: #008080; text-decoration-color: #008080; font-weight: bold\">14235</span><span style=\"font-weight: bold\">]</span>,\n",
       "        <span style=\"font-weight: bold\">[</span><span style=\"color: #008080; text-decoration-color: #008080; font-weight: bold\">14235</span>,  <span style=\"color: #008080; text-decoration-color: #008080; font-weight: bold\">5780</span><span style=\"font-weight: bold\">]]</span>, <span style=\"color: #808000; text-decoration-color: #808000\">device</span>=<span style=\"color: #008000; text-decoration-color: #008000\">'cuda:0'</span><span style=\"font-weight: bold\">)</span>\n",
       "</pre>\n"
      ],
      "text/plain": [
       "\u001b[1;35mtensor\u001b[0m\u001b[1m(\u001b[0m\u001b[1m[\u001b[0m\u001b[1m[\u001b[0m \u001b[1;36m5335\u001b[0m,  \u001b[1;36m1757\u001b[0m\u001b[1m]\u001b[0m,\n",
       "        \u001b[1m[\u001b[0m \u001b[1;36m1757\u001b[0m,  \u001b[1;36m5335\u001b[0m\u001b[1m]\u001b[0m,\n",
       "        \u001b[1m[\u001b[0m \u001b[1;36m4186\u001b[0m,  \u001b[1;36m3700\u001b[0m\u001b[1m]\u001b[0m,\n",
       "        \u001b[1m[\u001b[0m \u001b[1;36m3700\u001b[0m,  \u001b[1;36m4186\u001b[0m\u001b[1m]\u001b[0m,\n",
       "        \u001b[1m[\u001b[0m \u001b[1;36m6035\u001b[0m, \u001b[1;36m15686\u001b[0m\u001b[1m]\u001b[0m,\n",
       "        \u001b[1m[\u001b[0m\u001b[1;36m15686\u001b[0m,  \u001b[1;36m6035\u001b[0m\u001b[1m]\u001b[0m,\n",
       "        \u001b[1m[\u001b[0m \u001b[1;36m5780\u001b[0m, \u001b[1;36m14235\u001b[0m\u001b[1m]\u001b[0m,\n",
       "        \u001b[1m[\u001b[0m\u001b[1;36m14235\u001b[0m,  \u001b[1;36m5780\u001b[0m\u001b[1m]\u001b[0m\u001b[1m]\u001b[0m, \u001b[33mdevice\u001b[0m=\u001b[32m'cuda:0'\u001b[0m\u001b[1m)\u001b[0m\n"
      ]
     },
     "metadata": {},
     "output_type": "display_data"
    },
    {
     "data": {
      "text/html": [
       "<pre style=\"white-space:pre;overflow-x:auto;line-height:normal;font-family:Menlo,'DejaVu Sans Mono',consolas,'Courier New',monospace\"><span style=\"font-style: italic\">                                   Prompts &amp; Answers:                                    </span>\n",
       "┏━━━━━━━━━━━━━━━━━━━━━━━━━━━━━━━━━━━━━━━━━━━━━━━━━━━━━━━━━━━━━━━┳━━━━━━━━━━━┳━━━━━━━━━━━┓\n",
       "┃<span style=\"font-weight: bold\"> Prompt                                                        </span>┃<span style=\"font-weight: bold\"> Correct   </span>┃<span style=\"font-weight: bold\"> Incorrect </span>┃\n",
       "┡━━━━━━━━━━━━━━━━━━━━━━━━━━━━━━━━━━━━━━━━━━━━━━━━━━━━━━━━━━━━━━━╇━━━━━━━━━━━╇━━━━━━━━━━━┩\n",
       "│ When John and Mary went to the shops, John gave the bag to    │ ' Mary'   │ ' John'   │\n",
       "│ When John and Mary went to the shops, Mary gave the bag to    │ ' John'   │ ' Mary'   │\n",
       "│ When Tom and James went to the park, James gave the ball to   │ ' Tom'    │ ' James'  │\n",
       "│ When Tom and James went to the park, Tom gave the ball to     │ ' James'  │ ' Tom'    │\n",
       "│ When Dan and Sid went to the shops, Sid gave an apple to      │ ' Dan'    │ ' Sid'    │\n",
       "│ When Dan and Sid went to the shops, Dan gave an apple to      │ ' Sid'    │ ' Dan'    │\n",
       "│ After Martin and Amy went to the park, Amy gave a drink to    │ ' Martin' │ ' Amy'    │\n",
       "│ After Martin and Amy went to the park, Martin gave a drink to │ ' Amy'    │ ' Martin' │\n",
       "└───────────────────────────────────────────────────────────────┴───────────┴───────────┘\n",
       "</pre>\n"
      ],
      "text/plain": [
       "\u001b[3m                                   Prompts & Answers:                                    \u001b[0m\n",
       "┏━━━━━━━━━━━━━━━━━━━━━━━━━━━━━━━━━━━━━━━━━━━━━━━━━━━━━━━━━━━━━━━┳━━━━━━━━━━━┳━━━━━━━━━━━┓\n",
       "┃\u001b[1m \u001b[0m\u001b[1mPrompt                                                       \u001b[0m\u001b[1m \u001b[0m┃\u001b[1m \u001b[0m\u001b[1mCorrect  \u001b[0m\u001b[1m \u001b[0m┃\u001b[1m \u001b[0m\u001b[1mIncorrect\u001b[0m\u001b[1m \u001b[0m┃\n",
       "┡━━━━━━━━━━━━━━━━━━━━━━━━━━━━━━━━━━━━━━━━━━━━━━━━━━━━━━━━━━━━━━━╇━━━━━━━━━━━╇━━━━━━━━━━━┩\n",
       "│ When John and Mary went to the shops, John gave the bag to    │ ' Mary'   │ ' John'   │\n",
       "│ When John and Mary went to the shops, Mary gave the bag to    │ ' John'   │ ' Mary'   │\n",
       "│ When Tom and James went to the park, James gave the ball to   │ ' Tom'    │ ' James'  │\n",
       "│ When Tom and James went to the park, Tom gave the ball to     │ ' James'  │ ' Tom'    │\n",
       "│ When Dan and Sid went to the shops, Sid gave an apple to      │ ' Dan'    │ ' Sid'    │\n",
       "│ When Dan and Sid went to the shops, Dan gave an apple to      │ ' Sid'    │ ' Dan'    │\n",
       "│ After Martin and Amy went to the park, Amy gave a drink to    │ ' Martin' │ ' Amy'    │\n",
       "│ After Martin and Amy went to the park, Martin gave a drink to │ ' Amy'    │ ' Martin' │\n",
       "└───────────────────────────────────────────────────────────────┴───────────┴───────────┘\n"
      ]
     },
     "metadata": {},
     "output_type": "display_data"
    }
   ],
   "source": [
    "prompt_format = [\n",
    "    \"When John and Mary went to the shops,{} gave the bag to\",\n",
    "    \"When Tom and James went to the park,{} gave the ball to\",\n",
    "    \"When Dan and Sid went to the shops,{} gave an apple to\",\n",
    "    \"After Martin and Amy went to the park,{} gave a drink to\",\n",
    "]\n",
    "name_pairs = [\n",
    "    (\" Mary\", \" John\"),\n",
    "    (\" Tom\", \" James\"),\n",
    "    (\" Dan\", \" Sid\"),\n",
    "    (\" Martin\", \" Amy\"),\n",
    "]\n",
    "\n",
    "# Define 8 prompts, in 4 groups of 2 (with adjacent prompts having answers swapped)\n",
    "prompts = [\n",
    "    prompt.format(name) # knows that it's {}, native Pytohon string function\n",
    "    for (prompt, names) in zip(prompt_format, name_pairs) for name in names[::-1] \n",
    "]\n",
    "# Define the answers for each prompt, in the form (correct, incorrect)\n",
    "answers = [names[::i] for names in name_pairs for i in (1, -1)]\n",
    "# Define the answer tokens (same shape as the answers)\n",
    "answer_tokens = t.concat([\n",
    "    model.to_tokens(names, prepend_bos=False).T for names in answers\n",
    "])\n",
    "\n",
    "rprint(prompts)\n",
    "rprint(answers)\n",
    "rprint(answer_tokens)\n",
    "\n",
    "table = Table(\"Prompt\", \"Correct\", \"Incorrect\", title=\"Prompts & Answers:\")\n",
    "\n",
    "for prompt, answer in zip(prompts, answers):\n",
    "    table.add_row(prompt, repr(answer[0]), repr(answer[1]))\n",
    "\n",
    "rprint(table)"
   ]
  },
  {
   "cell_type": "code",
   "execution_count": 11,
   "metadata": {},
   "outputs": [],
   "source": [
    "tokens = model.to_tokens(prompts, prepend_bos=True)\n",
    "# Move the tokens to the GPU\n",
    "tokens = tokens.to(device)\n",
    "# Run the model and cache all activations\n",
    "original_logits, cache = model.run_with_cache(tokens)"
   ]
  },
  {
   "attachments": {},
   "cell_type": "markdown",
   "metadata": {},
   "source": [
    "Key variables at this point: prompts, tokens (tokenized prompts), answers, answer_tokens\n",
    "\n",
    "Model variables: original_logits, cache\n",
    "\n",
    "GPT2-small transformer variable: model"
   ]
  },
  {
   "attachments": {},
   "cell_type": "markdown",
   "metadata": {},
   "source": [
    "### Logit Difference (Performance Evaluation Function)"
   ]
  },
  {
   "cell_type": "code",
   "execution_count": 24,
   "metadata": {},
   "outputs": [
    {
     "name": "stdout",
     "output_type": "stream",
     "text": [
      "All tests in `test_logits_to_ave_logit_diff` passed!\n",
      "Per prompt logit difference: tensor([3.3368, 3.2017, 2.7096, 3.7974, 1.7204, 5.2813, 2.6007, 5.7674],\n",
      "       device='cuda:0')\n",
      "Average logit difference: tensor(3.5519, device='cuda:0')\n"
     ]
    },
    {
     "data": {
      "text/html": [
       "<pre style=\"white-space:pre;overflow-x:auto;line-height:normal;font-family:Menlo,'DejaVu Sans Mono',consolas,'Courier New',monospace\"><span style=\"font-style: italic\">                                             Logit differences                                              </span>\n",
       "┏━━━━━━━━━━━━━━━━━━━━━━━━━━━━━━━━━━━━━━━━━━━━━━━━━━━━━━━━━━━━━━━┳━━━━━━━━━━━┳━━━━━━━━━━━┳━━━━━━━━━━━━━━━━━━┓\n",
       "┃<span style=\"font-weight: bold\"> Prompt                                                        </span>┃<span style=\"font-weight: bold\"> Correct   </span>┃<span style=\"font-weight: bold\"> Incorrect </span>┃<span style=\"font-weight: bold\"> Logit Difference </span>┃\n",
       "┡━━━━━━━━━━━━━━━━━━━━━━━━━━━━━━━━━━━━━━━━━━━━━━━━━━━━━━━━━━━━━━━╇━━━━━━━━━━━╇━━━━━━━━━━━╇━━━━━━━━━━━━━━━━━━┩\n",
       "│ When John and Mary went to the shops, John gave the bag to    │<span style=\"color: #00c800; text-decoration-color: #00c800; font-weight: bold\"> ' Mary'   </span>│<span style=\"color: #ff0000; text-decoration-color: #ff0000; font-weight: bold\"> ' John'   </span>│<span style=\"font-weight: bold\"> 3.337            </span>│\n",
       "│ When John and Mary went to the shops, Mary gave the bag to    │<span style=\"color: #00c800; text-decoration-color: #00c800; font-weight: bold\"> ' John'   </span>│<span style=\"color: #ff0000; text-decoration-color: #ff0000; font-weight: bold\"> ' Mary'   </span>│<span style=\"font-weight: bold\"> 3.202            </span>│\n",
       "│ When Tom and James went to the park, James gave the ball to   │<span style=\"color: #00c800; text-decoration-color: #00c800; font-weight: bold\"> ' Tom'    </span>│<span style=\"color: #ff0000; text-decoration-color: #ff0000; font-weight: bold\"> ' James'  </span>│<span style=\"font-weight: bold\"> 2.710            </span>│\n",
       "│ When Tom and James went to the park, Tom gave the ball to     │<span style=\"color: #00c800; text-decoration-color: #00c800; font-weight: bold\"> ' James'  </span>│<span style=\"color: #ff0000; text-decoration-color: #ff0000; font-weight: bold\"> ' Tom'    </span>│<span style=\"font-weight: bold\"> 3.797            </span>│\n",
       "│ When Dan and Sid went to the shops, Sid gave an apple to      │<span style=\"color: #00c800; text-decoration-color: #00c800; font-weight: bold\"> ' Dan'    </span>│<span style=\"color: #ff0000; text-decoration-color: #ff0000; font-weight: bold\"> ' Sid'    </span>│<span style=\"font-weight: bold\"> 1.720            </span>│\n",
       "│ When Dan and Sid went to the shops, Dan gave an apple to      │<span style=\"color: #00c800; text-decoration-color: #00c800; font-weight: bold\"> ' Sid'    </span>│<span style=\"color: #ff0000; text-decoration-color: #ff0000; font-weight: bold\"> ' Dan'    </span>│<span style=\"font-weight: bold\"> 5.281            </span>│\n",
       "│ After Martin and Amy went to the park, Amy gave a drink to    │<span style=\"color: #00c800; text-decoration-color: #00c800; font-weight: bold\"> ' Martin' </span>│<span style=\"color: #ff0000; text-decoration-color: #ff0000; font-weight: bold\"> ' Amy'    </span>│<span style=\"font-weight: bold\"> 2.601            </span>│\n",
       "│ After Martin and Amy went to the park, Martin gave a drink to │<span style=\"color: #00c800; text-decoration-color: #00c800; font-weight: bold\"> ' Amy'    </span>│<span style=\"color: #ff0000; text-decoration-color: #ff0000; font-weight: bold\"> ' Martin' </span>│<span style=\"font-weight: bold\"> 5.767            </span>│\n",
       "└───────────────────────────────────────────────────────────────┴───────────┴───────────┴──────────────────┘\n",
       "</pre>\n"
      ],
      "text/plain": [
       "\u001b[3m                                             Logit differences                                              \u001b[0m\n",
       "┏━━━━━━━━━━━━━━━━━━━━━━━━━━━━━━━━━━━━━━━━━━━━━━━━━━━━━━━━━━━━━━━┳━━━━━━━━━━━┳━━━━━━━━━━━┳━━━━━━━━━━━━━━━━━━┓\n",
       "┃\u001b[1m \u001b[0m\u001b[1mPrompt                                                       \u001b[0m\u001b[1m \u001b[0m┃\u001b[1m \u001b[0m\u001b[1mCorrect  \u001b[0m\u001b[1m \u001b[0m┃\u001b[1m \u001b[0m\u001b[1mIncorrect\u001b[0m\u001b[1m \u001b[0m┃\u001b[1m \u001b[0m\u001b[1mLogit Difference\u001b[0m\u001b[1m \u001b[0m┃\n",
       "┡━━━━━━━━━━━━━━━━━━━━━━━━━━━━━━━━━━━━━━━━━━━━━━━━━━━━━━━━━━━━━━━╇━━━━━━━━━━━╇━━━━━━━━━━━╇━━━━━━━━━━━━━━━━━━┩\n",
       "│ When John and Mary went to the shops, John gave the bag to    │\u001b[1;38;2;0;200;0m \u001b[0m\u001b[1;38;2;0;200;0m' Mary'  \u001b[0m\u001b[1;38;2;0;200;0m \u001b[0m│\u001b[1;38;2;255;0;0m \u001b[0m\u001b[1;38;2;255;0;0m' John'  \u001b[0m\u001b[1;38;2;255;0;0m \u001b[0m│\u001b[1m \u001b[0m\u001b[1m3.337           \u001b[0m\u001b[1m \u001b[0m│\n",
       "│ When John and Mary went to the shops, Mary gave the bag to    │\u001b[1;38;2;0;200;0m \u001b[0m\u001b[1;38;2;0;200;0m' John'  \u001b[0m\u001b[1;38;2;0;200;0m \u001b[0m│\u001b[1;38;2;255;0;0m \u001b[0m\u001b[1;38;2;255;0;0m' Mary'  \u001b[0m\u001b[1;38;2;255;0;0m \u001b[0m│\u001b[1m \u001b[0m\u001b[1m3.202           \u001b[0m\u001b[1m \u001b[0m│\n",
       "│ When Tom and James went to the park, James gave the ball to   │\u001b[1;38;2;0;200;0m \u001b[0m\u001b[1;38;2;0;200;0m' Tom'   \u001b[0m\u001b[1;38;2;0;200;0m \u001b[0m│\u001b[1;38;2;255;0;0m \u001b[0m\u001b[1;38;2;255;0;0m' James' \u001b[0m\u001b[1;38;2;255;0;0m \u001b[0m│\u001b[1m \u001b[0m\u001b[1m2.710           \u001b[0m\u001b[1m \u001b[0m│\n",
       "│ When Tom and James went to the park, Tom gave the ball to     │\u001b[1;38;2;0;200;0m \u001b[0m\u001b[1;38;2;0;200;0m' James' \u001b[0m\u001b[1;38;2;0;200;0m \u001b[0m│\u001b[1;38;2;255;0;0m \u001b[0m\u001b[1;38;2;255;0;0m' Tom'   \u001b[0m\u001b[1;38;2;255;0;0m \u001b[0m│\u001b[1m \u001b[0m\u001b[1m3.797           \u001b[0m\u001b[1m \u001b[0m│\n",
       "│ When Dan and Sid went to the shops, Sid gave an apple to      │\u001b[1;38;2;0;200;0m \u001b[0m\u001b[1;38;2;0;200;0m' Dan'   \u001b[0m\u001b[1;38;2;0;200;0m \u001b[0m│\u001b[1;38;2;255;0;0m \u001b[0m\u001b[1;38;2;255;0;0m' Sid'   \u001b[0m\u001b[1;38;2;255;0;0m \u001b[0m│\u001b[1m \u001b[0m\u001b[1m1.720           \u001b[0m\u001b[1m \u001b[0m│\n",
       "│ When Dan and Sid went to the shops, Dan gave an apple to      │\u001b[1;38;2;0;200;0m \u001b[0m\u001b[1;38;2;0;200;0m' Sid'   \u001b[0m\u001b[1;38;2;0;200;0m \u001b[0m│\u001b[1;38;2;255;0;0m \u001b[0m\u001b[1;38;2;255;0;0m' Dan'   \u001b[0m\u001b[1;38;2;255;0;0m \u001b[0m│\u001b[1m \u001b[0m\u001b[1m5.281           \u001b[0m\u001b[1m \u001b[0m│\n",
       "│ After Martin and Amy went to the park, Amy gave a drink to    │\u001b[1;38;2;0;200;0m \u001b[0m\u001b[1;38;2;0;200;0m' Martin'\u001b[0m\u001b[1;38;2;0;200;0m \u001b[0m│\u001b[1;38;2;255;0;0m \u001b[0m\u001b[1;38;2;255;0;0m' Amy'   \u001b[0m\u001b[1;38;2;255;0;0m \u001b[0m│\u001b[1m \u001b[0m\u001b[1m2.601           \u001b[0m\u001b[1m \u001b[0m│\n",
       "│ After Martin and Amy went to the park, Martin gave a drink to │\u001b[1;38;2;0;200;0m \u001b[0m\u001b[1;38;2;0;200;0m' Amy'   \u001b[0m\u001b[1;38;2;0;200;0m \u001b[0m│\u001b[1;38;2;255;0;0m \u001b[0m\u001b[1;38;2;255;0;0m' Martin'\u001b[0m\u001b[1;38;2;255;0;0m \u001b[0m│\u001b[1m \u001b[0m\u001b[1m5.767           \u001b[0m\u001b[1m \u001b[0m│\n",
       "└───────────────────────────────────────────────────────────────┴───────────┴───────────┴──────────────────┘\n"
      ]
     },
     "metadata": {},
     "output_type": "display_data"
    }
   ],
   "source": [
    "def logits_to_ave_logit_diff(\n",
    "    logits: Float[Tensor, \"batch seq d_vocab\"],\n",
    "    answer_tokens: Float[Tensor, \"batch 2\"] = answer_tokens,\n",
    "    per_prompt: bool = False\n",
    "):\n",
    "    '''\n",
    "    Returns logit difference between the correct and incorrect answer. The logit difference is defined between the indirect object's name and the subject's name (e.g. logit(Mary) - logit(John))\n",
    "\n",
    "    If per_prompt=True, return the array of differences rather than the average.\n",
    "    '''\n",
    "    batch, seq_len, d_vocab = logits.shape\n",
    "\n",
    "    # Take answer token, find whether it's correct or incorrect\n",
    "    correct = answer_tokens[:,0] # shape (batch) representing token for correct answer (Mary)\n",
    "    incorrect = answer_tokens[:,1] # shape (batch) representing token for incorrect answer (John)\n",
    "\n",
    "    last_logits = einops.rearrange(logits, \"b s d -> s b d\")[-1] # b, d\n",
    "    \n",
    "    # Take the logit associated with the correct and the incorrect\n",
    "    # Could do some sort of t.index_select(last_logits, 2, ) but want to learn how to splice instead.\n",
    "\n",
    "    correct_logits = last_logits[t.arange(batch), correct] # the reason why this isn't (batch, batch) is because you're chosing one sequence position for each element in your batch. It correlates with (b, d)\n",
    "\n",
    "    # correct_logits = last_logits[t.arange(batch)][correct] # NOT THE SAME THING. Because you're indexing from the 0th dimension, and then indexing correct from 0th dimension again\n",
    "    # correct_logits = last_logits[t.arange(batch)][:, correct] # NOT THE SAME THING. Take everything by dimension 0, and then index by correct dimension. returns something 2d, see your drawing notes.\n",
    "\n",
    "    incorrect_logits = last_logits[t.arange(batch), incorrect] # indexed by i = t.arange(batch), j = correct (where j has shape batch, i has shape batch)\n",
    "\n",
    "    # no summary\n",
    "    # assumption that the thing will create a list of (i_1,j_1) coordinates from list i and j when you slice askldjfaksdfj[i,j] = askldjfaksdfj[(i,j)]\n",
    "\n",
    "    logit_diff = correct_logits-incorrect_logits\n",
    "    return logit_diff if per_prompt else logit_diff.mean() # Take a mean over batch dimension if per_prompt is False\n",
    "\n",
    "tests.test_logits_to_ave_logit_diff(logits_to_ave_logit_diff)\n",
    "\n",
    "original_per_prompt_diff = logits_to_ave_logit_diff(original_logits, answer_tokens, per_prompt=True)\n",
    "print(\"Per prompt logit difference:\", original_per_prompt_diff)\n",
    "original_average_logit_diff = logits_to_ave_logit_diff(original_logits, answer_tokens)\n",
    "print(\"Average logit difference:\", original_average_logit_diff)\n",
    "\n",
    "cols = [\n",
    "    \"Prompt\", \n",
    "    Column(\"Correct\", style=\"rgb(0,200,0) bold\"), \n",
    "    Column(\"Incorrect\", style=\"rgb(255,0,0) bold\"), \n",
    "    Column(\"Logit Difference\", style=\"bold\")\n",
    "]\n",
    "table = Table(*cols, title=\"Logit differences\")\n",
    "\n",
    "for prompt, answer, logit_diff in zip(prompts, answers, original_per_prompt_diff):\n",
    "    table.add_row(prompt, repr(answer[0]), repr(answer[1]), f\"{logit_diff.item():.3f}\")\n",
    "\n",
    "rprint(table)"
   ]
  },
  {
   "cell_type": "code",
   "execution_count": null,
   "metadata": {},
   "outputs": [],
   "source": []
  }
 ],
 "metadata": {
  "kernelspec": {
   "display_name": "myenv",
   "language": "python",
   "name": "python3"
  },
  "language_info": {
   "codemirror_mode": {
    "name": "ipython",
    "version": 3
   },
   "file_extension": ".py",
   "mimetype": "text/x-python",
   "name": "python",
   "nbconvert_exporter": "python",
   "pygments_lexer": "ipython3",
   "version": "3.8.10"
  },
  "orig_nbformat": 4
 },
 "nbformat": 4,
 "nbformat_minor": 2
}
